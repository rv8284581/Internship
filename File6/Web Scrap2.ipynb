{
 "cells": [
  {
   "cell_type": "markdown",
   "id": "adfe9404",
   "metadata": {},
   "source": [
    "# Q1"
   ]
  },
  {
   "cell_type": "code",
   "execution_count": 1,
   "id": "135b0659",
   "metadata": {},
   "outputs": [
    {
     "name": "stdout",
     "output_type": "stream",
     "text": [
      "Requirement already satisfied: selenium in c:\\users\\hp\\anaconda3\\lib\\site-packages (4.12.0)\n",
      "Requirement already satisfied: urllib3[socks]<3,>=1.26 in c:\\users\\hp\\anaconda3\\lib\\site-packages (from selenium) (1.26.11)\n",
      "Requirement already satisfied: trio~=0.17 in c:\\users\\hp\\anaconda3\\lib\\site-packages (from selenium) (0.22.2)\n",
      "Requirement already satisfied: certifi>=2021.10.8 in c:\\users\\hp\\anaconda3\\lib\\site-packages (from selenium) (2022.9.14)\n",
      "Requirement already satisfied: trio-websocket~=0.9 in c:\\users\\hp\\anaconda3\\lib\\site-packages (from selenium) (0.10.4)\n",
      "Requirement already satisfied: idna in c:\\users\\hp\\anaconda3\\lib\\site-packages (from trio~=0.17->selenium) (3.3)\n",
      "Requirement already satisfied: attrs>=20.1.0 in c:\\users\\hp\\anaconda3\\lib\\site-packages (from trio~=0.17->selenium) (21.4.0)\n",
      "Requirement already satisfied: outcome in c:\\users\\hp\\anaconda3\\lib\\site-packages (from trio~=0.17->selenium) (1.2.0)\n",
      "Requirement already satisfied: cffi>=1.14 in c:\\users\\hp\\anaconda3\\lib\\site-packages (from trio~=0.17->selenium) (1.15.1)\n",
      "Requirement already satisfied: sortedcontainers in c:\\users\\hp\\anaconda3\\lib\\site-packages (from trio~=0.17->selenium) (2.4.0)\n",
      "Requirement already satisfied: sniffio in c:\\users\\hp\\anaconda3\\lib\\site-packages (from trio~=0.17->selenium) (1.2.0)\n",
      "Requirement already satisfied: exceptiongroup>=1.0.0rc9 in c:\\users\\hp\\anaconda3\\lib\\site-packages (from trio~=0.17->selenium) (1.1.3)\n",
      "Requirement already satisfied: wsproto>=0.14 in c:\\users\\hp\\anaconda3\\lib\\site-packages (from trio-websocket~=0.9->selenium) (1.2.0)\n",
      "Requirement already satisfied: PySocks!=1.5.7,<2.0,>=1.5.6 in c:\\users\\hp\\anaconda3\\lib\\site-packages (from urllib3[socks]<3,>=1.26->selenium) (1.7.1)\n",
      "Requirement already satisfied: pycparser in c:\\users\\hp\\anaconda3\\lib\\site-packages (from cffi>=1.14->trio~=0.17->selenium) (2.21)\n",
      "Requirement already satisfied: h11<1,>=0.9.0 in c:\\users\\hp\\anaconda3\\lib\\site-packages (from wsproto>=0.14->trio-websocket~=0.9->selenium) (0.14.0)\n"
     ]
    }
   ],
   "source": [
    "!pip install selenium"
   ]
  },
  {
   "cell_type": "code",
   "execution_count": 2,
   "id": "ef94827a",
   "metadata": {},
   "outputs": [],
   "source": [
    "import selenium\n",
    "from selenium import webdriver\n",
    "import pandas as pd\n",
    "from selenium.webdriver.common.by import By\n",
    "import warnings\n",
    "warnings.filterwarnings(\"ignore\")\n",
    "from time import sleep \n"
   ]
  },
  {
   "cell_type": "code",
   "execution_count": 3,
   "id": "0e213e33",
   "metadata": {},
   "outputs": [],
   "source": [
    "driver=webdriver.Chrome()"
   ]
  },
  {
   "cell_type": "code",
   "execution_count": 4,
   "id": "cb04d254",
   "metadata": {},
   "outputs": [],
   "source": [
    "driver.get(\"https://www.shine.com/\")"
   ]
  },
  {
   "cell_type": "code",
   "execution_count": 11,
   "id": "7deea94c",
   "metadata": {},
   "outputs": [
    {
     "ename": "NoSuchElementException",
     "evalue": "Message: no such element: Unable to locate element: {\"method\":\"css selector\",\"selector\":\".form-control  \"}\n  (Session info: chrome=117.0.5938.92); For documentation on this error, please visit: https://www.selenium.dev/documentation/webdriver/troubleshooting/errors#no-such-element-exception\nStacktrace:\n\tGetHandleVerifier [0x00007FF6CF2C7892+54818]\n\t(No symbol) [0x00007FF6CF236AC2]\n\t(No symbol) [0x00007FF6CF0EDA3B]\n\t(No symbol) [0x00007FF6CF12E4FC]\n\t(No symbol) [0x00007FF6CF12E67C]\n\t(No symbol) [0x00007FF6CF169627]\n\t(No symbol) [0x00007FF6CF14EAEF]\n\t(No symbol) [0x00007FF6CF1675A2]\n\t(No symbol) [0x00007FF6CF14E883]\n\t(No symbol) [0x00007FF6CF123691]\n\t(No symbol) [0x00007FF6CF1248D4]\n\tGetHandleVerifier [0x00007FF6CF62B992+3610402]\n\tGetHandleVerifier [0x00007FF6CF681860+3962352]\n\tGetHandleVerifier [0x00007FF6CF679D4F+3930847]\n\tGetHandleVerifier [0x00007FF6CF363646+693206]\n\t(No symbol) [0x00007FF6CF241628]\n\t(No symbol) [0x00007FF6CF23D934]\n\t(No symbol) [0x00007FF6CF23DA62]\n\t(No symbol) [0x00007FF6CF22E113]\n\tBaseThreadInitThunk [0x00007FFD140A257D+29]\n\tRtlUserThreadStart [0x00007FFD1560AA68+40]\n",
     "output_type": "error",
     "traceback": [
      "\u001b[1;31m---------------------------------------------------------------------------\u001b[0m",
      "\u001b[1;31mNoSuchElementException\u001b[0m                    Traceback (most recent call last)",
      "\u001b[1;32m~\\AppData\\Local\\Temp\\ipykernel_8212\\2891931529.py\u001b[0m in \u001b[0;36m<module>\u001b[1;34m\u001b[0m\n\u001b[1;32m----> 1\u001b[1;33m \u001b[0mdesignation\u001b[0m\u001b[1;33m=\u001b[0m\u001b[0mdriver\u001b[0m\u001b[1;33m.\u001b[0m\u001b[0mfind_element\u001b[0m\u001b[1;33m(\u001b[0m\u001b[0mBy\u001b[0m\u001b[1;33m.\u001b[0m\u001b[0mCLASS_NAME\u001b[0m\u001b[1;33m,\u001b[0m\u001b[1;34m\"form-control  \"\u001b[0m\u001b[1;33m)\u001b[0m\u001b[1;33m\u001b[0m\u001b[1;33m\u001b[0m\u001b[0m\n\u001b[0m\u001b[0;32m      2\u001b[0m \u001b[0mdesignation\u001b[0m\u001b[1;33m.\u001b[0m\u001b[0msend_keys\u001b[0m\u001b[1;33m(\u001b[0m\u001b[1;34m\"Data Analyst\"\u001b[0m\u001b[1;33m)\u001b[0m\u001b[1;33m\u001b[0m\u001b[1;33m\u001b[0m\u001b[0m\n",
      "\u001b[1;32m~\\anaconda3\\lib\\site-packages\\selenium\\webdriver\\remote\\webdriver.py\u001b[0m in \u001b[0;36mfind_element\u001b[1;34m(self, by, value)\u001b[0m\n\u001b[0;32m    736\u001b[0m             \u001b[0mvalue\u001b[0m \u001b[1;33m=\u001b[0m \u001b[1;34mf'[name=\"{value}\"]'\u001b[0m\u001b[1;33m\u001b[0m\u001b[1;33m\u001b[0m\u001b[0m\n\u001b[0;32m    737\u001b[0m \u001b[1;33m\u001b[0m\u001b[0m\n\u001b[1;32m--> 738\u001b[1;33m         \u001b[1;32mreturn\u001b[0m \u001b[0mself\u001b[0m\u001b[1;33m.\u001b[0m\u001b[0mexecute\u001b[0m\u001b[1;33m(\u001b[0m\u001b[0mCommand\u001b[0m\u001b[1;33m.\u001b[0m\u001b[0mFIND_ELEMENT\u001b[0m\u001b[1;33m,\u001b[0m \u001b[1;33m{\u001b[0m\u001b[1;34m\"using\"\u001b[0m\u001b[1;33m:\u001b[0m \u001b[0mby\u001b[0m\u001b[1;33m,\u001b[0m \u001b[1;34m\"value\"\u001b[0m\u001b[1;33m:\u001b[0m \u001b[0mvalue\u001b[0m\u001b[1;33m}\u001b[0m\u001b[1;33m)\u001b[0m\u001b[1;33m[\u001b[0m\u001b[1;34m\"value\"\u001b[0m\u001b[1;33m]\u001b[0m\u001b[1;33m\u001b[0m\u001b[1;33m\u001b[0m\u001b[0m\n\u001b[0m\u001b[0;32m    739\u001b[0m \u001b[1;33m\u001b[0m\u001b[0m\n\u001b[0;32m    740\u001b[0m     \u001b[1;32mdef\u001b[0m \u001b[0mfind_elements\u001b[0m\u001b[1;33m(\u001b[0m\u001b[0mself\u001b[0m\u001b[1;33m,\u001b[0m \u001b[0mby\u001b[0m\u001b[1;33m=\u001b[0m\u001b[0mBy\u001b[0m\u001b[1;33m.\u001b[0m\u001b[0mID\u001b[0m\u001b[1;33m,\u001b[0m \u001b[0mvalue\u001b[0m\u001b[1;33m:\u001b[0m \u001b[0mOptional\u001b[0m\u001b[1;33m[\u001b[0m\u001b[0mstr\u001b[0m\u001b[1;33m]\u001b[0m \u001b[1;33m=\u001b[0m \u001b[1;32mNone\u001b[0m\u001b[1;33m)\u001b[0m \u001b[1;33m->\u001b[0m \u001b[0mList\u001b[0m\u001b[1;33m[\u001b[0m\u001b[0mWebElement\u001b[0m\u001b[1;33m]\u001b[0m\u001b[1;33m:\u001b[0m\u001b[1;33m\u001b[0m\u001b[1;33m\u001b[0m\u001b[0m\n",
      "\u001b[1;32m~\\anaconda3\\lib\\site-packages\\selenium\\webdriver\\remote\\webdriver.py\u001b[0m in \u001b[0;36mexecute\u001b[1;34m(self, driver_command, params)\u001b[0m\n\u001b[0;32m    342\u001b[0m         \u001b[0mresponse\u001b[0m \u001b[1;33m=\u001b[0m \u001b[0mself\u001b[0m\u001b[1;33m.\u001b[0m\u001b[0mcommand_executor\u001b[0m\u001b[1;33m.\u001b[0m\u001b[0mexecute\u001b[0m\u001b[1;33m(\u001b[0m\u001b[0mdriver_command\u001b[0m\u001b[1;33m,\u001b[0m \u001b[0mparams\u001b[0m\u001b[1;33m)\u001b[0m\u001b[1;33m\u001b[0m\u001b[1;33m\u001b[0m\u001b[0m\n\u001b[0;32m    343\u001b[0m         \u001b[1;32mif\u001b[0m \u001b[0mresponse\u001b[0m\u001b[1;33m:\u001b[0m\u001b[1;33m\u001b[0m\u001b[1;33m\u001b[0m\u001b[0m\n\u001b[1;32m--> 344\u001b[1;33m             \u001b[0mself\u001b[0m\u001b[1;33m.\u001b[0m\u001b[0merror_handler\u001b[0m\u001b[1;33m.\u001b[0m\u001b[0mcheck_response\u001b[0m\u001b[1;33m(\u001b[0m\u001b[0mresponse\u001b[0m\u001b[1;33m)\u001b[0m\u001b[1;33m\u001b[0m\u001b[1;33m\u001b[0m\u001b[0m\n\u001b[0m\u001b[0;32m    345\u001b[0m             \u001b[0mresponse\u001b[0m\u001b[1;33m[\u001b[0m\u001b[1;34m\"value\"\u001b[0m\u001b[1;33m]\u001b[0m \u001b[1;33m=\u001b[0m \u001b[0mself\u001b[0m\u001b[1;33m.\u001b[0m\u001b[0m_unwrap_value\u001b[0m\u001b[1;33m(\u001b[0m\u001b[0mresponse\u001b[0m\u001b[1;33m.\u001b[0m\u001b[0mget\u001b[0m\u001b[1;33m(\u001b[0m\u001b[1;34m\"value\"\u001b[0m\u001b[1;33m,\u001b[0m \u001b[1;32mNone\u001b[0m\u001b[1;33m)\u001b[0m\u001b[1;33m)\u001b[0m\u001b[1;33m\u001b[0m\u001b[1;33m\u001b[0m\u001b[0m\n\u001b[0;32m    346\u001b[0m             \u001b[1;32mreturn\u001b[0m \u001b[0mresponse\u001b[0m\u001b[1;33m\u001b[0m\u001b[1;33m\u001b[0m\u001b[0m\n",
      "\u001b[1;32m~\\anaconda3\\lib\\site-packages\\selenium\\webdriver\\remote\\errorhandler.py\u001b[0m in \u001b[0;36mcheck_response\u001b[1;34m(self, response)\u001b[0m\n\u001b[0;32m    227\u001b[0m                 \u001b[0malert_text\u001b[0m \u001b[1;33m=\u001b[0m \u001b[0mvalue\u001b[0m\u001b[1;33m[\u001b[0m\u001b[1;34m\"alert\"\u001b[0m\u001b[1;33m]\u001b[0m\u001b[1;33m.\u001b[0m\u001b[0mget\u001b[0m\u001b[1;33m(\u001b[0m\u001b[1;34m\"text\"\u001b[0m\u001b[1;33m)\u001b[0m\u001b[1;33m\u001b[0m\u001b[1;33m\u001b[0m\u001b[0m\n\u001b[0;32m    228\u001b[0m             \u001b[1;32mraise\u001b[0m \u001b[0mexception_class\u001b[0m\u001b[1;33m(\u001b[0m\u001b[0mmessage\u001b[0m\u001b[1;33m,\u001b[0m \u001b[0mscreen\u001b[0m\u001b[1;33m,\u001b[0m \u001b[0mstacktrace\u001b[0m\u001b[1;33m,\u001b[0m \u001b[0malert_text\u001b[0m\u001b[1;33m)\u001b[0m  \u001b[1;31m# type: ignore[call-arg]  # mypy is not smart enough here\u001b[0m\u001b[1;33m\u001b[0m\u001b[1;33m\u001b[0m\u001b[0m\n\u001b[1;32m--> 229\u001b[1;33m         \u001b[1;32mraise\u001b[0m \u001b[0mexception_class\u001b[0m\u001b[1;33m(\u001b[0m\u001b[0mmessage\u001b[0m\u001b[1;33m,\u001b[0m \u001b[0mscreen\u001b[0m\u001b[1;33m,\u001b[0m \u001b[0mstacktrace\u001b[0m\u001b[1;33m)\u001b[0m\u001b[1;33m\u001b[0m\u001b[1;33m\u001b[0m\u001b[0m\n\u001b[0m",
      "\u001b[1;31mNoSuchElementException\u001b[0m: Message: no such element: Unable to locate element: {\"method\":\"css selector\",\"selector\":\".form-control  \"}\n  (Session info: chrome=117.0.5938.92); For documentation on this error, please visit: https://www.selenium.dev/documentation/webdriver/troubleshooting/errors#no-such-element-exception\nStacktrace:\n\tGetHandleVerifier [0x00007FF6CF2C7892+54818]\n\t(No symbol) [0x00007FF6CF236AC2]\n\t(No symbol) [0x00007FF6CF0EDA3B]\n\t(No symbol) [0x00007FF6CF12E4FC]\n\t(No symbol) [0x00007FF6CF12E67C]\n\t(No symbol) [0x00007FF6CF169627]\n\t(No symbol) [0x00007FF6CF14EAEF]\n\t(No symbol) [0x00007FF6CF1675A2]\n\t(No symbol) [0x00007FF6CF14E883]\n\t(No symbol) [0x00007FF6CF123691]\n\t(No symbol) [0x00007FF6CF1248D4]\n\tGetHandleVerifier [0x00007FF6CF62B992+3610402]\n\tGetHandleVerifier [0x00007FF6CF681860+3962352]\n\tGetHandleVerifier [0x00007FF6CF679D4F+3930847]\n\tGetHandleVerifier [0x00007FF6CF363646+693206]\n\t(No symbol) [0x00007FF6CF241628]\n\t(No symbol) [0x00007FF6CF23D934]\n\t(No symbol) [0x00007FF6CF23DA62]\n\t(No symbol) [0x00007FF6CF22E113]\n\tBaseThreadInitThunk [0x00007FFD140A257D+29]\n\tRtlUserThreadStart [0x00007FFD1560AA68+40]\n"
     ]
    }
   ],
   "source": [
    "designation=driver.find_element(By.CLASS_NAME,\"form-control  \")\n",
    "designation.send_keys(\"Data Analyst\")"
   ]
  },
  {
   "cell_type": "code",
   "execution_count": 12,
   "id": "fd31898a",
   "metadata": {},
   "outputs": [
    {
     "ename": "NoSuchElementException",
     "evalue": "Message: no such element: Unable to locate element: {\"method\":\"xpath\",\"selector\":\"/html/body/div[1]/div[4]/div/div[2]/div[2]/div/form/div/div[1]/ul/li[2]/div/input\"}\n  (Session info: chrome=117.0.5938.92); For documentation on this error, please visit: https://www.selenium.dev/documentation/webdriver/troubleshooting/errors#no-such-element-exception\nStacktrace:\n\tGetHandleVerifier [0x00007FF6CF2C7892+54818]\n\t(No symbol) [0x00007FF6CF236AC2]\n\t(No symbol) [0x00007FF6CF0EDA3B]\n\t(No symbol) [0x00007FF6CF12E4FC]\n\t(No symbol) [0x00007FF6CF12E67C]\n\t(No symbol) [0x00007FF6CF169627]\n\t(No symbol) [0x00007FF6CF14EAEF]\n\t(No symbol) [0x00007FF6CF1675A2]\n\t(No symbol) [0x00007FF6CF14E883]\n\t(No symbol) [0x00007FF6CF123691]\n\t(No symbol) [0x00007FF6CF1248D4]\n\tGetHandleVerifier [0x00007FF6CF62B992+3610402]\n\tGetHandleVerifier [0x00007FF6CF681860+3962352]\n\tGetHandleVerifier [0x00007FF6CF679D4F+3930847]\n\tGetHandleVerifier [0x00007FF6CF363646+693206]\n\t(No symbol) [0x00007FF6CF241628]\n\t(No symbol) [0x00007FF6CF23D934]\n\t(No symbol) [0x00007FF6CF23DA62]\n\t(No symbol) [0x00007FF6CF22E113]\n\tBaseThreadInitThunk [0x00007FFD140A257D+29]\n\tRtlUserThreadStart [0x00007FFD1560AA68+40]\n",
     "output_type": "error",
     "traceback": [
      "\u001b[1;31m---------------------------------------------------------------------------\u001b[0m",
      "\u001b[1;31mNoSuchElementException\u001b[0m                    Traceback (most recent call last)",
      "\u001b[1;32m~\\AppData\\Local\\Temp\\ipykernel_8212\\3973533080.py\u001b[0m in \u001b[0;36m<module>\u001b[1;34m\u001b[0m\n\u001b[1;32m----> 1\u001b[1;33m \u001b[0mlocation\u001b[0m\u001b[1;33m=\u001b[0m\u001b[0mdriver\u001b[0m\u001b[1;33m.\u001b[0m\u001b[0mfind_element\u001b[0m\u001b[1;33m(\u001b[0m\u001b[0mBy\u001b[0m\u001b[1;33m.\u001b[0m\u001b[0mXPATH\u001b[0m\u001b[1;33m,\u001b[0m\u001b[1;34m\"/html/body/div[1]/div[4]/div/div[2]/div[2]/div/form/div/div[1]/ul/li[2]/div/input\"\u001b[0m\u001b[1;33m)\u001b[0m\u001b[1;33m\u001b[0m\u001b[1;33m\u001b[0m\u001b[0m\n\u001b[0m\u001b[0;32m      2\u001b[0m \u001b[0mlocation\u001b[0m\u001b[1;33m.\u001b[0m\u001b[0msend_keys\u001b[0m\u001b[1;33m(\u001b[0m\u001b[1;34m\"Banglore\"\u001b[0m\u001b[1;33m)\u001b[0m\u001b[1;33m\u001b[0m\u001b[1;33m\u001b[0m\u001b[0m\n",
      "\u001b[1;32m~\\anaconda3\\lib\\site-packages\\selenium\\webdriver\\remote\\webdriver.py\u001b[0m in \u001b[0;36mfind_element\u001b[1;34m(self, by, value)\u001b[0m\n\u001b[0;32m    736\u001b[0m             \u001b[0mvalue\u001b[0m \u001b[1;33m=\u001b[0m \u001b[1;34mf'[name=\"{value}\"]'\u001b[0m\u001b[1;33m\u001b[0m\u001b[1;33m\u001b[0m\u001b[0m\n\u001b[0;32m    737\u001b[0m \u001b[1;33m\u001b[0m\u001b[0m\n\u001b[1;32m--> 738\u001b[1;33m         \u001b[1;32mreturn\u001b[0m \u001b[0mself\u001b[0m\u001b[1;33m.\u001b[0m\u001b[0mexecute\u001b[0m\u001b[1;33m(\u001b[0m\u001b[0mCommand\u001b[0m\u001b[1;33m.\u001b[0m\u001b[0mFIND_ELEMENT\u001b[0m\u001b[1;33m,\u001b[0m \u001b[1;33m{\u001b[0m\u001b[1;34m\"using\"\u001b[0m\u001b[1;33m:\u001b[0m \u001b[0mby\u001b[0m\u001b[1;33m,\u001b[0m \u001b[1;34m\"value\"\u001b[0m\u001b[1;33m:\u001b[0m \u001b[0mvalue\u001b[0m\u001b[1;33m}\u001b[0m\u001b[1;33m)\u001b[0m\u001b[1;33m[\u001b[0m\u001b[1;34m\"value\"\u001b[0m\u001b[1;33m]\u001b[0m\u001b[1;33m\u001b[0m\u001b[1;33m\u001b[0m\u001b[0m\n\u001b[0m\u001b[0;32m    739\u001b[0m \u001b[1;33m\u001b[0m\u001b[0m\n\u001b[0;32m    740\u001b[0m     \u001b[1;32mdef\u001b[0m \u001b[0mfind_elements\u001b[0m\u001b[1;33m(\u001b[0m\u001b[0mself\u001b[0m\u001b[1;33m,\u001b[0m \u001b[0mby\u001b[0m\u001b[1;33m=\u001b[0m\u001b[0mBy\u001b[0m\u001b[1;33m.\u001b[0m\u001b[0mID\u001b[0m\u001b[1;33m,\u001b[0m \u001b[0mvalue\u001b[0m\u001b[1;33m:\u001b[0m \u001b[0mOptional\u001b[0m\u001b[1;33m[\u001b[0m\u001b[0mstr\u001b[0m\u001b[1;33m]\u001b[0m \u001b[1;33m=\u001b[0m \u001b[1;32mNone\u001b[0m\u001b[1;33m)\u001b[0m \u001b[1;33m->\u001b[0m \u001b[0mList\u001b[0m\u001b[1;33m[\u001b[0m\u001b[0mWebElement\u001b[0m\u001b[1;33m]\u001b[0m\u001b[1;33m:\u001b[0m\u001b[1;33m\u001b[0m\u001b[1;33m\u001b[0m\u001b[0m\n",
      "\u001b[1;32m~\\anaconda3\\lib\\site-packages\\selenium\\webdriver\\remote\\webdriver.py\u001b[0m in \u001b[0;36mexecute\u001b[1;34m(self, driver_command, params)\u001b[0m\n\u001b[0;32m    342\u001b[0m         \u001b[0mresponse\u001b[0m \u001b[1;33m=\u001b[0m \u001b[0mself\u001b[0m\u001b[1;33m.\u001b[0m\u001b[0mcommand_executor\u001b[0m\u001b[1;33m.\u001b[0m\u001b[0mexecute\u001b[0m\u001b[1;33m(\u001b[0m\u001b[0mdriver_command\u001b[0m\u001b[1;33m,\u001b[0m \u001b[0mparams\u001b[0m\u001b[1;33m)\u001b[0m\u001b[1;33m\u001b[0m\u001b[1;33m\u001b[0m\u001b[0m\n\u001b[0;32m    343\u001b[0m         \u001b[1;32mif\u001b[0m \u001b[0mresponse\u001b[0m\u001b[1;33m:\u001b[0m\u001b[1;33m\u001b[0m\u001b[1;33m\u001b[0m\u001b[0m\n\u001b[1;32m--> 344\u001b[1;33m             \u001b[0mself\u001b[0m\u001b[1;33m.\u001b[0m\u001b[0merror_handler\u001b[0m\u001b[1;33m.\u001b[0m\u001b[0mcheck_response\u001b[0m\u001b[1;33m(\u001b[0m\u001b[0mresponse\u001b[0m\u001b[1;33m)\u001b[0m\u001b[1;33m\u001b[0m\u001b[1;33m\u001b[0m\u001b[0m\n\u001b[0m\u001b[0;32m    345\u001b[0m             \u001b[0mresponse\u001b[0m\u001b[1;33m[\u001b[0m\u001b[1;34m\"value\"\u001b[0m\u001b[1;33m]\u001b[0m \u001b[1;33m=\u001b[0m \u001b[0mself\u001b[0m\u001b[1;33m.\u001b[0m\u001b[0m_unwrap_value\u001b[0m\u001b[1;33m(\u001b[0m\u001b[0mresponse\u001b[0m\u001b[1;33m.\u001b[0m\u001b[0mget\u001b[0m\u001b[1;33m(\u001b[0m\u001b[1;34m\"value\"\u001b[0m\u001b[1;33m,\u001b[0m \u001b[1;32mNone\u001b[0m\u001b[1;33m)\u001b[0m\u001b[1;33m)\u001b[0m\u001b[1;33m\u001b[0m\u001b[1;33m\u001b[0m\u001b[0m\n\u001b[0;32m    346\u001b[0m             \u001b[1;32mreturn\u001b[0m \u001b[0mresponse\u001b[0m\u001b[1;33m\u001b[0m\u001b[1;33m\u001b[0m\u001b[0m\n",
      "\u001b[1;32m~\\anaconda3\\lib\\site-packages\\selenium\\webdriver\\remote\\errorhandler.py\u001b[0m in \u001b[0;36mcheck_response\u001b[1;34m(self, response)\u001b[0m\n\u001b[0;32m    227\u001b[0m                 \u001b[0malert_text\u001b[0m \u001b[1;33m=\u001b[0m \u001b[0mvalue\u001b[0m\u001b[1;33m[\u001b[0m\u001b[1;34m\"alert\"\u001b[0m\u001b[1;33m]\u001b[0m\u001b[1;33m.\u001b[0m\u001b[0mget\u001b[0m\u001b[1;33m(\u001b[0m\u001b[1;34m\"text\"\u001b[0m\u001b[1;33m)\u001b[0m\u001b[1;33m\u001b[0m\u001b[1;33m\u001b[0m\u001b[0m\n\u001b[0;32m    228\u001b[0m             \u001b[1;32mraise\u001b[0m \u001b[0mexception_class\u001b[0m\u001b[1;33m(\u001b[0m\u001b[0mmessage\u001b[0m\u001b[1;33m,\u001b[0m \u001b[0mscreen\u001b[0m\u001b[1;33m,\u001b[0m \u001b[0mstacktrace\u001b[0m\u001b[1;33m,\u001b[0m \u001b[0malert_text\u001b[0m\u001b[1;33m)\u001b[0m  \u001b[1;31m# type: ignore[call-arg]  # mypy is not smart enough here\u001b[0m\u001b[1;33m\u001b[0m\u001b[1;33m\u001b[0m\u001b[0m\n\u001b[1;32m--> 229\u001b[1;33m         \u001b[1;32mraise\u001b[0m \u001b[0mexception_class\u001b[0m\u001b[1;33m(\u001b[0m\u001b[0mmessage\u001b[0m\u001b[1;33m,\u001b[0m \u001b[0mscreen\u001b[0m\u001b[1;33m,\u001b[0m \u001b[0mstacktrace\u001b[0m\u001b[1;33m)\u001b[0m\u001b[1;33m\u001b[0m\u001b[1;33m\u001b[0m\u001b[0m\n\u001b[0m",
      "\u001b[1;31mNoSuchElementException\u001b[0m: Message: no such element: Unable to locate element: {\"method\":\"xpath\",\"selector\":\"/html/body/div[1]/div[4]/div/div[2]/div[2]/div/form/div/div[1]/ul/li[2]/div/input\"}\n  (Session info: chrome=117.0.5938.92); For documentation on this error, please visit: https://www.selenium.dev/documentation/webdriver/troubleshooting/errors#no-such-element-exception\nStacktrace:\n\tGetHandleVerifier [0x00007FF6CF2C7892+54818]\n\t(No symbol) [0x00007FF6CF236AC2]\n\t(No symbol) [0x00007FF6CF0EDA3B]\n\t(No symbol) [0x00007FF6CF12E4FC]\n\t(No symbol) [0x00007FF6CF12E67C]\n\t(No symbol) [0x00007FF6CF169627]\n\t(No symbol) [0x00007FF6CF14EAEF]\n\t(No symbol) [0x00007FF6CF1675A2]\n\t(No symbol) [0x00007FF6CF14E883]\n\t(No symbol) [0x00007FF6CF123691]\n\t(No symbol) [0x00007FF6CF1248D4]\n\tGetHandleVerifier [0x00007FF6CF62B992+3610402]\n\tGetHandleVerifier [0x00007FF6CF681860+3962352]\n\tGetHandleVerifier [0x00007FF6CF679D4F+3930847]\n\tGetHandleVerifier [0x00007FF6CF363646+693206]\n\t(No symbol) [0x00007FF6CF241628]\n\t(No symbol) [0x00007FF6CF23D934]\n\t(No symbol) [0x00007FF6CF23DA62]\n\t(No symbol) [0x00007FF6CF22E113]\n\tBaseThreadInitThunk [0x00007FFD140A257D+29]\n\tRtlUserThreadStart [0x00007FFD1560AA68+40]\n"
     ]
    }
   ],
   "source": [
    "location=driver.find_element(By.XPATH,\"/html/body/div[1]/div[4]/div/div[2]/div[2]/div/form/div/div[1]/ul/li[2]/div/input\")\n",
    "location.send_keys(\"Banglore\")"
   ]
  },
  {
   "cell_type": "code",
   "execution_count": 76,
   "id": "457c9024",
   "metadata": {},
   "outputs": [],
   "source": [
    "search=driver.find_element(By.CLASS_NAME,\"qsbSubmit\")\n",
    "search.click()"
   ]
  },
  {
   "cell_type": "code",
   "execution_count": 77,
   "id": "a37c3c7a",
   "metadata": {},
   "outputs": [],
   "source": [
    "Job_title=[]\n",
    "Job_location=[]\n",
    "Company_name=[]\n",
    "Experience_required=[]"
   ]
  },
  {
   "cell_type": "code",
   "execution_count": 78,
   "id": "190b104d",
   "metadata": {},
   "outputs": [],
   "source": [
    "tittle_tags=driver.find_elements(By.XPATH,'//a[@class=\"title ellipsis\"]')\n",
    "for i in tittle_tags[0:10]:\n",
    "    tittle=i.text\n",
    "    Job_title.append(tittle)\n",
    "    "
   ]
  },
  {
   "cell_type": "code",
   "execution_count": 79,
   "id": "195c6e71",
   "metadata": {},
   "outputs": [],
   "source": [
    "location_tags=driver.find_elements(By.XPATH,'//span[@class=\"ellipsis fleft locWdth\"]')\n",
    "for i in location_tags[0:10]:\n",
    "    location=i.text\n",
    "    Job_location.append(location)"
   ]
  },
  {
   "cell_type": "code",
   "execution_count": 80,
   "id": "27f6cbdb",
   "metadata": {},
   "outputs": [],
   "source": [
    "company_tags=driver.find_elements(By.XPATH,'//a[@class=\"subTitle ellipsis fleft\"]')\n",
    "for i in company_tags[0:10]:\n",
    "    company=i.text\n",
    "    Company_name.append(company)"
   ]
  },
  {
   "cell_type": "code",
   "execution_count": 81,
   "id": "479dff03",
   "metadata": {},
   "outputs": [],
   "source": [
    "experience_tags=driver.find_elements(By.XPATH,'//span[@class=\"ellipsis fleft expwdth\"]')\n",
    "for i in experience_tags[0:10]:\n",
    "    experience=i.text\n",
    "    Experience_required.append(experience)"
   ]
  },
  {
   "cell_type": "code",
   "execution_count": 82,
   "id": "162291ee",
   "metadata": {},
   "outputs": [
    {
     "name": "stdout",
     "output_type": "stream",
     "text": [
      "10 10 10 10\n"
     ]
    }
   ],
   "source": [
    "print(len(Job_title),len(Job_location),len(Company_name),len(Experience_required))"
   ]
  },
  {
   "cell_type": "code",
   "execution_count": 83,
   "id": "80c648d4",
   "metadata": {},
   "outputs": [],
   "source": [
    "import pandas as pd"
   ]
  },
  {
   "cell_type": "code",
   "execution_count": 84,
   "id": "275d3b24",
   "metadata": {},
   "outputs": [
    {
     "data": {
      "text/html": [
       "<div>\n",
       "<style scoped>\n",
       "    .dataframe tbody tr th:only-of-type {\n",
       "        vertical-align: middle;\n",
       "    }\n",
       "\n",
       "    .dataframe tbody tr th {\n",
       "        vertical-align: top;\n",
       "    }\n",
       "\n",
       "    .dataframe thead th {\n",
       "        text-align: right;\n",
       "    }\n",
       "</style>\n",
       "<table border=\"1\" class=\"dataframe\">\n",
       "  <thead>\n",
       "    <tr style=\"text-align: right;\">\n",
       "      <th></th>\n",
       "      <th>Title</th>\n",
       "      <th>Location</th>\n",
       "      <th>Company</th>\n",
       "      <th>Experience</th>\n",
       "    </tr>\n",
       "  </thead>\n",
       "  <tbody>\n",
       "    <tr>\n",
       "      <th>0</th>\n",
       "      <td>Data Analyst</td>\n",
       "      <td>Bangalore/Bengaluru</td>\n",
       "      <td>Eastvantage</td>\n",
       "      <td>4-6 Yrs</td>\n",
       "    </tr>\n",
       "    <tr>\n",
       "      <th>1</th>\n",
       "      <td>Data Analyst</td>\n",
       "      <td>Gurgaon/ Gurugram, Haryana, Bangalore/ Bengalu...</td>\n",
       "      <td>Delhivery</td>\n",
       "      <td>1-3 Yrs</td>\n",
       "    </tr>\n",
       "    <tr>\n",
       "      <th>2</th>\n",
       "      <td>Data Analyst</td>\n",
       "      <td>Bangalore/Bengaluru</td>\n",
       "      <td>Everest Vacuum</td>\n",
       "      <td>2-5 Yrs</td>\n",
       "    </tr>\n",
       "    <tr>\n",
       "      <th>3</th>\n",
       "      <td>Data Analyst</td>\n",
       "      <td>Hyderabad/Secunderabad, Pune, Bangalore/Bengaluru</td>\n",
       "      <td>Synechron</td>\n",
       "      <td>5-8 Yrs</td>\n",
       "    </tr>\n",
       "    <tr>\n",
       "      <th>4</th>\n",
       "      <td>Data Analyst</td>\n",
       "      <td>Bangalore/Bengaluru</td>\n",
       "      <td>ANZ</td>\n",
       "      <td>1-5 Yrs</td>\n",
       "    </tr>\n",
       "    <tr>\n",
       "      <th>5</th>\n",
       "      <td>Data Analyst</td>\n",
       "      <td>Bangalore/Bengaluru</td>\n",
       "      <td>Persolkelly India</td>\n",
       "      <td>0-2 Yrs</td>\n",
       "    </tr>\n",
       "    <tr>\n",
       "      <th>6</th>\n",
       "      <td>Data Analyst</td>\n",
       "      <td>Kolkata, Mumbai, New Delhi, Hyderabad/Secunder...</td>\n",
       "      <td>Truthfools</td>\n",
       "      <td>3-8 Yrs</td>\n",
       "    </tr>\n",
       "    <tr>\n",
       "      <th>7</th>\n",
       "      <td>Data Analyst | HyVee</td>\n",
       "      <td>Bangalore/Bengaluru</td>\n",
       "      <td>Talent500</td>\n",
       "      <td>3-5 Yrs</td>\n",
       "    </tr>\n",
       "    <tr>\n",
       "      <th>8</th>\n",
       "      <td>Data Analyst with ANSR</td>\n",
       "      <td>Bangalore/ Bengaluru, Karnataka</td>\n",
       "      <td>ANSR</td>\n",
       "      <td>6-9 Yrs</td>\n",
       "    </tr>\n",
       "    <tr>\n",
       "      <th>9</th>\n",
       "      <td>Data Analyst</td>\n",
       "      <td>Kochi/Cochin, Hyderabad/Secunderabad, New Delh...</td>\n",
       "      <td>L A Consultancy</td>\n",
       "      <td>3-7 Yrs</td>\n",
       "    </tr>\n",
       "  </tbody>\n",
       "</table>\n",
       "</div>"
      ],
      "text/plain": [
       "                    Title                                           Location  \\\n",
       "0            Data Analyst                                Bangalore/Bengaluru   \n",
       "1            Data Analyst  Gurgaon/ Gurugram, Haryana, Bangalore/ Bengalu...   \n",
       "2            Data Analyst                                Bangalore/Bengaluru   \n",
       "3            Data Analyst  Hyderabad/Secunderabad, Pune, Bangalore/Bengaluru   \n",
       "4            Data Analyst                                Bangalore/Bengaluru   \n",
       "5            Data Analyst                                Bangalore/Bengaluru   \n",
       "6            Data Analyst  Kolkata, Mumbai, New Delhi, Hyderabad/Secunder...   \n",
       "7    Data Analyst | HyVee                                Bangalore/Bengaluru   \n",
       "8  Data Analyst with ANSR                    Bangalore/ Bengaluru, Karnataka   \n",
       "9            Data Analyst  Kochi/Cochin, Hyderabad/Secunderabad, New Delh...   \n",
       "\n",
       "             Company Experience  \n",
       "0        Eastvantage    4-6 Yrs  \n",
       "1          Delhivery    1-3 Yrs  \n",
       "2     Everest Vacuum    2-5 Yrs  \n",
       "3          Synechron    5-8 Yrs  \n",
       "4                ANZ    1-5 Yrs  \n",
       "5  Persolkelly India    0-2 Yrs  \n",
       "6         Truthfools    3-8 Yrs  \n",
       "7          Talent500    3-5 Yrs  \n",
       "8               ANSR    6-9 Yrs  \n",
       "9    L A Consultancy    3-7 Yrs  "
      ]
     },
     "execution_count": 84,
     "metadata": {},
     "output_type": "execute_result"
    }
   ],
   "source": [
    "df=pd.DataFrame({'Title':Job_title,'Location':Job_location,'Company':Company_name,'Experience':Experience_required})\n",
    "df"
   ]
  },
  {
   "cell_type": "markdown",
   "id": "42d5e154",
   "metadata": {},
   "source": [
    "# Q4"
   ]
  },
  {
   "cell_type": "code",
   "execution_count": 9,
   "id": "0604b11a",
   "metadata": {},
   "outputs": [],
   "source": [
    "driver=webdriver.Chrome()"
   ]
  },
  {
   "cell_type": "code",
   "execution_count": 10,
   "id": "1b3b48a5",
   "metadata": {},
   "outputs": [],
   "source": [
    "driver.get(\"https://www.flipkart.com/\")"
   ]
  },
  {
   "cell_type": "code",
   "execution_count": 13,
   "id": "562d240d",
   "metadata": {},
   "outputs": [],
   "source": [
    "input_search=driver.find_element(By.CLASS_NAME,\"Pke_EE\")\n",
    "input_search.send_keys('sunglasses')\n",
    "\n"
   ]
  },
  {
   "cell_type": "code",
   "execution_count": 139,
   "id": "5131939c",
   "metadata": {},
   "outputs": [
    {
     "name": "stdout",
     "output_type": "stream",
     "text": [
      "HIGHLANDER\n"
     ]
    }
   ],
   "source": [
    "Brands=[]\n",
    "Brand=driver.find_elements(By.XPATH,'//div[@class=\"_2WkVRV\"]')\n",
    "for i in Brand[0:100]:\n",
    "    BR=i.text\n",
    "    Brands.append(BR)\n",
    "    \n",
    "print(BR)\n",
    "   \n",
    "    "
   ]
  },
  {
   "cell_type": "code",
   "execution_count": 140,
   "id": "5845de95",
   "metadata": {},
   "outputs": [
    {
     "data": {
      "text/plain": [
       "40"
      ]
     },
     "execution_count": 140,
     "metadata": {},
     "output_type": "execute_result"
    }
   ],
   "source": [
    "len(Brands)"
   ]
  },
  {
   "cell_type": "code",
   "execution_count": 142,
   "id": "9616d023",
   "metadata": {},
   "outputs": [
    {
     "name": "stdout",
     "output_type": "stream",
     "text": [
      "HIGHLANDER\n"
     ]
    }
   ],
   "source": [
    "\n",
    "Product_Desc=[]\n",
    "product=driver.find_elements(By.XPATH,'//div[@class=\"_2WkVRV\"]')\n",
    "for i in product[0:100]:\n",
    "    PR=i.text\n",
    "    Product_Desc.append(PR)\n",
    "    \n",
    "print(PR)"
   ]
  },
  {
   "cell_type": "code",
   "execution_count": 143,
   "id": "006cc9a4",
   "metadata": {},
   "outputs": [
    {
     "data": {
      "text/plain": [
       "40"
      ]
     },
     "execution_count": 143,
     "metadata": {},
     "output_type": "execute_result"
    }
   ],
   "source": [
    "\n",
    "len(Product_Desc)"
   ]
  },
  {
   "cell_type": "code",
   "execution_count": 26,
   "id": "138905b5",
   "metadata": {},
   "outputs": [
    {
     "name": "stdout",
     "output_type": "stream",
     "text": [
      "₹299\n"
     ]
    }
   ],
   "source": [
    "Price=driver.find_elements(By.XPATH,'//div[@class=\"_30jeq3\"]')\n",
    "for i in Price[0:100]:\n",
    "    PI=i.text\n",
    "    Price.append(PI)\n",
    "    \n",
    "print(PI)"
   ]
  },
  {
   "cell_type": "code",
   "execution_count": 144,
   "id": "0c507c2b",
   "metadata": {},
   "outputs": [
    {
     "data": {
      "text/plain": [
       "80"
      ]
     },
     "execution_count": 144,
     "metadata": {},
     "output_type": "execute_result"
    }
   ],
   "source": [
    "len(Price)"
   ]
  },
  {
   "cell_type": "code",
   "execution_count": 30,
   "id": "09056a7b",
   "metadata": {},
   "outputs": [
    {
     "name": "stdout",
     "output_type": "stream",
     "text": [
      "UV Protection Round Sunglasses (54)\n"
     ]
    }
   ],
   "source": [
    "Pro_Desc=driver.find_elements(By.XPATH,'//a[@class=\"IRpwTa\"]')\n",
    "for i in Pro_Desc[0:100]:\n",
    "    PD=i.text\n",
    "    Pro_Desc.append(PD)\n",
    "    \n",
    "    \n",
    "print(PD)"
   ]
  },
  {
   "cell_type": "code",
   "execution_count": 145,
   "id": "45caa416",
   "metadata": {},
   "outputs": [
    {
     "data": {
      "text/plain": [
       "72"
      ]
     },
     "execution_count": 145,
     "metadata": {},
     "output_type": "execute_result"
    }
   ],
   "source": [
    "len(Pro_Desc)"
   ]
  },
  {
   "cell_type": "code",
   "execution_count": 146,
   "id": "963da9bc",
   "metadata": {},
   "outputs": [
    {
     "name": "stdout",
     "output_type": "stream",
     "text": [
      "40 80 72\n"
     ]
    }
   ],
   "source": [
    "print(len(product),len(Price),len(Pro_Desc))"
   ]
  },
  {
   "cell_type": "code",
   "execution_count": 147,
   "id": "5a20b550",
   "metadata": {},
   "outputs": [
    {
     "ename": "TypeError",
     "evalue": "'dict' object is not callable",
     "output_type": "error",
     "traceback": [
      "\u001b[1;31m---------------------------------------------------------------------------\u001b[0m",
      "\u001b[1;31mTypeError\u001b[0m                                 Traceback (most recent call last)",
      "\u001b[1;32m~\\AppData\\Local\\Temp\\ipykernel_11836\\1266609498.py\u001b[0m in \u001b[0;36m<module>\u001b[1;34m\u001b[0m\n\u001b[0;32m      1\u001b[0m \u001b[1;32mimport\u001b[0m \u001b[0mpandas\u001b[0m \u001b[1;32mas\u001b[0m \u001b[0mpd\u001b[0m\u001b[1;33m\u001b[0m\u001b[1;33m\u001b[0m\u001b[0m\n\u001b[1;32m----> 2\u001b[1;33m \u001b[0mdf\u001b[0m\u001b[1;33m=\u001b[0m\u001b[0mpd\u001b[0m\u001b[1;33m.\u001b[0m\u001b[0mDataFrame\u001b[0m\u001b[1;33m(\u001b[0m\u001b[1;33m{\u001b[0m\u001b[1;34m'Brand'\u001b[0m\u001b[1;33m:\u001b[0m\u001b[0mproduct\u001b[0m\u001b[1;33m,\u001b[0m\u001b[1;34m'Price'\u001b[0m\u001b[1;33m:\u001b[0m\u001b[0mPrice\u001b[0m\u001b[1;33m,\u001b[0m\u001b[1;34m'Product_Discription'\u001b[0m\u001b[1;33m:\u001b[0m\u001b[0mPro_Desc\u001b[0m\u001b[1;33m}\u001b[0m\u001b[1;33m)\u001b[0m\u001b[1;33m\u001b[0m\u001b[1;33m\u001b[0m\u001b[0m\n\u001b[0m\u001b[0;32m      3\u001b[0m \u001b[0mdf\u001b[0m\u001b[1;33m\u001b[0m\u001b[1;33m\u001b[0m\u001b[0m\n",
      "\u001b[1;31mTypeError\u001b[0m: 'dict' object is not callable"
     ]
    }
   ],
   "source": [
    "import pandas as pd\n",
    "df=pd.DataFrame({'Brand':product,'Price':Price,'Product_Discription':Pro_Desc})\n",
    "df"
   ]
  },
  {
   "cell_type": "markdown",
   "id": "ed70b4b0",
   "metadata": {},
   "source": [
    "# Q5"
   ]
  },
  {
   "cell_type": "code",
   "execution_count": 48,
   "id": "a841edc8",
   "metadata": {},
   "outputs": [
    {
     "name": "stdout",
     "output_type": "stream",
     "text": [
      "Defaulting to user installation because normal site-packages is not writeable\n",
      "Requirement already satisfied: bs4 in c:\\programdata\\anaconda3\\lib\\site-packages (0.0.1)\n",
      "Requirement already satisfied: beautifulsoup4 in c:\\programdata\\anaconda3\\lib\\site-packages (from bs4) (4.11.1)\n",
      "Requirement already satisfied: soupsieve>1.2 in c:\\programdata\\anaconda3\\lib\\site-packages (from beautifulsoup4->bs4) (2.3.1)\n",
      "Defaulting to user installation because normal site-packages is not writeable\n",
      "Requirement already satisfied: requests in c:\\programdata\\anaconda3\\lib\\site-packages (2.28.1)\n",
      "Requirement already satisfied: charset-normalizer<3,>=2 in c:\\programdata\\anaconda3\\lib\\site-packages (from requests) (2.0.4)\n",
      "Requirement already satisfied: certifi>=2017.4.17 in c:\\programdata\\anaconda3\\lib\\site-packages (from requests) (2022.9.14)\n",
      "Requirement already satisfied: urllib3<1.27,>=1.21.1 in c:\\programdata\\anaconda3\\lib\\site-packages (from requests) (1.26.11)\n",
      "Requirement already satisfied: idna<4,>=2.5 in c:\\programdata\\anaconda3\\lib\\site-packages (from requests) (3.3)\n"
     ]
    }
   ],
   "source": [
    "!pip install bs4\n",
    "!pip install requests"
   ]
  },
  {
   "cell_type": "code",
   "execution_count": 51,
   "id": "565657a3",
   "metadata": {},
   "outputs": [],
   "source": [
    "from bs4 import BeautifulSoup\n",
    "import requests\n",
    "           \n",
    "           \n",
    "           \n",
    "           "
   ]
  },
  {
   "cell_type": "code",
   "execution_count": 80,
   "id": "f445821b",
   "metadata": {},
   "outputs": [
    {
     "data": {
      "text/plain": [
       "<Response [200]>"
      ]
     },
     "execution_count": 80,
     "metadata": {},
     "output_type": "execute_result"
    }
   ],
   "source": [
    "url=\"https://www.flipkart.com/apple-iphone-13-blue-128-gb/p/itm6c601e0a58b3c?pid=MOBG6VF5SMXPNQHG&lid=LSTMOBG6VF5SMXPNQHGH3DY6Z&marketplace=FLIPKART&store=tyy%2F4io&srno=b_1_1&otracker=browse&fm=organic&iid=1e0030bc-2280-492f-9467-71b296d01843.MOBG6VF5SMXPNQHG.SEARCH&ppt=None&ppn=None&ssid=3nms793bhc0000001690212511206\"\n",
    "r=requests.get(url)\n",
    "r\n",
    "\n"
   ]
  },
  {
   "cell_type": "code",
   "execution_count": 81,
   "id": "cf3cc316",
   "metadata": {},
   "outputs": [
    {
     "data": {
      "text/plain": [
       "<!DOCTYPE html>\n",
       "<html lang=\"en\"><head><link href=\"https://rukminim2.flixcart.com\" rel=\"preconnect\"/><link href=\"//static-assets-web.flixcart.com/fk-p-linchpin-web/fk-cp-zion/css/app_modules.chunk.905c37.css\" rel=\"stylesheet\"/><link href=\"//static-assets-web.flixcart.com/fk-p-linchpin-web/fk-cp-zion/css/app.chunk.914d0a.css\" rel=\"stylesheet\"/><meta content=\"text/html; charset=utf-8\" http-equiv=\"Content-type\"/><meta content=\"IE=Edge\" http-equiv=\"X-UA-Compatible\"/><meta content=\"102988293558\" property=\"fb:page_id\"/><meta content=\"658873552,624500995,100000233612389\" property=\"fb:admins\"/><meta content=\"noodp\" name=\"robots\"/><link href=\"https:///www/promos/new/20150528-140547-favicon-retina.ico\" rel=\"shortcut icon\"/><link href=\"/osdd.xml?v=2\" rel=\"search\" type=\"application/opensearchdescription+xml\"/><meta content=\"website\" property=\"og:type\"/><meta content=\"Flipkart.com\" name=\"og_site_name\" property=\"og:site_name\"/><link href=\"/apple-touch-icon-57x57.png\" rel=\"apple-touch-icon\" sizes=\"57x57\"/><link href=\"/apple-touch-icon-72x72.png\" rel=\"apple-touch-icon\" sizes=\"72x72\"/><link href=\"/apple-touch-icon-114x114.png\" rel=\"apple-touch-icon\" sizes=\"114x114\"/><link href=\"/apple-touch-icon-144x144.png\" rel=\"apple-touch-icon\" sizes=\"144x144\"/><link href=\"/apple-touch-icon-57x57.png\" rel=\"apple-touch-icon\"/><meta content=\"app\" name=\"twitter:card\"/><meta content=\"@flipkart\" name=\"twitter:site\"/><meta content=\"@flipkart\" name=\"twitter:creator\"/><meta content=\"iPhone 13 ( 128 GB GB Storage, Blue) Online at Best Price On Flipkart.com\" name=\"twitter:title\"/><meta content=\"Shop for electronics, apparels &amp; more using our Flipkart app Free shipping &amp; COD.\" name=\"twitter:description\"/><meta content=\"http://rukmini1.flixcart.com/image/300/300/ktketu80/mobile/2/y/o/iphone-13-mlpk3hn-a-apple-original-imag6vpyur6hjngg.jpeg\" property=\"twitter:image\"/><meta content=\"in\" name=\"twitter:app:country\"/><meta content=\"Flipkart\" name=\"al:ios:app_name\"/><meta content=\"742044692\" name=\"al:ios:app_store_id\"/><meta content=\"Flipkart\" name=\"twitter:app:name:iphone\"/><meta content=\"742044692\" name=\"twitter:app:id:iphone\"/><meta content=\"http://dl.flipkart.com/dl/home?\" name=\"twitter:app:url:iphone\"/><meta content=\"Flipkart\" name=\"twitter:app:name:ipad\"/><meta content=\"742044692\" name=\"twitter:app:id:ipad\"/><meta content=\"http://dl.flipkart.com/dl/home?\" name=\"twitter:app:url:ipad\"/><meta content=\"Flipkart\" name=\"twitter:app:name:googleplay\"/><meta content=\"com.flipkart.android\" name=\"twitter:app:id:googleplay\"/><meta content=\"http://dl.flipkart.com/dl/home?\" name=\"twitter:app:url:googleplay\"/><style>#container {\n",
       "\t\t\theight: 100%;\n",
       "\t\t}</style> <link href=\"///fk-cp-zion/css/Product.chunk.abe16d.css\" rel=\"stylesheet\"/><title>iPhone 13 ( 128 GB GB Storage, Blue) Online at Best Price On Flipkart.com</title><meta content=\"iPhone 13 ( 128 GB GB Storage, Blue) Online at Best Price On Flipkart.com\" name=\"og_title\" property=\"og:title\"/> <meta content=\"Buy Apple iPhone 13 online at best price with offers in India. Apple iPhone 13 (Blue, 128 GB) with features and specifications include 128 GB GB ROM, 12 MP back camera and 12 MP front camera. Compare iPhone 13 by price and performance to shop at Flipkart\" name=\"Description\"/><meta content=\"Buy Apple iPhone 13 online at best price with offers in India. Apple iPhone 13 (Blue, 128 GB) with features and specifications include 128 GB GB ROM, 12 MP back camera and 12 MP front camera. Compare iPhone 13 by price and performance to shop at Flipkart\" property=\"og:description\"/> <link href=\"http://www.flipkart.com/apple-iphone-13-blue-128-gb/p/itm6c601e0a58b3c\" rel=\"canonical\"/> <link href=\"android-app://com.flipkart.android/flipkart/de_pp_seg_--_ITM6C601E0A58B3C\" rel=\"alternate\"/> <meta content=\"http://rukmini1.flixcart.com/image/300/300/ktketu80/mobile/2/y/o/iphone-13-mlpk3hn-a-apple-original-imag6vpyur6hjngg.jpeg\" name=\"og_image\" property=\"og:image\"/> <meta content=\"http://www.flipkart.com/apple-iphone-13-blue-128-gb/p/itm6c601e0a58b3c\" name=\"og_url\" property=\"og:url\"/><meta content=\"F4EEB3A0AFFDD385992A06E6920C0AC3\" name=\"msvalidate.01\"/> <!--[if IE 9 ]>\n",
       "\t<script nonce=\"17154410704591563396\">\n",
       "\t\twindow.browserVersion = 'IE9';\n",
       "\t\tdocument.documentElement.className += ' ie9';\n",
       "\t</script>\n",
       "\t<![endif]--><!--[if !IE]><!--><script nonce=\"17154410704591563396\">if (/*@cc_on!@*/false) {\n",
       "\t\t\twindow.browserVersion = 'IE10';\n",
       "\t\t\tdocument.documentElement.className += ' ie10';\n",
       "\t\t}</script><!--<![endif]--> <script nonce=\"17154410704591563396\">!function(){if(\"PerformancePaintTiming\" in window){var e=window.__perf={e:[]};e.o=new PerformanceObserver(function(n){e.e=e.e.concat(n.getEntries())});try{e.o.observe({entryTypes:[\"paint\"]})}catch(e){}}}();\n",
       "\n",
       "\t\tif (requestAnimationFrame && performance && performance.mark) {\n",
       "\t\t\trequestAnimationFrame(function () {\n",
       "\t\t\t\twindow.first_paint = performance.now();\n",
       "\t\t\t\tperformance.mark(\"first_paint\");\n",
       "\t\t\t});\n",
       "\t\t}\n",
       "\n",
       "        // web-vitals polyfill for FID\n",
       "        !function(n,e){var t,o,i,c=[],f={passive:!0,capture:!0},r=new Date,a=\"pointerup\",u=\"pointercancel\";function p(n,c){t||(t=c,o=n,i=new Date,w(e),s())}function s(){o>=0&&o<i-r&&(c.forEach(function(n){n(o,t)}),c=[])}function l(t){if(t.cancelable){var o=(t.timeStamp>1e12?new Date:performance.now())-t.timeStamp;\"pointerdown\"==t.type?function(t,o){function i(){p(t,o),r()}function c(){r()}function r(){e(a,i,f),e(u,c,f)}n(a,i,f),n(u,c,f)}(o,t):p(o,t)}}function w(n){[\"click\",\"mousedown\",\"keydown\",\"touchstart\",\"pointerdown\"].forEach(function(e){n(e,l,f)})}w(n),self.perfMetrics=self.perfMetrics||{},self.perfMetrics.onFirstInputDelay=function(n){c.push(n),s()}}(addEventListener,removeEventListener);</script><script async=\"\" src=\"https://www.googletagmanager.com/gtag/js?id=AW-594691041\"></script><script nonce=\"17154410704591563396\">window.dataLayer = window.dataLayer || [];\n",
       "\t\tfunction gtag(){dataLayer.push(arguments)};\n",
       "\t\tgtag('js', new Date());</script></head><body><div id=\"container\"><div><div class=\"_1kfTjk\"><div class=\"_1rH5Jn\"><div class=\"_1TmfNK\"></div><div class=\"_2Xfa2_\"><div class=\"_3_C9Hx\"><div class=\"_3qX0zy\"><a href=\"/\"><img alt=\"Flipkart\" class=\"_2xm1JU\" src=\"//static-assets-web.flixcart.com/fk-p-linchpin-web/fk-cp-zion/img/flipkart-plus_8d85f4.png\" title=\"Flipkart\" width=\"75\"/></a><a class=\"_21ljIi\" href=\"/plus\">Explore<!-- --> <span class=\"_2FVHGh\">Plus</span><img src=\"//static-assets-web.flixcart.com/fk-p-linchpin-web/fk-cp-zion/img/plus_aef861.png\" width=\"10\"/></a></div></div><div class=\"_1cmsER\"><form action=\"/search\" class=\"_2M8cLY header-form-search\" method=\"GET\"><div class=\"col-12-12 _2oO9oE\"><div class=\"_3OO5Xc\"><input autocomplete=\"off\" class=\"_3704LK\" name=\"q\" placeholder=\"Search for products, brands and more\" title=\"Search for products, brands and more\" type=\"text\" value=\"\"/></div><button class=\"L0Z3Pu\" type=\"submit\"><svg class=\"\" height=\"20\" viewbox=\"0 0 17 18\" width=\"20\" xmlns=\"http://www.w3.org/2000/svg\"><g fill=\"#2874F1\" fill-rule=\"evenodd\"><path class=\"_34RNph\" d=\"m11.618 9.897l4.225 4.212c.092.092.101.232.02.313l-1.465 1.46c-.081.081-.221.072-.314-.02l-4.216-4.203\"></path><path class=\"_34RNph\" d=\"m6.486 10.901c-2.42 0-4.381-1.956-4.381-4.368 0-2.413 1.961-4.369 4.381-4.369 2.42 0 4.381 1.956 4.381 4.369 0 2.413-1.961 4.368-4.381 4.368m0-10.835c-3.582 0-6.486 2.895-6.486 6.467 0 3.572 2.904 6.467 6.486 6.467 3.582 0 6.486-2.895 6.486-6.467 0-3.572-2.904-6.467-6.486-6.467\"></path></g></svg></button><input name=\"otracker\" type=\"hidden\" value=\"search\"/><input name=\"otracker1\" type=\"hidden\" value=\"search\"/><input name=\"marketplace\" type=\"hidden\" value=\"FLIPKART\"/><input name=\"as-show\" type=\"hidden\" value=\"off\"/><input name=\"as\" type=\"hidden\" value=\"off\"/></div><ul class=\"col-12-12 _1MRYA1\"></ul></form></div><div class=\"go_DOp _2errNR\"><div class=\"_28p97w\"><div class=\"_1psGvi _3BvnxG\"><div><a class=\"_1_3w1N\" href=\"/account/login?ret=/apple-iphone-13-blue-128-gb/p/itm6c601e0a58b3c%3Fpid%3DMOBG6VF5SMXPNQHG%26lid%3DLSTMOBG6VF5SMXPNQHGH3DY6Z%26marketplace%3DFLIPKART%26store%3Dtyy%252F4io%26srno%3Db_1_1%26otracker%3Dbrowse%26fm%3Dorganic%26iid%3D1e0030bc-2280-492f-9467-71b296d01843.MOBG6VF5SMXPNQHG.SEARCH%26ppt%3DNone%26ppn%3DNone%26ssid%3D3nms793bhc0000001690212511206\">Login</a></div></div></div></div><div class=\"go_DOp\"><a class=\"_3-PJz-\" href=\"https://seller.flipkart.com/sell-online/?utm_source=fkwebsite&amp;utm_medium=websitedirect\"><span>Become a Seller</span></a></div><div class=\"go_DOp\"><div class=\"_28p97w\"><div class=\"_1psGvi _3BvnxG\"><div><div class=\"exehdJ\"> <!-- -->More<!-- --> </div></div></div><svg class=\"zZ3yfL\" height=\"8\" viewbox=\"0 0 16 27\" width=\"4.7\" xmlns=\"http://www.w3.org/2000/svg\"><path class=\"_2gTTdy\" d=\"M16 23.207L6.11 13.161 16 3.093 12.955 0 0 13.161l12.955 13.161z\" fill=\"#fff\"></path></svg></div></div><div class=\"go_DOp\"><div class=\"_1psGvi\"><div class=\"YUhWwv\"><a class=\"_3SkBxJ\" href=\"/viewcart?exploreMode=true&amp;preference=FLIPKART\"><svg class=\"V3C5bO\" height=\"14\" viewbox=\"0 0 16 16\" width=\"14\" xmlns=\"http://www.w3.org/2000/svg\"><path class=\"_1bS9ic\" d=\"M15.32 2.405H4.887C3 2.405 2.46.805 2.46.805L2.257.21C2.208.085 2.083 0 1.946 0H.336C.1 0-.064.24.024.46l.644 1.945L3.11 9.767c.047.137.175.23.32.23h8.418l-.493 1.958H3.768l.002.003c-.017 0-.033-.003-.05-.003-1.06 0-1.92.86-1.92 1.92s.86 1.92 1.92 1.92c.99 0 1.805-.75 1.91-1.712l5.55.076c.12.922.91 1.636 1.867 1.636 1.04 0 1.885-.844 1.885-1.885 0-.866-.584-1.593-1.38-1.814l2.423-8.832c.12-.433-.206-.86-.655-.86\" fill=\"#fff\"></path></svg><span>Cart</span></a></div></div></div></div><div class=\"_1TmfNK\"></div></div><div class=\"_1mUdNz\"></div></div><div class=\"_331-kn\"></div><div class=\"_2c7YLP UtUXW0 _6t1WkM _3HqJxg\"><div class=\"_1YokD2 _2GoDe3\" style=\"background-color:#FFFFFF;padding:16px 16px 16px 16px\"><div class=\"_1YokD2 _3Mn1Gg col-5-12 _78xt5Y\"><div class=\"_1AtVbE col-12-12\"><div class=\"_1iyjIJ\"><div class=\"_3li7GG\"><div class=\"_35DpL-\"><div class=\"_2FHWw4\"><div class=\"_2mLllQ\" style=\"height:640px\"><ul class=\"_3GnUWp\" style=\"-webkit-transform:translateY(-0px);-moz-transform:translateY(-0px);-o-transform:translateY(-0px);-ms-transform:translateY(-0px);transform:translateY(-0px)\"><li class=\"_20Gt85 _1Y_A6W\" style=\"height:64px\"><div class=\"_1AuMiq P9aMAP\"><div class=\"_2E1FGS\"><img class=\"q6DClP\" src=\"https://rukminim2.flixcart.com/image/128/128/ktketu80/mobile/2/y/o/iphone-13-mlpk3hn-a-apple-original-imag6vpyur6hjngg.jpeg?q=70\"/></div></div></li><li class=\"_20Gt85 _1Y_A6W\" style=\"height:64px\"><div class=\"_1AuMiq\"><div class=\"_2E1FGS\"><img class=\"q6DClP\" src=\"https://rukminim2.flixcart.com/image/128/128/ktketu80/mobile/2/y/o/iphone-13-mlpk3hn-a-apple-original-imag6vpyur6hjngg.jpeg?q=70\"/></div><div class=\"_2usHgU\"></div><div class=\"_3g-Cpg\"></div></div></li><li class=\"_20Gt85 _1Y_A6W\" style=\"height:64px\"><div class=\"_1AuMiq\"><div class=\"_2E1FGS\"><img class=\"q6DClP\" src=\"https://rukminim2.flixcart.com/image/128/128/ktketu80/mobile/q/h/8/iphone-13-mlpk3hn-a-apple-original-imag6vpywdtyhbkr.jpeg?q=70\"/></div></div></li><li class=\"_20Gt85 _1Y_A6W\" style=\"height:64px\"><div class=\"_1AuMiq\"><div class=\"_2E1FGS\"><img class=\"q6DClP\" src=\"https://rukminim2.flixcart.com/image/128/128/ktketu80/mobile/t/e/e/iphone-13-mlpk3hn-a-apple-original-imag6vpyggrjkms3.jpeg?q=70\"/></div></div></li><li class=\"_20Gt85 _1Y_A6W\" style=\"height:64px\"><div class=\"_1AuMiq\"><div class=\"_2E1FGS\"><img class=\"q6DClP\" src=\"https://rukminim2.flixcart.com/image/128/128/xif0q/mobile/h/e/g/-original-imagh7g8k7ttcdkc.jpeg?q=70\"/></div></div></li><li class=\"_20Gt85 _1Y_A6W\" style=\"height:64px\"><div class=\"_1AuMiq\"><div class=\"_2E1FGS\"><img class=\"q6DClP\" src=\"https://rukminim2.flixcart.com/image/128/128/xif0q/mobile/w/k/h/-original-imagh2gwxu57j4fn.jpeg?q=70\"/></div></div></li><li class=\"_20Gt85 _1Y_A6W\" style=\"height:64px\"><div class=\"_1AuMiq\"><div class=\"_2E1FGS\"><img class=\"q6DClP\" src=\"https://rukminim2.flixcart.com/image/128/128/ktketu80/mobile/o/g/y/iphone-13-mlpk3hn-a-apple-original-imag6vpynyukqezf.jpeg?q=70\"/></div></div></li><li class=\"_20Gt85 _1Y_A6W\" style=\"height:64px\"><div class=\"_1AuMiq\"><div class=\"_2E1FGS\"><img class=\"q6DClP\" src=\"https://rukminim2.flixcart.com/image/128/128/ktketu80/mobile/n/i/l/iphone-13-mlpk3hn-a-apple-original-imag6vpytfdgdfs5.jpeg?q=70\"/></div></div></li><li class=\"_20Gt85 _1Y_A6W\" style=\"height:64px\"><div class=\"_1AuMiq\"><div class=\"_2E1FGS\"><img class=\"q6DClP\" src=\"https://rukminim2.flixcart.com/image/128/128/ktketu80/mobile/k/z/7/iphone-13-mlpk3hn-a-apple-original-imag6vpybez53gfh.jpeg?q=70\"/></div></div></li><li class=\"_20Gt85 _1Y_A6W\" style=\"height:64px\"><div class=\"_1AuMiq\"><div class=\"_2E1FGS\"><img class=\"q6DClP\" src=\"https://rukminim2.flixcart.com/image/128/128/ktketu80/mobile/t/r/6/iphone-13-mlpf3hn-a-apple-original-imag6vzz4ekzra9f.jpeg?q=70\"/></div></div></li></ul></div><div class=\"_1VfWRb _3jywji YTKFIp\"><svg class=\"_1YdSSj\" height=\"15\" viewbox=\"0 0 16 27\" width=\"8\" xmlns=\"http://www.w3.org/2000/svg\"><path class=\"\" d=\"M16 23.207L6.11 13.161 16 3.093 12.955 0 0 13.161l12.955 13.161z\" fill=\"#000\"></path></svg></div><div class=\"_1VfWRb VnysFO\"><svg class=\"_1YdSSj\" height=\"15\" viewbox=\"0 0 16 27\" width=\"8\" xmlns=\"http://www.w3.org/2000/svg\"><path class=\"\" d=\"M16 23.207L6.11 13.161 16 3.093 12.955 0 0 13.161l12.955 13.161z\" fill=\"#000\"></path></svg></div></div></div><div class=\"_1BweB8\"><div class=\"_3kidJX\"><div class=\"_3A1TYz\" style=\"height:0;width:0\"></div><div class=\"CXW8mj _3nMexc\" style=\"height:inherit;width:inherit\"><img alt=\"APPLE iPhone 13 (Blue, 128 GB)\" class=\"_396cs4 _2amPTt _3qGmMb\" loading=\"eager\" src=\"https://rukminim2.flixcart.com/image/416/416/ktketu80/mobile/2/y/o/iphone-13-mlpk3hn-a-apple-original-imag6vpyur6hjngg.jpeg?q=70\" srcset=\"https://rukminim2.flixcart.com/image/832/832/ktketu80/mobile/2/y/o/iphone-13-mlpk3hn-a-apple-original-imag6vpyur6hjngg.jpeg?q=70 2x, https://rukminim2.flixcart.com/image/416/416/ktketu80/mobile/2/y/o/iphone-13-mlpk3hn-a-apple-original-imag6vpyur6hjngg.jpeg?q=70 1x\"/></div></div><div class=\"bXrC_t\" style=\"left:0;width:0;height:0\"><img class=\"_3_UeBw\"/></div></div></div><div class=\"_2hVSre _25_uYi\"><div class=\"_36FSn5\"><svg class=\"_1l0elc\" height=\"16\" viewbox=\"0 0 20 16\" width=\"16\" xmlns=\"http://www.w3.org/2000/svg\"><path class=\"eX72wL\" d=\"M8.695 16.682C4.06 12.382 1 9.536 1 6.065 1 3.219 3.178 1 5.95 1c1.566 0 3.069.746 4.05 1.915C10.981 1.745 12.484 1 14.05 1 16.822 1 19 3.22 19 6.065c0 3.471-3.06 6.316-7.695 10.617L10 17.897l-1.305-1.215z\" fill=\"#2874F0\" fill-rule=\"evenodd\" opacity=\".9\" stroke=\"#FFF\"></path></svg></div></div></div></div><div class=\"_1AtVbE col-12-12\"><div class=\"_1p3MFP dTTu2M\"><ul class=\"row\"><li class=\"col col-6-12\"><button class=\"_2KpZ6l _2U9uOA _3v1-ww\"><svg class=\"_1KOMV2\" height=\"16\" viewbox=\"0 0 16 15\" width=\"16\" xmlns=\"http://www.w3.org/2000/svg\"><path class=\"\" d=\"M15.32 2.405H4.887C3 2.405 2.46.805 2.46.805L2.257.21C2.208.085 2.083 0 1.946 0H.336C.1 0-.064.24.024.46l.644 1.945L3.11 9.767c.047.137.175.23.32.23h8.418l-.493 1.958H3.768l.002.003c-.017 0-.033-.003-.05-.003-1.06 0-1.92.86-1.92 1.92s.86 1.92 1.92 1.92c.99 0 1.805-.75 1.91-1.712l5.55.076c.12.922.91 1.636 1.867 1.636 1.04 0 1.885-.844 1.885-1.885 0-.866-.584-1.593-1.38-1.814l2.423-8.832c.12-.433-.206-.86-.655-.86\" fill=\"#fff\"></path></svg> <!-- -->Add to cart</button></li><li class=\"col col-6-12\"><form><button class=\"_2KpZ6l _2U9uOA ihZ75k _3AWRsL\" type=\"button\"><span class=\"_3iRXzi\"></span> <!-- -->Buy Now</button></form></li></ul></div></div><div class=\"_1AtVbE col-12-12\"></div></div><div class=\"_1YokD2 _3Mn1Gg col-8-12\" style=\"padding:0px 0px 0px 24px\"><div class=\"_1YokD2 _2GoDe3\"><div class=\"_1AtVbE\" style=\"flex-grow:1;overflow:auto\"><div class=\"_1MR4o5\"><div class=\"_3GIHBu\"><a class=\"_2whKao\" href=\"/?otracker=product_breadCrumbs_Home\">Home</a><svg class=\"_39X-Og\" height=\"27\" viewbox=\"0 0 16 27\" width=\"16\" xmlns=\"http://www.w3.org/2000/svg\"><path class=\"DpXnhQ\" d=\"M16 23.207L6.11 13.161 16 3.093 12.955 0 0 13.161l12.955 13.161z\" fill=\"#fff\"></path></svg></div><div class=\"_3GIHBu\"><a class=\"_2whKao\" href=\"/mobiles-accessories/pr?sid=tyy&amp;marketplace=FLIPKART&amp;otracker=product_breadCrumbs_Mobiles+%26+Accessories\">Mobiles &amp; Accessories</a><svg class=\"_39X-Og\" height=\"27\" viewbox=\"0 0 16 27\" width=\"16\" xmlns=\"http://www.w3.org/2000/svg\"><path class=\"DpXnhQ\" d=\"M16 23.207L6.11 13.161 16 3.093 12.955 0 0 13.161l12.955 13.161z\" fill=\"#fff\"></path></svg></div><div class=\"_3GIHBu\"><a class=\"_2whKao\" href=\"/mobiles/pr?sid=tyy,4io&amp;marketplace=FLIPKART&amp;otracker=product_breadCrumbs_Mobiles\">Mobiles</a><svg class=\"_39X-Og\" height=\"27\" viewbox=\"0 0 16 27\" width=\"16\" xmlns=\"http://www.w3.org/2000/svg\"><path class=\"DpXnhQ\" d=\"M16 23.207L6.11 13.161 16 3.093 12.955 0 0 13.161l12.955 13.161z\" fill=\"#fff\"></path></svg></div><div class=\"_3GIHBu\"><a class=\"_2whKao\" href=\"/mobiles/apple~brand/pr?sid=tyy,4io&amp;marketplace=FLIPKART&amp;otracker=product_breadCrumbs_APPLE+Mobiles\">APPLE Mobiles</a><svg class=\"_39X-Og\" height=\"27\" viewbox=\"0 0 16 27\" width=\"16\" xmlns=\"http://www.w3.org/2000/svg\"><path class=\"DpXnhQ\" d=\"M16 23.207L6.11 13.161 16 3.093 12.955 0 0 13.161l12.955 13.161z\" fill=\"#fff\"></path></svg></div><div class=\"_3GIHBu\"><div class=\"_1LJS6T _2whKao _1QoaG0\"><div class=\"_2NKhZn\"><p>APPLE iPhone 13 (Blue, 128 GB)</p>\n",
       "</div></div><svg class=\"_39X-Og\" height=\"27\" viewbox=\"0 0 16 27\" width=\"16\" xmlns=\"http://www.w3.org/2000/svg\"><path class=\"DpXnhQ\" d=\"M16 23.207L6.11 13.161 16 3.093 12.955 0 0 13.161l12.955 13.161z\" fill=\"#fff\"></path></svg></div></div></div><div class=\"_1AtVbE col-12-12\" style=\"flex:0 0 90px;max-width:90px\"><div class=\"_3PzNI- _3EPyR5\"><span class=\"f3A4_V\"><label class=\"_2iDkf8\"><input class=\"_30VH1S\" readonly=\"\" type=\"checkbox\"/><div class=\"_24_Dny\"></div></label></span><label class=\"_6Up2sF\">Compare</label></div></div><div class=\"_1AtVbE col-12-12\" style=\"flex:0 0 90px;max-width:90px\"><div class=\"_1GpbsQ\"><div class=\"Bv11UC\"><span class=\"\"><span class=\"_2kXMeX\"><svg class=\"Kj-yxs\" height=\"18\" width=\"18\" xmlns=\"http://www.w3.org/2000/svg\"><path class=\"_2bvlkb\" d=\"M14.78 5.883L9.032 0v3.362C3.284 4.202.822 8.404 0 12.606 2.053 9.666 4.927 8.32 9.032 8.32v3.446l5.748-5.883z\" fill=\"#c2c2c2\" fill-rule=\"evenodd\"></path></svg><span style=\"margin-left:5px\">Share</span></span></span></div></div></div></div><div class=\"_1AtVbE col-12-12\"><div class=\"aMaAEs\"><div><h1 class=\"yhB1nd\"><span class=\"B_NuCI\">APPLE iPhone 13 (Blue, 128 GB)</span></h1></div><div class=\"\"><div class=\"_3_L3jD\"><div class=\"gUuXy- _16VRIQ\"><span class=\"_1lRcqv\" id=\"productRating_LSTMOBG6VF5SMXPNQHGH3DY6Z_MOBG6VF5SMXPNQHG_\"><div class=\"_3LWZlK\">4.7<img class=\"_1wB99o\" src=\"data:image/svg+xml;base64,PHN2ZyB4bWxucz0iaHR0cDovL3d3dy53My5vcmcvMjAwMC9zdmciIHdpZHRoPSIxMyIgaGVpZ2h0PSIxMiI+PHBhdGggZmlsbD0iI0ZGRiIgZD0iTTYuNSA5LjQzOWwtMy42NzQgMi4yMy45NC00LjI2LTMuMjEtMi44ODMgNC4yNTQtLjQwNEw2LjUuMTEybDEuNjkgNC4wMSA0LjI1NC40MDQtMy4yMSAyLjg4Mi45NCA0LjI2eiIvPjwvc3ZnPg==\"/></div></span><span class=\"_2_R_DZ\"><span><span>2,38,837 Ratings </span><span class=\"_13vcmD\">&amp;</span><span> 12,047 Reviews</span></span></span></div></div><span class=\"b7864- _2Z07dN\"><img class=\"jMnjzX\" height=\"21\" src=\"//static-assets-web.flixcart.com/fk-p-linchpin-web/fk-cp-zion/img/fa_62673a.png\"/></span></div><div class=\"_1V_ZGU\"><span>Extra ₹7901 off</span></div><div class=\"dyC4hf\"><div class=\"CEmiEU\"><div class=\"_25b18c\"><div class=\"_30jeq3 _16Jk6d\">₹61,999</div><div class=\"_3I9_wc _2p6lqe\">₹<!-- -->69,900</div><div class=\"_3Ay6Sb _31Dcoz\"><span>11% off</span></div></div></div><div class=\"_1V9q7_\"><div class=\"_25icda\" id=\"price-info-icon\"><svg class=\"_3ECE0V\" height=\"20\" viewbox=\"0 0 20 20\" width=\"20\" xmlns=\"http://www.w3.org/2000/svg\"><defs><circle cx=\"8\" cy=\"8\" id=\"b\" r=\"8\"></circle><filter filterunits=\"objectBoundingBox\" height=\"130%\" id=\"a\" width=\"130%\" x=\"-15%\" y=\"-8.8%\"><femorphology in=\"SourceAlpha\" operator=\"dilate\" radius=\".4\" result=\"shadowSpreadOuter1\"></femorphology><feoffset dy=\"1\" in=\"shadowSpreadOuter1\" result=\"shadowOffsetOuter1\"></feoffset><fegaussianblur in=\"shadowOffsetOuter1\" result=\"shadowBlurOuter1\" stddeviation=\".5\"></fegaussianblur><fecomposite in=\"shadowBlurOuter1\" in2=\"SourceAlpha\" operator=\"out\" result=\"shadowBlurOuter1\"></fecomposite><fecolormatrix in=\"shadowBlurOuter1\" values=\"0 0 0 0 0 0 0 0 0 0 0 0 0 0 0 0 0 0 0.2 0\"></fecolormatrix></filter></defs><g fill=\"none\" fill-rule=\"evenodd\"><g transform=\"translate(2 1)\"><use fill=\"#000\" filter=\"url(#a)\" xlink:href=\"#b\"></use><use fill=\"#FCFCFC\" stroke=\"#000\" stroke-opacity=\".3\" stroke-width=\".8\" xlink:href=\"#b\"></use></g><text fill=\"#1D1D1D\" font-family=\"Roboto-Medium, Roboto\" font-size=\"11\" font-weight=\"400\" opacity=\".59\" transform=\"translate(2 1)\"><tspan x=\"6.6\" y=\"12.2\">i</tspan></text></g></svg></div></div></div><div class=\"wjKmXL\"><li>+ ₹99 Secured Packaging Fee</li></div></div></div><div class=\"_1AtVbE col-12-12\"><div class=\"_3Z0lU8\"><div class=\"rd9nIL\">Available offers</div></div><div class=\"_3TT44I\"><div class=\"WT_FyS\"><div class=\"XUp0WS\"><span class=\"_3j4Zjq row\"><img class=\"_3HLfAg\" height=\"18\" src=\"https://rukminim2.flixcart.com/www/36/36/promos/06/09/2016/c22c9fc4-0555-4460-8401-bf5c28d7ba29.png?q=90\" width=\"18\"/><li class=\"_16eBzU col\"><span class=\"u8dYXW\">Bank Offer</span><span>5% Cashback on Flipkart Axis Bank Card</span><div class=\"Bv11UC _1qNw3R\"><span class=\"fGhUR2\">T&amp;C</span></div></li></span><span class=\"_3j4Zjq row\"><img class=\"_3HLfAg\" height=\"18\" src=\"https://rukminim2.flixcart.com/www/36/36/promos/06/09/2016/c22c9fc4-0555-4460-8401-bf5c28d7ba29.png?q=90\" width=\"18\"/><li class=\"_16eBzU col\"><span class=\"u8dYXW\">Bank Offer</span><span>₹2000 Off On HDFC Bank Credit Card Transactions</span><div class=\"Bv11UC _1qNw3R\"><span class=\"fGhUR2\">T&amp;C</span></div></li></span><span class=\"_3j4Zjq row\"><img class=\"_3HLfAg\" height=\"18\" src=\"https://rukminim2.flixcart.com/www/36/36/promos/06/09/2016/c22c9fc4-0555-4460-8401-bf5c28d7ba29.png?q=90\" width=\"18\"/><li class=\"_16eBzU col\"><span class=\"u8dYXW\">Bank Offer</span><span>₹2000 Off On HDFC Bank Debit Card EMI Transactions</span><div class=\"Bv11UC _1qNw3R\"><span class=\"fGhUR2\">T&amp;C</span></div></li></span><span class=\"_3j4Zjq row\"><img class=\"_3HLfAg\" height=\"18\" src=\"https://rukminim2.flixcart.com/www/36/36/promos/06/09/2016/c22c9fc4-0555-4460-8401-bf5c28d7ba29.png?q=90\" width=\"18\"/><li class=\"_16eBzU col\"><span class=\"u8dYXW\">Special Price</span><span>Get extra ₹7901 off (price inclusive of cashback/coupon)</span><div class=\"Bv11UC _1qNw3R\"><span class=\"fGhUR2\">T&amp;C</span></div></li></span></div><button class=\"_1JIkBw\"><div class=\"row\"><div class=\"IMZJg1\"><span>View 4 more offers</span></div></div></button></div></div></div><div class=\"_1AtVbE col-12-12\" style=\"padding:24px 0px 24px 0px\"><div class=\"_32JtDB\"><label class=\"_2Fn-Ln XB6mmk _11ogoE _3L7Pww\" for=\"BUY_WITHOUT_EXCHANGE\"><input checked=\"\" class=\"_3DAmyP\" id=\"BUY_WITHOUT_EXCHANGE\" name=\"exchange-options\" readonly=\"\" type=\"radio\"/><div class=\"_1XFPmK\"></div><div class=\"_2jIO64 _3JGmY_\"><div checked=\"\" data-checked=\"true\" data-disabled=\"false\"><div class=\"_2CxnBI\"><div>Buy without Exchange</div><div class=\"_17Rl6L\">₹61,999</div></div></div></div></label><label class=\"_2Fn-Ln XB6mmk _2LcXZ-\" for=\"BUY_WITH_EXCHANGE\"><input class=\"_3DAmyP\" disabled=\"\" id=\"BUY_WITH_EXCHANGE\" name=\"exchange-options\" readonly=\"\" type=\"radio\"/><div class=\"_1XFPmK\"></div><div class=\"_2jIO64 _3JGmY_\"><div data-checked=\"false\" data-disabled=\"true\" disabled=\"\"><div class=\"_2CxnBI\"><div>Buy with Exchange</div><div class=\"_17Rl6L\">up to ₹38,600 off</div></div><div class=\"_3alYqk\"><div class=\"_3w22bS\"><div>Get extra ₹3,000 off on exchange of select models</div></div></div><div class=\"_2Tpdn3 _1Y11nq\" style=\"color:#FF0000\">Enter pincode to check if exchange is available</div></div></div></label></div></div><div class=\"_1AtVbE col-12-12\"><div class=\"_1UdlE-\"><div class=\"_4ju5o2\"><div class=\"_3nWYNs\"><img src=\"https://rukminim2.flixcart.com/image/160/160/prod-fk-cms-brand-images/9d5696196cfb3f4440ca99b1018c8ff91a53716d1948ba73ee3bb68f36571d7a.jpg?q=90\"/></div></div><div class=\"XcYV4g\"><div class=\"_352bdz\">Brand Warranty for 1 Year<span class=\"_3IIjhd\">Know More</span></div></div></div></div><div class=\"_1AtVbE col-12-12\"><div class=\"_3wmLAA\"><div class=\"ffYZ17 col col-6-12\"><div class=\"_22QfJJ\"><span class=\"_1rcQuH\" id=\"Color\">Color</span><div><ul class=\"_1q8vHb\"><li class=\"_3V2wfe\" id=\"swatch-0-color\"><a class=\"kmlXmn qaAL3J\" data-img=\"http://rukmini1.flixcart.com/image/{@width}/{@height}/ktketu80/mobile/a/m/7/iphone-13-mlpj3hn-a-apple-original-imag6vpyk3w4zarg.jpeg?q={@quality}\" href=\"/apple-iphone-13-product-red-256-gb/p/itme239bd6bf6934?pid=MOBG6VF5DYJ3GBZH&amp;lid=LSTMOBG6VF5DYJ3GBZHDKQIMP&amp;marketplace=FLIPKART&amp;sattr[]=color&amp;sattr[]=storage&amp;st=color\"><div class=\"_2C41yO\" data-img=\"http://rukmini1.flixcart.com/image/{@width}/{@height}/ktketu80/mobile/a/m/7/iphone-13-mlpj3hn-a-apple-original-imag6vpyk3w4zarg.jpeg?q={@quality}\"><img class=\"_30PAEw\" src=\"https://rukminim2.flixcart.com/image/144/144/ktketu80/mobile/a/m/7/iphone-13-mlpj3hn-a-apple-original-imag6vpyk3w4zarg.jpeg?q=50\"/></div></a><div class=\"_2OTVHf _3NVE7n _1mQK5h _2J-DXM\"><div class=\"_3Oikkn _3_ezix _2KarXJ\">(PRODUCT)RED</div></div></li><li class=\"_3V2wfe\" id=\"swatch-1-color\"><a class=\"kmlXmn PP89tw\" data-img=\"http://rukmini1.flixcart.com/image/{@width}/{@height}/ktketu80/mobile/2/y/o/iphone-13-mlpk3hn-a-apple-original-imag6vpyur6hjngg.jpeg?q={@quality}\" href=\"/apple-iphone-13-blue-128-gb/p/itm6c601e0a58b3c?pid=MOBG6VF5SMXPNQHG&amp;lid=LSTMOBG6VF5SMXPNQHGH3DY6Z&amp;marketplace=FLIPKART&amp;sattr[]=color&amp;sattr[]=storage&amp;st=color\"><div class=\"_2C41yO\" data-img=\"http://rukmini1.flixcart.com/image/{@width}/{@height}/ktketu80/mobile/2/y/o/iphone-13-mlpk3hn-a-apple-original-imag6vpyur6hjngg.jpeg?q={@quality}\"><img class=\"_30PAEw\" src=\"https://rukminim2.flixcart.com/image/144/144/ktketu80/mobile/2/y/o/iphone-13-mlpk3hn-a-apple-original-imag6vpyur6hjngg.jpeg?q=50\"/></div></a><div class=\"_2OTVHf _3NVE7n _1mQK5h _2J-DXM\"><div class=\"_3Oikkn _3_ezix _2KarXJ\">Blue</div></div></li><li class=\"_3V2wfe\" id=\"swatch-2-color\"><a class=\"kmlXmn\" data-img=\"http://rukmini1.flixcart.com/image/{@width}/{@height}/l0igvww0/mobile/r/q/m/-original-imagca5ajerqpfjy.jpeg?q={@quality}\" href=\"/apple-iphone-13-green-128-gb/p/itm18a55937b2607?pid=MOBGC9VGSU9DWGJZ&amp;lid=LSTMOBGC9VGSU9DWGJZ0Q1T8E&amp;marketplace=FLIPKART&amp;sattr[]=color&amp;sattr[]=storage&amp;st=color\"><div class=\"_2C41yO\" data-img=\"http://rukmini1.flixcart.com/image/{@width}/{@height}/l0igvww0/mobile/r/q/m/-original-imagca5ajerqpfjy.jpeg?q={@quality}\"><img class=\"_30PAEw\" src=\"https://rukminim2.flixcart.com/image/144/144/l0igvww0/mobile/r/q/m/-original-imagca5ajerqpfjy.jpeg?q=50\"/></div></a><div class=\"_2OTVHf _3NVE7n _1mQK5h _2J-DXM\"><div class=\"_3Oikkn _3_ezix _2KarXJ\">Green</div></div></li><li class=\"_3F0T5D vvSfKl\"><span>3 more</span></li></ul></div></div><div class=\"_2OTVHf _3duxeq z0fG_Y _1mQK5h _3MaULO _2wPDps\"><div class=\"_3Oikkn _3_ezix\"><span>Please select a Color to proceed</span><button class=\"_2KpZ6l FYrnUt\">✕</button></div></div></div><div class=\"ffYZ17 col col-6-12\"><div class=\"_22QfJJ\"><span class=\"_1rcQuH\" id=\"Storage\">Storage</span><div><ul class=\"_1q8vHb\"><li class=\"_3V2wfe\" id=\"swatch-0-storage\"><a class=\"_1fGeJ5 PP89tw\" href=\"/apple-iphone-13-blue-128-gb/p/itm6c601e0a58b3c?pid=MOBG6VF5SMXPNQHG&amp;lid=LSTMOBG6VF5SMXPNQHGH3DY6Z&amp;marketplace=FLIPKART&amp;sattr[]=color&amp;sattr[]=storage&amp;st=storage\">128 GB</a><div class=\"_2OTVHf _3NVE7n _1mQK5h _2J-DXM\"><div class=\"_3Oikkn _3_ezix _2KarXJ\">128 GB</div></div></li><li class=\"_3V2wfe\" id=\"swatch-1-storage\"><a class=\"_1fGeJ5\" href=\"/apple-iphone-13-blue-256-gb/p/itmd68a015aa1e39?pid=MOBG6VF566ZTUVFR&amp;lid=LSTMOBG6VF566ZTUVFR00RD7Y&amp;marketplace=FLIPKART&amp;sattr[]=color&amp;sattr[]=storage&amp;st=storage\">256 GB</a><div class=\"_2OTVHf _3NVE7n _1mQK5h _2J-DXM\"><div class=\"_3Oikkn _3_ezix _2KarXJ\">256 GB</div></div></li><li class=\"_3V2wfe\" id=\"swatch-2-storage\"><a class=\"_1fGeJ5\" href=\"/apple-iphone-13-blue-512-gb/p/itma26798ee418a6?pid=MOBG6VF5CBZ6EPF2&amp;lid=LSTMOBG6VF5CBZ6EPF2I3GRC9&amp;marketplace=FLIPKART&amp;sattr[]=color&amp;sattr[]=storage&amp;st=storage\">512 GB</a><div class=\"_2OTVHf _3NVE7n _1mQK5h _2J-DXM\"><div class=\"_3Oikkn _3_ezix _2KarXJ\">512 GB</div></div></li></ul></div></div><div class=\"_2OTVHf _3duxeq z0fG_Y _1mQK5h _3MaULO _2wPDps\"><div class=\"_3Oikkn _3_ezix\"><span>Please select a Storage to proceed</span><button class=\"_2KpZ6l FYrnUt\">✕</button></div></div></div></div></div><div class=\"_1AtVbE col-12-12\"><div class=\"row _2WVRLm\"><div class=\"col col-12-12\"><div class=\"_1PQN-K\"><div class=\"_2taUHM\">Delivery</div><div class=\"_24N3im\"><div class=\"_1tgazt _1LO0H9\"><div class=\"bTgKY7 _16ocF5\"></div><div class=\"_2u50Np\"><div class=\"hivXmn _1_74WS\"><svg class=\"_1kbGNj\" height=\"12\" viewbox=\"0 0 9 12\" width=\"12\" xmlns=\"http://www.w3.org/2000/svg\"><path class=\"_6xm1dD\" d=\"M4.2 5.7c-.828 0-1.5-.672-1.5-1.5 0-.398.158-.78.44-1.06.28-.282.662-.44 1.06-.44.828 0 1.5.672 1.5 1.5 0 .398-.158.78-.44 1.06-.28.282-.662.44-1.06.44zm0-5.7C1.88 0 0 1.88 0 4.2 0 7.35 4.2 12 4.2 12s4.2-4.65 4.2-7.8C8.4 1.88 6.52 0 4.2 0z\" fill=\"#2874f0\" fill-rule=\"evenodd\"></path></svg><form autocomplete=\"off\" class=\"N79-rD\"><input class=\"_36yFo0\" id=\"pincodeInputId\" maxlength=\"6\" placeholder=\"Enter Delivery Pincode\" type=\"text\" value=\"\"/></form><div class=\"_2YsvKq _2ggyDI _16ocF5\"><svg class=\"_2LJFE8\" viewbox=\"25 25 50 50\"><circle class=\"_2XJHnB\" cx=\"50\" cy=\"50\" fill=\"none\" r=\"10\" stroke=\"#0057e7\" stroke-miterlimit=\"10\" stroke-width=\"3\"></circle></svg></div><span class=\"_2P_LDn\">Check<div class=\"_2OTVHf _1Hhkx7 _1mQK5h _3BB7xg _3yvRQZ\"><div class=\"_3Oikkn _3_ezix _3Hbb-8\">Enter pincode</div></div></span></div></div></div></div></div><div class=\"_1SLzzw\"><div class=\"_1OUluu\"><ul class=\"eWlq4L\"><div class=\"_20XEBf\"><div class=\"_3XINqE\">Delivery by<span class=\"_1TPvTK\">28 Jul, Friday</span><span class=\"_2-oumo\">|</span><span class=\"_1rQTjC\">Free</span><span class=\"_2W3miC _2n0ivQ\">₹<!-- -->40</span><div class=\"Bv11UC\"><span class=\"question\">?</span></div></div><div class=\"_1dXn7l\">if ordered before 12:55 AM</div></div></ul></div><div class=\"_2O5gut\"><span class=\"YxlyDn\">View Details</span></div></div></div></div></div><div class=\"_1YokD2 _2GoDe3\" style=\"padding:24px 0px 0px 0px\"><div class=\"_1AtVbE col-6-12\"><div class=\"_2cM9lP\"><div class=\"_3a9CI2\">Highlights</div><div class=\"_2418kt\"><ul><li class=\"_21Ahn-\">128 GB ROM</li><li class=\"_21Ahn-\">15.49 cm (6.1 inch) Super Retina XDR Display</li><li class=\"_21Ahn-\">12MP + 12MP | 12MP Front Camera</li><li class=\"_21Ahn-\">A15 Bionic Chip Processor</li></ul></div></div></div><div class=\"_1AtVbE col-6-12\"><div class=\"_3vDXYV flex\"><div class=\"Yd8aaW\">Easy Payment Options</div><div class=\"_250Jnj\"><ul><li class=\"_1Ma4bX\">No cost EMI starting from ₹2,584/month</li><li class=\"_1Ma4bX\">Cash on Delivery</li><li class=\"_1Ma4bX\">Net banking &amp; Credit/ Debit/ ATM card</li></ul><div class=\"_20cDxP\">View Details</div></div></div></div></div><div class=\"_1YokD2 _3Mn1Gg\"><div class=\"_1AtVbE col-12-12\"><div class=\"_1iWRKW\"><div class=\"_1jneHk\"><span>Seller</span></div><div><div class=\"_1RLviY\" id=\"sellerName\"><span><span>SuperComNet</span><div class=\"_3LWZlK _1D-8OL\">4.7<img class=\"_1wB99o\" src=\"data:image/svg+xml;base64,PHN2ZyB4bWxucz0iaHR0cDovL3d3dy53My5vcmcvMjAwMC9zdmciIHdpZHRoPSIxMyIgaGVpZ2h0PSIxMiI+PHBhdGggZmlsbD0iI0ZGRiIgZD0iTTYuNSA5LjQzOWwtMy42NzQgMi4yMy45NC00LjI2LTMuMjEtMi44ODMgNC4yNTQtLjQwNEw2LjUuMTEybDEuNjkgNC4wMSA0LjI1NC40MDQtMy4yMSAyLjg4Mi45NCA0LjI2eiIvPjwvc3ZnPg==\"/></div></span></div><div class=\"xDHSrl\"><ul class=\"_2-RJLI\"><li class=\"_1UNqMC\"><div class=\"_2MJMLX\">7 Days Service Center Replacement/Repair<div class=\"Bv11UC\"><span class=\"question\">?</span></div></div></li></ul></div><li class=\"_38I6QT\"><a href=\"/sellers?pid=MOBG6VF5SMXPNQHG&amp;otracker=browse&amp;fetchId=b1d94f08-2ae5-4330-b297-2213643f4c1f.MOBG6VF5SMXPNQHG\"><div class=\"_1_xoMS\">See other sellers</div></a></li></div></div></div><div class=\"_1YokD2 _2GoDe3\" style=\"padding:24px 0px 0px 0px\"><div class=\"_1AtVbE col-6-12\" style=\"padding:0px 12px 0px 0px\"><div><div class=\"_2xlWlq\"><div class=\"_3ywSr_\" style=\"padding-top:23.89%\"><div class=\"_1bEAQy _312yBx\" style=\"padding-top:23.89%\"><img alt=\"\" class=\"_2OHU_q\"/><img alt=\"\" class=\"kJjFO0 _3DIhEh\" src=\"https://rukminim2.flixcart.com/lockin/100/100/images/CCO__PP_2019-07-14.png?q=50\"/></div></div></div></div></div></div><div class=\"_1AtVbE col-12-12\"><div class=\"_3nkT-2\"><div class=\"_3cFJ8l\">Description</div><div class=\"_2o-xpa\"><div class=\"_1mXcCf RmoJUa\"><p>iPhone 13. boasts an advanced dual-camera system that allows you to click mesmerising pictures with immaculate clarity. Furthermore, the lightning-fast A15 Bionic chip allows for seamless multitasking, elevating your performance to a new dimension. A big leap in battery life, a durable design, and a bright Super Retina XDR display facilitate boosting your user experience.<br/></p></div><div class=\"_2RbGAi _1Gh8xC\"><div class=\"Dh6Djs\"></div></div></div><div class=\"_2eaE_9 _1Gh8xC\">Read More</div></div></div><div class=\"_1AtVbE col-12-12\"><div class=\"_1A1InN\"><div class=\"_2rp71H\">Product Description</div></div><div class=\"_2k6Cpt\"><div class=\"K4SXrT funtru\"><div><div><div class=\"_2VJ5OP nQbOnP _3sy89e\"><img src=\"https://rukminim2.flixcart.com/image/200/200/cms-rpd-img/f911cab85917488bad55094596200ceb_18359bfe18b_image.png?q=90\" style=\"max-width:100%;vertical-align:middle\"/></div><div><div class=\"_3qWObK\">Display and Design</div><div class=\"_3zQntF\"><p>A more vivid OLED display that’s both easier to see in full sunlight and power efficient. With a durable design that’s water and dust-resistant.</p>\n",
       "</div></div></div></div></div></div><div class=\"_2k6Cpt\"><div class=\"K4SXrT funtru\"><div><div><div class=\"_2VJ5OP wXfMR4 _3sy89e\"><img src=\"https://rukminim2.flixcart.com/image/200/200/cms-rpd-img/4dc94e380a844cfaa8976dc502fbfd1a_18359c0013a_image.png?q=90\" style=\"max-width:100%;vertical-align:middle\"/></div><div><div class=\"_3qWObK\">Cinematic Mode</div><div class=\"_3zQntF\"><p>Automatically create beautiful depth effects and focus transitions in your videos. Bring a new level of storytelling to the scenes you shoot.</p>\n",
       "</div></div></div></div></div></div><div class=\"_2k6Cpt _3g3pZU\"><div class=\"K4SXrT funtru\"><div><div><div class=\"_2VJ5OP nQbOnP _3sy89e\"><img src=\"https://rukminim2.flixcart.com/image/200/200/cms-rpd-img/7b3bf64047794add8f4d55e079ba1cce_18359c02a77_image.png?q=90\" style=\"max-width:100%;vertical-align:middle\"/></div><div><div class=\"_3qWObK\">Dual-camera System</div><div class=\"_3zQntF\"><p>A huge upgrade for better photos and videos. More light is captured with the Wide camera. Sensor-shift optical image stabilisation. And more detail in dark areas of your photos with the Ultra Wide camera.</p>\n",
       "</div></div></div></div></div></div><div class=\"_2k6Cpt _3g3pZU\"><div class=\"K4SXrT funtru\"><div><div><div class=\"_2VJ5OP wXfMR4 _3sy89e\"><img src=\"https://rukminim2.flixcart.com/image/200/200/cms-rpd-img/3b21f240f0d74efb9e32566c693c7f95_18359c04946_image.png?q=90\" style=\"max-width:100%;vertical-align:middle\"/></div><div><div class=\"_3qWObK\">Massive Battery</div><div class=\"_3zQntF\"><p>A big boost in battery life you’ll notice every day. That means more time to watch, game, and do more of what you love with up to 19 hours of video playback on a single charge.</p>\n",
       "</div></div></div></div></div></div><div class=\"_2k6Cpt _3g3pZU\"><div class=\"K4SXrT funtru\"><div><div><div class=\"_2VJ5OP nQbOnP _3sy89e\"><img src=\"https://rukminim2.flixcart.com/image/200/200/cms-rpd-img/fd06e35acb7943f1b82397a594efd7f5_18359c06f48_image.png?q=90\" style=\"max-width:100%;vertical-align:middle\"/></div><div><div class=\"_3qWObK\">A15 Bionic</div><div class=\"_3zQntF\"><p>A15 Bionic powers graphics-intensive games and new camera features like Cinematic mode and Photographic Styles. And it’s more efficient, helping deliver longer battery life.</p>\n",
       "</div></div></div></div></div></div><button class=\"_2KpZ6l _1AJtlD\">View all features</button></div><div class=\"_1AtVbE col-12-12\"><div class=\"_3dtsli\"><div class=\"_5pFuey\">Specifications</div><div><div class=\"_1UhVsV _3AsE0T\"><div class=\"_3k-BhJ\"><div class=\"flxcaE\">General</div><table class=\"_14cfVK\"><tbody><tr class=\"_1s_Smc row\"><td class=\"_1hKmbr col col-3-12\">In The Box</td><td class=\"URwL2w col col-9-12\"><ul><li class=\"_21lJbe\">iPhone, USB-C to Lightning Cable, Documentation</li></ul></td></tr><tr class=\"_1s_Smc row\"><td class=\"_1hKmbr col col-3-12\">Model Number</td><td class=\"URwL2w col col-9-12\"><ul><li class=\"_21lJbe\">MLPK3HN/A</li></ul></td></tr><tr class=\"_1s_Smc row\"><td class=\"_1hKmbr col col-3-12\">Model Name</td><td class=\"URwL2w col col-9-12\"><ul><li class=\"_21lJbe\">iPhone 13</li></ul></td></tr><tr class=\"_1s_Smc row\"><td class=\"_1hKmbr col col-3-12\">Color</td><td class=\"URwL2w col col-9-12\"><ul><li class=\"_21lJbe\">Blue</li></ul></td></tr><tr class=\"_1s_Smc row\"><td class=\"_1hKmbr col col-3-12\">Browse Type</td><td class=\"URwL2w col col-9-12\"><ul><li class=\"_21lJbe\">Smartphones</li></ul></td></tr><tr class=\"_1s_Smc row\"><td class=\"_1hKmbr col col-3-12\">SIM Type</td><td class=\"URwL2w col col-9-12\"><ul><li class=\"_21lJbe\">Dual Sim</li></ul></td></tr><tr class=\"_1s_Smc row\"><td class=\"_1hKmbr col col-3-12\">Hybrid Sim Slot</td><td class=\"URwL2w col col-9-12\"><ul><li class=\"_21lJbe\">No</li></ul></td></tr><tr class=\"_1s_Smc row\"><td class=\"_1hKmbr col col-3-12\">Touchscreen</td><td class=\"URwL2w col col-9-12\"><ul><li class=\"_21lJbe\">Yes</li></ul></td></tr><tr class=\"_1s_Smc row\"><td class=\"_1hKmbr col col-3-12\">OTG Compatible</td><td class=\"URwL2w col col-9-12\"><ul><li class=\"_21lJbe\">No</li></ul></td></tr><tr class=\"_1s_Smc row\"><td class=\"_1hKmbr col col-3-12\">Quick Charging</td><td class=\"URwL2w col col-9-12\"><ul><li class=\"_21lJbe\">Yes</li></ul></td></tr><tr class=\"_1s_Smc row\"><td class=\"_1hKmbr col col-3-12\">Sound Enhancements</td><td class=\"URwL2w col col-9-12\"><ul><li class=\"_21lJbe\">Dolby Digital (AC‑3), Dolby Digital Plus (E‑AC‑3), Dolby Atmos and Audible (formats 2, 3, 4, Audible Enhanced Audio, AAX and AAX+), Spatial Audio Playback</li></ul></td></tr></tbody></table></div><div class=\"_3k-BhJ\"><div class=\"flxcaE\">Display Features</div><table class=\"_14cfVK\"><tbody><tr class=\"_1s_Smc row\"><td class=\"_1hKmbr col col-3-12\">Display Size</td><td class=\"URwL2w col col-9-12\"><ul><li class=\"_21lJbe\">15.49 cm (6.1 inch)</li></ul></td></tr><tr class=\"_1s_Smc row\"><td class=\"_1hKmbr col col-3-12\">Resolution</td><td class=\"URwL2w col col-9-12\"><ul><li class=\"_21lJbe\">2532 x 1170 Pixels</li></ul></td></tr><tr class=\"_1s_Smc row\"><td class=\"_1hKmbr col col-3-12\">Resolution Type</td><td class=\"URwL2w col col-9-12\"><ul><li class=\"_21lJbe\">Super Retina XDR Display</li></ul></td></tr><tr class=\"_1s_Smc row\"><td class=\"_1hKmbr col col-3-12\">Display Type</td><td class=\"URwL2w col col-9-12\"><ul><li class=\"_21lJbe\">Super Retina XDR</li></ul></td></tr><tr class=\"_1s_Smc row\"><td class=\"_1hKmbr col col-3-12\">Other Display Features</td><td class=\"URwL2w col col-9-12\"><ul><li class=\"_21lJbe\">Super Retina XDR Display, 6.1‑inch (Diagonal) All‑screen OLED Display, HDR Display, True Tone, Wide Colour (P3), Haptic Touch, 20,00,000:1 Contrast Ratio (Typical), 800 nits max Brightness (Typical), 1,200 nits max Brightness (HDR), Fingerprint-resistant Oleophobic Coating, Support for Display of Multiple Languages and Characters Simultaneously</li></ul></td></tr></tbody></table></div><div class=\"_3k-BhJ\"><div class=\"flxcaE\">Os &amp; Processor Features</div><table class=\"_14cfVK\"><tbody><tr class=\"_1s_Smc row\"><td class=\"_1hKmbr col col-3-12\">Operating System</td><td class=\"URwL2w col col-9-12\"><ul><li class=\"_21lJbe\">iOS 15</li></ul></td></tr><tr class=\"_1s_Smc row\"><td class=\"_1hKmbr col col-3-12\">Processor Type</td><td class=\"URwL2w col col-9-12\"><ul><li class=\"_21lJbe\">A15 Bionic Chip</li></ul></td></tr><tr class=\"_1s_Smc row\"><td class=\"_1hKmbr col col-3-12\">Processor Core</td><td class=\"URwL2w col col-9-12\"><ul><li class=\"_21lJbe\">Hexa Core</li></ul></td></tr><tr class=\"_1s_Smc row\"><td class=\"_1hKmbr col col-3-12\">Operating Frequency</td><td class=\"URwL2w col col-9-12\"><ul><li class=\"_21lJbe\">2G GSM/EDGE: 850, 900, 1800, 1900 MHz, 3G UMTS/HSPA+/DC-HSDPA: 850, 900, 1700/2100, 1900, 2100 MHz, 4G TD-LTE: Bands 34, 38, 39, 40, 41, 42, 46, 48, 4G FDD-LTE: Bands 1, 2, 3, 4, 5, 7, 8, 12, 13, 17, 18, 19, 20, 25, 26, 28, 30, 32, 66, 5G NR: Bands n1, n2, n3, n5, n7, n8, n12, n20, n25, n28, n30, n38, n40, n41, n48, n66, n77, n78, n79</li></ul></td></tr></tbody></table></div><div class=\"_3k-BhJ\"><div class=\"flxcaE\">Memory &amp; Storage Features</div><table class=\"_14cfVK\"><tbody><tr class=\"_1s_Smc row\"><td class=\"_1hKmbr col col-3-12\">Internal Storage</td><td class=\"URwL2w col col-9-12\"><ul><li class=\"_21lJbe\">128 GB</li></ul></td></tr></tbody></table></div><div class=\"_3k-BhJ\"><div class=\"flxcaE\">Camera Features</div><table class=\"_14cfVK\"><tbody><tr class=\"_1s_Smc row\"><td class=\"_1hKmbr col col-3-12\">Primary Camera Available</td><td class=\"URwL2w col col-9-12\"><ul><li class=\"_21lJbe\">Yes</li></ul></td></tr><tr class=\"_1s_Smc row\"><td class=\"_1hKmbr col col-3-12\">Primary Camera</td><td class=\"URwL2w col col-9-12\"><ul><li class=\"_21lJbe\">12MP + 12MP</li></ul></td></tr><tr class=\"_1s_Smc row\"><td class=\"_1hKmbr col col-3-12\">Primary Camera Features</td><td class=\"URwL2w col col-9-12\"><ul><li class=\"_21lJbe\">Dual 12MP Camera System (Wide and Ultra Wide), Wide: f/1.6 Aperture, Ultra Wide: f/2.4 Aperture, 120 Degree FOV, 2x Optical Zoom out, Digital Zoom up to 5x, Portrait Mode with Advanced Bokeh and Depth Control, Portrait Lighting with Six Effects (Natural, Studio, Contour, Stage, Stage Mono, High‑Key Mono), Sensor-shift Optical Image Stabilisation (Wide), Seven‑element Lens (Wide), Five‑element Lens (Ultra Wide), Panorama (up to 63MP), Sapphire Crystal Lens Cover, 100% Focus Pixels (Wide), Night Mode\n",
       "Deep Fusion, Smart HDR 4, Photographic Styles, Wide Colour Capture for Photos and Live Photos, Lens Correction (Ultra Wide), Advanced Red‑eye Correction, Auto Image Stabilisation, Burst Mode, Photo Geotagging, Image Formats Captured: HEIF and JPEG, Video Recording: Sensor-shift OIS for Video (Wide), Audio Zoom, QuickTake Video, Time‑lapse Video with Stabilisation, Night Mode Time-lapse, Cinematic Video Stabilisation (4K, 1080p and 720p), Continuous AF Video, Playback Zoom, Stereo Recording</li></ul></td></tr><tr class=\"_1s_Smc row\"><td class=\"_1hKmbr col col-3-12\">Secondary Camera Available</td><td class=\"URwL2w col col-9-12\"><ul><li class=\"_21lJbe\">Yes</li></ul></td></tr><tr class=\"_1s_Smc row\"><td class=\"_1hKmbr col col-3-12\">Secondary Camera</td><td class=\"URwL2w col col-9-12\"><ul><li class=\"_21lJbe\">12MP Front Camera</li></ul></td></tr><tr class=\"_1s_Smc row\"><td class=\"_1hKmbr col col-3-12\">Secondary Camera Features</td><td class=\"URwL2w col col-9-12\"><ul><li class=\"_21lJbe\">12MP TrueDepth Camera, f/2.2 Aperture, Portrait Mode with Advanced Bokeh and Depth Control, Portrait Lighting with Six Effects (Natural, Studio, Contour, Stage, Stage Mono, High‑Key Mono), Animoji and Memoji, Night Mode, Deep Fusion, Smart HDR 4, Photographic Styles, Cinematic Mode for Recording Videos with Shallow Depth of Field (1080p at 30 fps), HDR Video Recording with Dolby Vision up to 4K at 60 fps, Time‑lapse Video with Stabilisation, Night Mode Time-lapse, Cinematic Video Stabilisation (4K, 1080p and 720p), QuickTake Video, Wide Colour Capture for Photos and Live Photos, Lens Correction, Auto Image Stabilisation, Burst Mode</li></ul></td></tr><tr class=\"_1s_Smc row\"><td class=\"_1hKmbr col col-3-12\">Flash</td><td class=\"URwL2w col col-9-12\"><ul><li class=\"_21lJbe\">Rear: True Tone Flash with Slow Sync | Front: Retina Flash</li></ul></td></tr><tr class=\"_1s_Smc row\"><td class=\"_1hKmbr col col-3-12\">HD Recording</td><td class=\"URwL2w col col-9-12\"><ul><li class=\"_21lJbe\">Yes</li></ul></td></tr><tr class=\"_1s_Smc row\"><td class=\"_1hKmbr col col-3-12\">Full HD Recording</td><td class=\"URwL2w col col-9-12\"><ul><li class=\"_21lJbe\">Yes</li></ul></td></tr><tr class=\"_1s_Smc row\"><td class=\"_1hKmbr col col-3-12\">Video Recording</td><td class=\"URwL2w col col-9-12\"><ul><li class=\"_21lJbe\">Yes</li></ul></td></tr><tr class=\"_1s_Smc row\"><td class=\"_1hKmbr col col-3-12\">Video Recording Resolution</td><td class=\"URwL2w col col-9-12\"><ul><li class=\"_21lJbe\">4K Video Recording (at 24 fps, 25 fps, 30 fps or 60 fps), 1080p HD Video Recording (at 25 fps, 30 fps or 60 fps), 720p HD Video Recording (at 30 fps), Slow‑motion Video Support: Rear Camera (1080p at 120 fps or 240 fps), Front Camera (1080p at 120 fps)</li></ul></td></tr><tr class=\"_1s_Smc row\"><td class=\"_1hKmbr col col-3-12\">Digital Zoom</td><td class=\"URwL2w col col-9-12\"><ul><li class=\"_21lJbe\">Photo: Digital Zoom Upto 5x, Video: Digital Zoom Upto 3x</li></ul></td></tr><tr class=\"_1s_Smc row\"><td class=\"_1hKmbr col col-3-12\">Frame Rate</td><td class=\"URwL2w col col-9-12\"><ul><li class=\"_21lJbe\">24 fps, 25 fps, 30 fps, 60 fps</li></ul></td></tr><tr class=\"_1s_Smc row\"><td class=\"_1hKmbr col col-3-12\">Dual Camera Lens</td><td class=\"URwL2w col col-9-12\"><ul><li class=\"_21lJbe\">Primary Camera</li></ul></td></tr></tbody></table></div><div class=\"_3k-BhJ\"><div class=\"flxcaE\">Call Features</div><table class=\"_14cfVK\"><tbody><tr class=\"_1s_Smc row\"><td class=\"_1hKmbr col col-3-12\">Call Wait/Hold</td><td class=\"URwL2w col col-9-12\"><ul><li class=\"_21lJbe\">Yes</li></ul></td></tr></tbody></table></div><div class=\"_3k-BhJ\"><div class=\"flxcaE\">Connectivity Features</div><table class=\"_14cfVK\"><tbody><tr class=\"_1s_Smc row\"><td class=\"_1hKmbr col col-3-12\">Network Type</td><td class=\"URwL2w col col-9-12\"><ul><li class=\"_21lJbe\">5G, 4G, 3G, 2G</li></ul></td></tr><tr class=\"_1s_Smc row\"><td class=\"_1hKmbr col col-3-12\">Supported Networks</td><td class=\"URwL2w col col-9-12\"><ul><li class=\"_21lJbe\">5G, 4G VoLTE, 4G LTE, UMTS, GSM</li></ul></td></tr><tr class=\"_1s_Smc row\"><td class=\"_1hKmbr col col-3-12\">Internet Connectivity</td><td class=\"URwL2w col col-9-12\"><ul><li class=\"_21lJbe\">5G, 4G, 3G, Wi-Fi, EDGE</li></ul></td></tr><tr class=\"_1s_Smc row\"><td class=\"_1hKmbr col col-3-12\">3G</td><td class=\"URwL2w col col-9-12\"><ul><li class=\"_21lJbe\">Yes</li></ul></td></tr><tr class=\"_1s_Smc row\"><td class=\"_1hKmbr col col-3-12\">Pre-installed Browser</td><td class=\"URwL2w col col-9-12\"><ul><li class=\"_21lJbe\">Safari</li></ul></td></tr><tr class=\"_1s_Smc row\"><td class=\"_1hKmbr col col-3-12\">Bluetooth Support</td><td class=\"URwL2w col col-9-12\"><ul><li class=\"_21lJbe\">Yes</li></ul></td></tr><tr class=\"_1s_Smc row\"><td class=\"_1hKmbr col col-3-12\">Bluetooth Version</td><td class=\"URwL2w col col-9-12\"><ul><li class=\"_21lJbe\">v5.0</li></ul></td></tr><tr class=\"_1s_Smc row\"><td class=\"_1hKmbr col col-3-12\">Wi-Fi</td><td class=\"URwL2w col col-9-12\"><ul><li class=\"_21lJbe\">Yes</li></ul></td></tr><tr class=\"_1s_Smc row\"><td class=\"_1hKmbr col col-3-12\">Wi-Fi Version</td><td class=\"URwL2w col col-9-12\"><ul><li class=\"_21lJbe\">Wi-Fi 6 (802.11ax) with 2x2 MIMO</li></ul></td></tr><tr class=\"_1s_Smc row\"><td class=\"_1hKmbr col col-3-12\">Wi-Fi Hotspot</td><td class=\"URwL2w col col-9-12\"><ul><li class=\"_21lJbe\">Yes</li></ul></td></tr><tr class=\"_1s_Smc row\"><td class=\"_1hKmbr col col-3-12\">NFC</td><td class=\"URwL2w col col-9-12\"><ul><li class=\"_21lJbe\">Yes</li></ul></td></tr><tr class=\"_1s_Smc row\"><td class=\"_1hKmbr col col-3-12\">EDGE</td><td class=\"URwL2w col col-9-12\"><ul><li class=\"_21lJbe\">Yes</li></ul></td></tr><tr class=\"_1s_Smc row\"><td class=\"_1hKmbr col col-3-12\">Map Support</td><td class=\"URwL2w col col-9-12\"><ul><li class=\"_21lJbe\">Maps</li></ul></td></tr><tr class=\"_1s_Smc row\"><td class=\"_1hKmbr col col-3-12\">GPS Support</td><td class=\"URwL2w col col-9-12\"><ul><li class=\"_21lJbe\">Yes</li></ul></td></tr></tbody></table></div><div class=\"_3k-BhJ\"><div class=\"flxcaE\">Other Details</div><table class=\"_14cfVK\"><tbody><tr class=\"_1s_Smc row\"><td class=\"_1hKmbr col col-3-12\">Smartphone</td><td class=\"URwL2w col col-9-12\"><ul><li class=\"_21lJbe\">Yes</li></ul></td></tr><tr class=\"_1s_Smc row\"><td class=\"_1hKmbr col col-3-12\">SIM Size</td><td class=\"URwL2w col col-9-12\"><ul><li class=\"_21lJbe\">Nano + eSIM</li></ul></td></tr><tr class=\"_1s_Smc row\"><td class=\"_1hKmbr col col-3-12\">Mobile Tracker</td><td class=\"URwL2w col col-9-12\"><ul><li class=\"_21lJbe\">Yes</li></ul></td></tr><tr class=\"_1s_Smc row\"><td class=\"_1hKmbr col col-3-12\">Removable Battery</td><td class=\"URwL2w col col-9-12\"><ul><li class=\"_21lJbe\">No</li></ul></td></tr><tr class=\"_1s_Smc row\"><td class=\"_1hKmbr col col-3-12\">SMS</td><td class=\"URwL2w col col-9-12\"><ul><li class=\"_21lJbe\">Yes</li></ul></td></tr><tr class=\"_1s_Smc row\"><td class=\"_1hKmbr col col-3-12\">Graphics PPI</td><td class=\"URwL2w col col-9-12\"><ul><li class=\"_21lJbe\">460 PPI</li></ul></td></tr><tr class=\"_1s_Smc row\"><td class=\"_1hKmbr col col-3-12\">Sensors</td><td class=\"URwL2w col col-9-12\"><ul><li class=\"_21lJbe\">Face ID, Barometer, Three‑axis Gyro, Accelerometer, Proximity Sensor, Ambient Light Sensor</li></ul></td></tr><tr class=\"_1s_Smc row\"><td class=\"_1hKmbr col col-3-12\">Browser</td><td class=\"URwL2w col col-9-12\"><ul><li class=\"_21lJbe\">Safari</li></ul></td></tr><tr class=\"_1s_Smc row\"><td class=\"_1hKmbr col col-3-12\">Other Features</td><td class=\"URwL2w col col-9-12\"><ul><li class=\"_21lJbe\">Splash, Water and Dust Resistant IP68 Rated (Maximum Depth of 6 metres up to 30 minutes) under IEC Standard 60529, Face ID Enabled by TrueDepth Camera for Facial Recognition, Compatible with MagSafe Accessories and Wireless Chargers</li></ul></td></tr><tr class=\"_1s_Smc row\"><td class=\"_1hKmbr col col-3-12\">GPS Type</td><td class=\"URwL2w col col-9-12\"><ul><li class=\"_21lJbe\">Built-in GPS, GLONASS, Galileo, QZSS and BeiDou</li></ul></td></tr></tbody></table></div><div class=\"_3k-BhJ\"><div class=\"flxcaE\">Multimedia Features</div><table class=\"_14cfVK\"><tbody><tr class=\"_1s_Smc row\"><td class=\"_1hKmbr col col-3-12\">Video Formats</td><td class=\"URwL2w col col-9-12\"><ul><li class=\"_21lJbe\">HEVC, H.264, MPEG‑4 Part 2 and Motion JPEG, HDR with Dolby Vision, HDR10 and HLG</li></ul></td></tr></tbody></table></div><div class=\"_3k-BhJ\"><div class=\"flxcaE\">Dimensions</div><table class=\"_14cfVK\"><tbody><tr class=\"_1s_Smc row\"><td class=\"_1hKmbr col col-3-12\">Width</td><td class=\"URwL2w col col-9-12\"><ul><li class=\"_21lJbe\">71.5 mm</li></ul></td></tr><tr class=\"_1s_Smc row\"><td class=\"_1hKmbr col col-3-12\">Height</td><td class=\"URwL2w col col-9-12\"><ul><li class=\"_21lJbe\">146.7 mm</li></ul></td></tr><tr class=\"_1s_Smc row\"><td class=\"_1hKmbr col col-3-12\">Depth</td><td class=\"URwL2w col col-9-12\"><ul><li class=\"_21lJbe\">7.65 mm</li></ul></td></tr><tr class=\"_1s_Smc row\"><td class=\"_1hKmbr col col-3-12\">Weight</td><td class=\"URwL2w col col-9-12\"><ul><li class=\"_21lJbe\">173 g</li></ul></td></tr></tbody></table></div><div class=\"_3k-BhJ\"><div class=\"flxcaE\">Warranty</div><table class=\"_14cfVK\"><tbody><tr class=\"_1s_Smc row\"><td class=\"_1hKmbr col col-3-12\">Warranty Summary</td><td class=\"URwL2w col col-9-12\"><ul><li class=\"_21lJbe\">Brand Warranty for 1 Year</li></ul></td></tr><tr class=\"_1s_Smc row\"><td class=\"_1hKmbr col col-3-12\">Domestic Warranty</td><td class=\"URwL2w col col-9-12\"><ul><li class=\"_21lJbe\">1 Year</li></ul></td></tr></tbody></table></div></div><button class=\"_2KpZ6l _1FH0tX\">Read More</button></div></div></div><div class=\"_1AtVbE col-12-12\"><div class=\"Qc7Nxn\"><div class=\"_2a46si\"><span>Buy Together and Save upto 10%</span></div><div><div class=\"_29oOb_\"><div class=\"_3E8aIl mtoPr4 _3EpnAp\"><div class=\"litDoE\"><div class=\"_4ddWXP _3BCh3_\"><a class=\"_2rpwqI\" href=\"/apple-iphone-13-blue-128-gb/p/itm6c601e0a58b3c?pid=MOBG6VF5SMXPNQHG\" rel=\"noopener noreferrer\" target=\"_blank\" title=\"APPLE iPhone 13 (Blue, 128 GB)\"><div class=\"_28_T72\"><div><div class=\"CXW8mj\" style=\"height:112px;width:112px\"><img alt=\"APPLE iPhone 13 (Blue, 128 GB)\" class=\"_396cs4\" loading=\"eager\" src=\"https://rukminim2.flixcart.com/image/312/312/ktketu80/mobile/2/y/o/iphone-13-mlpk3hn-a-apple-original-imag6vpyur6hjngg.jpeg?q=70\"/></div></div></div></a><div><div><a class=\"s1Q9rs\" href=\"/apple-iphone-13-blue-128-gb/p/itm6c601e0a58b3c?pid=MOBG6VF5SMXPNQHG\" rel=\"noopener noreferrer\" target=\"_blank\" title=\"APPLE iPhone 13 (Blue, 128 GB)\">APPLE iPhone 13 (Blue, 128 GB)</a></div><div class=\"gUuXy- _2D5lwg\"><span class=\"_1lRcqv\" id=\"productRating_LSTMOBG6VF5SMXPNQHGH3DY6Z_MOBG6VF5SMXPNQHG_\"><div class=\"_3LWZlK\">4.7<img class=\"_1wB99o\" src=\"data:image/svg+xml;base64,PHN2ZyB4bWxucz0iaHR0cDovL3d3dy53My5vcmcvMjAwMC9zdmciIHdpZHRoPSIxMyIgaGVpZ2h0PSIxMiI+PHBhdGggZmlsbD0iI0ZGRiIgZD0iTTYuNSA5LjQzOWwtMy42NzQgMi4yMy45NC00LjI2LTMuMjEtMi44ODMgNC4yNTQtLjQwNEw2LjUuMTEybDEuNjkgNC4wMSA0LjI1NC40MDQtMy4yMSAyLjg4Mi45NCA0LjI2eiIvPjwvc3ZnPg==\"/></div></span><span class=\"_2_R_DZ\">(2,38,837)</span></div><div class=\"_8VNy32\"><div class=\"_25b18c\"><div class=\"_30jeq3\">₹61,999</div><div class=\"_3I9_wc\">₹<!-- -->69,900</div><div class=\"_3Ay6Sb\"><span>11% off</span></div></div></div></div></div></div></div><div class=\"_3E8aIl mtoPr4 _3EpnAp\"><div class=\"litDoE\"><div class=\"_2AQydx\"><label class=\"_2iDkf8 _1dKMBS\"><input checked=\"\" class=\"_30VH1S\" readonly=\"\" type=\"checkbox\"/><div class=\"_24_Dny\"></div></label></div><div class=\"_4ddWXP _3BCh3_\"><a class=\"_2rpwqI\" href=\"/apple-20w-usb-c-power-charging-adapter-iphone-ipad-airpods/p/itm692bb2cec57f7?pid=ACCFWSKQJ8GS6DA7&amp;lid=LSTACCFWSKQJ8GS6DA7FQLILC&amp;marketplace=FLIPKART&amp;fm=productRecommendation%2Fattach&amp;iid=R%3Aa%3Bp%3AMOBG6VF5SMXPNQHG%3Bl%3ALSTMOBG6VF5SMXPNQHGH3DY6Z%3Bpt%3App%3Buid%3A0d7dd96e-2a47-11ee-b66d-9362a1290757%3B.ACCFWSKQJ8GS6DA7&amp;ppt=None&amp;ppn=None&amp;ssid=7x8g89z4340000001690219515367&amp;otracker=pp_reco_Buy%2Btogether%2Band%2Bsave%2B10%2525%2Bmore_1_Buy%2Btogether%2Band%2Bsave%2B10%2525%2Bmore_ACCFWSKQJ8GS6DA7_productRecommendation%2Fattach_1&amp;otracker1=pp_reco_PINNED_productRecommendation%2Fattach_Buy%2Btogether%2Band%2Bsave%2B10%2525%2Bmore_NA_productCard_cc_1_NA_view-all&amp;cid=ACCFWSKQJ8GS6DA7\" rel=\"noopener noreferrer\" target=\"_blank\" title=\"Apple 20W ,USB-C Power Charging Adapter for iPhone, iPad &amp; AirPods\"><div class=\"_28_T72\"><div><div class=\"CXW8mj\" style=\"height:112px;width:112px\"><img alt=\"Apple 20W ,USB-C Power Charging Adapter for iPhone, iPad &amp; AirPods\" class=\"_396cs4\" loading=\"eager\" src=\"https://rukminim2.flixcart.com/image/312/312/xif0q/battery-charger/u/b/p/-original-imagqjh6gg35h7hz.jpeg?q=70\"/></div></div></div></a><div><div><a class=\"s1Q9rs\" href=\"/apple-20w-usb-c-power-charging-adapter-iphone-ipad-airpods/p/itm692bb2cec57f7?pid=ACCFWSKQJ8GS6DA7&amp;lid=LSTACCFWSKQJ8GS6DA7FQLILC&amp;marketplace=FLIPKART&amp;fm=productRecommendation%2Fattach&amp;iid=R%3Aa%3Bp%3AMOBG6VF5SMXPNQHG%3Bl%3ALSTMOBG6VF5SMXPNQHGH3DY6Z%3Bpt%3App%3Buid%3A0d7dd96e-2a47-11ee-b66d-9362a1290757%3B.ACCFWSKQJ8GS6DA7&amp;ppt=None&amp;ppn=None&amp;ssid=7x8g89z4340000001690219515367&amp;otracker=pp_reco_Buy%2Btogether%2Band%2Bsave%2B10%2525%2Bmore_1_Buy%2Btogether%2Band%2Bsave%2B10%2525%2Bmore_ACCFWSKQJ8GS6DA7_productRecommendation%2Fattach_1&amp;otracker1=pp_reco_PINNED_productRecommendation%2Fattach_Buy%2Btogether%2Band%2Bsave%2B10%2525%2Bmore_NA_productCard_cc_1_NA_view-all&amp;cid=ACCFWSKQJ8GS6DA7\" rel=\"noopener noreferrer\" target=\"_blank\" title=\"Apple 20W ,USB-C Power Charging Adapter for iPhone, iPad &amp; AirPods\">Apple 20W ,USB-C Power Charging Adapter for iPhone, iPad &amp; AirPod...</a></div><div class=\"gUuXy- _2D5lwg\"><span class=\"_1lRcqv\" id=\"productRating_LSTACCFWSKQJ8GS6DA7FQLILC_ACCFWSKQJ8GS6DA7_\"><div class=\"_3LWZlK\">4.6<img class=\"_1wB99o\" src=\"data:image/svg+xml;base64,PHN2ZyB4bWxucz0iaHR0cDovL3d3dy53My5vcmcvMjAwMC9zdmciIHdpZHRoPSIxMyIgaGVpZ2h0PSIxMiI+PHBhdGggZmlsbD0iI0ZGRiIgZD0iTTYuNSA5LjQzOWwtMy42NzQgMi4yMy45NC00LjI2LTMuMjEtMi44ODMgNC4yNTQtLjQwNEw2LjUuMTEybDEuNjkgNC4wMSA0LjI1NC40MDQtMy4yMSAyLjg4Mi45NCA0LjI2eiIvPjwvc3ZnPg==\"/></div></span><span class=\"_2_R_DZ\">(1,65,921)</span></div><div class=\"_8VNy32\"><div class=\"_25b18c\"><div class=\"_30jeq3\">₹1,579</div></div></div></div></div></div></div><div class=\"_3E8aIl mtoPr4\"><div class=\"litDoE\"><div class=\"_2AQydx\"><label class=\"_2iDkf8 _1dKMBS\"><input checked=\"\" class=\"_30VH1S\" readonly=\"\" type=\"checkbox\"/><div class=\"_24_Dny\"></div></label></div><div class=\"_4ddWXP _3BCh3_\"><a class=\"_2rpwqI\" href=\"/spigen-ultra-hybrid-back-cover-apple-iphone-13/p/itmd24bc0c2023d1?pid=ACCG6UMUYCWXQXUV&amp;lid=LSTACCG6UMUYCWXQXUVE5046E&amp;marketplace=FLIPKART&amp;fm=productRecommendation%2Fattach&amp;iid=R%3Aa%3Bp%3AMOBG6VF5SMXPNQHG%3Bl%3ALSTMOBG6VF5SMXPNQHGH3DY6Z%3Bpt%3App%3Buid%3A0d7dd96e-2a47-11ee-b66d-9362a1290757%3B.ACCG6UMUYCWXQXUV&amp;ppt=None&amp;ppn=None&amp;ssid=7x8g89z4340000001690219515367&amp;otracker=pp_reco_Buy%2Btogether%2Band%2Bsave%2B10%2525%2Bmore_2_Buy%2Btogether%2Band%2Bsave%2B10%2525%2Bmore_ACCG6UMUYCWXQXUV_productRecommendation%2Fattach_2&amp;otracker1=pp_reco_PINNED_productRecommendation%2Fattach_Buy%2Btogether%2Band%2Bsave%2B10%2525%2Bmore_NA_productCard_cc_2_NA_view-all&amp;cid=ACCG6UMUYCWXQXUV\" rel=\"noopener noreferrer\" target=\"_blank\" title=\"Spigen Ultra Hybrid Back Cover for APPLE iPhone 13\"><div class=\"_28_T72\"><div><div class=\"CXW8mj\" style=\"height:112px;width:112px\"><img alt=\"Spigen Ultra Hybrid Back Cover for APPLE iPhone 13\" class=\"_396cs4\" loading=\"eager\" src=\"https://rukminim2.flixcart.com/image/312/312/xif0q/cases-covers/s/v/f/-original-imagrh3f3ugjwpa2.jpeg?q=70\"/></div></div></div></a><div><div><a class=\"s1Q9rs\" href=\"/spigen-ultra-hybrid-back-cover-apple-iphone-13/p/itmd24bc0c2023d1?pid=ACCG6UMUYCWXQXUV&amp;lid=LSTACCG6UMUYCWXQXUVE5046E&amp;marketplace=FLIPKART&amp;fm=productRecommendation%2Fattach&amp;iid=R%3Aa%3Bp%3AMOBG6VF5SMXPNQHG%3Bl%3ALSTMOBG6VF5SMXPNQHGH3DY6Z%3Bpt%3App%3Buid%3A0d7dd96e-2a47-11ee-b66d-9362a1290757%3B.ACCG6UMUYCWXQXUV&amp;ppt=None&amp;ppn=None&amp;ssid=7x8g89z4340000001690219515367&amp;otracker=pp_reco_Buy%2Btogether%2Band%2Bsave%2B10%2525%2Bmore_2_Buy%2Btogether%2Band%2Bsave%2B10%2525%2Bmore_ACCG6UMUYCWXQXUV_productRecommendation%2Fattach_2&amp;otracker1=pp_reco_PINNED_productRecommendation%2Fattach_Buy%2Btogether%2Band%2Bsave%2B10%2525%2Bmore_NA_productCard_cc_2_NA_view-all&amp;cid=ACCG6UMUYCWXQXUV\" rel=\"noopener noreferrer\" target=\"_blank\" title=\"Spigen Ultra Hybrid Back Cover for APPLE iPhone 13\">Spigen Ultra Hybrid Back Cover for APPLE iPhone 13</a></div><div class=\"gUuXy- _2D5lwg\"><span class=\"_1lRcqv\" id=\"productRating_LSTACCG6UMUYCWXQXUVE5046E_ACCG6UMUYCWXQXUV_\"><div class=\"_3LWZlK\">4.2<img class=\"_1wB99o\" src=\"data:image/svg+xml;base64,PHN2ZyB4bWxucz0iaHR0cDovL3d3dy53My5vcmcvMjAwMC9zdmciIHdpZHRoPSIxMyIgaGVpZ2h0PSIxMiI+PHBhdGggZmlsbD0iI0ZGRiIgZD0iTTYuNSA5LjQzOWwtMy42NzQgMi4yMy45NC00LjI2LTMuMjEtMi44ODMgNC4yNTQtLjQwNEw2LjUuMTEybDEuNjkgNC4wMSA0LjI1NC40MDQtMy4yMSAyLjg4Mi45NCA0LjI2eiIvPjwvc3ZnPg==\"/></div></span><span class=\"_2_R_DZ\">(342)</span></div><div class=\"_8VNy32\"><div class=\"_25b18c\"><div class=\"_30jeq3\">₹809</div><div class=\"_3I9_wc\">₹<!-- -->899</div><div class=\"_3Ay6Sb\"><span>10% off</span></div></div></div></div><div class=\"_33Utem\">Special price if bought with this item</div></div></div></div></div><div class=\"_2wKoSe\"><div class=\"_31684S\"><div><div class=\"_1BErVs _3HBQud\"><div class=\"_3_Be9W\"><span>1 Item</span></div><div class=\"_3ocu1Y\"><span>₹<!-- -->61,999</span></div></div><div class=\"_1BErVs\"><div class=\"_3_Be9W\">2<!-- --> <span>Add-on</span>s</div><div class=\"_3ocu1Y\"><span>₹<span>2,388</span></span></div></div><div class=\"_1BErVs _3hyeE5\"><div class=\"_3_Be9W\">Total</div><div class=\"_3ocu1Y\">₹<span>64,387</span></div></div></div></div><div class=\"_1UcWw6\"><button class=\"_2KpZ6l _1t_O3S _2ti6Tf _3AWRsL\"><span><svg class=\"ZOtu09\" height=\"16\" viewbox=\"0 0 16 15\" width=\"16\" xmlns=\"http://www.w3.org/2000/svg\"><path class=\"\" d=\"M15.32 2.405H4.887C3 2.405 2.46.805 2.46.805L2.257.21C2.208.085 2.083 0 1.946 0H.336C.1 0-.064.24.024.46l.644 1.945L3.11 9.767c.047.137.175.23.32.23h8.418l-.493 1.958H3.768l.002.003c-.017 0-.033-.003-.05-.003-1.06 0-1.92.86-1.92 1.92s.86 1.92 1.92 1.92c.99 0 1.805-.75 1.91-1.712l5.55.076c.12.922.91 1.636 1.867 1.636 1.04 0 1.885-.844 1.885-1.885 0-.866-.584-1.593-1.38-1.814l2.423-8.832c.12-.433-.206-.86-.655-.86\" fill=\"#fff\"></path></svg><span>Add 3 Items to Cart</span></span></button></div></div></div></div></div><div class=\"_1AtVbE col-12-12\"><div class=\"col JOpGWq\"><div class=\"_3HKIdy\"><div class=\"_2QKOHZ\">Ratings &amp; Reviews</div><div class=\"_3cH4s3\"><button class=\"_2KpZ6l _1q9yVr\" type=\"submit\"><span>Rate Product</span></button></div></div><div class=\"row _3AjFsn _2c2kV-\"><div class=\"_2e3Uck\"><div class=\"row\"><div class=\"col-4-12\"><div class=\"col\"><div class=\"row\"><div class=\"col-12-12 _1azcI6\"><div class=\"_2d4LTz\">4.7</div><div class=\"_2yxeXv\">★</div></div></div><div class=\"row _2afbiS\"><div class=\"col-12-12\"><span>2,38,837 Ratings &amp;</span></div></div><div class=\"row _2afbiS\"><div class=\"col-12-12\"><span>12,047 Reviews</span></div></div></div></div><div class=\"col-8-12 _3qpj74 _31DkEZ\"><div class=\"_13sFCC miQW6D _2m9Pwo\"><ul class=\"_2jr1F_\"><li class=\"_28Xb_u\"><div class=\"omG9iE\"><span class=\"_26f_zl\">5</span><span class=\"_2xBWPJ\">★</span></div></li><li class=\"_28Xb_u\"><div class=\"omG9iE\"><span class=\"_26f_zl\">4</span><span class=\"_2xBWPJ\">★</span></div></li><li class=\"_28Xb_u\"><div class=\"omG9iE\"><span class=\"_26f_zl\">3</span><span class=\"_2xBWPJ\">★</span></div></li><li class=\"_28Xb_u\"><div class=\"omG9iE\"><span class=\"_26f_zl\">2</span><span class=\"_2xBWPJ\">★</span></div></li><li class=\"_28Xb_u\"><div class=\"omG9iE\"><span class=\"_26f_zl\">1</span><span class=\"_2xBWPJ\">★</span></div></li></ul><ul class=\"_2Plkj9\"><li class=\"_28Xb_u\"><div><div class=\"_3UaKsS\"><span class=\"EkB-Xt _1z2lGe\" style=\"width:100%\"></span></div></div></li><li class=\"_28Xb_u\"><div><div class=\"_3UaKsS\"><span class=\"EkB-Xt _2fGXyl\" style=\"width:15.02054095498604%\"></span></div></div></li><li class=\"_28Xb_u\"><div><div class=\"_3UaKsS\"><span class=\"EkB-Xt _1ia31G\" style=\"width:3.025970191007569%\"></span></div></div></li><li class=\"_28Xb_u\"><div><div class=\"_3UaKsS\"><span class=\"EkB-Xt HnnP7O\" style=\"width:1.3474659248092256%\"></span></div></div></li><li class=\"_28Xb_u\"><div><div class=\"_3UaKsS\"><span class=\"EkB-Xt _2W5rgh\" style=\"width:4.337172134756954%\"></span></div></div></li></ul><ul class=\"_36LmXx\"><li class=\"_28Xb_u\"><div class=\"_1uJVNT\">1,93,029</div></li><li class=\"_28Xb_u\"><div class=\"_1uJVNT\">28,994</div></li><li class=\"_28Xb_u\"><div class=\"_1uJVNT\">5,841</div></li><li class=\"_28Xb_u\"><div class=\"_1uJVNT\">2,601</div></li><li class=\"_28Xb_u\"><div class=\"_1uJVNT\">8,372</div></li></ul></div></div></div></div><div class=\"_2LE14f\"><div class=\"row\"><a class=\"col-3-12 hXkZu- _1pxF-h\" href=\"/apple-iphone-13-blue-128-gb/product-reviews/itm6c601e0a58b3c?pid=MOBG6VF5SMXPNQHG&amp;lid=LSTMOBG6VF5SMXPNQHGH3DY6Z&amp;aid=dc0f2b2d-7619-44cc-b5fc-2fe3e4d453a7&amp;mid=FLIPKART&amp;fid=b1d94f08-2ae5-4330-b297-2213643f4c1f.MOBG6VF5SMXPNQHG&amp;an=Camera&amp;cat=Mobile&amp;vert=Handset\"><div class=\"_2a78PX\"><div class=\"_2aWUii\"><svg class=\"HTdwVj\" viewbox=\"0 0 100 100\"><path class=\"MN4M6g\" d=\"M50,4 A 46,46,0,1,1,49.9999,4\" fill-opacity=\"0\" stroke-width=\"8\"></path><path class=\"_1KaZLR\" d=\"M50,4 A 46,46,0,1,1,27.839330991321095,9.689892717982275\" fill-opacity=\"0\" stroke-width=\"8\"></path><text class=\"_2Ix0io\" x=\"50\" y=\"50\">4.6</text></svg></div><div class=\"_3npa3F\">Camera</div></div></a><a class=\"col-3-12 hXkZu- _1pxF-h\" href=\"/apple-iphone-13-blue-128-gb/product-reviews/itm6c601e0a58b3c?pid=MOBG6VF5SMXPNQHG&amp;lid=LSTMOBG6VF5SMXPNQHGH3DY6Z&amp;aid=3ac62744-ab96-4f53-82f7-02eb72b6a662&amp;mid=FLIPKART&amp;fid=b1d94f08-2ae5-4330-b297-2213643f4c1f.MOBG6VF5SMXPNQHG&amp;an=Battery&amp;cat=Mobile&amp;vert=Handset\"><div class=\"_2a78PX\"><div class=\"_2aWUii\"><svg class=\"HTdwVj\" viewbox=\"0 0 100 100\"><path class=\"MN4M6g\" d=\"M50,4 A 46,46,0,1,1,49.9999,4\" fill-opacity=\"0\" stroke-width=\"8\"></path><path class=\"_1KaZLR\" d=\"M50,4 A 46,46,0,1,1,18.51083312728034,16.467443138615053\" fill-opacity=\"0\" stroke-width=\"8\"></path><text class=\"_2Ix0io\" x=\"50\" y=\"50\">4.4</text></svg></div><div class=\"_3npa3F\">Battery</div></div></a><a class=\"col-3-12 hXkZu- _1pxF-h\" href=\"/apple-iphone-13-blue-128-gb/product-reviews/itm6c601e0a58b3c?pid=MOBG6VF5SMXPNQHG&amp;lid=LSTMOBG6VF5SMXPNQHGH3DY6Z&amp;aid=b32e49f9-79fd-4798-98ad-51dd89a408d0&amp;mid=FLIPKART&amp;fid=b1d94f08-2ae5-4330-b297-2213643f4c1f.MOBG6VF5SMXPNQHG&amp;an=Display&amp;cat=Mobile&amp;vert=Handset\"><div class=\"_2a78PX\"><div class=\"_2aWUii\"><svg class=\"HTdwVj\" viewbox=\"0 0 100 100\"><path class=\"MN4M6g\" d=\"M50,4 A 46,46,0,1,1,49.9999,4\" fill-opacity=\"0\" stroke-width=\"8\"></path><path class=\"_1KaZLR\" d=\"M50,4 A 46,46,0,1,1,33.066270576504856,7.230281649140416\" fill-opacity=\"0\" stroke-width=\"8\"></path><text class=\"_2Ix0io\" x=\"50\" y=\"50\">4.7</text></svg></div><div class=\"_3npa3F\">Display</div></div></a><a class=\"col-3-12 hXkZu- _1pxF-h\" href=\"/apple-iphone-13-blue-128-gb/product-reviews/itm6c601e0a58b3c?pid=MOBG6VF5SMXPNQHG&amp;lid=LSTMOBG6VF5SMXPNQHGH3DY6Z&amp;aid=00ab4120-12b2-4a8f-b4e0-b426e17a27ca&amp;mid=FLIPKART&amp;fid=b1d94f08-2ae5-4330-b297-2213643f4c1f.MOBG6VF5SMXPNQHG&amp;an=Design&amp;cat=Mobile&amp;vert=Handset\"><div class=\"_2a78PX\"><div class=\"_2aWUii\"><svg class=\"HTdwVj\" viewbox=\"0 0 100 100\"><path class=\"MN4M6g\" d=\"M50,4 A 46,46,0,1,1,49.9999,4\" fill-opacity=\"0\" stroke-width=\"8\"></path><path class=\"_1KaZLR\" d=\"M50,4 A 46,46,0,1,1,27.839330991321095,9.689892717982275\" fill-opacity=\"0\" stroke-width=\"8\"></path><text class=\"_2Ix0io\" x=\"50\" y=\"50\">4.6</text></svg></div><div class=\"_3npa3F\">Design</div></div></a></div></div></div><div class=\"row\"><div class=\"col col-12-12\"><div class=\"_2nMSwX _1yGd2h\"><div class=\"_21YjFX _1ylYJu\" style=\"background-image:url(https://rukminim1.flixcart.com/blobio/178/178/imr-202111/blobio-imr-202111_e9d718bc61494278bfdc43d040bbe382.jpeg?q=90), url(data:image/svg+xml;base64,PHN2ZyB3aWR0aD0iMjIiIGhlaWdodD0iMTgiIHhtbG5zPSJodHRwOi8vd3d3LnczLm9yZy8yMDAwL3N2ZyI+PGcgZmlsbD0iIzlEOUQ5RCIgZmlsbC1ydWxlPSJub256ZXJvIj48cGF0aCBkPSJNMjAgMEgyQzEgMCAwIDEgMCAydjE0YzAgMS4xLjkgMiAyIDJoMThjMSAwIDItMSAyLTJWMmMwLTEtMS0yLTItMnptMCAxNS45MmMtLjAyLjAzLS4wNi4wNi0uMDguMDhIMlYyLjA4TDIuMDggMmgxNy44M2MuMDMuMDIuMDYuMDYuMDguMDh2MTMuODRIMjB6Ii8+PHBhdGggZD0iTTEwIDEyLjUxTDcuNSA5LjUgNCAxNGgxNGwtNC41LTZ6Ii8+PC9nPjwvc3ZnPg==);width:89px;height:89px\"></div><div class=\"_21YjFX _1ylYJu\" style=\"background-image:url(https://rukminim1.flixcart.com/blobio/178/178/imr-202111/blobio-imr-202111_6e81fcc93dad41fda23bb438b92c0dce.jpeg?q=90), url(data:image/svg+xml;base64,PHN2ZyB3aWR0aD0iMjIiIGhlaWdodD0iMTgiIHhtbG5zPSJodHRwOi8vd3d3LnczLm9yZy8yMDAwL3N2ZyI+PGcgZmlsbD0iIzlEOUQ5RCIgZmlsbC1ydWxlPSJub256ZXJvIj48cGF0aCBkPSJNMjAgMEgyQzEgMCAwIDEgMCAydjE0YzAgMS4xLjkgMiAyIDJoMThjMSAwIDItMSAyLTJWMmMwLTEtMS0yLTItMnptMCAxNS45MmMtLjAyLjAzLS4wNi4wNi0uMDguMDhIMlYyLjA4TDIuMDggMmgxNy44M2MuMDMuMDIuMDYuMDYuMDguMDh2MTMuODRIMjB6Ii8+PHBhdGggZD0iTTEwIDEyLjUxTDcuNSA5LjUgNCAxNGgxNGwtNC41LTZ6Ii8+PC9nPjwvc3ZnPg==);width:89px;height:89px\"></div><div class=\"_21YjFX _1ylYJu\" style=\"background-image:url(https://rukminim1.flixcart.com/blobio/178/178/imr-202208/blobio-imr-202208_018ceabf5d2d4e1fbb52db8d469d61e1.jpeg?q=90), url(data:image/svg+xml;base64,PHN2ZyB3aWR0aD0iMjIiIGhlaWdodD0iMTgiIHhtbG5zPSJodHRwOi8vd3d3LnczLm9yZy8yMDAwL3N2ZyI+PGcgZmlsbD0iIzlEOUQ5RCIgZmlsbC1ydWxlPSJub256ZXJvIj48cGF0aCBkPSJNMjAgMEgyQzEgMCAwIDEgMCAydjE0YzAgMS4xLjkgMiAyIDJoMThjMSAwIDItMSAyLTJWMmMwLTEtMS0yLTItMnptMCAxNS45MmMtLjAyLjAzLS4wNi4wNi0uMDguMDhIMlYyLjA4TDIuMDggMmgxNy44M2MuMDMuMDIuMDYuMDYuMDguMDh2MTMuODRIMjB6Ii8+PHBhdGggZD0iTTEwIDEyLjUxTDcuNSA5LjUgNCAxNGgxNGwtNC41LTZ6Ii8+PC9nPjwvc3ZnPg==);width:89px;height:89px\"></div><div class=\"_21YjFX _1ylYJu\" style=\"background-image:url(https://rukminim1.flixcart.com/blobio/178/178/imr-202208/blobio-imr-202208_ad2cb70dd1f64c988f96a8270fdf8476.jpeg?q=90), url(data:image/svg+xml;base64,PHN2ZyB3aWR0aD0iMjIiIGhlaWdodD0iMTgiIHhtbG5zPSJodHRwOi8vd3d3LnczLm9yZy8yMDAwL3N2ZyI+PGcgZmlsbD0iIzlEOUQ5RCIgZmlsbC1ydWxlPSJub256ZXJvIj48cGF0aCBkPSJNMjAgMEgyQzEgMCAwIDEgMCAydjE0YzAgMS4xLjkgMiAyIDJoMThjMSAwIDItMSAyLTJWMmMwLTEtMS0yLTItMnptMCAxNS45MmMtLjAyLjAzLS4wNi4wNi0uMDguMDhIMlYyLjA4TDIuMDggMmgxNy44M2MuMDMuMDIuMDYuMDYuMDguMDh2MTMuODRIMjB6Ii8+PHBhdGggZD0iTTEwIDEyLjUxTDcuNSA5LjUgNCAxNGgxNGwtNC41LTZ6Ii8+PC9nPjwvc3ZnPg==);width:89px;height:89px\"></div><div class=\"_21YjFX _1ylYJu\" style=\"background-image:url(https://rukminim1.flixcart.com/blobio/178/178/imr-202208/blobio-imr-202208_efc630102c2649ceacc8d0527b1b834a.jpeg?q=90), url(data:image/svg+xml;base64,PHN2ZyB3aWR0aD0iMjIiIGhlaWdodD0iMTgiIHhtbG5zPSJodHRwOi8vd3d3LnczLm9yZy8yMDAwL3N2ZyI+PGcgZmlsbD0iIzlEOUQ5RCIgZmlsbC1ydWxlPSJub256ZXJvIj48cGF0aCBkPSJNMjAgMEgyQzEgMCAwIDEgMCAydjE0YzAgMS4xLjkgMiAyIDJoMThjMSAwIDItMSAyLTJWMmMwLTEtMS0yLTItMnptMCAxNS45MmMtLjAyLjAzLS4wNi4wNi0uMDguMDhIMlYyLjA4TDIuMDggMmgxNy44M2MuMDMuMDIuMDYuMDYuMDguMDh2MTMuODRIMjB6Ii8+PHBhdGggZD0iTTEwIDEyLjUxTDcuNSA5LjUgNCAxNGgxNGwtNC41LTZ6Ii8+PC9nPjwvc3ZnPg==);width:89px;height:89px\"></div><div class=\"_21YjFX _1ylYJu\" style=\"background-image:url(https://rukminim1.flixcart.com/blobio/178/178/imr-202208/blobio-imr-202208_e0d70c82d1604ad69bf91142f33afa45.jpeg?q=90), url(data:image/svg+xml;base64,PHN2ZyB3aWR0aD0iMjIiIGhlaWdodD0iMTgiIHhtbG5zPSJodHRwOi8vd3d3LnczLm9yZy8yMDAwL3N2ZyI+PGcgZmlsbD0iIzlEOUQ5RCIgZmlsbC1ydWxlPSJub256ZXJvIj48cGF0aCBkPSJNMjAgMEgyQzEgMCAwIDEgMCAydjE0YzAgMS4xLjkgMiAyIDJoMThjMSAwIDItMSAyLTJWMmMwLTEtMS0yLTItMnptMCAxNS45MmMtLjAyLjAzLS4wNi4wNi0uMDguMDhIMlYyLjA4TDIuMDggMmgxNy44M2MuMDMuMDIuMDYuMDYuMDguMDh2MTMuODRIMjB6Ii8+PHBhdGggZD0iTTEwIDEyLjUxTDcuNSA5LjUgNCAxNGgxNGwtNC41LTZ6Ii8+PC9nPjwvc3ZnPg==);width:89px;height:89px\"></div><div class=\"_21YjFX _1ylYJu\" style=\"background-image:url(https://rukminim1.flixcart.com/blobio/178/178/imr-202204/blobio-imr-202204_f3196d425a8241c9a85c338d0c7183ac.jpeg?q=90), url(data:image/svg+xml;base64,PHN2ZyB3aWR0aD0iMjIiIGhlaWdodD0iMTgiIHhtbG5zPSJodHRwOi8vd3d3LnczLm9yZy8yMDAwL3N2ZyI+PGcgZmlsbD0iIzlEOUQ5RCIgZmlsbC1ydWxlPSJub256ZXJvIj48cGF0aCBkPSJNMjAgMEgyQzEgMCAwIDEgMCAydjE0YzAgMS4xLjkgMiAyIDJoMThjMSAwIDItMSAyLTJWMmMwLTEtMS0yLTItMnptMCAxNS45MmMtLjAyLjAzLS4wNi4wNi0uMDguMDhIMlYyLjA4TDIuMDggMmgxNy44M2MuMDMuMDIuMDYuMDYuMDguMDh2MTMuODRIMjB6Ii8+PHBhdGggZD0iTTEwIDEyLjUxTDcuNSA5LjUgNCAxNGgxNGwtNC41LTZ6Ii8+PC9nPjwvc3ZnPg==);width:89px;height:89px\"></div><div class=\"_21YjFX _1ylYJu RU6t0j\" style=\"background-image:url(https://rukminim1.flixcart.com/blobio/178/178/imr-202204/blobio-imr-202204_9c54bcdc3b744b08aa9ed0da7ebc114d.jpeg?q=90), url(data:image/svg+xml;base64,PHN2ZyB3aWR0aD0iMjIiIGhlaWdodD0iMTgiIHhtbG5zPSJodHRwOi8vd3d3LnczLm9yZy8yMDAwL3N2ZyI+PGcgZmlsbD0iIzlEOUQ5RCIgZmlsbC1ydWxlPSJub256ZXJvIj48cGF0aCBkPSJNMjAgMEgyQzEgMCAwIDEgMCAydjE0YzAgMS4xLjkgMiAyIDJoMThjMSAwIDItMSAyLTJWMmMwLTEtMS0yLTItMnptMCAxNS45MmMtLjAyLjAzLS4wNi4wNi0uMDguMDhIMlYyLjA4TDIuMDggMmgxNy44M2MuMDMuMDIuMDYuMDYuMDguMDh2MTMuODRIMjB6Ii8+PHBhdGggZD0iTTEwIDEyLjUxTDcuNSA5LjUgNCAxNGgxNGwtNC41LTZ6Ii8+PC9nPjwvc3ZnPg==);width:89px;height:89px\"><span class=\"_380ehC\">+ <!-- -->5601</span></div></div></div></div><div class=\"_2c2kV-\"><div class=\"_16PBlm\"><div class=\"col\"><div class=\"col _2wzgFH\"><div class=\"row\"><div class=\"_3LWZlK _1BLPMq\">5<img class=\"_1wB99o\" src=\"data:image/svg+xml;base64,PHN2ZyB4bWxucz0iaHR0cDovL3d3dy53My5vcmcvMjAwMC9zdmciIHdpZHRoPSIxMyIgaGVpZ2h0PSIxMiI+PHBhdGggZmlsbD0iI0ZGRiIgZD0iTTYuNSA5LjQzOWwtMy42NzQgMi4yMy45NC00LjI2LTMuMjEtMi44ODMgNC4yNTQtLjQwNEw2LjUuMTEybDEuNjkgNC4wMSA0LjI1NC40MDQtMy4yMSAyLjg4Mi45NCA0LjI2eiIvPjwvc3ZnPg==\"/></div><p class=\"_2-N8zT\">Terrific</p></div><div class=\"row\"><div class=\"t-ZTKy\"><div><div class=\"\">Happy to have this phone</div><span class=\"_1H-bmy\"><span>READ MORE</span></span></div></div></div><div class=\"_2nMSwX _3oLIki\"><div class=\"_21YjFX _2A07HP\" style=\"background-image:url(https://rukminim1.flixcart.com/blobio/124/124/imr-202111/blobio-imr-202111_e9d718bc61494278bfdc43d040bbe382.jpeg?q=90), url(data:image/svg+xml;base64,PHN2ZyB3aWR0aD0iMjIiIGhlaWdodD0iMTgiIHhtbG5zPSJodHRwOi8vd3d3LnczLm9yZy8yMDAwL3N2ZyI+PGcgZmlsbD0iIzlEOUQ5RCIgZmlsbC1ydWxlPSJub256ZXJvIj48cGF0aCBkPSJNMjAgMEgyQzEgMCAwIDEgMCAydjE0YzAgMS4xLjkgMiAyIDJoMThjMSAwIDItMSAyLTJWMmMwLTEtMS0yLTItMnptMCAxNS45MmMtLjAyLjAzLS4wNi4wNi0uMDguMDhIMlYyLjA4TDIuMDggMmgxNy44M2MuMDMuMDIuMDYuMDYuMDguMDh2MTMuODRIMjB6Ii8+PHBhdGggZD0iTTEwIDEyLjUxTDcuNSA5LjUgNCAxNGgxNGwtNC41LTZ6Ii8+PC9nPjwvc3ZnPg==);width:62px;height:62px\"></div><div class=\"_21YjFX _2A07HP\" style=\"background-image:url(https://rukminim1.flixcart.com/blobio/124/124/imr-202111/blobio-imr-202111_6e81fcc93dad41fda23bb438b92c0dce.jpeg?q=90), url(data:image/svg+xml;base64,PHN2ZyB3aWR0aD0iMjIiIGhlaWdodD0iMTgiIHhtbG5zPSJodHRwOi8vd3d3LnczLm9yZy8yMDAwL3N2ZyI+PGcgZmlsbD0iIzlEOUQ5RCIgZmlsbC1ydWxlPSJub256ZXJvIj48cGF0aCBkPSJNMjAgMEgyQzEgMCAwIDEgMCAydjE0YzAgMS4xLjkgMiAyIDJoMThjMSAwIDItMSAyLTJWMmMwLTEtMS0yLTItMnptMCAxNS45MmMtLjAyLjAzLS4wNi4wNi0uMDguMDhIMlYyLjA4TDIuMDggMmgxNy44M2MuMDMuMDIuMDYuMDYuMDguMDh2MTMuODRIMjB6Ii8+PHBhdGggZD0iTTEwIDEyLjUxTDcuNSA5LjUgNCAxNGgxNGwtNC41LTZ6Ii8+PC9nPjwvc3ZnPg==);width:62px;height:62px\"></div></div><div class=\"row _3n8db9\"><div class=\"row\"><p class=\"_2sc7ZR _2V5EHH\">Flipkart Customer</p><svg class=\"_2a1p_T\" height=\"14\" viewbox=\"0 0 12 12\" width=\"14\" xmlns=\"http://www.w3.org/2000/svg\"><g><circle cx=\"6\" cy=\"6\" fill=\"#878787\" r=\"6\"></circle><path d=\"M3 6l2 2 4-4\" fill=\"#878787\" stroke=\"#FFF\" stroke-width=\"1.5\"></path></g></svg><p class=\"_2mcZGG\" id=\"review-b175dd77-1358-4a3d-a068-f8bb34480a2f\"><span>Certified Buyer</span><span>, Parasi</span></p><div></div><p class=\"_2sc7ZR\">Nov, 2021</p></div><div class=\"_1e9_Zu\"><div class=\"row\"><div class=\"_27aTsS\"><div class=\"_1LmwT9\"><svg class=\"skCrcq\" height=\"15\" width=\"20\" xmlns=\"http://www.w3.org/2000/svg\"><path class=\"_1LIt4y\" d=\"M9.58.006c-.41.043-.794.32-1.01.728-.277.557-2.334 4.693-2.74 5.1-.41.407-.944.6-1.544.6v8.572h7.5c.45 0 .835-.28 1.007-.665 0 0 2.207-6.234 2.207-6.834 0-.6-.47-1.072-1.07-1.072h-3.216c-.6 0-1.07-.535-1.07-1.07 0-.537.835-3.387 1.006-3.944.17-.557-.107-1.157-.664-1.35-.15-.043-.257-.086-.407-.064zM0 6.434v8.572h2.143V6.434H0z\" fill=\"#fff\" fill-rule=\"evenodd\"></path></svg><span class=\"_3c3Px5\">2160</span></div><div class=\"_1LmwT9 pkR4jH\"><svg class=\"skCrcq pkR4jH\" height=\"15\" width=\"20\" xmlns=\"http://www.w3.org/2000/svg\"><path class=\"_1LIt4y\" d=\"M9.58.006c-.41.043-.794.32-1.01.728-.277.557-2.334 4.693-2.74 5.1-.41.407-.944.6-1.544.6v8.572h7.5c.45 0 .835-.28 1.007-.665 0 0 2.207-6.234 2.207-6.834 0-.6-.47-1.072-1.07-1.072h-3.216c-.6 0-1.07-.535-1.07-1.07 0-.537.835-3.387 1.006-3.944.17-.557-.107-1.157-.664-1.35-.15-.043-.257-.086-.407-.064zM0 6.434v8.572h2.143V6.434H0z\" fill=\"#fff\" fill-rule=\"evenodd\"></path></svg><span class=\"_3c3Px5\">133</span></div></div><div class=\"_2bmov8\"><svg class=\"_2UvOBb\" height=\"11\" viewbox=\"0 0 16 27\" width=\"6\" xmlns=\"http://www.w3.org/2000/svg\"><path class=\"_2aPE6f\" d=\"M16 23.207L6.11 13.161 16 3.093 12.955 0 0 13.161l12.955 13.161z\" fill=\"#fff\"></path></svg><div class=\"_3E8aIl _38dCuf\"><div class=\"_3XCI6U\"><a href=\"/reviews/MOBG6VF59ZFEPEBX:19?reviewId=b175dd77-1358-4a3d-a068-f8bb34480a2f\"><span>Permalink</span></a></div><div class=\"_3XCI6U _2b2z-j\"><span>Report Abuse</span></div></div></div></div></div></div></div></div></div><div class=\"_16PBlm\"><div class=\"col\"><div class=\"col _2wzgFH\"><div class=\"row\"><div class=\"_3LWZlK _1BLPMq\">5<img class=\"_1wB99o\" src=\"data:image/svg+xml;base64,PHN2ZyB4bWxucz0iaHR0cDovL3d3dy53My5vcmcvMjAwMC9zdmciIHdpZHRoPSIxMyIgaGVpZ2h0PSIxMiI+PHBhdGggZmlsbD0iI0ZGRiIgZD0iTTYuNSA5LjQzOWwtMy42NzQgMi4yMy45NC00LjI2LTMuMjEtMi44ODMgNC4yNTQtLjQwNEw2LjUuMTEybDEuNjkgNC4wMSA0LjI1NC40MDQtMy4yMSAyLjg4Mi45NCA0LjI2eiIvPjwvc3ZnPg==\"/></div><p class=\"_2-N8zT\">Awesome</p></div><div class=\"row\"><div class=\"t-ZTKy\"><div><div class=\"\">Best of best</div><span class=\"_1H-bmy\"><span>READ MORE</span></span></div></div></div><div class=\"_2nMSwX _3oLIki\"><div class=\"_21YjFX _2A07HP\" style=\"background-image:url(https://rukminim1.flixcart.com/blobio/124/124/imr-202208/blobio-imr-202208_018ceabf5d2d4e1fbb52db8d469d61e1.jpeg?q=90), url(data:image/svg+xml;base64,PHN2ZyB3aWR0aD0iMjIiIGhlaWdodD0iMTgiIHhtbG5zPSJodHRwOi8vd3d3LnczLm9yZy8yMDAwL3N2ZyI+PGcgZmlsbD0iIzlEOUQ5RCIgZmlsbC1ydWxlPSJub256ZXJvIj48cGF0aCBkPSJNMjAgMEgyQzEgMCAwIDEgMCAydjE0YzAgMS4xLjkgMiAyIDJoMThjMSAwIDItMSAyLTJWMmMwLTEtMS0yLTItMnptMCAxNS45MmMtLjAyLjAzLS4wNi4wNi0uMDguMDhIMlYyLjA4TDIuMDggMmgxNy44M2MuMDMuMDIuMDYuMDYuMDguMDh2MTMuODRIMjB6Ii8+PHBhdGggZD0iTTEwIDEyLjUxTDcuNSA5LjUgNCAxNGgxNGwtNC41LTZ6Ii8+PC9nPjwvc3ZnPg==);width:62px;height:62px\"></div><div class=\"_21YjFX _2A07HP\" style=\"background-image:url(https://rukminim1.flixcart.com/blobio/124/124/imr-202208/blobio-imr-202208_ad2cb70dd1f64c988f96a8270fdf8476.jpeg?q=90), url(data:image/svg+xml;base64,PHN2ZyB3aWR0aD0iMjIiIGhlaWdodD0iMTgiIHhtbG5zPSJodHRwOi8vd3d3LnczLm9yZy8yMDAwL3N2ZyI+PGcgZmlsbD0iIzlEOUQ5RCIgZmlsbC1ydWxlPSJub256ZXJvIj48cGF0aCBkPSJNMjAgMEgyQzEgMCAwIDEgMCAydjE0YzAgMS4xLjkgMiAyIDJoMThjMSAwIDItMSAyLTJWMmMwLTEtMS0yLTItMnptMCAxNS45MmMtLjAyLjAzLS4wNi4wNi0uMDguMDhIMlYyLjA4TDIuMDggMmgxNy44M2MuMDMuMDIuMDYuMDYuMDguMDh2MTMuODRIMjB6Ii8+PHBhdGggZD0iTTEwIDEyLjUxTDcuNSA5LjUgNCAxNGgxNGwtNC41LTZ6Ii8+PC9nPjwvc3ZnPg==);width:62px;height:62px\"></div><div class=\"_21YjFX _2A07HP\" style=\"background-image:url(https://rukminim1.flixcart.com/blobio/124/124/imr-202208/blobio-imr-202208_efc630102c2649ceacc8d0527b1b834a.jpeg?q=90), url(data:image/svg+xml;base64,PHN2ZyB3aWR0aD0iMjIiIGhlaWdodD0iMTgiIHhtbG5zPSJodHRwOi8vd3d3LnczLm9yZy8yMDAwL3N2ZyI+PGcgZmlsbD0iIzlEOUQ5RCIgZmlsbC1ydWxlPSJub256ZXJvIj48cGF0aCBkPSJNMjAgMEgyQzEgMCAwIDEgMCAydjE0YzAgMS4xLjkgMiAyIDJoMThjMSAwIDItMSAyLTJWMmMwLTEtMS0yLTItMnptMCAxNS45MmMtLjAyLjAzLS4wNi4wNi0uMDguMDhIMlYyLjA4TDIuMDggMmgxNy44M2MuMDMuMDIuMDYuMDYuMDguMDh2MTMuODRIMjB6Ii8+PHBhdGggZD0iTTEwIDEyLjUxTDcuNSA5LjUgNCAxNGgxNGwtNC41LTZ6Ii8+PC9nPjwvc3ZnPg==);width:62px;height:62px\"></div><div class=\"_21YjFX _2A07HP\" style=\"background-image:url(https://rukminim1.flixcart.com/blobio/124/124/imr-202208/blobio-imr-202208_e0d70c82d1604ad69bf91142f33afa45.jpeg?q=90), url(data:image/svg+xml;base64,PHN2ZyB3aWR0aD0iMjIiIGhlaWdodD0iMTgiIHhtbG5zPSJodHRwOi8vd3d3LnczLm9yZy8yMDAwL3N2ZyI+PGcgZmlsbD0iIzlEOUQ5RCIgZmlsbC1ydWxlPSJub256ZXJvIj48cGF0aCBkPSJNMjAgMEgyQzEgMCAwIDEgMCAydjE0YzAgMS4xLjkgMiAyIDJoMThjMSAwIDItMSAyLTJWMmMwLTEtMS0yLTItMnptMCAxNS45MmMtLjAyLjAzLS4wNi4wNi0uMDguMDhIMlYyLjA4TDIuMDggMmgxNy44M2MuMDMuMDIuMDYuMDYuMDguMDh2MTMuODRIMjB6Ii8+PHBhdGggZD0iTTEwIDEyLjUxTDcuNSA5LjUgNCAxNGgxNGwtNC41LTZ6Ii8+PC9nPjwvc3ZnPg==);width:62px;height:62px\"></div></div><div class=\"row _3n8db9\"><div class=\"row\"><p class=\"_2sc7ZR _2V5EHH\">Flipkart Customer</p><svg class=\"_2a1p_T\" height=\"14\" viewbox=\"0 0 12 12\" width=\"14\" xmlns=\"http://www.w3.org/2000/svg\"><g><circle cx=\"6\" cy=\"6\" fill=\"#878787\" r=\"6\"></circle><path d=\"M3 6l2 2 4-4\" fill=\"#878787\" stroke=\"#FFF\" stroke-width=\"1.5\"></path></g></svg><p class=\"_2mcZGG\" id=\"review-9edef306-2fb7-4d35-a4fb-feeddf9d52ae\"><span>Certified Buyer</span><span>, Munger</span></p><div></div><p class=\"_2sc7ZR\">11 months ago</p></div><div class=\"_1e9_Zu\"><div class=\"row\"><div class=\"_27aTsS\"><div class=\"_1LmwT9\"><svg class=\"skCrcq\" height=\"15\" width=\"20\" xmlns=\"http://www.w3.org/2000/svg\"><path class=\"_1LIt4y\" d=\"M9.58.006c-.41.043-.794.32-1.01.728-.277.557-2.334 4.693-2.74 5.1-.41.407-.944.6-1.544.6v8.572h7.5c.45 0 .835-.28 1.007-.665 0 0 2.207-6.234 2.207-6.834 0-.6-.47-1.072-1.07-1.072h-3.216c-.6 0-1.07-.535-1.07-1.07 0-.537.835-3.387 1.006-3.944.17-.557-.107-1.157-.664-1.35-.15-.043-.257-.086-.407-.064zM0 6.434v8.572h2.143V6.434H0z\" fill=\"#fff\" fill-rule=\"evenodd\"></path></svg><span class=\"_3c3Px5\">435</span></div><div class=\"_1LmwT9 pkR4jH\"><svg class=\"skCrcq pkR4jH\" height=\"15\" width=\"20\" xmlns=\"http://www.w3.org/2000/svg\"><path class=\"_1LIt4y\" d=\"M9.58.006c-.41.043-.794.32-1.01.728-.277.557-2.334 4.693-2.74 5.1-.41.407-.944.6-1.544.6v8.572h7.5c.45 0 .835-.28 1.007-.665 0 0 2.207-6.234 2.207-6.834 0-.6-.47-1.072-1.07-1.072h-3.216c-.6 0-1.07-.535-1.07-1.07 0-.537.835-3.387 1.006-3.944.17-.557-.107-1.157-.664-1.35-.15-.043-.257-.086-.407-.064zM0 6.434v8.572h2.143V6.434H0z\" fill=\"#fff\" fill-rule=\"evenodd\"></path></svg><span class=\"_3c3Px5\">20</span></div></div><div class=\"_2bmov8\"><svg class=\"_2UvOBb\" height=\"11\" viewbox=\"0 0 16 27\" width=\"6\" xmlns=\"http://www.w3.org/2000/svg\"><path class=\"_2aPE6f\" d=\"M16 23.207L6.11 13.161 16 3.093 12.955 0 0 13.161l12.955 13.161z\" fill=\"#fff\"></path></svg><div class=\"_3E8aIl _38dCuf\"><div class=\"_3XCI6U\"><a href=\"/reviews/MOBG6VF5ADKHKXFX:319?reviewId=9edef306-2fb7-4d35-a4fb-feeddf9d52ae\"><span>Permalink</span></a></div><div class=\"_3XCI6U _2b2z-j\"><span>Report Abuse</span></div></div></div></div></div></div></div></div></div><div class=\"_16PBlm\"><div class=\"col\"><div class=\"col _2wzgFH\"><div class=\"row\"><div class=\"_3LWZlK _1BLPMq\">5<img class=\"_1wB99o\" src=\"data:image/svg+xml;base64,PHN2ZyB4bWxucz0iaHR0cDovL3d3dy53My5vcmcvMjAwMC9zdmciIHdpZHRoPSIxMyIgaGVpZ2h0PSIxMiI+PHBhdGggZmlsbD0iI0ZGRiIgZD0iTTYuNSA5LjQzOWwtMy42NzQgMi4yMy45NC00LjI2LTMuMjEtMi44ODMgNC4yNTQtLjQwNEw2LjUuMTEybDEuNjkgNC4wMSA0LjI1NC40MDQtMy4yMSAyLjg4Mi45NCA0LjI2eiIvPjwvc3ZnPg==\"/></div><p class=\"_2-N8zT\">Just wow!</p></div><div class=\"row\"><div class=\"t-ZTKy\"><div><div class=\"\">Best phone in recent times I have used in my life</div><span class=\"_1H-bmy\"><span>READ MORE</span></span></div></div></div><div class=\"_2nMSwX _3oLIki\"><div class=\"_21YjFX _2A07HP\" style=\"background-image:url(https://rukminim1.flixcart.com/blobio/124/124/imr-202204/blobio-imr-202204_f3196d425a8241c9a85c338d0c7183ac.jpeg?q=90), url(data:image/svg+xml;base64,PHN2ZyB3aWR0aD0iMjIiIGhlaWdodD0iMTgiIHhtbG5zPSJodHRwOi8vd3d3LnczLm9yZy8yMDAwL3N2ZyI+PGcgZmlsbD0iIzlEOUQ5RCIgZmlsbC1ydWxlPSJub256ZXJvIj48cGF0aCBkPSJNMjAgMEgyQzEgMCAwIDEgMCAydjE0YzAgMS4xLjkgMiAyIDJoMThjMSAwIDItMSAyLTJWMmMwLTEtMS0yLTItMnptMCAxNS45MmMtLjAyLjAzLS4wNi4wNi0uMDguMDhIMlYyLjA4TDIuMDggMmgxNy44M2MuMDMuMDIuMDYuMDYuMDguMDh2MTMuODRIMjB6Ii8+PHBhdGggZD0iTTEwIDEyLjUxTDcuNSA5LjUgNCAxNGgxNGwtNC41LTZ6Ii8+PC9nPjwvc3ZnPg==);width:62px;height:62px\"></div><div class=\"_21YjFX _2A07HP\" style=\"background-image:url(https://rukminim1.flixcart.com/blobio/124/124/imr-202204/blobio-imr-202204_9c54bcdc3b744b08aa9ed0da7ebc114d.jpeg?q=90), url(data:image/svg+xml;base64,PHN2ZyB3aWR0aD0iMjIiIGhlaWdodD0iMTgiIHhtbG5zPSJodHRwOi8vd3d3LnczLm9yZy8yMDAwL3N2ZyI+PGcgZmlsbD0iIzlEOUQ5RCIgZmlsbC1ydWxlPSJub256ZXJvIj48cGF0aCBkPSJNMjAgMEgyQzEgMCAwIDEgMCAydjE0YzAgMS4xLjkgMiAyIDJoMThjMSAwIDItMSAyLTJWMmMwLTEtMS0yLTItMnptMCAxNS45MmMtLjAyLjAzLS4wNi4wNi0uMDguMDhIMlYyLjA4TDIuMDggMmgxNy44M2MuMDMuMDIuMDYuMDYuMDguMDh2MTMuODRIMjB6Ii8+PHBhdGggZD0iTTEwIDEyLjUxTDcuNSA5LjUgNCAxNGgxNGwtNC41LTZ6Ii8+PC9nPjwvc3ZnPg==);width:62px;height:62px\"></div><div class=\"_21YjFX _2A07HP\" style=\"background-image:url(https://rukminim1.flixcart.com/blobio/124/124/imr-202204/blobio-imr-202204_a28a1110af80489c930f0113ec04216a.jpeg?q=90), url(data:image/svg+xml;base64,PHN2ZyB3aWR0aD0iMjIiIGhlaWdodD0iMTgiIHhtbG5zPSJodHRwOi8vd3d3LnczLm9yZy8yMDAwL3N2ZyI+PGcgZmlsbD0iIzlEOUQ5RCIgZmlsbC1ydWxlPSJub256ZXJvIj48cGF0aCBkPSJNMjAgMEgyQzEgMCAwIDEgMCAydjE0YzAgMS4xLjkgMiAyIDJoMThjMSAwIDItMSAyLTJWMmMwLTEtMS0yLTItMnptMCAxNS45MmMtLjAyLjAzLS4wNi4wNi0uMDguMDhIMlYyLjA4TDIuMDggMmgxNy44M2MuMDMuMDIuMDYuMDYuMDguMDh2MTMuODRIMjB6Ii8+PHBhdGggZD0iTTEwIDEyLjUxTDcuNSA5LjUgNCAxNGgxNGwtNC41LTZ6Ii8+PC9nPjwvc3ZnPg==);width:62px;height:62px\"></div><div class=\"_21YjFX _2A07HP\" style=\"background-image:url(https://rukminim1.flixcart.com/blobio/124/124/imr-202204/blobio-imr-202204_c74f20e1f2394881943214493227e51b.jpeg?q=90), url(data:image/svg+xml;base64,PHN2ZyB3aWR0aD0iMjIiIGhlaWdodD0iMTgiIHhtbG5zPSJodHRwOi8vd3d3LnczLm9yZy8yMDAwL3N2ZyI+PGcgZmlsbD0iIzlEOUQ5RCIgZmlsbC1ydWxlPSJub256ZXJvIj48cGF0aCBkPSJNMjAgMEgyQzEgMCAwIDEgMCAydjE0YzAgMS4xLjkgMiAyIDJoMThjMSAwIDItMSAyLTJWMmMwLTEtMS0yLTItMnptMCAxNS45MmMtLjAyLjAzLS4wNi4wNi0uMDguMDhIMlYyLjA4TDIuMDggMmgxNy44M2MuMDMuMDIuMDYuMDYuMDguMDh2MTMuODRIMjB6Ii8+PHBhdGggZD0iTTEwIDEyLjUxTDcuNSA5LjUgNCAxNGgxNGwtNC41LTZ6Ii8+PC9nPjwvc3ZnPg==);width:62px;height:62px\"></div><div class=\"_21YjFX _2A07HP\" style=\"background-image:url(https://rukminim1.flixcart.com/blobio/124/124/imr-202204/blobio-imr-202204_7a294aca17e444118874f650eccb997a.jpeg?q=90), url(data:image/svg+xml;base64,PHN2ZyB3aWR0aD0iMjIiIGhlaWdodD0iMTgiIHhtbG5zPSJodHRwOi8vd3d3LnczLm9yZy8yMDAwL3N2ZyI+PGcgZmlsbD0iIzlEOUQ5RCIgZmlsbC1ydWxlPSJub256ZXJvIj48cGF0aCBkPSJNMjAgMEgyQzEgMCAwIDEgMCAydjE0YzAgMS4xLjkgMiAyIDJoMThjMSAwIDItMSAyLTJWMmMwLTEtMS0yLTItMnptMCAxNS45MmMtLjAyLjAzLS4wNi4wNi0uMDguMDhIMlYyLjA4TDIuMDggMmgxNy44M2MuMDMuMDIuMDYuMDYuMDguMDh2MTMuODRIMjB6Ii8+PHBhdGggZD0iTTEwIDEyLjUxTDcuNSA5LjUgNCAxNGgxNGwtNC41LTZ6Ii8+PC9nPjwvc3ZnPg==);width:62px;height:62px\"></div></div><div class=\"row _3n8db9\"><div class=\"row\"><p class=\"_2sc7ZR _2V5EHH\">Tulasiram SABBAVARAPU</p><svg class=\"_2a1p_T\" height=\"14\" viewbox=\"0 0 12 12\" width=\"14\" xmlns=\"http://www.w3.org/2000/svg\"><g><circle cx=\"6\" cy=\"6\" fill=\"#878787\" r=\"6\"></circle><path d=\"M3 6l2 2 4-4\" fill=\"#878787\" stroke=\"#FFF\" stroke-width=\"1.5\"></path></g></svg><p class=\"_2mcZGG\" id=\"review-f7fff132-9383-4d42-ba22-00cdc202b9f0\"><span>Certified Buyer</span><span>, Visakhapatnam</span></p><div></div><p class=\"_2sc7ZR\">Apr, 2022</p></div><div class=\"_1e9_Zu\"><div class=\"row\"><div class=\"_27aTsS\"><div class=\"_1LmwT9\"><svg class=\"skCrcq\" height=\"15\" width=\"20\" xmlns=\"http://www.w3.org/2000/svg\"><path class=\"_1LIt4y\" d=\"M9.58.006c-.41.043-.794.32-1.01.728-.277.557-2.334 4.693-2.74 5.1-.41.407-.944.6-1.544.6v8.572h7.5c.45 0 .835-.28 1.007-.665 0 0 2.207-6.234 2.207-6.834 0-.6-.47-1.072-1.07-1.072h-3.216c-.6 0-1.07-.535-1.07-1.07 0-.537.835-3.387 1.006-3.944.17-.557-.107-1.157-.664-1.35-.15-.043-.257-.086-.407-.064zM0 6.434v8.572h2.143V6.434H0z\" fill=\"#fff\" fill-rule=\"evenodd\"></path></svg><span class=\"_3c3Px5\">452</span></div><div class=\"_1LmwT9 pkR4jH\"><svg class=\"skCrcq pkR4jH\" height=\"15\" width=\"20\" xmlns=\"http://www.w3.org/2000/svg\"><path class=\"_1LIt4y\" d=\"M9.58.006c-.41.043-.794.32-1.01.728-.277.557-2.334 4.693-2.74 5.1-.41.407-.944.6-1.544.6v8.572h7.5c.45 0 .835-.28 1.007-.665 0 0 2.207-6.234 2.207-6.834 0-.6-.47-1.072-1.07-1.072h-3.216c-.6 0-1.07-.535-1.07-1.07 0-.537.835-3.387 1.006-3.944.17-.557-.107-1.157-.664-1.35-.15-.043-.257-.086-.407-.064zM0 6.434v8.572h2.143V6.434H0z\" fill=\"#fff\" fill-rule=\"evenodd\"></path></svg><span class=\"_3c3Px5\">23</span></div></div><div class=\"_2bmov8\"><svg class=\"_2UvOBb\" height=\"11\" viewbox=\"0 0 16 27\" width=\"6\" xmlns=\"http://www.w3.org/2000/svg\"><path class=\"_2aPE6f\" d=\"M16 23.207L6.11 13.161 16 3.093 12.955 0 0 13.161l12.955 13.161z\" fill=\"#fff\"></path></svg><div class=\"_3E8aIl _38dCuf\"><div class=\"_3XCI6U\"><a href=\"/reviews/MOBGC9VGSU9DWGJZ:24?reviewId=f7fff132-9383-4d42-ba22-00cdc202b9f0\"><span>Permalink</span></a></div><div class=\"_3XCI6U _2b2z-j\"><span>Report Abuse</span></div></div></div></div></div></div></div></div></div><div class=\"_16PBlm _3_IKGE\"><div class=\"col\"><div class=\"col _2wzgFH\"><div class=\"row\"><div class=\"_3LWZlK _1BLPMq\">5<img class=\"_1wB99o\" src=\"data:image/svg+xml;base64,PHN2ZyB4bWxucz0iaHR0cDovL3d3dy53My5vcmcvMjAwMC9zdmciIHdpZHRoPSIxMyIgaGVpZ2h0PSIxMiI+PHBhdGggZmlsbD0iI0ZGRiIgZD0iTTYuNSA5LjQzOWwtMy42NzQgMi4yMy45NC00LjI2LTMuMjEtMi44ODMgNC4yNTQtLjQwNEw2LjUuMTEybDEuNjkgNC4wMSA0LjI1NC40MDQtMy4yMSAyLjg4Mi45NCA0LjI2eiIvPjwvc3ZnPg==\"/></div><p class=\"_2-N8zT\">Perfect product!</p></div><div class=\"row\"><div class=\"t-ZTKy\"><div><div class=\"\">Love this phone..... 😍</div><span class=\"_1H-bmy\"><span>READ MORE</span></span></div></div></div><div class=\"_2nMSwX _3oLIki\"><div class=\"_21YjFX _2A07HP\" style=\"background-image:url(https://rukminim1.flixcart.com/blobio/124/124/imr-202204/blobio-imr-202204_0b53aa3c4ab949e0a64c13f8238caa78.jpeg?q=90), url(data:image/svg+xml;base64,PHN2ZyB3aWR0aD0iMjIiIGhlaWdodD0iMTgiIHhtbG5zPSJodHRwOi8vd3d3LnczLm9yZy8yMDAwL3N2ZyI+PGcgZmlsbD0iIzlEOUQ5RCIgZmlsbC1ydWxlPSJub256ZXJvIj48cGF0aCBkPSJNMjAgMEgyQzEgMCAwIDEgMCAydjE0YzAgMS4xLjkgMiAyIDJoMThjMSAwIDItMSAyLTJWMmMwLTEtMS0yLTItMnptMCAxNS45MmMtLjAyLjAzLS4wNi4wNi0uMDguMDhIMlYyLjA4TDIuMDggMmgxNy44M2MuMDMuMDIuMDYuMDYuMDguMDh2MTMuODRIMjB6Ii8+PHBhdGggZD0iTTEwIDEyLjUxTDcuNSA5LjUgNCAxNGgxNGwtNC41LTZ6Ii8+PC9nPjwvc3ZnPg==);width:62px;height:62px\"></div><div class=\"_21YjFX _2A07HP\" style=\"background-image:url(https://rukminim1.flixcart.com/blobio/124/124/imr-202204/blobio-imr-202204_0b7bb8f9130840058dee2bccc8d02638.jpeg?q=90), url(data:image/svg+xml;base64,PHN2ZyB3aWR0aD0iMjIiIGhlaWdodD0iMTgiIHhtbG5zPSJodHRwOi8vd3d3LnczLm9yZy8yMDAwL3N2ZyI+PGcgZmlsbD0iIzlEOUQ5RCIgZmlsbC1ydWxlPSJub256ZXJvIj48cGF0aCBkPSJNMjAgMEgyQzEgMCAwIDEgMCAydjE0YzAgMS4xLjkgMiAyIDJoMThjMSAwIDItMSAyLTJWMmMwLTEtMS0yLTItMnptMCAxNS45MmMtLjAyLjAzLS4wNi4wNi0uMDguMDhIMlYyLjA4TDIuMDggMmgxNy44M2MuMDMuMDIuMDYuMDYuMDguMDh2MTMuODRIMjB6Ii8+PHBhdGggZD0iTTEwIDEyLjUxTDcuNSA5LjUgNCAxNGgxNGwtNC41LTZ6Ii8+PC9nPjwvc3ZnPg==);width:62px;height:62px\"></div><div class=\"_21YjFX _2A07HP\" style=\"background-image:url(https://rukminim1.flixcart.com/blobio/124/124/imr/blobio-imr_0f1f700f26ea4415a374da538b59c583.jpeg?q=90), url(data:image/svg+xml;base64,PHN2ZyB3aWR0aD0iMjIiIGhlaWdodD0iMTgiIHhtbG5zPSJodHRwOi8vd3d3LnczLm9yZy8yMDAwL3N2ZyI+PGcgZmlsbD0iIzlEOUQ5RCIgZmlsbC1ydWxlPSJub256ZXJvIj48cGF0aCBkPSJNMjAgMEgyQzEgMCAwIDEgMCAydjE0YzAgMS4xLjkgMiAyIDJoMThjMSAwIDItMSAyLTJWMmMwLTEtMS0yLTItMnptMCAxNS45MmMtLjAyLjAzLS4wNi4wNi0uMDguMDhIMlYyLjA4TDIuMDggMmgxNy44M2MuMDMuMDIuMDYuMDYuMDguMDh2MTMuODRIMjB6Ii8+PHBhdGggZD0iTTEwIDEyLjUxTDcuNSA5LjUgNCAxNGgxNGwtNC41LTZ6Ii8+PC9nPjwvc3ZnPg==);width:62px;height:62px\"></div><div class=\"_21YjFX _2A07HP\" style=\"background-image:url(https://rukminim1.flixcart.com/blobio/124/124/imr/blobio-imr_57efa2c6b6344df99c8232f2f30ff086.jpeg?q=90), url(data:image/svg+xml;base64,PHN2ZyB3aWR0aD0iMjIiIGhlaWdodD0iMTgiIHhtbG5zPSJodHRwOi8vd3d3LnczLm9yZy8yMDAwL3N2ZyI+PGcgZmlsbD0iIzlEOUQ5RCIgZmlsbC1ydWxlPSJub256ZXJvIj48cGF0aCBkPSJNMjAgMEgyQzEgMCAwIDEgMCAydjE0YzAgMS4xLjkgMiAyIDJoMThjMSAwIDItMSAyLTJWMmMwLTEtMS0yLTItMnptMCAxNS45MmMtLjAyLjAzLS4wNi4wNi0uMDguMDhIMlYyLjA4TDIuMDggMmgxNy44M2MuMDMuMDIuMDYuMDYuMDguMDh2MTMuODRIMjB6Ii8+PHBhdGggZD0iTTEwIDEyLjUxTDcuNSA5LjUgNCAxNGgxNGwtNC41LTZ6Ii8+PC9nPjwvc3ZnPg==);width:62px;height:62px\"></div><div class=\"_21YjFX _2A07HP\" style=\"background-image:url(https://rukminim1.flixcart.com/blobio/124/124/imr/blobio-imr_d9f1665fb2ff43979bf48b00f991732a.jpeg?q=90), url(data:image/svg+xml;base64,PHN2ZyB3aWR0aD0iMjIiIGhlaWdodD0iMTgiIHhtbG5zPSJodHRwOi8vd3d3LnczLm9yZy8yMDAwL3N2ZyI+PGcgZmlsbD0iIzlEOUQ5RCIgZmlsbC1ydWxlPSJub256ZXJvIj48cGF0aCBkPSJNMjAgMEgyQzEgMCAwIDEgMCAydjE0YzAgMS4xLjkgMiAyIDJoMThjMSAwIDItMSAyLTJWMmMwLTEtMS0yLTItMnptMCAxNS45MmMtLjAyLjAzLS4wNi4wNi0uMDguMDhIMlYyLjA4TDIuMDggMmgxNy44M2MuMDMuMDIuMDYuMDYuMDguMDh2MTMuODRIMjB6Ii8+PHBhdGggZD0iTTEwIDEyLjUxTDcuNSA5LjUgNCAxNGgxNGwtNC41LTZ6Ii8+PC9nPjwvc3ZnPg==);width:62px;height:62px\"></div></div><div class=\"row _3n8db9\"><div class=\"row\"><p class=\"_2sc7ZR _2V5EHH\">Badri Bishal  Pratihari </p><svg class=\"_2a1p_T\" height=\"14\" viewbox=\"0 0 12 12\" width=\"14\" xmlns=\"http://www.w3.org/2000/svg\"><g><circle cx=\"6\" cy=\"6\" fill=\"#878787\" r=\"6\"></circle><path d=\"M3 6l2 2 4-4\" fill=\"#878787\" stroke=\"#FFF\" stroke-width=\"1.5\"></path></g></svg><p class=\"_2mcZGG\" id=\"review-eea9b9b7-f053-4d57-8c67-6b301ee22528\"><span>Certified Buyer</span><span>, Puri</span></p><div></div><p class=\"_2sc7ZR\">Feb, 2022</p></div><div class=\"_1e9_Zu\"><div class=\"row\"><div class=\"_27aTsS\"><div class=\"_1LmwT9\"><svg class=\"skCrcq\" height=\"15\" width=\"20\" xmlns=\"http://www.w3.org/2000/svg\"><path class=\"_1LIt4y\" d=\"M9.58.006c-.41.043-.794.32-1.01.728-.277.557-2.334 4.693-2.74 5.1-.41.407-.944.6-1.544.6v8.572h7.5c.45 0 .835-.28 1.007-.665 0 0 2.207-6.234 2.207-6.834 0-.6-.47-1.072-1.07-1.072h-3.216c-.6 0-1.07-.535-1.07-1.07 0-.537.835-3.387 1.006-3.944.17-.557-.107-1.157-.664-1.35-.15-.043-.257-.086-.407-.064zM0 6.434v8.572h2.143V6.434H0z\" fill=\"#fff\" fill-rule=\"evenodd\"></path></svg><span class=\"_3c3Px5\">1412</span></div><div class=\"_1LmwT9 pkR4jH\"><svg class=\"skCrcq pkR4jH\" height=\"15\" width=\"20\" xmlns=\"http://www.w3.org/2000/svg\"><path class=\"_1LIt4y\" d=\"M9.58.006c-.41.043-.794.32-1.01.728-.277.557-2.334 4.693-2.74 5.1-.41.407-.944.6-1.544.6v8.572h7.5c.45 0 .835-.28 1.007-.665 0 0 2.207-6.234 2.207-6.834 0-.6-.47-1.072-1.07-1.072h-3.216c-.6 0-1.07-.535-1.07-1.07 0-.537.835-3.387 1.006-3.944.17-.557-.107-1.157-.664-1.35-.15-.043-.257-.086-.407-.064zM0 6.434v8.572h2.143V6.434H0z\" fill=\"#fff\" fill-rule=\"evenodd\"></path></svg><span class=\"_3c3Px5\">88</span></div></div><div class=\"_2bmov8\"><svg class=\"_2UvOBb\" height=\"11\" viewbox=\"0 0 16 27\" width=\"6\" xmlns=\"http://www.w3.org/2000/svg\"><path class=\"_2aPE6f\" d=\"M16 23.207L6.11 13.161 16 3.093 12.955 0 0 13.161l12.955 13.161z\" fill=\"#fff\"></path></svg><div class=\"_3E8aIl _38dCuf\"><div class=\"_3XCI6U\"><a href=\"/reviews/MOBG6VF5Q82T3XRS:47?reviewId=eea9b9b7-f053-4d57-8c67-6b301ee22528\"><span>Permalink</span></a></div><div class=\"_3XCI6U _2b2z-j\"><span>Report Abuse</span></div></div></div></div></div></div></div></div></div><div class=\"_16PBlm _3_IKGE\"><div class=\"col\"><div class=\"col _2wzgFH\"><div class=\"row\"><div class=\"_3LWZlK _1BLPMq\">5<img class=\"_1wB99o\" src=\"data:image/svg+xml;base64,PHN2ZyB4bWxucz0iaHR0cDovL3d3dy53My5vcmcvMjAwMC9zdmciIHdpZHRoPSIxMyIgaGVpZ2h0PSIxMiI+PHBhdGggZmlsbD0iI0ZGRiIgZD0iTTYuNSA5LjQzOWwtMy42NzQgMi4yMy45NC00LjI2LTMuMjEtMi44ODMgNC4yNTQtLjQwNEw2LjUuMTEybDEuNjkgNC4wMSA0LjI1NC40MDQtMy4yMSAyLjg4Mi45NCA0LjI2eiIvPjwvc3ZnPg==\"/></div><p class=\"_2-N8zT\">Wonderful</p></div><div class=\"row\"><div class=\"t-ZTKy\"><div><div class=\"\">Just amazing</div><span class=\"_1H-bmy\"><span>READ MORE</span></span></div></div></div><div class=\"_2nMSwX _3oLIki\"><div class=\"_21YjFX _2A07HP\" style=\"background-image:url(https://rukminim1.flixcart.com/blobio/124/124/imr/blobio-imr_2a40cafe39324a478d55008d0dc4a671.jpeg?q=90), url(data:image/svg+xml;base64,PHN2ZyB3aWR0aD0iMjIiIGhlaWdodD0iMTgiIHhtbG5zPSJodHRwOi8vd3d3LnczLm9yZy8yMDAwL3N2ZyI+PGcgZmlsbD0iIzlEOUQ5RCIgZmlsbC1ydWxlPSJub256ZXJvIj48cGF0aCBkPSJNMjAgMEgyQzEgMCAwIDEgMCAydjE0YzAgMS4xLjkgMiAyIDJoMThjMSAwIDItMSAyLTJWMmMwLTEtMS0yLTItMnptMCAxNS45MmMtLjAyLjAzLS4wNi4wNi0uMDguMDhIMlYyLjA4TDIuMDggMmgxNy44M2MuMDMuMDIuMDYuMDYuMDguMDh2MTMuODRIMjB6Ii8+PHBhdGggZD0iTTEwIDEyLjUxTDcuNSA5LjUgNCAxNGgxNGwtNC41LTZ6Ii8+PC9nPjwvc3ZnPg==);width:62px;height:62px\"></div></div><div class=\"row _3n8db9\"><div class=\"row\"><p class=\"_2sc7ZR _2V5EHH\">Ashish  Kumar</p><svg class=\"_2a1p_T\" height=\"14\" viewbox=\"0 0 12 12\" width=\"14\" xmlns=\"http://www.w3.org/2000/svg\"><g><circle cx=\"6\" cy=\"6\" fill=\"#878787\" r=\"6\"></circle><path d=\"M3 6l2 2 4-4\" fill=\"#878787\" stroke=\"#FFF\" stroke-width=\"1.5\"></path></g></svg><p class=\"_2mcZGG\" id=\"review-e66846d4-34b0-4acf-b69e-b14828cc01a8\"><span>Certified Buyer</span><span>, Kolkata</span></p><div></div><p class=\"_2sc7ZR\">9 months ago</p></div><div class=\"_1e9_Zu\"><div class=\"row\"><div class=\"_27aTsS\"><div class=\"_1LmwT9\"><svg class=\"skCrcq\" height=\"15\" width=\"20\" xmlns=\"http://www.w3.org/2000/svg\"><path class=\"_1LIt4y\" d=\"M9.58.006c-.41.043-.794.32-1.01.728-.277.557-2.334 4.693-2.74 5.1-.41.407-.944.6-1.544.6v8.572h7.5c.45 0 .835-.28 1.007-.665 0 0 2.207-6.234 2.207-6.834 0-.6-.47-1.072-1.07-1.072h-3.216c-.6 0-1.07-.535-1.07-1.07 0-.537.835-3.387 1.006-3.944.17-.557-.107-1.157-.664-1.35-.15-.043-.257-.086-.407-.064zM0 6.434v8.572h2.143V6.434H0z\" fill=\"#fff\" fill-rule=\"evenodd\"></path></svg><span class=\"_3c3Px5\">189</span></div><div class=\"_1LmwT9 pkR4jH\"><svg class=\"skCrcq pkR4jH\" height=\"15\" width=\"20\" xmlns=\"http://www.w3.org/2000/svg\"><path class=\"_1LIt4y\" d=\"M9.58.006c-.41.043-.794.32-1.01.728-.277.557-2.334 4.693-2.74 5.1-.41.407-.944.6-1.544.6v8.572h7.5c.45 0 .835-.28 1.007-.665 0 0 2.207-6.234 2.207-6.834 0-.6-.47-1.072-1.07-1.072h-3.216c-.6 0-1.07-.535-1.07-1.07 0-.537.835-3.387 1.006-3.944.17-.557-.107-1.157-.664-1.35-.15-.043-.257-.086-.407-.064zM0 6.434v8.572h2.143V6.434H0z\" fill=\"#fff\" fill-rule=\"evenodd\"></path></svg><span class=\"_3c3Px5\">7</span></div></div><div class=\"_2bmov8\"><svg class=\"_2UvOBb\" height=\"11\" viewbox=\"0 0 16 27\" width=\"6\" xmlns=\"http://www.w3.org/2000/svg\"><path class=\"_2aPE6f\" d=\"M16 23.207L6.11 13.161 16 3.093 12.955 0 0 13.161l12.955 13.161z\" fill=\"#fff\"></path></svg><div class=\"_3E8aIl _38dCuf\"><div class=\"_3XCI6U\"><a href=\"/reviews/MOBG6VF5ADKHKXFX:1849?reviewId=e66846d4-34b0-4acf-b69e-b14828cc01a8\"><span>Permalink</span></a></div><div class=\"_3XCI6U _2b2z-j\"><span>Report Abuse</span></div></div></div></div></div></div></div></div></div><div class=\"_16PBlm _3_IKGE\"><div class=\"col\"><div class=\"col _2wzgFH\"><div class=\"row\"><div class=\"_3LWZlK _1BLPMq\">5<img class=\"_1wB99o\" src=\"data:image/svg+xml;base64,PHN2ZyB4bWxucz0iaHR0cDovL3d3dy53My5vcmcvMjAwMC9zdmciIHdpZHRoPSIxMyIgaGVpZ2h0PSIxMiI+PHBhdGggZmlsbD0iI0ZGRiIgZD0iTTYuNSA5LjQzOWwtMy42NzQgMi4yMy45NC00LjI2LTMuMjEtMi44ODMgNC4yNTQtLjQwNEw2LjUuMTEybDEuNjkgNC4wMSA0LjI1NC40MDQtMy4yMSAyLjg4Mi45NCA0LjI2eiIvPjwvc3ZnPg==\"/></div><p class=\"_2-N8zT\">Worth every penny</p></div><div class=\"row\"><div class=\"t-ZTKy\"><div><div class=\"\">Awesome camera..I m love  it</div><span class=\"_1H-bmy\"><span>READ MORE</span></span></div></div></div><div class=\"_2nMSwX _3oLIki\"><div class=\"_21YjFX _2A07HP\" style=\"background-image:url(https://rukminim1.flixcart.com/blobio/124/124/imr/blobio-imr_3802b117000a468a81d3170733555a3d.jpeg?q=90), url(data:image/svg+xml;base64,PHN2ZyB3aWR0aD0iMjIiIGhlaWdodD0iMTgiIHhtbG5zPSJodHRwOi8vd3d3LnczLm9yZy8yMDAwL3N2ZyI+PGcgZmlsbD0iIzlEOUQ5RCIgZmlsbC1ydWxlPSJub256ZXJvIj48cGF0aCBkPSJNMjAgMEgyQzEgMCAwIDEgMCAydjE0YzAgMS4xLjkgMiAyIDJoMThjMSAwIDItMSAyLTJWMmMwLTEtMS0yLTItMnptMCAxNS45MmMtLjAyLjAzLS4wNi4wNi0uMDguMDhIMlYyLjA4TDIuMDggMmgxNy44M2MuMDMuMDIuMDYuMDYuMDguMDh2MTMuODRIMjB6Ii8+PHBhdGggZD0iTTEwIDEyLjUxTDcuNSA5LjUgNCAxNGgxNGwtNC41LTZ6Ii8+PC9nPjwvc3ZnPg==);width:62px;height:62px\"></div><div class=\"_21YjFX _2A07HP\" style=\"background-image:url(https://rukminim1.flixcart.com/blobio/124/124/imr/blobio-imr_bd455d68016e4fd2ac01ff37c4e5afec.jpeg?q=90), url(data:image/svg+xml;base64,PHN2ZyB3aWR0aD0iMjIiIGhlaWdodD0iMTgiIHhtbG5zPSJodHRwOi8vd3d3LnczLm9yZy8yMDAwL3N2ZyI+PGcgZmlsbD0iIzlEOUQ5RCIgZmlsbC1ydWxlPSJub256ZXJvIj48cGF0aCBkPSJNMjAgMEgyQzEgMCAwIDEgMCAydjE0YzAgMS4xLjkgMiAyIDJoMThjMSAwIDItMSAyLTJWMmMwLTEtMS0yLTItMnptMCAxNS45MmMtLjAyLjAzLS4wNi4wNi0uMDguMDhIMlYyLjA4TDIuMDggMmgxNy44M2MuMDMuMDIuMDYuMDYuMDguMDh2MTMuODRIMjB6Ii8+PHBhdGggZD0iTTEwIDEyLjUxTDcuNSA5LjUgNCAxNGgxNGwtNC41LTZ6Ii8+PC9nPjwvc3ZnPg==);width:62px;height:62px\"></div></div><div class=\"row _3n8db9\"><div class=\"row\"><p class=\"_2sc7ZR _2V5EHH\">Ajay Kr</p><svg class=\"_2a1p_T\" height=\"14\" viewbox=\"0 0 12 12\" width=\"14\" xmlns=\"http://www.w3.org/2000/svg\"><g><circle cx=\"6\" cy=\"6\" fill=\"#878787\" r=\"6\"></circle><path d=\"M3 6l2 2 4-4\" fill=\"#878787\" stroke=\"#FFF\" stroke-width=\"1.5\"></path></g></svg><p class=\"_2mcZGG\" id=\"review-55b1cdf6-500d-4acc-b5a7-c12800df0267\"><span>Certified Buyer</span><span>, New Delhi</span></p><div></div><p class=\"_2sc7ZR\">5 months ago</p></div><div class=\"_1e9_Zu\"><div class=\"row\"><div class=\"_27aTsS\"><div class=\"_1LmwT9\"><svg class=\"skCrcq\" height=\"15\" width=\"20\" xmlns=\"http://www.w3.org/2000/svg\"><path class=\"_1LIt4y\" d=\"M9.58.006c-.41.043-.794.32-1.01.728-.277.557-2.334 4.693-2.74 5.1-.41.407-.944.6-1.544.6v8.572h7.5c.45 0 .835-.28 1.007-.665 0 0 2.207-6.234 2.207-6.834 0-.6-.47-1.072-1.07-1.072h-3.216c-.6 0-1.07-.535-1.07-1.07 0-.537.835-3.387 1.006-3.944.17-.557-.107-1.157-.664-1.35-.15-.043-.257-.086-.407-.064zM0 6.434v8.572h2.143V6.434H0z\" fill=\"#fff\" fill-rule=\"evenodd\"></path></svg><span class=\"_3c3Px5\">204</span></div><div class=\"_1LmwT9 pkR4jH\"><svg class=\"skCrcq pkR4jH\" height=\"15\" width=\"20\" xmlns=\"http://www.w3.org/2000/svg\"><path class=\"_1LIt4y\" d=\"M9.58.006c-.41.043-.794.32-1.01.728-.277.557-2.334 4.693-2.74 5.1-.41.407-.944.6-1.544.6v8.572h7.5c.45 0 .835-.28 1.007-.665 0 0 2.207-6.234 2.207-6.834 0-.6-.47-1.072-1.07-1.072h-3.216c-.6 0-1.07-.535-1.07-1.07 0-.537.835-3.387 1.006-3.944.17-.557-.107-1.157-.664-1.35-.15-.043-.257-.086-.407-.064zM0 6.434v8.572h2.143V6.434H0z\" fill=\"#fff\" fill-rule=\"evenodd\"></path></svg><span class=\"_3c3Px5\">8</span></div></div><div class=\"_2bmov8\"><svg class=\"_2UvOBb\" height=\"11\" viewbox=\"0 0 16 27\" width=\"6\" xmlns=\"http://www.w3.org/2000/svg\"><path class=\"_2aPE6f\" d=\"M16 23.207L6.11 13.161 16 3.093 12.955 0 0 13.161l12.955 13.161z\" fill=\"#fff\"></path></svg><div class=\"_3E8aIl _38dCuf\"><div class=\"_3XCI6U\"><a href=\"/reviews/MOBGC9VGSU9DWGJZ:2870?reviewId=55b1cdf6-500d-4acc-b5a7-c12800df0267\"><span>Permalink</span></a></div><div class=\"_3XCI6U _2b2z-j\"><span>Report Abuse</span></div></div></div></div></div></div></div></div></div><div class=\"_16PBlm _3_IKGE\"><div class=\"col\"><div class=\"col _2wzgFH\"><div class=\"row\"><div class=\"_3LWZlK _1BLPMq\">5<img class=\"_1wB99o\" src=\"data:image/svg+xml;base64,PHN2ZyB4bWxucz0iaHR0cDovL3d3dy53My5vcmcvMjAwMC9zdmciIHdpZHRoPSIxMyIgaGVpZ2h0PSIxMiI+PHBhdGggZmlsbD0iI0ZGRiIgZD0iTTYuNSA5LjQzOWwtMy42NzQgMi4yMy45NC00LjI2LTMuMjEtMi44ODMgNC4yNTQtLjQwNEw2LjUuMTEybDEuNjkgNC4wMSA0LjI1NC40MDQtMy4yMSAyLjg4Mi45NCA0LjI2eiIvPjwvc3ZnPg==\"/></div><p class=\"_2-N8zT\">Classy product</p></div><div class=\"row\"><div class=\"t-ZTKy\"><div><div class=\"\">This is awosome .. camera is best . Here some photos i m sharing with you guys ..</div><span class=\"_1H-bmy\"><span>READ MORE</span></span></div></div></div><div class=\"_2nMSwX _3oLIki\"><div class=\"_21YjFX _2A07HP\" style=\"background-image:url(https://rukminim1.flixcart.com/blobio/124/124/imr/blobio-imr_8d7be783b0a641d7bebba542f25e9614.jpeg?q=90), url(data:image/svg+xml;base64,PHN2ZyB3aWR0aD0iMjIiIGhlaWdodD0iMTgiIHhtbG5zPSJodHRwOi8vd3d3LnczLm9yZy8yMDAwL3N2ZyI+PGcgZmlsbD0iIzlEOUQ5RCIgZmlsbC1ydWxlPSJub256ZXJvIj48cGF0aCBkPSJNMjAgMEgyQzEgMCAwIDEgMCAydjE0YzAgMS4xLjkgMiAyIDJoMThjMSAwIDItMSAyLTJWMmMwLTEtMS0yLTItMnptMCAxNS45MmMtLjAyLjAzLS4wNi4wNi0uMDguMDhIMlYyLjA4TDIuMDggMmgxNy44M2MuMDMuMDIuMDYuMDYuMDguMDh2MTMuODRIMjB6Ii8+PHBhdGggZD0iTTEwIDEyLjUxTDcuNSA5LjUgNCAxNGgxNGwtNC41LTZ6Ii8+PC9nPjwvc3ZnPg==);width:62px;height:62px\"></div><div class=\"_21YjFX _2A07HP\" style=\"background-image:url(https://rukminim1.flixcart.com/blobio/124/124/imr/blobio-imr_5f29c672e139497ca31b9d6acf39cc96.jpeg?q=90), url(data:image/svg+xml;base64,PHN2ZyB3aWR0aD0iMjIiIGhlaWdodD0iMTgiIHhtbG5zPSJodHRwOi8vd3d3LnczLm9yZy8yMDAwL3N2ZyI+PGcgZmlsbD0iIzlEOUQ5RCIgZmlsbC1ydWxlPSJub256ZXJvIj48cGF0aCBkPSJNMjAgMEgyQzEgMCAwIDEgMCAydjE0YzAgMS4xLjkgMiAyIDJoMThjMSAwIDItMSAyLTJWMmMwLTEtMS0yLTItMnptMCAxNS45MmMtLjAyLjAzLS4wNi4wNi0uMDguMDhIMlYyLjA4TDIuMDggMmgxNy44M2MuMDMuMDIuMDYuMDYuMDguMDh2MTMuODRIMjB6Ii8+PHBhdGggZD0iTTEwIDEyLjUxTDcuNSA5LjUgNCAxNGgxNGwtNC41LTZ6Ii8+PC9nPjwvc3ZnPg==);width:62px;height:62px\"></div><div class=\"_21YjFX _2A07HP\" style=\"background-image:url(https://rukminim1.flixcart.com/blobio/124/124/imr/blobio-imr_b574a1db64994033a9fe3b54dbdaee78.jpeg?q=90), url(data:image/svg+xml;base64,PHN2ZyB3aWR0aD0iMjIiIGhlaWdodD0iMTgiIHhtbG5zPSJodHRwOi8vd3d3LnczLm9yZy8yMDAwL3N2ZyI+PGcgZmlsbD0iIzlEOUQ5RCIgZmlsbC1ydWxlPSJub256ZXJvIj48cGF0aCBkPSJNMjAgMEgyQzEgMCAwIDEgMCAydjE0YzAgMS4xLjkgMiAyIDJoMThjMSAwIDItMSAyLTJWMmMwLTEtMS0yLTItMnptMCAxNS45MmMtLjAyLjAzLS4wNi4wNi0uMDguMDhIMlYyLjA4TDIuMDggMmgxNy44M2MuMDMuMDIuMDYuMDYuMDguMDh2MTMuODRIMjB6Ii8+PHBhdGggZD0iTTEwIDEyLjUxTDcuNSA5LjUgNCAxNGgxNGwtNC41LTZ6Ii8+PC9nPjwvc3ZnPg==);width:62px;height:62px\"></div><div class=\"_21YjFX _2A07HP\" style=\"background-image:url(https://rukminim1.flixcart.com/blobio/124/124/imr/blobio-imr_581831a876b945c59f7dc4b7b1ac622a.jpeg?q=90), url(data:image/svg+xml;base64,PHN2ZyB3aWR0aD0iMjIiIGhlaWdodD0iMTgiIHhtbG5zPSJodHRwOi8vd3d3LnczLm9yZy8yMDAwL3N2ZyI+PGcgZmlsbD0iIzlEOUQ5RCIgZmlsbC1ydWxlPSJub256ZXJvIj48cGF0aCBkPSJNMjAgMEgyQzEgMCAwIDEgMCAydjE0YzAgMS4xLjkgMiAyIDJoMThjMSAwIDItMSAyLTJWMmMwLTEtMS0yLTItMnptMCAxNS45MmMtLjAyLjAzLS4wNi4wNi0uMDguMDhIMlYyLjA4TDIuMDggMmgxNy44M2MuMDMuMDIuMDYuMDYuMDguMDh2MTMuODRIMjB6Ii8+PHBhdGggZD0iTTEwIDEyLjUxTDcuNSA5LjUgNCAxNGgxNGwtNC41LTZ6Ii8+PC9nPjwvc3ZnPg==);width:62px;height:62px\"></div></div><div class=\"row _3n8db9\"><div class=\"row\"><p class=\"_2sc7ZR _2V5EHH\">Shivang Palyal</p><svg class=\"_2a1p_T\" height=\"14\" viewbox=\"0 0 12 12\" width=\"14\" xmlns=\"http://www.w3.org/2000/svg\"><g><circle cx=\"6\" cy=\"6\" fill=\"#878787\" r=\"6\"></circle><path d=\"M3 6l2 2 4-4\" fill=\"#878787\" stroke=\"#FFF\" stroke-width=\"1.5\"></path></g></svg><p class=\"_2mcZGG\" id=\"review-ba1e6bf1-f213-497d-b352-a81e91bb0ceb\"><span>Certified Buyer</span><span>, New Delhi</span></p><div></div><p class=\"_2sc7ZR\">9 months ago</p></div><div class=\"_1e9_Zu\"><div class=\"row\"><div class=\"_27aTsS\"><div class=\"_1LmwT9\"><svg class=\"skCrcq\" height=\"15\" width=\"20\" xmlns=\"http://www.w3.org/2000/svg\"><path class=\"_1LIt4y\" d=\"M9.58.006c-.41.043-.794.32-1.01.728-.277.557-2.334 4.693-2.74 5.1-.41.407-.944.6-1.544.6v8.572h7.5c.45 0 .835-.28 1.007-.665 0 0 2.207-6.234 2.207-6.834 0-.6-.47-1.072-1.07-1.072h-3.216c-.6 0-1.07-.535-1.07-1.07 0-.537.835-3.387 1.006-3.944.17-.557-.107-1.157-.664-1.35-.15-.043-.257-.086-.407-.064zM0 6.434v8.572h2.143V6.434H0z\" fill=\"#fff\" fill-rule=\"evenodd\"></path></svg><span class=\"_3c3Px5\">1026</span></div><div class=\"_1LmwT9 pkR4jH\"><svg class=\"skCrcq pkR4jH\" height=\"15\" width=\"20\" xmlns=\"http://www.w3.org/2000/svg\"><path class=\"_1LIt4y\" d=\"M9.58.006c-.41.043-.794.32-1.01.728-.277.557-2.334 4.693-2.74 5.1-.41.407-.944.6-1.544.6v8.572h7.5c.45 0 .835-.28 1.007-.665 0 0 2.207-6.234 2.207-6.834 0-.6-.47-1.072-1.07-1.072h-3.216c-.6 0-1.07-.535-1.07-1.07 0-.537.835-3.387 1.006-3.944.17-.557-.107-1.157-.664-1.35-.15-.043-.257-.086-.407-.064zM0 6.434v8.572h2.143V6.434H0z\" fill=\"#fff\" fill-rule=\"evenodd\"></path></svg><span class=\"_3c3Px5\">69</span></div></div><div class=\"_2bmov8\"><svg class=\"_2UvOBb\" height=\"11\" viewbox=\"0 0 16 27\" width=\"6\" xmlns=\"http://www.w3.org/2000/svg\"><path class=\"_2aPE6f\" d=\"M16 23.207L6.11 13.161 16 3.093 12.955 0 0 13.161l12.955 13.161z\" fill=\"#fff\"></path></svg><div class=\"_3E8aIl _38dCuf\"><div class=\"_3XCI6U\"><a href=\"/reviews/MOBG6VF5SMXPNQHG:1238?reviewId=ba1e6bf1-f213-497d-b352-a81e91bb0ceb\"><span>Permalink</span></a></div><div class=\"_3XCI6U _2b2z-j\"><span>Report Abuse</span></div></div></div></div></div></div></div></div></div><div class=\"_16PBlm _3_IKGE\"><div class=\"col\"><div class=\"col _2wzgFH\"><div class=\"row\"><div class=\"_3LWZlK _1BLPMq\">4<img class=\"_1wB99o\" src=\"data:image/svg+xml;base64,PHN2ZyB4bWxucz0iaHR0cDovL3d3dy53My5vcmcvMjAwMC9zdmciIHdpZHRoPSIxMyIgaGVpZ2h0PSIxMiI+PHBhdGggZmlsbD0iI0ZGRiIgZD0iTTYuNSA5LjQzOWwtMy42NzQgMi4yMy45NC00LjI2LTMuMjEtMi44ODMgNC4yNTQtLjQwNEw2LjUuMTEybDEuNjkgNC4wMSA0LjI1NC40MDQtMy4yMSAyLjg4Mi45NCA0LjI2eiIvPjwvc3ZnPg==\"/></div><p class=\"_2-N8zT\">Really Nice</p></div><div class=\"row\"><div class=\"t-ZTKy\"><div><div class=\"\">My first I phone ..from a long time android user… apple camera is way ahead  ,.. interface is better than android….overall premium features and feeling. .;<br/>but prices way aboveboard</div><span class=\"_1H-bmy\"><span>READ MORE</span></span></div></div></div><div class=\"_2nMSwX _3oLIki\"><div class=\"_21YjFX _2A07HP\" style=\"background-image:url(https://rukminim1.flixcart.com/blobio/124/124/imr-202201/blobio-imr-202201_1941819e16724bbe8afdad8b91c638a5.jpeg?q=90), url(data:image/svg+xml;base64,PHN2ZyB3aWR0aD0iMjIiIGhlaWdodD0iMTgiIHhtbG5zPSJodHRwOi8vd3d3LnczLm9yZy8yMDAwL3N2ZyI+PGcgZmlsbD0iIzlEOUQ5RCIgZmlsbC1ydWxlPSJub256ZXJvIj48cGF0aCBkPSJNMjAgMEgyQzEgMCAwIDEgMCAydjE0YzAgMS4xLjkgMiAyIDJoMThjMSAwIDItMSAyLTJWMmMwLTEtMS0yLTItMnptMCAxNS45MmMtLjAyLjAzLS4wNi4wNi0uMDguMDhIMlYyLjA4TDIuMDggMmgxNy44M2MuMDMuMDIuMDYuMDYuMDguMDh2MTMuODRIMjB6Ii8+PHBhdGggZD0iTTEwIDEyLjUxTDcuNSA5LjUgNCAxNGgxNGwtNC41LTZ6Ii8+PC9nPjwvc3ZnPg==);width:62px;height:62px\"></div></div><div class=\"row _3n8db9\"><div class=\"row\"><p class=\"_2sc7ZR _2V5EHH\">Sachin Saini</p><svg class=\"_2a1p_T\" height=\"14\" viewbox=\"0 0 12 12\" width=\"14\" xmlns=\"http://www.w3.org/2000/svg\"><g><circle cx=\"6\" cy=\"6\" fill=\"#878787\" r=\"6\"></circle><path d=\"M3 6l2 2 4-4\" fill=\"#878787\" stroke=\"#FFF\" stroke-width=\"1.5\"></path></g></svg><p class=\"_2mcZGG\" id=\"review-33de0120-0e06-4472-aaca-c7cf9f4b799f\"><span>Certified Buyer</span><span>, Nangal</span></p><div></div><p class=\"_2sc7ZR\">Jan, 2022</p></div><div class=\"_1e9_Zu\"><div class=\"row\"><div class=\"_27aTsS\"><div class=\"_1LmwT9\"><svg class=\"skCrcq\" height=\"15\" width=\"20\" xmlns=\"http://www.w3.org/2000/svg\"><path class=\"_1LIt4y\" d=\"M9.58.006c-.41.043-.794.32-1.01.728-.277.557-2.334 4.693-2.74 5.1-.41.407-.944.6-1.544.6v8.572h7.5c.45 0 .835-.28 1.007-.665 0 0 2.207-6.234 2.207-6.834 0-.6-.47-1.072-1.07-1.072h-3.216c-.6 0-1.07-.535-1.07-1.07 0-.537.835-3.387 1.006-3.944.17-.557-.107-1.157-.664-1.35-.15-.043-.257-.086-.407-.064zM0 6.434v8.572h2.143V6.434H0z\" fill=\"#fff\" fill-rule=\"evenodd\"></path></svg><span class=\"_3c3Px5\">345</span></div><div class=\"_1LmwT9 pkR4jH\"><svg class=\"skCrcq pkR4jH\" height=\"15\" width=\"20\" xmlns=\"http://www.w3.org/2000/svg\"><path class=\"_1LIt4y\" d=\"M9.58.006c-.41.043-.794.32-1.01.728-.277.557-2.334 4.693-2.74 5.1-.41.407-.944.6-1.544.6v8.572h7.5c.45 0 .835-.28 1.007-.665 0 0 2.207-6.234 2.207-6.834 0-.6-.47-1.072-1.07-1.072h-3.216c-.6 0-1.07-.535-1.07-1.07 0-.537.835-3.387 1.006-3.944.17-.557-.107-1.157-.664-1.35-.15-.043-.257-.086-.407-.064zM0 6.434v8.572h2.143V6.434H0z\" fill=\"#fff\" fill-rule=\"evenodd\"></path></svg><span class=\"_3c3Px5\">20</span></div></div><div class=\"_2bmov8\"><svg class=\"_2UvOBb\" height=\"11\" viewbox=\"0 0 16 27\" width=\"6\" xmlns=\"http://www.w3.org/2000/svg\"><path class=\"_2aPE6f\" d=\"M16 23.207L6.11 13.161 16 3.093 12.955 0 0 13.161l12.955 13.161z\" fill=\"#fff\"></path></svg><div class=\"_3E8aIl _38dCuf\"><div class=\"_3XCI6U\"><a href=\"/reviews/MOBG6VF5ADKHKXFX:64?reviewId=33de0120-0e06-4472-aaca-c7cf9f4b799f\"><span>Permalink</span></a></div><div class=\"_3XCI6U _2b2z-j\"><span>Report Abuse</span></div></div></div></div></div></div></div></div></div><div class=\"_16PBlm _3_IKGE\"><div class=\"col\"><div class=\"col _2wzgFH\"><div class=\"row\"><div class=\"_3LWZlK _1BLPMq\">4<img class=\"_1wB99o\" src=\"data:image/svg+xml;base64,PHN2ZyB4bWxucz0iaHR0cDovL3d3dy53My5vcmcvMjAwMC9zdmciIHdpZHRoPSIxMyIgaGVpZ2h0PSIxMiI+PHBhdGggZmlsbD0iI0ZGRiIgZD0iTTYuNSA5LjQzOWwtMy42NzQgMi4yMy45NC00LjI2LTMuMjEtMi44ODMgNC4yNTQtLjQwNEw2LjUuMTEybDEuNjkgNC4wMSA0LjI1NC40MDQtMy4yMSAyLjg4Mi45NCA0LjI2eiIvPjwvc3ZnPg==\"/></div><p class=\"_2-N8zT\">Nice product</p></div><div class=\"row\"><div class=\"t-ZTKy\"><div><div class=\"\">Best phone for day to day use and photography/videography.</div><span class=\"_1H-bmy\"><span>READ MORE</span></span></div></div></div><div class=\"_2nMSwX _3oLIki\"><div class=\"_21YjFX _2A07HP\" style=\"background-image:url(https://rukminim1.flixcart.com/blobio/124/124/imr/blobio-imr_e59eeff69669474fa0c812e1487d7f6f.jpeg?q=90), url(data:image/svg+xml;base64,PHN2ZyB3aWR0aD0iMjIiIGhlaWdodD0iMTgiIHhtbG5zPSJodHRwOi8vd3d3LnczLm9yZy8yMDAwL3N2ZyI+PGcgZmlsbD0iIzlEOUQ5RCIgZmlsbC1ydWxlPSJub256ZXJvIj48cGF0aCBkPSJNMjAgMEgyQzEgMCAwIDEgMCAydjE0YzAgMS4xLjkgMiAyIDJoMThjMSAwIDItMSAyLTJWMmMwLTEtMS0yLTItMnptMCAxNS45MmMtLjAyLjAzLS4wNi4wNi0uMDguMDhIMlYyLjA4TDIuMDggMmgxNy44M2MuMDMuMDIuMDYuMDYuMDguMDh2MTMuODRIMjB6Ii8+PHBhdGggZD0iTTEwIDEyLjUxTDcuNSA5LjUgNCAxNGgxNGwtNC41LTZ6Ii8+PC9nPjwvc3ZnPg==);width:62px;height:62px\"></div><div class=\"_21YjFX _2A07HP\" style=\"background-image:url(https://rukminim1.flixcart.com/blobio/124/124/imr/blobio-imr_06f4a16c6ba54659b1711f21a42d76ee.jpeg?q=90), url(data:image/svg+xml;base64,PHN2ZyB3aWR0aD0iMjIiIGhlaWdodD0iMTgiIHhtbG5zPSJodHRwOi8vd3d3LnczLm9yZy8yMDAwL3N2ZyI+PGcgZmlsbD0iIzlEOUQ5RCIgZmlsbC1ydWxlPSJub256ZXJvIj48cGF0aCBkPSJNMjAgMEgyQzEgMCAwIDEgMCAydjE0YzAgMS4xLjkgMiAyIDJoMThjMSAwIDItMSAyLTJWMmMwLTEtMS0yLTItMnptMCAxNS45MmMtLjAyLjAzLS4wNi4wNi0uMDguMDhIMlYyLjA4TDIuMDggMmgxNy44M2MuMDMuMDIuMDYuMDYuMDguMDh2MTMuODRIMjB6Ii8+PHBhdGggZD0iTTEwIDEyLjUxTDcuNSA5LjUgNCAxNGgxNGwtNC41LTZ6Ii8+PC9nPjwvc3ZnPg==);width:62px;height:62px\"></div><div class=\"_21YjFX _2A07HP\" style=\"background-image:url(https://rukminim1.flixcart.com/blobio/124/124/imr/blobio-imr_ad1051358b6848f38b87e17db76a1e56.jpeg?q=90), url(data:image/svg+xml;base64,PHN2ZyB3aWR0aD0iMjIiIGhlaWdodD0iMTgiIHhtbG5zPSJodHRwOi8vd3d3LnczLm9yZy8yMDAwL3N2ZyI+PGcgZmlsbD0iIzlEOUQ5RCIgZmlsbC1ydWxlPSJub256ZXJvIj48cGF0aCBkPSJNMjAgMEgyQzEgMCAwIDEgMCAydjE0YzAgMS4xLjkgMiAyIDJoMThjMSAwIDItMSAyLTJWMmMwLTEtMS0yLTItMnptMCAxNS45MmMtLjAyLjAzLS4wNi4wNi0uMDguMDhIMlYyLjA4TDIuMDggMmgxNy44M2MuMDMuMDIuMDYuMDYuMDguMDh2MTMuODRIMjB6Ii8+PHBhdGggZD0iTTEwIDEyLjUxTDcuNSA5LjUgNCAxNGgxNGwtNC41LTZ6Ii8+PC9nPjwvc3ZnPg==);width:62px;height:62px\"></div><div class=\"_21YjFX _2A07HP\" style=\"background-image:url(https://rukminim1.flixcart.com/blobio/124/124/imr/blobio-imr_5f7ce62a06004672b43a6a60b8496c87.jpeg?q=90), url(data:image/svg+xml;base64,PHN2ZyB3aWR0aD0iMjIiIGhlaWdodD0iMTgiIHhtbG5zPSJodHRwOi8vd3d3LnczLm9yZy8yMDAwL3N2ZyI+PGcgZmlsbD0iIzlEOUQ5RCIgZmlsbC1ydWxlPSJub256ZXJvIj48cGF0aCBkPSJNMjAgMEgyQzEgMCAwIDEgMCAydjE0YzAgMS4xLjkgMiAyIDJoMThjMSAwIDItMSAyLTJWMmMwLTEtMS0yLTItMnptMCAxNS45MmMtLjAyLjAzLS4wNi4wNi0uMDguMDhIMlYyLjA4TDIuMDggMmgxNy44M2MuMDMuMDIuMDYuMDYuMDguMDh2MTMuODRIMjB6Ii8+PHBhdGggZD0iTTEwIDEyLjUxTDcuNSA5LjUgNCAxNGgxNGwtNC41LTZ6Ii8+PC9nPjwvc3ZnPg==);width:62px;height:62px\"></div></div><div class=\"row _3n8db9\"><div class=\"row\"><p class=\"_2sc7ZR _2V5EHH\">Prasenjit Bar</p><svg class=\"_2a1p_T\" height=\"14\" viewbox=\"0 0 12 12\" width=\"14\" xmlns=\"http://www.w3.org/2000/svg\"><g><circle cx=\"6\" cy=\"6\" fill=\"#878787\" r=\"6\"></circle><path d=\"M3 6l2 2 4-4\" fill=\"#878787\" stroke=\"#FFF\" stroke-width=\"1.5\"></path></g></svg><p class=\"_2mcZGG\" id=\"review-4f994eaa-1e89-412e-98e7-99328ddbf13e\"><span>Certified Buyer</span><span>, Kolkata</span></p><div></div><p class=\"_2sc7ZR\">9 months ago</p></div><div class=\"_1e9_Zu\"><div class=\"row\"><div class=\"_27aTsS\"><div class=\"_1LmwT9\"><svg class=\"skCrcq\" height=\"15\" width=\"20\" xmlns=\"http://www.w3.org/2000/svg\"><path class=\"_1LIt4y\" d=\"M9.58.006c-.41.043-.794.32-1.01.728-.277.557-2.334 4.693-2.74 5.1-.41.407-.944.6-1.544.6v8.572h7.5c.45 0 .835-.28 1.007-.665 0 0 2.207-6.234 2.207-6.834 0-.6-.47-1.072-1.07-1.072h-3.216c-.6 0-1.07-.535-1.07-1.07 0-.537.835-3.387 1.006-3.944.17-.557-.107-1.157-.664-1.35-.15-.043-.257-.086-.407-.064zM0 6.434v8.572h2.143V6.434H0z\" fill=\"#fff\" fill-rule=\"evenodd\"></path></svg><span class=\"_3c3Px5\">456</span></div><div class=\"_1LmwT9 pkR4jH\"><svg class=\"skCrcq pkR4jH\" height=\"15\" width=\"20\" xmlns=\"http://www.w3.org/2000/svg\"><path class=\"_1LIt4y\" d=\"M9.58.006c-.41.043-.794.32-1.01.728-.277.557-2.334 4.693-2.74 5.1-.41.407-.944.6-1.544.6v8.572h7.5c.45 0 .835-.28 1.007-.665 0 0 2.207-6.234 2.207-6.834 0-.6-.47-1.072-1.07-1.072h-3.216c-.6 0-1.07-.535-1.07-1.07 0-.537.835-3.387 1.006-3.944.17-.557-.107-1.157-.664-1.35-.15-.043-.257-.086-.407-.064zM0 6.434v8.572h2.143V6.434H0z\" fill=\"#fff\" fill-rule=\"evenodd\"></path></svg><span class=\"_3c3Px5\">28</span></div></div><div class=\"_2bmov8\"><svg class=\"_2UvOBb\" height=\"11\" viewbox=\"0 0 16 27\" width=\"6\" xmlns=\"http://www.w3.org/2000/svg\"><path class=\"_2aPE6f\" d=\"M16 23.207L6.11 13.161 16 3.093 12.955 0 0 13.161l12.955 13.161z\" fill=\"#fff\"></path></svg><div class=\"_3E8aIl _38dCuf\"><div class=\"_3XCI6U\"><a href=\"/reviews/MOBG6VF59ZFEPEBX:415?reviewId=4f994eaa-1e89-412e-98e7-99328ddbf13e\"><span>Permalink</span></a></div><div class=\"_3XCI6U _2b2z-j\"><span>Report Abuse</span></div></div></div></div></div></div></div></div></div><div class=\"_16PBlm _3_IKGE\"><div class=\"col\"><div class=\"col _2wzgFH\"><div class=\"row\"><div class=\"_3LWZlK _1BLPMq\">5<img class=\"_1wB99o\" src=\"data:image/svg+xml;base64,PHN2ZyB4bWxucz0iaHR0cDovL3d3dy53My5vcmcvMjAwMC9zdmciIHdpZHRoPSIxMyIgaGVpZ2h0PSIxMiI+PHBhdGggZmlsbD0iI0ZGRiIgZD0iTTYuNSA5LjQzOWwtMy42NzQgMi4yMy45NC00LjI2LTMuMjEtMi44ODMgNC4yNTQtLjQwNEw2LjUuMTEybDEuNjkgNC4wMSA0LjI1NC40MDQtMy4yMSAyLjg4Mi45NCA0LjI2eiIvPjwvc3ZnPg==\"/></div><p class=\"_2-N8zT\">Mind-blowing purchase</p></div><div class=\"row\"><div class=\"t-ZTKy\"><div><div class=\"\">Great performance 🥰</div><span class=\"_1H-bmy\"><span>READ MORE</span></span></div></div></div><div class=\"_2nMSwX _3oLIki\"><div class=\"_21YjFX _2A07HP\" style=\"background-image:url(https://rukminim1.flixcart.com/blobio/124/124/imr-202111/blobio-imr-202111_6a9a44325ca3498fafcdbe767f3533d6.jpeg?q=90), url(data:image/svg+xml;base64,PHN2ZyB3aWR0aD0iMjIiIGhlaWdodD0iMTgiIHhtbG5zPSJodHRwOi8vd3d3LnczLm9yZy8yMDAwL3N2ZyI+PGcgZmlsbD0iIzlEOUQ5RCIgZmlsbC1ydWxlPSJub256ZXJvIj48cGF0aCBkPSJNMjAgMEgyQzEgMCAwIDEgMCAydjE0YzAgMS4xLjkgMiAyIDJoMThjMSAwIDItMSAyLTJWMmMwLTEtMS0yLTItMnptMCAxNS45MmMtLjAyLjAzLS4wNi4wNi0uMDguMDhIMlYyLjA4TDIuMDggMmgxNy44M2MuMDMuMDIuMDYuMDYuMDguMDh2MTMuODRIMjB6Ii8+PHBhdGggZD0iTTEwIDEyLjUxTDcuNSA5LjUgNCAxNGgxNGwtNC41LTZ6Ii8+PC9nPjwvc3ZnPg==);width:62px;height:62px\"></div></div><div class=\"row _3n8db9\"><div class=\"row\"><p class=\"_2sc7ZR _2V5EHH\">Peris Kumar Bhagat</p><svg class=\"_2a1p_T\" height=\"14\" viewbox=\"0 0 12 12\" width=\"14\" xmlns=\"http://www.w3.org/2000/svg\"><g><circle cx=\"6\" cy=\"6\" fill=\"#878787\" r=\"6\"></circle><path d=\"M3 6l2 2 4-4\" fill=\"#878787\" stroke=\"#FFF\" stroke-width=\"1.5\"></path></g></svg><p class=\"_2mcZGG\" id=\"review-fc1ac109-bd92-4d7c-9c28-3f0575b15d83\"><span>Certified Buyer</span><span>, Purnia</span></p><div></div><p class=\"_2sc7ZR\">Nov, 2021</p></div><div class=\"_1e9_Zu\"><div class=\"row\"><div class=\"_27aTsS\"><div class=\"_1LmwT9\"><svg class=\"skCrcq\" height=\"15\" width=\"20\" xmlns=\"http://www.w3.org/2000/svg\"><path class=\"_1LIt4y\" d=\"M9.58.006c-.41.043-.794.32-1.01.728-.277.557-2.334 4.693-2.74 5.1-.41.407-.944.6-1.544.6v8.572h7.5c.45 0 .835-.28 1.007-.665 0 0 2.207-6.234 2.207-6.834 0-.6-.47-1.072-1.07-1.072h-3.216c-.6 0-1.07-.535-1.07-1.07 0-.537.835-3.387 1.006-3.944.17-.557-.107-1.157-.664-1.35-.15-.043-.257-.086-.407-.064zM0 6.434v8.572h2.143V6.434H0z\" fill=\"#fff\" fill-rule=\"evenodd\"></path></svg><span class=\"_3c3Px5\">684</span></div><div class=\"_1LmwT9 pkR4jH\"><svg class=\"skCrcq pkR4jH\" height=\"15\" width=\"20\" xmlns=\"http://www.w3.org/2000/svg\"><path class=\"_1LIt4y\" d=\"M9.58.006c-.41.043-.794.32-1.01.728-.277.557-2.334 4.693-2.74 5.1-.41.407-.944.6-1.544.6v8.572h7.5c.45 0 .835-.28 1.007-.665 0 0 2.207-6.234 2.207-6.834 0-.6-.47-1.072-1.07-1.072h-3.216c-.6 0-1.07-.535-1.07-1.07 0-.537.835-3.387 1.006-3.944.17-.557-.107-1.157-.664-1.35-.15-.043-.257-.086-.407-.064zM0 6.434v8.572h2.143V6.434H0z\" fill=\"#fff\" fill-rule=\"evenodd\"></path></svg><span class=\"_3c3Px5\">50</span></div></div><div class=\"_2bmov8\"><svg class=\"_2UvOBb\" height=\"11\" viewbox=\"0 0 16 27\" width=\"6\" xmlns=\"http://www.w3.org/2000/svg\"><path class=\"_2aPE6f\" d=\"M16 23.207L6.11 13.161 16 3.093 12.955 0 0 13.161l12.955 13.161z\" fill=\"#fff\"></path></svg><div class=\"_3E8aIl _38dCuf\"><div class=\"_3XCI6U\"><a href=\"/reviews/MOBG6VF566ZTUVFR:12?reviewId=fc1ac109-bd92-4d7c-9c28-3f0575b15d83\"><span>Permalink</span></a></div><div class=\"_3XCI6U _2b2z-j\"><span>Report Abuse</span></div></div></div></div></div></div></div></div></div></div><div class=\"_2c2kV-\"><span class=\"MCE--B\">+</span></div><a href=\"/apple-iphone-13-blue-128-gb/product-reviews/itm6c601e0a58b3c?pid=MOBG6VF5SMXPNQHG&amp;lid=LSTMOBG6VF5SMXPNQHGH3DY6Z&amp;marketplace=FLIPKART\"><div class=\"_3UAT2v _16PBlm\"><span class=\"\">All 12047 reviews</span></div></a></div></div><div class=\"_1AtVbE col-12-12\"><div class=\"_1v1N_F\"><div><div class=\"row _1uIQVx\"><div class=\"_2n4XY2 _1d7nTU col\">Questions and Answers</div><div class=\"col AJmKFS\"><img height=\"20\" src=\"data:image/svg+xml;base64,PHN2ZyB3aWR0aD0iMTYiIGhlaWdodD0iMTYiIHZpZXdCb3g9IjAgMCAxNiAxNiIgeG1sbnM9Imh0dHA6Ly93d3cudzMub3JnLzIwMDAvc3ZnIj48dGl0bGU+R3JvdXAgNTwvdGl0bGU+PGcgZmlsbD0iIzIxMjEyMSIgZmlsbC1ydWxlPSJldmVub2RkIj48cGF0aCBkPSJNMTEuNjE4IDkuODk3bDQuMjI0IDQuMjEyYy4wOTIuMDkuMS4yMy4wMi4zMTJsLTEuNDY0IDEuNDZjLS4wOC4wOC0uMjIyLjA3Mi0uMzE0LS4wMkw5Ljg2OCAxMS42Nk02LjQ4NiAxMC45Yy0yLjQyIDAtNC4zOC0xLjk1NS00LjM4LTQuMzY3IDAtMi40MTMgMS45Ni00LjM3IDQuMzgtNC4zN3M0LjM4IDEuOTU3IDQuMzggNC4zN2MwIDIuNDEyLTEuOTYgNC4zNjgtNC4zOCA0LjM2OG0wLTEwLjgzNEMyLjkwNC4wNjYgMCAyLjk2IDAgNi41MzMgMCAxMC4xMDUgMi45MDQgMTMgNi40ODYgMTNzNi40ODctMi44OTUgNi40ODctNi40NjdjMC0zLjU3Mi0yLjkwNS02LjQ2Ny02LjQ4Ny02LjQ2NyIvPjwvZz48L3N2Zz4=\" width=\"20\"/></div></div><div class=\"\"><div class=\"_1RWRBu\"><div><div class=\"_1xR0kG _3cziW5\"><span class=\"_3PSmm0\">Q:</span><span>Can i take selfie under swimming pool</span></div><div><div class=\"_2yeNfb\"><span class=\"_3PSmm0\">A:</span><span>Yes, you can take. It has IP68 dust/water resistant (up to 6m for 30 mins).</span></div><div class=\"_1OuUqT\"><div class=\"_1nBIs6\"><div class=\"qLyyvN\"><span class=\"_2GEIK5\">Chandru Ramasamy</span></div><span class=\"OE2Dzi\"><svg class=\"_3V5JvW\" height=\"14\" viewbox=\"0 0 12 12\" width=\"14\" xmlns=\"http://www.w3.org/2000/svg\"><g><circle cx=\"6\" cy=\"6\" fill=\"#878787\" r=\"6\"></circle><path d=\"M3 6l2 2 4-4\" fill=\"#878787\" stroke=\"#FFF\" stroke-width=\"1.5\"></path></g></svg>Certified Buyer</span></div><div class=\"_1O5m0R\"><div class=\"_1LmwT9 _1EEi-k\"><svg class=\"skCrcq\" height=\"15\" width=\"20\" xmlns=\"http://www.w3.org/2000/svg\"><path class=\"_1LIt4y\" d=\"M9.58.006c-.41.043-.794.32-1.01.728-.277.557-2.334 4.693-2.74 5.1-.41.407-.944.6-1.544.6v8.572h7.5c.45 0 .835-.28 1.007-.665 0 0 2.207-6.234 2.207-6.834 0-.6-.47-1.072-1.07-1.072h-3.216c-.6 0-1.07-.535-1.07-1.07 0-.537.835-3.387 1.006-3.944.17-.557-.107-1.157-.664-1.35-.15-.043-.257-.086-.407-.064zM0 6.434v8.572h2.143V6.434H0z\" fill=\"#fff\" fill-rule=\"evenodd\"></path></svg><span class=\"_3c3Px5\">401</span></div><div class=\"_1LmwT9 pkR4jH _1EEi-k\"><svg class=\"skCrcq pkR4jH\" height=\"15\" width=\"20\" xmlns=\"http://www.w3.org/2000/svg\"><path class=\"_1LIt4y\" d=\"M9.58.006c-.41.043-.794.32-1.01.728-.277.557-2.334 4.693-2.74 5.1-.41.407-.944.6-1.544.6v8.572h7.5c.45 0 .835-.28 1.007-.665 0 0 2.207-6.234 2.207-6.834 0-.6-.47-1.072-1.07-1.072h-3.216c-.6 0-1.07-.535-1.07-1.07 0-.537.835-3.387 1.006-3.944.17-.557-.107-1.157-.664-1.35-.15-.043-.257-.086-.407-.064zM0 6.434v8.572h2.143V6.434H0z\" fill=\"#fff\" fill-rule=\"evenodd\"></path></svg><span class=\"_3c3Px5\">87</span></div></div><div class=\"_2bmov8\"><svg class=\"_2UvOBb\" height=\"11\" viewbox=\"0 0 16 27\" width=\"6\" xmlns=\"http://www.w3.org/2000/svg\"><path class=\"_2aPE6f\" d=\"M16 23.207L6.11 13.161 16 3.093 12.955 0 0 13.161l12.955 13.161z\" fill=\"#fff\"></path></svg><div class=\"_3E8aIl _38dCuf\"><div class=\"_3XCI6U _2b2z-j\"><span>Report Abuse</span></div></div></div></div></div></div></div><div class=\"_1RWRBu\"><div><div class=\"_1xR0kG _3cziW5\"><span class=\"_3PSmm0\">Q:</span><span>iPhone 12 battery backup is good or iPhone 13 ?</span></div><div><div class=\"_2yeNfb\"><span class=\"_3PSmm0\">A:</span><span>Iphone 13</span></div><div class=\"_1OuUqT\"><div class=\"_1nBIs6\"><div class=\"qLyyvN\"><span class=\"_2GEIK5\">Laxmipada Pradhan</span></div><span class=\"OE2Dzi\"><svg class=\"_3V5JvW\" height=\"14\" viewbox=\"0 0 12 12\" width=\"14\" xmlns=\"http://www.w3.org/2000/svg\"><g><circle cx=\"6\" cy=\"6\" fill=\"#878787\" r=\"6\"></circle><path d=\"M3 6l2 2 4-4\" fill=\"#878787\" stroke=\"#FFF\" stroke-width=\"1.5\"></path></g></svg>Certified Buyer</span></div><div class=\"_1O5m0R\"><div class=\"_1LmwT9 _1EEi-k\"><svg class=\"skCrcq\" height=\"15\" width=\"20\" xmlns=\"http://www.w3.org/2000/svg\"><path class=\"_1LIt4y\" d=\"M9.58.006c-.41.043-.794.32-1.01.728-.277.557-2.334 4.693-2.74 5.1-.41.407-.944.6-1.544.6v8.572h7.5c.45 0 .835-.28 1.007-.665 0 0 2.207-6.234 2.207-6.834 0-.6-.47-1.072-1.07-1.072h-3.216c-.6 0-1.07-.535-1.07-1.07 0-.537.835-3.387 1.006-3.944.17-.557-.107-1.157-.664-1.35-.15-.043-.257-.086-.407-.064zM0 6.434v8.572h2.143V6.434H0z\" fill=\"#fff\" fill-rule=\"evenodd\"></path></svg><span class=\"_3c3Px5\">734</span></div><div class=\"_1LmwT9 pkR4jH _1EEi-k\"><svg class=\"skCrcq pkR4jH\" height=\"15\" width=\"20\" xmlns=\"http://www.w3.org/2000/svg\"><path class=\"_1LIt4y\" d=\"M9.58.006c-.41.043-.794.32-1.01.728-.277.557-2.334 4.693-2.74 5.1-.41.407-.944.6-1.544.6v8.572h7.5c.45 0 .835-.28 1.007-.665 0 0 2.207-6.234 2.207-6.834 0-.6-.47-1.072-1.07-1.072h-3.216c-.6 0-1.07-.535-1.07-1.07 0-.537.835-3.387 1.006-3.944.17-.557-.107-1.157-.664-1.35-.15-.043-.257-.086-.407-.064zM0 6.434v8.572h2.143V6.434H0z\" fill=\"#fff\" fill-rule=\"evenodd\"></path></svg><span class=\"_3c3Px5\">175</span></div></div><div class=\"_2bmov8\"><svg class=\"_2UvOBb\" height=\"11\" viewbox=\"0 0 16 27\" width=\"6\" xmlns=\"http://www.w3.org/2000/svg\"><path class=\"_2aPE6f\" d=\"M16 23.207L6.11 13.161 16 3.093 12.955 0 0 13.161l12.955 13.161z\" fill=\"#fff\"></path></svg><div class=\"_3E8aIl _38dCuf\"><div class=\"_3XCI6U _2b2z-j\"><span>Report Abuse</span></div></div></div></div></div><a class=\"nC1FHF\" href=\"#\">Read other answers</a></div></div><div class=\"_1RWRBu\"><div><div class=\"_1xR0kG _3cziW5\"><span class=\"_3PSmm0\">Q:</span><span>Is its screen breakable</span></div><div><div class=\"_2yeNfb\"><span class=\"_3PSmm0\">A:</span><span>It isn't breakable in normal slips or falls. It has got the toughest glass in any smartphone it seems. But other than that, it will. Glass is glass and has its limits.</span></div><div class=\"_1OuUqT\"><div class=\"_1nBIs6\"><div class=\"qLyyvN\"><span class=\"_2GEIK5\">Rajaneesh Vijayan</span></div><span class=\"OE2Dzi\"><svg class=\"_3V5JvW\" height=\"14\" viewbox=\"0 0 12 12\" width=\"14\" xmlns=\"http://www.w3.org/2000/svg\"><g><circle cx=\"6\" cy=\"6\" fill=\"#878787\" r=\"6\"></circle><path d=\"M3 6l2 2 4-4\" fill=\"#878787\" stroke=\"#FFF\" stroke-width=\"1.5\"></path></g></svg>Certified Buyer</span></div><div class=\"_1O5m0R\"><div class=\"_1LmwT9 _1EEi-k\"><svg class=\"skCrcq\" height=\"15\" width=\"20\" xmlns=\"http://www.w3.org/2000/svg\"><path class=\"_1LIt4y\" d=\"M9.58.006c-.41.043-.794.32-1.01.728-.277.557-2.334 4.693-2.74 5.1-.41.407-.944.6-1.544.6v8.572h7.5c.45 0 .835-.28 1.007-.665 0 0 2.207-6.234 2.207-6.834 0-.6-.47-1.072-1.07-1.072h-3.216c-.6 0-1.07-.535-1.07-1.07 0-.537.835-3.387 1.006-3.944.17-.557-.107-1.157-.664-1.35-.15-.043-.257-.086-.407-.064zM0 6.434v8.572h2.143V6.434H0z\" fill=\"#fff\" fill-rule=\"evenodd\"></path></svg><span class=\"_3c3Px5\">172</span></div><div class=\"_1LmwT9 pkR4jH _1EEi-k\"><svg class=\"skCrcq pkR4jH\" height=\"15\" width=\"20\" xmlns=\"http://www.w3.org/2000/svg\"><path class=\"_1LIt4y\" d=\"M9.58.006c-.41.043-.794.32-1.01.728-.277.557-2.334 4.693-2.74 5.1-.41.407-.944.6-1.544.6v8.572h7.5c.45 0 .835-.28 1.007-.665 0 0 2.207-6.234 2.207-6.834 0-.6-.47-1.072-1.07-1.072h-3.216c-.6 0-1.07-.535-1.07-1.07 0-.537.835-3.387 1.006-3.944.17-.557-.107-1.157-.664-1.35-.15-.043-.257-.086-.407-.064zM0 6.434v8.572h2.143V6.434H0z\" fill=\"#fff\" fill-rule=\"evenodd\"></path></svg><span class=\"_3c3Px5\">41</span></div></div><div class=\"_2bmov8\"><svg class=\"_2UvOBb\" height=\"11\" viewbox=\"0 0 16 27\" width=\"6\" xmlns=\"http://www.w3.org/2000/svg\"><path class=\"_2aPE6f\" d=\"M16 23.207L6.11 13.161 16 3.093 12.955 0 0 13.161l12.955 13.161z\" fill=\"#fff\"></path></svg><div class=\"_3E8aIl _38dCuf\"><div class=\"_3XCI6U _2b2z-j\"><span>Report Abuse</span></div></div></div></div></div></div></div><div class=\"_1RWRBu _36IZKv\"><div><div class=\"_1xR0kG _3cziW5\"><span class=\"_3PSmm0\">Q:</span><span>I am a bit confused which phone should I get iPhone 12 or iPhone 13?</span></div><div><div class=\"_2yeNfb\"><span class=\"_3PSmm0\">A:</span><span>iPhone 13</span></div><div class=\"_1OuUqT\"><div class=\"_1nBIs6\"><div class=\"qLyyvN\"><span class=\"_2GEIK5\">Anonymous</span></div><span class=\"OE2Dzi\"><svg class=\"_3V5JvW\" height=\"14\" viewbox=\"0 0 12 12\" width=\"14\" xmlns=\"http://www.w3.org/2000/svg\"><g><circle cx=\"6\" cy=\"6\" fill=\"#878787\" r=\"6\"></circle><path d=\"M3 6l2 2 4-4\" fill=\"#878787\" stroke=\"#FFF\" stroke-width=\"1.5\"></path></g></svg>Certified Buyer</span></div><div class=\"_1O5m0R\"><div class=\"_1LmwT9 _1EEi-k\"><svg class=\"skCrcq\" height=\"15\" width=\"20\" xmlns=\"http://www.w3.org/2000/svg\"><path class=\"_1LIt4y\" d=\"M9.58.006c-.41.043-.794.32-1.01.728-.277.557-2.334 4.693-2.74 5.1-.41.407-.944.6-1.544.6v8.572h7.5c.45 0 .835-.28 1.007-.665 0 0 2.207-6.234 2.207-6.834 0-.6-.47-1.072-1.07-1.072h-3.216c-.6 0-1.07-.535-1.07-1.07 0-.537.835-3.387 1.006-3.944.17-.557-.107-1.157-.664-1.35-.15-.043-.257-.086-.407-.064zM0 6.434v8.572h2.143V6.434H0z\" fill=\"#fff\" fill-rule=\"evenodd\"></path></svg><span class=\"_3c3Px5\">183</span></div><div class=\"_1LmwT9 pkR4jH _1EEi-k\"><svg class=\"skCrcq pkR4jH\" height=\"15\" width=\"20\" xmlns=\"http://www.w3.org/2000/svg\"><path class=\"_1LIt4y\" d=\"M9.58.006c-.41.043-.794.32-1.01.728-.277.557-2.334 4.693-2.74 5.1-.41.407-.944.6-1.544.6v8.572h7.5c.45 0 .835-.28 1.007-.665 0 0 2.207-6.234 2.207-6.834 0-.6-.47-1.072-1.07-1.072h-3.216c-.6 0-1.07-.535-1.07-1.07 0-.537.835-3.387 1.006-3.944.17-.557-.107-1.157-.664-1.35-.15-.043-.257-.086-.407-.064zM0 6.434v8.572h2.143V6.434H0z\" fill=\"#fff\" fill-rule=\"evenodd\"></path></svg><span class=\"_3c3Px5\">47</span></div></div><div class=\"_2bmov8\"><svg class=\"_2UvOBb\" height=\"11\" viewbox=\"0 0 16 27\" width=\"6\" xmlns=\"http://www.w3.org/2000/svg\"><path class=\"_2aPE6f\" d=\"M16 23.207L6.11 13.161 16 3.093 12.955 0 0 13.161l12.955 13.161z\" fill=\"#fff\"></path></svg><div class=\"_3E8aIl _38dCuf\"><div class=\"_3XCI6U _2b2z-j\"><span>Report Abuse</span></div></div></div></div></div></div></div><div class=\"_1RWRBu _36IZKv\"><div><div class=\"_1xR0kG _3cziW5\"><span class=\"_3PSmm0\">Q:</span><span>Is this product an Indian unit or global unit ??</span></div><div><div class=\"_2yeNfb\"><span class=\"_3PSmm0\">A:</span><span>Indian unit</span></div><div class=\"_1OuUqT\"><div class=\"_1nBIs6\"><div class=\"qLyyvN\"><span class=\"_2GEIK5\">vaibhav  chawda</span></div><span class=\"OE2Dzi\"><svg class=\"_3V5JvW\" height=\"14\" viewbox=\"0 0 12 12\" width=\"14\" xmlns=\"http://www.w3.org/2000/svg\"><g><circle cx=\"6\" cy=\"6\" fill=\"#878787\" r=\"6\"></circle><path d=\"M3 6l2 2 4-4\" fill=\"#878787\" stroke=\"#FFF\" stroke-width=\"1.5\"></path></g></svg>Certified Buyer</span></div><div class=\"_1O5m0R\"><div class=\"_1LmwT9 _1EEi-k\"><svg class=\"skCrcq\" height=\"15\" width=\"20\" xmlns=\"http://www.w3.org/2000/svg\"><path class=\"_1LIt4y\" d=\"M9.58.006c-.41.043-.794.32-1.01.728-.277.557-2.334 4.693-2.74 5.1-.41.407-.944.6-1.544.6v8.572h7.5c.45 0 .835-.28 1.007-.665 0 0 2.207-6.234 2.207-6.834 0-.6-.47-1.072-1.07-1.072h-3.216c-.6 0-1.07-.535-1.07-1.07 0-.537.835-3.387 1.006-3.944.17-.557-.107-1.157-.664-1.35-.15-.043-.257-.086-.407-.064zM0 6.434v8.572h2.143V6.434H0z\" fill=\"#fff\" fill-rule=\"evenodd\"></path></svg><span class=\"_3c3Px5\">57</span></div><div class=\"_1LmwT9 pkR4jH _1EEi-k\"><svg class=\"skCrcq pkR4jH\" height=\"15\" width=\"20\" xmlns=\"http://www.w3.org/2000/svg\"><path class=\"_1LIt4y\" d=\"M9.58.006c-.41.043-.794.32-1.01.728-.277.557-2.334 4.693-2.74 5.1-.41.407-.944.6-1.544.6v8.572h7.5c.45 0 .835-.28 1.007-.665 0 0 2.207-6.234 2.207-6.834 0-.6-.47-1.072-1.07-1.072h-3.216c-.6 0-1.07-.535-1.07-1.07 0-.537.835-3.387 1.006-3.944.17-.557-.107-1.157-.664-1.35-.15-.043-.257-.086-.407-.064zM0 6.434v8.572h2.143V6.434H0z\" fill=\"#fff\" fill-rule=\"evenodd\"></path></svg><span class=\"_3c3Px5\">12</span></div></div><div class=\"_2bmov8\"><svg class=\"_2UvOBb\" height=\"11\" viewbox=\"0 0 16 27\" width=\"6\" xmlns=\"http://www.w3.org/2000/svg\"><path class=\"_2aPE6f\" d=\"M16 23.207L6.11 13.161 16 3.093 12.955 0 0 13.161l12.955 13.161z\" fill=\"#fff\"></path></svg><div class=\"_3E8aIl _38dCuf\"><div class=\"_3XCI6U _2b2z-j\"><span>Report Abuse</span></div></div></div></div></div></div></div><div class=\"_1RWRBu _36IZKv\"><div><div class=\"_1xR0kG _3cziW5\"><span class=\"_3PSmm0\">Q:</span><span>I phone 13 is water resistant???</span></div><div><div class=\"_2yeNfb\"><span class=\"_3PSmm0\">A:</span><span>Yes</span></div><div class=\"_1OuUqT\"><div class=\"_1nBIs6\"><div class=\"qLyyvN\"><span class=\"_2GEIK5\">Abhishek pratap   Singh</span></div><span class=\"OE2Dzi\"><svg class=\"_3V5JvW\" height=\"14\" viewbox=\"0 0 12 12\" width=\"14\" xmlns=\"http://www.w3.org/2000/svg\"><g><circle cx=\"6\" cy=\"6\" fill=\"#878787\" r=\"6\"></circle><path d=\"M3 6l2 2 4-4\" fill=\"#878787\" stroke=\"#FFF\" stroke-width=\"1.5\"></path></g></svg>Certified Buyer</span></div><div class=\"_1O5m0R\"><div class=\"_1LmwT9 _1EEi-k\"><svg class=\"skCrcq\" height=\"15\" width=\"20\" xmlns=\"http://www.w3.org/2000/svg\"><path class=\"_1LIt4y\" d=\"M9.58.006c-.41.043-.794.32-1.01.728-.277.557-2.334 4.693-2.74 5.1-.41.407-.944.6-1.544.6v8.572h7.5c.45 0 .835-.28 1.007-.665 0 0 2.207-6.234 2.207-6.834 0-.6-.47-1.072-1.07-1.072h-3.216c-.6 0-1.07-.535-1.07-1.07 0-.537.835-3.387 1.006-3.944.17-.557-.107-1.157-.664-1.35-.15-.043-.257-.086-.407-.064zM0 6.434v8.572h2.143V6.434H0z\" fill=\"#fff\" fill-rule=\"evenodd\"></path></svg><span class=\"_3c3Px5\">68</span></div><div class=\"_1LmwT9 pkR4jH _1EEi-k\"><svg class=\"skCrcq pkR4jH\" height=\"15\" width=\"20\" xmlns=\"http://www.w3.org/2000/svg\"><path class=\"_1LIt4y\" d=\"M9.58.006c-.41.043-.794.32-1.01.728-.277.557-2.334 4.693-2.74 5.1-.41.407-.944.6-1.544.6v8.572h7.5c.45 0 .835-.28 1.007-.665 0 0 2.207-6.234 2.207-6.834 0-.6-.47-1.072-1.07-1.072h-3.216c-.6 0-1.07-.535-1.07-1.07 0-.537.835-3.387 1.006-3.944.17-.557-.107-1.157-.664-1.35-.15-.043-.257-.086-.407-.064zM0 6.434v8.572h2.143V6.434H0z\" fill=\"#fff\" fill-rule=\"evenodd\"></path></svg><span class=\"_3c3Px5\">14</span></div></div><div class=\"_2bmov8\"><svg class=\"_2UvOBb\" height=\"11\" viewbox=\"0 0 16 27\" width=\"6\" xmlns=\"http://www.w3.org/2000/svg\"><path class=\"_2aPE6f\" d=\"M16 23.207L6.11 13.161 16 3.093 12.955 0 0 13.161l12.955 13.161z\" fill=\"#fff\"></path></svg><div class=\"_3E8aIl _38dCuf\"><div class=\"_3XCI6U _2b2z-j\"><span>Report Abuse</span></div></div></div></div></div><a class=\"nC1FHF\" href=\"#\">Read other answers</a></div></div><div class=\"_1RWRBu _36IZKv\"><div><div class=\"_1xR0kG _3cziW5\"><span class=\"_3PSmm0\">Q:</span><span>IPhone 13 is a new phone</span></div><div><div class=\"_2yeNfb\"><span class=\"_3PSmm0\">A:</span><span>No, iPhone 14 released</span></div><div class=\"_1OuUqT\"><div class=\"_1nBIs6\"><div class=\"qLyyvN\"><span class=\"_2GEIK5\">Anonymous</span></div><span class=\"OE2Dzi\"><svg class=\"_3V5JvW\" height=\"14\" viewbox=\"0 0 12 12\" width=\"14\" xmlns=\"http://www.w3.org/2000/svg\"><g><circle cx=\"6\" cy=\"6\" fill=\"#878787\" r=\"6\"></circle><path d=\"M3 6l2 2 4-4\" fill=\"#878787\" stroke=\"#FFF\" stroke-width=\"1.5\"></path></g></svg>Certified Buyer</span></div><div class=\"_1O5m0R\"><div class=\"_1LmwT9 _1EEi-k\"><svg class=\"skCrcq\" height=\"15\" width=\"20\" xmlns=\"http://www.w3.org/2000/svg\"><path class=\"_1LIt4y\" d=\"M9.58.006c-.41.043-.794.32-1.01.728-.277.557-2.334 4.693-2.74 5.1-.41.407-.944.6-1.544.6v8.572h7.5c.45 0 .835-.28 1.007-.665 0 0 2.207-6.234 2.207-6.834 0-.6-.47-1.072-1.07-1.072h-3.216c-.6 0-1.07-.535-1.07-1.07 0-.537.835-3.387 1.006-3.944.17-.557-.107-1.157-.664-1.35-.15-.043-.257-.086-.407-.064zM0 6.434v8.572h2.143V6.434H0z\" fill=\"#fff\" fill-rule=\"evenodd\"></path></svg><span class=\"_3c3Px5\">69</span></div><div class=\"_1LmwT9 pkR4jH _1EEi-k\"><svg class=\"skCrcq pkR4jH\" height=\"15\" width=\"20\" xmlns=\"http://www.w3.org/2000/svg\"><path class=\"_1LIt4y\" d=\"M9.58.006c-.41.043-.794.32-1.01.728-.277.557-2.334 4.693-2.74 5.1-.41.407-.944.6-1.544.6v8.572h7.5c.45 0 .835-.28 1.007-.665 0 0 2.207-6.234 2.207-6.834 0-.6-.47-1.072-1.07-1.072h-3.216c-.6 0-1.07-.535-1.07-1.07 0-.537.835-3.387 1.006-3.944.17-.557-.107-1.157-.664-1.35-.15-.043-.257-.086-.407-.064zM0 6.434v8.572h2.143V6.434H0z\" fill=\"#fff\" fill-rule=\"evenodd\"></path></svg><span class=\"_3c3Px5\">15</span></div></div><div class=\"_2bmov8\"><svg class=\"_2UvOBb\" height=\"11\" viewbox=\"0 0 16 27\" width=\"6\" xmlns=\"http://www.w3.org/2000/svg\"><path class=\"_2aPE6f\" d=\"M16 23.207L6.11 13.161 16 3.093 12.955 0 0 13.161l12.955 13.161z\" fill=\"#fff\"></path></svg><div class=\"_3E8aIl _38dCuf\"><div class=\"_3XCI6U _2b2z-j\"><span>Report Abuse</span></div></div></div></div></div></div></div><div class=\"_1RWRBu _36IZKv\"><div><div class=\"_1xR0kG _3cziW5\"><span class=\"_3PSmm0\">Q:</span><span>Can we use jio sim?</span></div><div><div class=\"_2yeNfb\"><span class=\"_3PSmm0\">A:</span><span>Yes you can i am using jio sim as well</span></div><div class=\"_1OuUqT\"><div class=\"_1nBIs6\"><div class=\"qLyyvN\"><span class=\"_2GEIK5\">Shaizada Navi</span></div><span class=\"OE2Dzi\"><svg class=\"_3V5JvW\" height=\"14\" viewbox=\"0 0 12 12\" width=\"14\" xmlns=\"http://www.w3.org/2000/svg\"><g><circle cx=\"6\" cy=\"6\" fill=\"#878787\" r=\"6\"></circle><path d=\"M3 6l2 2 4-4\" fill=\"#878787\" stroke=\"#FFF\" stroke-width=\"1.5\"></path></g></svg>Certified Buyer</span></div><div class=\"_1O5m0R\"><div class=\"_1LmwT9 _1EEi-k\"><svg class=\"skCrcq\" height=\"15\" width=\"20\" xmlns=\"http://www.w3.org/2000/svg\"><path class=\"_1LIt4y\" d=\"M9.58.006c-.41.043-.794.32-1.01.728-.277.557-2.334 4.693-2.74 5.1-.41.407-.944.6-1.544.6v8.572h7.5c.45 0 .835-.28 1.007-.665 0 0 2.207-6.234 2.207-6.834 0-.6-.47-1.072-1.07-1.072h-3.216c-.6 0-1.07-.535-1.07-1.07 0-.537.835-3.387 1.006-3.944.17-.557-.107-1.157-.664-1.35-.15-.043-.257-.086-.407-.064zM0 6.434v8.572h2.143V6.434H0z\" fill=\"#fff\" fill-rule=\"evenodd\"></path></svg><span class=\"_3c3Px5\">44</span></div><div class=\"_1LmwT9 pkR4jH _1EEi-k\"><svg class=\"skCrcq pkR4jH\" height=\"15\" width=\"20\" xmlns=\"http://www.w3.org/2000/svg\"><path class=\"_1LIt4y\" d=\"M9.58.006c-.41.043-.794.32-1.01.728-.277.557-2.334 4.693-2.74 5.1-.41.407-.944.6-1.544.6v8.572h7.5c.45 0 .835-.28 1.007-.665 0 0 2.207-6.234 2.207-6.834 0-.6-.47-1.072-1.07-1.072h-3.216c-.6 0-1.07-.535-1.07-1.07 0-.537.835-3.387 1.006-3.944.17-.557-.107-1.157-.664-1.35-.15-.043-.257-.086-.407-.064zM0 6.434v8.572h2.143V6.434H0z\" fill=\"#fff\" fill-rule=\"evenodd\"></path></svg><span class=\"_3c3Px5\">9</span></div></div><div class=\"_2bmov8\"><svg class=\"_2UvOBb\" height=\"11\" viewbox=\"0 0 16 27\" width=\"6\" xmlns=\"http://www.w3.org/2000/svg\"><path class=\"_2aPE6f\" d=\"M16 23.207L6.11 13.161 16 3.093 12.955 0 0 13.161l12.955 13.161z\" fill=\"#fff\"></path></svg><div class=\"_3E8aIl _38dCuf\"><div class=\"_3XCI6U _2b2z-j\"><span>Report Abuse</span></div></div></div></div></div></div></div><div class=\"_1RWRBu _36IZKv\"><div><div class=\"_1xR0kG _3cziW5\"><span class=\"_3PSmm0\">Q:</span><span>How many hours we can use it after fully charged?</span></div><div><div class=\"_2yeNfb\"><span class=\"_3PSmm0\">A:</span><span>1 day for ave use</span></div><div class=\"_1OuUqT\"><div class=\"_1nBIs6\"><div class=\"qLyyvN\"><span class=\"_2GEIK5\">Flipkart Customer</span></div><span class=\"OE2Dzi\"><svg class=\"_3V5JvW\" height=\"14\" viewbox=\"0 0 12 12\" width=\"14\" xmlns=\"http://www.w3.org/2000/svg\"><g><circle cx=\"6\" cy=\"6\" fill=\"#878787\" r=\"6\"></circle><path d=\"M3 6l2 2 4-4\" fill=\"#878787\" stroke=\"#FFF\" stroke-width=\"1.5\"></path></g></svg>Certified Buyer</span></div><div class=\"_1O5m0R\"><div class=\"_1LmwT9 _1EEi-k\"><svg class=\"skCrcq\" height=\"15\" width=\"20\" xmlns=\"http://www.w3.org/2000/svg\"><path class=\"_1LIt4y\" d=\"M9.58.006c-.41.043-.794.32-1.01.728-.277.557-2.334 4.693-2.74 5.1-.41.407-.944.6-1.544.6v8.572h7.5c.45 0 .835-.28 1.007-.665 0 0 2.207-6.234 2.207-6.834 0-.6-.47-1.072-1.07-1.072h-3.216c-.6 0-1.07-.535-1.07-1.07 0-.537.835-3.387 1.006-3.944.17-.557-.107-1.157-.664-1.35-.15-.043-.257-.086-.407-.064zM0 6.434v8.572h2.143V6.434H0z\" fill=\"#fff\" fill-rule=\"evenodd\"></path></svg><span class=\"_3c3Px5\">52</span></div><div class=\"_1LmwT9 pkR4jH _1EEi-k\"><svg class=\"skCrcq pkR4jH\" height=\"15\" width=\"20\" xmlns=\"http://www.w3.org/2000/svg\"><path class=\"_1LIt4y\" d=\"M9.58.006c-.41.043-.794.32-1.01.728-.277.557-2.334 4.693-2.74 5.1-.41.407-.944.6-1.544.6v8.572h7.5c.45 0 .835-.28 1.007-.665 0 0 2.207-6.234 2.207-6.834 0-.6-.47-1.072-1.07-1.072h-3.216c-.6 0-1.07-.535-1.07-1.07 0-.537.835-3.387 1.006-3.944.17-.557-.107-1.157-.664-1.35-.15-.043-.257-.086-.407-.064zM0 6.434v8.572h2.143V6.434H0z\" fill=\"#fff\" fill-rule=\"evenodd\"></path></svg><span class=\"_3c3Px5\">10</span></div></div><div class=\"_2bmov8\"><svg class=\"_2UvOBb\" height=\"11\" viewbox=\"0 0 16 27\" width=\"6\" xmlns=\"http://www.w3.org/2000/svg\"><path class=\"_2aPE6f\" d=\"M16 23.207L6.11 13.161 16 3.093 12.955 0 0 13.161l12.955 13.161z\" fill=\"#fff\"></path></svg><div class=\"_3E8aIl _38dCuf\"><div class=\"_3XCI6U _2b2z-j\"><span>Report Abuse</span></div></div></div></div></div></div></div><div class=\"_1RWRBu _36IZKv\"><div><div class=\"_1xR0kG _3cziW5\"><span class=\"_3PSmm0\">Q:</span><span>Is it dual sim phone like other android phones ?</span></div><div><div class=\"_2yeNfb\"><span class=\"_3PSmm0\">A:</span><span>You can use dual esim</span></div><div class=\"_1OuUqT\"><div class=\"_1nBIs6\"><div class=\"qLyyvN\"><span class=\"_2GEIK5\">Tushar Chetan</span></div><span class=\"OE2Dzi\"><svg class=\"_3V5JvW\" height=\"14\" viewbox=\"0 0 12 12\" width=\"14\" xmlns=\"http://www.w3.org/2000/svg\"><g><circle cx=\"6\" cy=\"6\" fill=\"#878787\" r=\"6\"></circle><path d=\"M3 6l2 2 4-4\" fill=\"#878787\" stroke=\"#FFF\" stroke-width=\"1.5\"></path></g></svg>Certified Buyer</span></div><div class=\"_1O5m0R\"><div class=\"_1LmwT9 _1EEi-k\"><svg class=\"skCrcq\" height=\"15\" width=\"20\" xmlns=\"http://www.w3.org/2000/svg\"><path class=\"_1LIt4y\" d=\"M9.58.006c-.41.043-.794.32-1.01.728-.277.557-2.334 4.693-2.74 5.1-.41.407-.944.6-1.544.6v8.572h7.5c.45 0 .835-.28 1.007-.665 0 0 2.207-6.234 2.207-6.834 0-.6-.47-1.072-1.07-1.072h-3.216c-.6 0-1.07-.535-1.07-1.07 0-.537.835-3.387 1.006-3.944.17-.557-.107-1.157-.664-1.35-.15-.043-.257-.086-.407-.064zM0 6.434v8.572h2.143V6.434H0z\" fill=\"#fff\" fill-rule=\"evenodd\"></path></svg><span class=\"_3c3Px5\">435</span></div><div class=\"_1LmwT9 pkR4jH _1EEi-k\"><svg class=\"skCrcq pkR4jH\" height=\"15\" width=\"20\" xmlns=\"http://www.w3.org/2000/svg\"><path class=\"_1LIt4y\" d=\"M9.58.006c-.41.043-.794.32-1.01.728-.277.557-2.334 4.693-2.74 5.1-.41.407-.944.6-1.544.6v8.572h7.5c.45 0 .835-.28 1.007-.665 0 0 2.207-6.234 2.207-6.834 0-.6-.47-1.072-1.07-1.072h-3.216c-.6 0-1.07-.535-1.07-1.07 0-.537.835-3.387 1.006-3.944.17-.557-.107-1.157-.664-1.35-.15-.043-.257-.086-.407-.064zM0 6.434v8.572h2.143V6.434H0z\" fill=\"#fff\" fill-rule=\"evenodd\"></path></svg><span class=\"_3c3Px5\">139</span></div></div><div class=\"_2bmov8\"><svg class=\"_2UvOBb\" height=\"11\" viewbox=\"0 0 16 27\" width=\"6\" xmlns=\"http://www.w3.org/2000/svg\"><path class=\"_2aPE6f\" d=\"M16 23.207L6.11 13.161 16 3.093 12.955 0 0 13.161l12.955 13.161z\" fill=\"#fff\"></path></svg><div class=\"_3E8aIl _38dCuf\"><div class=\"_3XCI6U _2b2z-j\"><span>Report Abuse</span></div></div></div></div></div></div></div></div><div class=\"_1bh0RH\"><a class=\"_2KpZ6l dVBe_p\" href=\"/apple-iphone-13-blue-128-gb/product-questions/itm6c601e0a58b3c?pid=MOBG6VF5SMXPNQHG\">All questions</a><span class=\"q_elos\">+</span></div></div></div></div><div class=\"_1AtVbE col-12-12\"><div class=\"_124baV\"><div class=\"_1RVm3P\">Safe and Secure Payments.<!-- -->Easy returns.<!-- -->100% Authentic products.</div></div></div></div></div></div><div class=\"_1AtVbE col-12-12\"><div><div class=\"_3E8aIl CgGDXG\"><div class=\"Bij_nt\">You might be interested in</div><div class=\"_2t5MbR\"><div class=\"_3ZYowz _2CfYpZ\"><div class=\"mYI3GX\"><div class=\"_2hKRMr _3NvaRF _2CfYpZ\" style=\"width:1610px\"><div class=\"_37K3-p\" style=\"-webkit-transform:translateX(0px);-moz-transform:translateX(0px);-o-transform:translateX(0px);-ms-transform:translateX(0px);transform:translateX(0px)\"><div class=\"_3YgSsQ\" style=\"width:400px\"><div class=\"_3sHcdg\"><div class=\"_3EWo-Y row\"><div class=\"_2zKHNp\"><div class=\"_3ywSr_\" style=\"padding-top:120.00%\"><div class=\"_312yBx SFzpgZ\" style=\"padding-top:120.00%\"><img alt=\"\" class=\"_2r_T1I\" src=\"https://rukminim2.flixcart.com/image/400/400/l5fnhjk0/power-bank/d/h/v/-original-imagg3utehnksuqz.jpeg?q=90\"/></div></div></div><div class=\"_3rhMpp\"><div class=\"_38V46g\">Power Banks</div><div class=\"_2D27nh\">Min. 50% Off</div><a class=\"_2KpZ6l tE1cUL\" href=\"https://www.flipkart.com/all/~cs-5447acab9094df30966ed1ae80389723/pr?sid=tyy,4mr,fu6&amp;marketplace=FLIPKART&amp;fm=productRecommendation%2FAugmentSelling&amp;iid=R%3Avc%3Bpt%3App%3Buid%3A0d7dd96f-2a47-11ee-b66d-9362a1290757%3B.cid%3AS_F_N_tyy_4mr_fu6__d_50-100__NONE_ALL%3Bnid%3Atyy_4mr_fu6_%3Bet%3AS%3Beid%3Atyy_4mr_fu6_%3Bmp%3AF%3Bct%3Ad%3Bat%3ADEFAULT%3B&amp;ppt=None&amp;ppn=None&amp;ssid=7x8g89z4340000001690219515367&amp;otracker=pp_reco_You%2Bmight%2Bbe%2Binterested%2Bin_1_33.dealCard.OMU_cid%3AS_F_N_tyy_4mr_fu6__d_50-100__NONE_ALL%3Bnid%3Atyy_4mr_fu6_%3Bet%3AS%3Beid%3Atyy_4mr_fu6_%3Bmp%3AF%3Bct%3Ad%3Bat%3ADEFAULT%3B&amp;otracker1=pp_reco_PINNED_productRecommendation%2FAugmentSelling_You%2Bmight%2Bbe%2Binterested%2Bin_BANNER_HORIZONTAL_dealCard_cc_1_NA_view-all&amp;cid=cid%3AS_F_N_tyy_4mr_fu6__d_50-100__NONE_ALL%3Bnid%3Atyy_4mr_fu6_%3Bet%3AS%3Beid%3Atyy_4mr_fu6_%3Bmp%3AF%3Bct%3Ad%3Bat%3ADEFAULT%3B\"><span class=\"_2Ku_zz\">Shop Now</span></a></div></div></div></div><div class=\"_3YgSsQ\" style=\"width:400px\"><div class=\"_3sHcdg\"><div class=\"_3EWo-Y row\"><div class=\"_2zKHNp\"><div class=\"_3ywSr_\" style=\"padding-top:120.00%\"><div class=\"_312yBx SFzpgZ\" style=\"padding-top:120.00%\"><img alt=\"\" class=\"_2r_T1I\" src=\"https://rukminim2.flixcart.com/image/400/400/xif0q/headphone/7/6/7/-original-imagqre9nqh9ug4d.jpeg?q=90\"/></div></div></div><div class=\"_3rhMpp\"><div class=\"_38V46g\">True Wireless</div><div class=\"_2D27nh\">Min. 50% Off</div><a class=\"_2KpZ6l tE1cUL\" href=\"https://www.flipkart.com/all/~cs-6ef68bc8d283b86730515a8f2c87ff23/pr?sid=0pm,fcn,821,a7x,2si&amp;marketplace=FLIPKART&amp;fm=productRecommendation%2FAugmentSelling&amp;iid=R%3Avc%3Bpt%3App%3Buid%3A0d7dd96f-2a47-11ee-b66d-9362a1290757%3B.cid%3AS_F_N_0pm_fcn_821_a7x_2si__d_50-100__NONE_ALL%3Bnid%3A0pm_fcn_821_a7x_2si_%3Bet%3AS%3Beid%3A0pm_fcn_821_a7x_2si_%3Bmp%3AF%3Bct%3Ad%3Bat%3ADEFAULT%3B&amp;ppt=None&amp;ppn=None&amp;ssid=7x8g89z4340000001690219515367&amp;otracker=pp_reco_You%2Bmight%2Bbe%2Binterested%2Bin_2_33.dealCard.OMU_cid%3AS_F_N_0pm_fcn_821_a7x_2si__d_50-100__NONE_ALL%3Bnid%3A0pm_fcn_821_a7x_2si_%3Bet%3AS%3Beid%3A0pm_fcn_821_a7x_2si_%3Bmp%3AF%3Bct%3Ad%3Bat%3ADEFAULT%3B&amp;otracker1=pp_reco_PINNED_productRecommendation%2FAugmentSelling_You%2Bmight%2Bbe%2Binterested%2Bin_BANNER_HORIZONTAL_dealCard_cc_2_NA_view-all&amp;cid=cid%3AS_F_N_0pm_fcn_821_a7x_2si__d_50-100__NONE_ALL%3Bnid%3A0pm_fcn_821_a7x_2si_%3Bet%3AS%3Beid%3A0pm_fcn_821_a7x_2si_%3Bmp%3AF%3Bct%3Ad%3Bat%3ADEFAULT%3B\"><span class=\"_2Ku_zz\">Shop Now</span></a></div></div></div></div><div class=\"_3YgSsQ\" style=\"width:400px\"><div class=\"_3sHcdg\"><div class=\"_3EWo-Y row\"><div class=\"_2zKHNp\"><div class=\"_3ywSr_\" style=\"padding-top:120.00%\"><div class=\"_312yBx SFzpgZ\" style=\"padding-top:120.00%\"><img alt=\"\" class=\"_2r_T1I\" src=\"https://rukminim2.flixcart.com/image/400/400/kxz0pe80/memory-card/microsdxc/q/2/w/mb-mc128ka-in-samsung-original-imagab3xxgjzgyr5.jpeg?q=90\"/></div></div></div><div class=\"_3rhMpp\"><div class=\"_38V46g\">Memory Cards</div><div class=\"_2D27nh\">Min. 50% Off</div><a class=\"_2KpZ6l tE1cUL\" href=\"https://www.flipkart.com/all/~cs-517dc107967932558c9a9f64a567e4fa/pr?sid=6bo,jdy,tby&amp;marketplace=FLIPKART&amp;fm=productRecommendation%2FAugmentSelling&amp;iid=R%3Avc%3Bpt%3App%3Buid%3A0d7dd96f-2a47-11ee-b66d-9362a1290757%3B.cid%3AS_F_N_6bo_jdy_tby__d_50-100__NONE_ALL%3Bnid%3A6bo_jdy_tby_%3Bet%3AS%3Beid%3A6bo_jdy_tby_%3Bmp%3AF%3Bct%3Ad%3Bat%3ADEFAULT%3B&amp;ppt=None&amp;ppn=None&amp;ssid=7x8g89z4340000001690219515367&amp;otracker=pp_reco_You%2Bmight%2Bbe%2Binterested%2Bin_3_33.dealCard.OMU_cid%3AS_F_N_6bo_jdy_tby__d_50-100__NONE_ALL%3Bnid%3A6bo_jdy_tby_%3Bet%3AS%3Beid%3A6bo_jdy_tby_%3Bmp%3AF%3Bct%3Ad%3Bat%3ADEFAULT%3B&amp;otracker1=pp_reco_PINNED_productRecommendation%2FAugmentSelling_You%2Bmight%2Bbe%2Binterested%2Bin_BANNER_HORIZONTAL_dealCard_cc_3_NA_view-all&amp;cid=cid%3AS_F_N_6bo_jdy_tby__d_50-100__NONE_ALL%3Bnid%3A6bo_jdy_tby_%3Bet%3AS%3Beid%3A6bo_jdy_tby_%3Bmp%3AF%3Bct%3Ad%3Bat%3ADEFAULT%3B\"><span class=\"_2Ku_zz\">Shop Now</span></a></div></div></div></div><div class=\"_3YgSsQ\" style=\"width:400px\"><div class=\"_3sHcdg\"><div class=\"_3EWo-Y row\"><div class=\"_2zKHNp\"><div class=\"_3ywSr_\" style=\"padding-top:120.00%\"><div class=\"_312yBx SFzpgZ\" style=\"padding-top:120.00%\"><img alt=\"\" class=\"_2r_T1I\" src=\"https://rukminim2.flixcart.com/image/400/400/kltryq80/selfie-stick/p/9/x/selfie-stick-r1-holdup-original-imagyv32ezbk4jds.jpeg?q=90\"/></div></div></div><div class=\"_3rhMpp\"><div class=\"_38V46g\">Selfie Sticks</div><div class=\"_2D27nh\">Min. 50% Off</div><a class=\"_2KpZ6l tE1cUL\" href=\"https://www.flipkart.com/all/~cs-1ee7d1d51ab9f3df829aa06cf32ab373/pr?sid=tyy,4mr,nkm&amp;marketplace=FLIPKART&amp;fm=productRecommendation%2FAugmentSelling&amp;iid=R%3Avc%3Bpt%3App%3Buid%3A0d7dd96f-2a47-11ee-b66d-9362a1290757%3B.cid%3AS_F_N_tyy_4mr_nkm__d_50-100__NONE_ALL%3Bnid%3Atyy_4mr_nkm_%3Bet%3AS%3Beid%3Atyy_4mr_nkm_%3Bmp%3AF%3Bct%3Ad%3Bat%3ADEFAULT%3B&amp;ppt=None&amp;ppn=None&amp;ssid=7x8g89z4340000001690219515367&amp;otracker=pp_reco_You%2Bmight%2Bbe%2Binterested%2Bin_4_33.dealCard.OMU_cid%3AS_F_N_tyy_4mr_nkm__d_50-100__NONE_ALL%3Bnid%3Atyy_4mr_nkm_%3Bet%3AS%3Beid%3Atyy_4mr_nkm_%3Bmp%3AF%3Bct%3Ad%3Bat%3ADEFAULT%3B&amp;otracker1=pp_reco_PINNED_productRecommendation%2FAugmentSelling_You%2Bmight%2Bbe%2Binterested%2Bin_BANNER_HORIZONTAL_dealCard_cc_4_NA_view-all&amp;cid=cid%3AS_F_N_tyy_4mr_nkm__d_50-100__NONE_ALL%3Bnid%3Atyy_4mr_nkm_%3Bet%3AS%3Beid%3Atyy_4mr_nkm_%3Bmp%3AF%3Bct%3Ad%3Bat%3ADEFAULT%3B\"><span class=\"_2Ku_zz\">Shop Now</span></a></div></div></div></div></div></div><div class=\"_35l9rN rek5UH _1tKnHb\"><div class=\"_2kgArB _3y7w9p\"><svg class=\"\" height=\"24\" viewbox=\"0 0 16 27\" width=\"14.6\" xmlns=\"http://www.w3.org/2000/svg\"><path class=\"_23HYg_\" d=\"M16 23.207L6.11 13.161 16 3.093 12.955 0 0 13.161l12.955 13.161z\" fill=\"#fff\"></path></svg></div></div><div class=\"_35l9rN _31Mq1b\"><div class=\"_2kgArB _2CP_Bu\"><svg class=\"_1xtBwk\" height=\"24\" viewbox=\"0 0 16 27\" width=\"14.6\" xmlns=\"http://www.w3.org/2000/svg\"><path class=\"_23HYg_\" d=\"M16 23.207L6.11 13.161 16 3.093 12.955 0 0 13.161l12.955 13.161z\" fill=\"#fff\"></path></svg></div></div></div></div></div></div></div></div><div class=\"_39SDPR\"></div></div><footer class=\"_3voSl0\"><div class=\"_3rc_xQ\"><div class=\"row\"><div class=\"col gu12 _8Qljeg\"></div></div><div class=\"row\"><div class=\"col gu12 _3MmGvF\"><div class=\"LfkXVL\"><span>Top Stories</span>:<a class=\"_2XoPFN\" href=\"/brands\">Brand Directory</a></div><div class=\"_1GTrm1\"><span class=\"_2oyLgr\">MOST SEARCHED IN Mobiles &amp; Accessories<!-- -->:</span><a class=\"_3CuAg8\" href=\"/apple-iphone-6-space-grey-16-gb/p/itmeuyd8g8htbvwh?otracker=undefined_footer_footer\">APPLE IPHONE 6 PRICE IN INDIA</a><a class=\"_3CuAg8\" href=\"/apple-iphone-se-rose-gold-32-gb/p/itmetm9fyy3n7zfz?otracker=undefined_footer_footer\">ROSE GOLD</a><a class=\"_3CuAg8\" href=\"/dell-venue-8-pro-5000-series-tablet/p/itmdutftjdkcec3x?otracker=undefined_footer_footer\">DELL VENUE 8 PRO</a><a class=\"_3CuAg8\" href=\"/gionee-elife-e7-black-32-gb/p/itmeuyd66uc4swhg?otracker=undefined_footer_footer\">GIONEE ELIFE E7 PRICE</a><a class=\"_3CuAg8\" href=\"/gionee-elife-s5-1-black-16-gb/p/itmeuyd8gsetsswc?otracker=undefined_footer_footer\">GIONEE S 5.1 PRICE</a><a class=\"_3CuAg8\" href=\"/htc-desire-820-dual-sim-saffron-gray-16-gb/p/itme5z8pqpgdg8z6?otracker=undefined_footer_footer\">PRICE OF HTC DESIRE 820</a><a class=\"_3CuAg8\" href=\"/lava-iris-atom-white-8-gb/p/itmeuyd6tvchuyxn?otracker=undefined_footer_footer\">LAVA IRIS ATOM</a><a class=\"_3CuAg8\" href=\"/lenovo-a7000-black-8-gb/p/itmeuyd6zk8s3n9m?otracker=undefined_footer_footer\">LENOVO A 7000</a><a class=\"_3CuAg8\" href=\"/micromax-bolt-a065-white-4-gb/p/itme6jergszy7mqf?otracker=undefined_footer_footer\">MICROMAX A065</a><a class=\"_3CuAg8\" href=\"/micromax-canvas-nitro-2-grey-silver-16-gb/p/itmeuyd7n4azspfa?otracker=undefined_footer_footer\">MICROMAX CANVAS NITRO</a><a class=\"_3CuAg8\" href=\"/mobile-accessories/power-banks/pr?sid=tyy,4mr,fu6&amp;otracker=undefined_footer_footer\">BEST POWER BANK</a><a class=\"_3CuAg8\" href=\"/mobiles/apple~brand/pr?sid=tyy,4io&amp;otracker=undefined_footer_footer\">APPLE IPHONE PRICE LIST IN INDIA</a><a class=\"_3CuAg8\" href=\"/nokia-e72-black-250-mb/p/itmdunzscwhznj4h?otracker=undefined_footer_footer\">NOKIA E72</a><a class=\"_3CuAg8\" href=\"/panasonic-eluga-silver-8-gb/p/itmeuyd76h8yykeh?otracker=undefined_footer_footer\">PANASONIC ELUGA I</a><a class=\"_3CuAg8\" href=\"/panasonic-mobile-battery-t40/p/itmesvt948zqcygz?otracker=undefined_footer_footer\">PANASONIC T40</a><a class=\"_3CuAg8\" href=\"/samsung-galaxy-alpha-dazzling-white-32-gb/p/itmeyfhg8c5kmdhz?otracker=undefined_footer_footer\">GALAXY ALPHA PRICE</a><a class=\"_3CuAg8\" href=\"/samsung-galaxy-s3-neo-marble-white-16-gb/p/itme3q7q93m77cg6?otracker=undefined_footer_footer\">SAMSUNG GALAXY S3</a><a class=\"_3CuAg8\" href=\"/samsung-s5-mini-charcoal-black-16-gb/p/itmeuyd8fb8uchgh?otracker=undefined_footer_footer\">S5 MINI PRICE IN INDIA</a><a class=\"_3CuAg8\" href=\"https://www.flipkart.com/mobiles-accessories/mobiles/~vivo-v7-plus/pr?sid=tyy,4io&amp;otracker=undefined_footer_footer\">VIVO V7 PLUS</a><a class=\"_3CuAg8\" href=\"https://www.flipkart.com/mobiles/mi~brand/pr?sid=tyy,4io&amp;otracker=undefined_footer_footer\">MI ALL PHONE</a><a class=\"_3CuAg8\" href=\"https://www.flipkart.com/mobiles/swipe~brand/pr?sid=tyy,4io&amp;otracker=undefined_footer_footer\">SWIPE 4G MOBILE</a><a class=\"_3CuAg8\" href=\"https://www.flipkart.com/mobiles/~4g-mobile-phones-under-rs20000/pr?sid=tyy,4io&amp;otracker=undefined_footer_footer\">4G LTE MOBILES</a><a class=\"_3CuAg8\" href=\"https://www.flipkart.com/mobiles/~samsung-mobile-phones-under-rs10000/pr?sid=tyy,4io&amp;otracker=undefined_footer_footer\">SAMSUNG MOBILE BELOW 10000</a><a class=\"_3CuAg8\" href=\"https://www.flipkart.com/moto-g4-plus-white-32-gb/p/itmetfmpr4ghgyec?otracker=undefined_footer_footer\">MOTO G4 PLUS PRICE</a><a class=\"_3CuAg8\" href=\"https://www.flipkart.com/moto-x-play-white-32-gb/p/itmevt8y6c9uw6hg?otracker=undefined_footer_footer\">MOTOROLA MOTO X PLAY</a><a class=\"_3CuAg8\" href=\"https://www.flipkart.com/redmi-note-4-gold-64-gb/p/itmeqg86fjyzkdq8?otracker=undefined_footer_footer\">MI NOTE 4 MOBILE PHONE</a><a class=\"_3CuAg8\" href=\"https://www.flipkart.com/samsung-galaxy-a5-2017-black-sky-32-gb/p/itmes42jabgef63n?otracker=undefined_footer_footer\">SAMSUNG A5</a><a class=\"_3CuAg8\" href=\"https://www.flipkart.com/samsung-galaxy-e7-white-16-gb/p/itme5pcye8chq2za?otracker=undefined_footer_footer\">E7 SAMSUNG PRICE IN INDIA</a><a class=\"_3CuAg8\" href=\"https://www.flipkart.com/sony-xperia-xz-premium-dual-deepsea-black-64-gb/p/itmev4qzqpnng9hu?otracker=undefined_footer_footer\">XZ PREMIUM</a></div></div></div><div><div class=\"_2WErco row\"><div class=\"_2Brcj4\"><div class=\"_3-dnWo\">ABOUT</div><a class=\"_1arVWX\" href=\"/helpcentre?otracker=undefined_footer_navlinks\">Contact Us</a><a class=\"_1arVWX\" href=\"https://corporate.flipkart.net/corporate-home\">About Us</a><a class=\"_1arVWX\" href=\"https://www.flipkartcareers.com/?otracker=undefined_footer_navlinks\">Careers</a><a class=\"_1arVWX\" href=\"http://stories.flipkart.com/?otracker=undefined_footer_navlinks\">Flipkart Stories</a><a class=\"_1arVWX\" href=\"/s/press?otracker=undefined_footer_navlinks\">Press</a><a class=\"_1arVWX\" href=\"https://www.flipkartwholesale.com/?otracker=undefined_footer_navlinks\" rel=\"noopener noreferrer\" target=\"_blank\">Flipkart Wholesale</a><a class=\"_1arVWX\" href=\"/corporate-information\">Corporate Information</a></div><div class=\"_2Brcj4\"><div class=\"_3-dnWo\">HELP</div><a class=\"_1arVWX\" href=\"/pages/payments\">Payments</a><a class=\"_1arVWX\" href=\"/pages/shipping\">Shipping</a><a class=\"_1arVWX\" href=\"/helpcentre?catalog=55c9c6edb000002e002c1701&amp;view=CATALOG\">Cancellation &amp; Returns</a><a class=\"_1arVWX\" href=\"/helpcentre?catalog=55c9c8e2b0000023002c1702&amp;view=CATALOG\">FAQ</a><a class=\"_1arVWX\" href=\"https://seller.flipkart.com/fiv?otracker=undefined_footer_navlinks\">Report Infringement</a></div><div class=\"_2Brcj4\"><div class=\"_3-dnWo\">CONSUMER POLICY</div><a class=\"_1arVWX\" href=\"/pages/returnpolicy?otracker=undefined_footer_navlinks\">Return Policy</a><a class=\"_1arVWX\" href=\"/pages/terms?otracker=undefined_footer_navlinks\">Terms Of Use</a><a class=\"_1arVWX\" href=\"/pages/paymentsecurity?otracker=undefined_footer_navlinks\">Security</a><a class=\"_1arVWX\" href=\"/pages/privacypolicy?otracker=undefined_footer_navlinks\">Privacy</a><a class=\"_1arVWX\" href=\"/sitemap?otracker=undefined_footer_navlinks\">Sitemap</a><a class=\"_1arVWX\" href=\"/pages/grievance-redressal-mechanism?otracker=undefined_footer_navlinks\">Grievance Redressal</a><a class=\"_1arVWX\" href=\"/pages/ewaste-compliance-tnc?otracker=undefined_footer_navlinks\">EPR Compliance</a></div><div class=\"_2Brcj4\"><div class=\"_3-dnWo\">SOCIAL</div><a class=\"_1arVWX\" href=\"https://www.facebook.com/flipkart\">Facebook</a><a class=\"_1arVWX\" href=\"https://www.twitter.com/flipkart\">Twitter</a><a class=\"_1arVWX\" href=\"https://www.youtube.com/flipkart\">YouTube</a></div><div class=\"_2Brcj4 address\"><div class=\"_3JHi0r\"><div class=\"_3-dnWo\"><span>Mail Us:</span></div><div class=\"_1U1qnR\"><div class=\"_1LJS6T\"><div class=\"_2NKhZn _1U1qnR\"><p>Flipkart Internet Private Limited, </p>\n",
       "<p> Buildings Alyssa, Begonia &amp; </p>\n",
       "<p> Clove Embassy Tech Village, </p>\n",
       "<p> Outer Ring Road, Devarabeesanahalli Village, </p>\n",
       "<p> Bengaluru, 560103, </p>\n",
       "<p> Karnataka, India</p>\n",
       "</div></div></div></div></div><div class=\"_2Brcj4 address\"><div class=\"_3IT4e6\"><div class=\"_3-dnWo\"><span>Registered Office Address:</span></div><div class=\"_1U1qnR\"><div class=\"_1LJS6T\"><div class=\"_2NKhZn _1U1qnR\"><p>Flipkart Internet Private Limited, </p>\n",
       "<p> Buildings Alyssa, Begonia &amp; </p>\n",
       "<p> Clove Embassy Tech Village, </p>\n",
       "<p> Outer Ring Road, Devarabeesanahalli Village, </p>\n",
       "<p> Bengaluru, 560103, </p>\n",
       "<p> Karnataka, India </p>\n",
       "<p> CIN : U51109KA2012PTC066107 </p>\n",
       "<p> Telephone: <a href=\"tel:044-45614700\">044-45614700</a></p>\n",
       "</div></div></div></div></div></div><div><div class=\"_2uz0vJ\"><div><img src=\"data:image/svg+xml;base64,PHN2ZyB4bWxucz0iaHR0cDovL3d3dy53My5vcmcvMjAwMC9zdmciIHdpZHRoPSIxNiIgaGVpZ2h0PSIxNSIgdmlld0JveD0iMCAwIDE2IDE1Ij4KICAgIDxkZWZzPgogICAgICAgIDxsaW5lYXJHcmFkaWVudCBpZD0iYSIgeDE9IjAlIiB4Mj0iODYuODc2JSIgeTE9IjAlIiB5Mj0iODAuMjAyJSI+CiAgICAgICAgICAgIDxzdG9wIG9mZnNldD0iMCUiIHN0b3AtY29sb3I9IiNGRkQ4MDAiLz4KICAgICAgICAgICAgPHN0b3Agb2Zmc2V0PSIxMDAlIiBzdG9wLWNvbG9yPSIjRkZBRjAwIi8+CiAgICAgICAgPC9saW5lYXJHcmFkaWVudD4KICAgIDwvZGVmcz4KICAgIDxnIGZpbGw9Im5vbmUiIGZpbGwtcnVsZT0iZXZlbm9kZCI+CiAgICAgICAgPHBhdGggZD0iTS0yLTJoMjB2MjBILTJ6Ii8+CiAgICAgICAgPHBhdGggZmlsbD0idXJsKCNhKSIgZmlsbC1ydWxlPSJub256ZXJvIiBkPSJNMTUuOTMgNS42MTRoLTIuOTQ4VjQuMTRjMC0uODE4LS42NTUtMS40NzMtMS40NzMtMS40NzNIOC41NmMtLjgxNyAwLTEuNDczLjY1NS0xLjQ3MyAxLjQ3M3YxLjQ3NEg0LjE0Yy0uODE4IDAtMS40NjYuNjU2LTEuNDY2IDEuNDc0bC0uMDA3IDguMTA1YzAgLjgxOC42NTUgMS40NzQgMS40NzMgMS40NzRoMTEuNzljLjgxOCAwIDEuNDc0LS42NTYgMS40NzQtMS40NzRWNy4wODhjMC0uODE4LS42NTYtMS40NzQtMS40NzQtMS40NzR6bS00LjQyMSAwSDguNTZWNC4xNGgyLjk0OHYxLjQ3NHoiIHRyYW5zZm9ybT0idHJhbnNsYXRlKC0yIC0yKSIvPgogICAgPC9nPgo8L3N2Zz4K\"/><a href=\"https://seller.flipkart.com/?utm_source=fkwebsite&amp;utm_medium=websitedirect\"><span class=\"hDTmm5\">Become a Seller</span></a></div><div><img src=\"data:image/svg+xml;base64,PHN2ZyB4bWxucz0iaHR0cDovL3d3dy53My5vcmcvMjAwMC9zdmciIHdpZHRoPSIxNSIgaGVpZ2h0PSIxNSIgdmlld0JveD0iMCAwIDE1IDE1Ij4KICAgIDxkZWZzPgogICAgICAgIDxsaW5lYXJHcmFkaWVudCBpZD0iYSIgeDE9IjAlIiB4Mj0iODYuODc2JSIgeTE9IjAlIiB5Mj0iODAuMjAyJSI+CiAgICAgICAgICAgIDxzdG9wIG9mZnNldD0iMCUiIHN0b3AtY29sb3I9IiNGRkQ4MDAiLz4KICAgICAgICAgICAgPHN0b3Agb2Zmc2V0PSIxMDAlIiBzdG9wLWNvbG9yPSIjRkZBRjAwIi8+CiAgICAgICAgPC9saW5lYXJHcmFkaWVudD4KICAgIDwvZGVmcz4KICAgIDxnIGZpbGw9Im5vbmUiIGZpbGwtcnVsZT0iZXZlbm9kZCI+CiAgICAgICAgPHBhdGggZD0iTS0zLTNoMjB2MjBILTN6Ii8+CiAgICAgICAgPHBhdGggZmlsbD0idXJsKCNhKSIgZmlsbC1ydWxlPSJub256ZXJvIiBkPSJNMTAuNDkyIDNDNi4zNTMgMyAzIDYuMzYgMyAxMC41YzAgNC4xNCAzLjM1MyA3LjUgNy40OTIgNy41QzE0LjY0IDE4IDE4IDE0LjY0IDE4IDEwLjUgMTggNi4zNiAxNC42NCAzIDEwLjQ5MiAzem0zLjE4IDEyTDEwLjUgMTMuMDg4IDcuMzI3IDE1bC44NC0zLjYwN0w1LjM3IDguOTdsMy42OS0uMzE1TDEwLjUgNS4yNWwxLjQ0IDMuMzk4IDMuNjkuMzE1LTIuNzk4IDIuNDIyLjg0IDMuNjE1eiIgdHJhbnNmb3JtPSJ0cmFuc2xhdGUoLTMgLTMpIi8+CiAgICA8L2c+Cjwvc3ZnPgo=\"/><a href=\"https://brands.flipkart.com\"><span class=\"hDTmm5\">Advertise</span></a></div><div><img src=\"data:image/svg+xml;base64,PHN2ZyB4bWxucz0iaHR0cDovL3d3dy53My5vcmcvMjAwMC9zdmciIHdpZHRoPSIxOCIgaGVpZ2h0PSIxNyIgdmlld0JveD0iMCAwIDE4IDE3Ij4KICAgIDxkZWZzPgogICAgICAgIDxsaW5lYXJHcmFkaWVudCBpZD0iYSIgeDE9IjAlIiB4Mj0iODYuODc2JSIgeTE9IjAlIiB5Mj0iODAuMjAyJSI+CiAgICAgICAgICAgIDxzdG9wIG9mZnNldD0iMCUiIHN0b3AtY29sb3I9IiNGRkQ4MDAiLz4KICAgICAgICAgICAgPHN0b3Agb2Zmc2V0PSIxMDAlIiBzdG9wLWNvbG9yPSIjRkZBRjAwIi8+CiAgICAgICAgPC9saW5lYXJHcmFkaWVudD4KICAgIDwvZGVmcz4KICAgIDxnIGZpbGw9Im5vbmUiIGZpbGwtcnVsZT0iZXZlbm9kZCI+CiAgICAgICAgPHBhdGggZD0iTS0xLTFoMjB2MjBILTF6Ii8+CiAgICAgICAgPHBhdGggZmlsbD0idXJsKCNhKSIgZmlsbC1ydWxlPSJub256ZXJvIiBkPSJNMTYuNjY3IDVIMTQuODVjLjA5Mi0uMjU4LjE1LS41NDIuMTUtLjgzM2EyLjQ5NyAyLjQ5NyAwIDAgMC00LjU4My0xLjM3NUwxMCAzLjM1bC0uNDE3LS41NjdBMi41MSAyLjUxIDAgMCAwIDcuNSAxLjY2N2EyLjQ5NyAyLjQ5NyAwIDAgMC0yLjUgMi41YzAgLjI5MS4wNTguNTc1LjE1LjgzM0gzLjMzM2MtLjkyNSAwLTEuNjU4Ljc0Mi0xLjY1OCAxLjY2N2wtLjAwOCA5LjE2NkExLjY2IDEuNjYgMCAwIDAgMy4zMzMgMTcuNWgxMy4zMzRhMS42NiAxLjY2IDAgMCAwIDEuNjY2LTEuNjY3VjYuNjY3QTEuNjYgMS42NiAwIDAgMCAxNi42NjcgNXptMCA2LjY2N0gzLjMzM3YtNWg0LjIzNEw1LjgzMyA5LjAyNWwxLjM1Ljk3NSAxLjk4NC0yLjdMMTAgNi4xNjdsLjgzMyAxLjEzMyAxLjk4NCAyLjcgMS4zNS0uOTc1LTEuNzM0LTIuMzU4aDQuMjM0djV6IiB0cmFuc2Zvcm09InRyYW5zbGF0ZSgtMSAtMSkiLz4KICAgIDwvZz4KPC9zdmc+Cg==\"/><a href=\"/the-gift-card-store?otracker=undefined_footer_footer_navlinks\"><span class=\"hDTmm5\">Gift Cards</span></a></div><div><img src=\"data:image/svg+xml;base64,PHN2ZyB4bWxucz0iaHR0cDovL3d3dy53My5vcmcvMjAwMC9zdmciIHdpZHRoPSIxNSIgaGVpZ2h0PSIxNSIgdmlld0JveD0iMCAwIDE1IDE1Ij4KICAgIDxkZWZzPgogICAgICAgIDxsaW5lYXJHcmFkaWVudCBpZD0iYSIgeDE9IjAlIiB4Mj0iODYuODc2JSIgeTE9IjAlIiB5Mj0iODAuMjAyJSI+CiAgICAgICAgICAgIDxzdG9wIG9mZnNldD0iMCUiIHN0b3AtY29sb3I9IiNGRkQ4MDAiLz4KICAgICAgICAgICAgPHN0b3Agb2Zmc2V0PSIxMDAlIiBzdG9wLWNvbG9yPSIjRkZBRjAwIi8+CiAgICAgICAgPC9saW5lYXJHcmFkaWVudD4KICAgIDwvZGVmcz4KICAgIDxnIGZpbGw9Im5vbmUiIGZpbGwtcnVsZT0iZXZlbm9kZCI+CiAgICAgICAgPHBhdGggZD0iTS0yLTNoMjB2MjBILTJ6Ii8+CiAgICAgICAgPHBhdGggZmlsbD0idXJsKCNhKSIgZmlsbC1ydWxlPSJub256ZXJvIiBkPSJNOS41IDNDNS4zNiAzIDIgNi4zNiAyIDEwLjUgMiAxNC42NCA1LjM2IDE4IDkuNSAxOGM0LjE0IDAgNy41LTMuMzYgNy41LTcuNUMxNyA2LjM2IDEzLjY0IDMgOS41IDN6bS43NSAxMi43NWgtMS41di0xLjVoMS41djEuNXptMS41NTMtNS44MTNsLS42NzYuNjljLS41NC41NDgtLjg3Ny45OTgtLjg3NyAyLjEyM2gtMS41di0uMzc1YzAtLjgyNS4zMzgtMS41NzUuODc3LTIuMTIzbC45My0uOTQ1Yy4yNzgtLjI3LjQ0My0uNjQ1LjQ0My0xLjA1NyAwLS44MjUtLjY3NS0xLjUtMS41LTEuNVM4IDcuNDI1IDggOC4yNUg2LjVhMyAzIDAgMSAxIDYgMGMwIC42Ni0uMjcgMS4yNi0uNjk3IDEuNjg4eiIgdHJhbnNmb3JtPSJ0cmFuc2xhdGUoLTIgLTMpIi8+CiAgICA8L2c+Cjwvc3ZnPgo=\"/><a href=\"/helpcentre?otracker=undefined_footer_footer_navlinks\"><span class=\"hDTmm5\">Help Center</span></a></div><span class=\"z3ht-w\">© 2007-<!-- -->2023<!-- --> <span>Flipkart.com</span></span><img src=\"//static-assets-web.flixcart.com/fk-p-linchpin-web/fk-cp-zion/img/payment-method_69e7ec.svg\"/></div></div></div></div></footer><div class=\"_1EcK2J _38JCdA\"><div class=\"bra6U8\"><svg class=\"_2TdLiZ\" height=\"27\" viewbox=\"0 0 16 27\" width=\"16\" xmlns=\"http://www.w3.org/2000/svg\"><path class=\"_3ZKfA2\" d=\"M16 23.207L6.11 13.161 16 3.093 12.955 0 0 13.161l12.955 13.161z\" fill=\"#fff\"></path></svg><span>Back to top</span></div></div></div></div> <script id=\"jsonLD\" nonce=\"17154410704591563396\" type=\"application/ld+json\">[{\"@context\":\"http://schema.org\",\"@type\":\"Product\",\"aggregateRating\":{\"@type\":\"AggregateRating\",\"ratingValue\":4.7,\"reviewCount\":12047},\"brand\":{\"@type\":\"Brand\",\"name\":\"APPLE\"},\"image\":\"http://rukmini1.flixcart.com/image/128/128/ktketu80/mobile/2/y/o/iphone-13-mlpk3hn-a-apple-original-imag6vpyur6hjngg.jpeg?q=70\",\"name\":\"APPLE iPhone 13 (Blue, 128 GB)\",\"offers\":{\"@type\":\"Offer\",\"price\":61999,\"priceCurrency\":\"INR\"}}]</script> <script id=\"jsonLD\" nonce=\"17154410704591563396\" type=\"application/ld+json\">[{\"@context\":\"http://schema.org\",\"@type\":\"Product\",\"aggregateRating\":{\"@type\":\"AggregateRating\",\"ratingValue\":4.7,\"reviewCount\":12047},\"brand\":{\"@type\":\"Brand\",\"name\":\"APPLE\"},\"image\":\"http://rukmini1.flixcart.com/image/128/128/ktketu80/mobile/2/y/o/iphone-13-mlpk3hn-a-apple-original-imag6vpyur6hjngg.jpeg?q=70\",\"name\":\"APPLE iPhone 13 (Blue, 128 GB)\",\"offers\":{\"@type\":\"Offer\",\"price\":61999,\"priceCurrency\":\"INR\"}}]</script><script nonce=\"17154410704591563396\" type=\"application/ld+json\">{\n",
       "    \"@context\": \"http://schema.org\",\n",
       "    \"@type\": \"WebSite\",\n",
       "    \"url\": \"http://www.flipkart.com/\",\n",
       "    \"potentialAction\": [{\n",
       "        \"@type\": \"SearchAction\",\n",
       "        \"target\": \"http://www.flipkart.com/search?q={search_term_string}\",\n",
       "        \"query-input\": \"required name=search_term_string\"\n",
       "        },{\n",
       "        \"@type\": \"SearchAction\",\n",
       "        \"target\": \"android-app://com.flipkart.android/flipkart/de_sq_seg_-search.flipkart.com-_{search_term_string}\",\n",
       "        \"query-input\": \"required name=search_term_string\"\n",
       "    }]\n",
       "}</script><script id=\"is_script\" nonce=\"17154410704591563396\">window.__INITIAL_STATE__ = {};</script> <link data-chunk=\"NavMenu\" href=\"//static-assets-web.flixcart.com/fk-p-linchpin-web/fk-cp-zion/css/NavMenu.chunk.10ffe7.css\" rel=\"stylesheet\"/>\n",
       "<link data-chunk=\"MerchandisingOMUWrapper\" href=\"//static-assets-web.flixcart.com/fk-p-linchpin-web/fk-cp-zion/css/MerchandisingOMUWrapper.chunk.fb565e.css\" rel=\"stylesheet\"/> <script id=\"__LOADABLE_REQUIRED_CHUNKS__\" type=\"application/json\">[127,0,119]</script><script id=\"__LOADABLE_REQUIRED_CHUNKS___ext\" type=\"application/json\">{\"namedChunks\":[\"NavMenu\",\"MerchandisingOMUWrapper\"]}</script>\n",
       "<script async=\"\" data-chunk=\"NavMenu\" src=\"//static-assets-web.flixcart.com/fk-p-linchpin-web/fk-cp-zion/js/NavMenu.chunk.da629465.js\"></script>\n",
       "<script async=\"\" data-chunk=\"MerchandisingOMUWrapper\" src=\"//static-assets-web.flixcart.com/fk-p-linchpin-web/fk-cp-zion/js/vendor.chunk.817062fd.js\"></script>\n",
       "<script async=\"\" data-chunk=\"MerchandisingOMUWrapper\" src=\"//static-assets-web.flixcart.com/fk-p-linchpin-web/fk-cp-zion/js/MerchandisingOMUWrapper.chunk.e0c8d64e.js\"></script><script nonce=\"17154410704591563396\">window.omniture={tpv:[],tl:[]};window.omniture.trackPageView=function(){window.omniture.tpv.push(arguments)};window.omniture.trackLink=function(){window.omniture.tl.push(arguments)}\n",
       "\n",
       "    if(window.location.host === 'www.flipkart.com' || /\\.store\\.flipkart\\.com/i.test(window.location.host)){\n",
       "        window.s_account = \"flipkart-prd\"; //omniture account id\n",
       "    }else{\n",
       "        window.s_account = \"flipkart-prd-test\";\n",
       "    }\n",
       "    window.s_isDesktop = true;</script><script nonce=\"17154410704591563396\">function isMobile(){\n",
       "\t\tif (!!(navigator.userAgentData && navigator.userAgentData.mobile) || navigator.userAgent.indexOf(\"Mobile\") !== -1){\n",
       "\t\t\treturn true;\n",
       "\t\t}\n",
       "\t\telse {\n",
       "\t\t\treturn false;\n",
       "\t\t}\n",
       "\t}\n",
       "\n",
       "\tif ('serviceWorker' in navigator && !isMobile()) {\n",
       "\t\tnavigator.serviceWorker.register('/sw.js').then(function(registration) {\n",
       "\t\t\tconsole.log('ServiceWorker registration successful with scope: ', registration.scope);\n",
       "\t\t\tnavigator.onLine && navigator.serviceWorker.controller && navigator.serviceWorker.controller.postMessage('BANDWIDTH_COMPUTE');\n",
       "\t\t\tnavigator.serviceWorker.addEventListener('message', function (event) {\n",
       "\t\t\t\ttry {\n",
       "\t\t\t\t\tconst bandwidthData = JSON.parse(event.data);\n",
       "\t\t\t\t\tif (bandwidthData && bandwidthData.data) {\n",
       "\t\t\t\t\t\twindow.bandwidth = bandwidthData.data.downlink + '_' + bandwidthData.data.computeMethod + '_' + bandwidthData.data.effectiveType + '_' + bandwidthData.data.type;\n",
       "\t\t\t\t\t}\n",
       "\t\t\t\t}catch(err) {\n",
       "\t\t\t\t\tconsole.error('JSON.parse failed:', err);\n",
       "\t\t\t\t}\n",
       "\t\t\t});\n",
       "\t\t})\n",
       "\t\t.catch(function(err) {\n",
       "\t\t\tconsole.error('ServiceWorker registration failed: ', err);\n",
       "\t\t});\n",
       "\t} else if('serviceWorker' in navigator && isMobile()){\n",
       "        navigator.serviceWorker.getRegistration().then(function(registration) {\n",
       "            var serviceWorkerUnregistered=false;\n",
       "            if(registration) {\n",
       "                registration.unregister();\n",
       "                serviceWorkerUnregistered=true;\n",
       "            }\n",
       "            serviceWorkerUnregistered && window.location.reload();\n",
       "        });\n",
       "    }</script> <script async=\"\" defer=\"defer\" id=\"omni_script\" nonce=\"17154410704591563396\" src=\"///www/linchpin/batman-returns/omni/omni16.js\"></script> <script nonce=\"17154410704591563396\">window._pxAppId = 'PXgNtTli3A';</script><script async=\"\" nonce=\"17154410704591563396\" src=\"///px/gNtTli3A/init.js\"></script></body></html>"
      ]
     },
     "execution_count": 81,
     "metadata": {},
     "output_type": "execute_result"
    }
   ],
   "source": [
    "soup=BeautifulSoup(r.content)\n",
    "soup"
   ]
  },
  {
   "cell_type": "code",
   "execution_count": 84,
   "id": "e17f7be3",
   "metadata": {},
   "outputs": [
    {
     "data": {
      "text/plain": [
       "'&'"
      ]
     },
     "execution_count": 84,
     "metadata": {},
     "output_type": "execute_result"
    }
   ],
   "source": [
    "review=soup.find(\"span\",class_=\"_13vcmD\")\n",
    "review.text"
   ]
  },
  {
   "cell_type": "code",
   "execution_count": 85,
   "id": "2b402534",
   "metadata": {},
   "outputs": [
    {
     "data": {
      "text/plain": [
       "['&']"
      ]
     },
     "execution_count": 85,
     "metadata": {},
     "output_type": "execute_result"
    }
   ],
   "source": [
    "RW=[]\n",
    "for i in soup.find_all('span',class_=\"_13vcmD\"):\n",
    "    RW.append(i.text)\n",
    "    \n",
    "RW"
   ]
  },
  {
   "cell_type": "code",
   "execution_count": null,
   "id": "5c950dd8",
   "metadata": {},
   "outputs": [],
   "source": []
  },
  {
   "cell_type": "code",
   "execution_count": null,
   "id": "9b3e7948",
   "metadata": {},
   "outputs": [],
   "source": []
  },
  {
   "cell_type": "markdown",
   "id": "bbd78cd3",
   "metadata": {},
   "source": [
    "# Q5"
   ]
  },
  {
   "cell_type": "code",
   "execution_count": 2,
   "id": "9860cb11",
   "metadata": {},
   "outputs": [],
   "source": [
    "driver=webdriver.Chrome()"
   ]
  },
  {
   "cell_type": "code",
   "execution_count": null,
   "id": "254a5d41",
   "metadata": {},
   "outputs": [],
   "source": [
    "A=driver.get(\"https://www.flipkart.com/\")"
   ]
  },
  {
   "cell_type": "code",
   "execution_count": null,
   "id": "17aa37fa",
   "metadata": {},
   "outputs": [],
   "source": [
    "Product=driver.find_element(By.CLASS_NAME,\"Pke_EE\"\")\n",
    "Product.send_keys=(\"apple-iphone-11-black-64-gb\")"
   ]
  },
  {
   "cell_type": "code",
   "execution_count": 70,
   "id": "304ebb13",
   "metadata": {},
   "outputs": [
    {
     "ename": "NoSuchElementException",
     "evalue": "Message: no such element: Unable to locate element: {\"method\":\"xpath\",\"selector\":\"/html/body/div[1]/div/div[1]/div[1]/div[2]/div[2]/form/div/div/input\"}\n  (Session info: chrome=115.0.5790.102); For documentation on this error, please visit: https://www.selenium.dev/documentation/webdriver/troubleshooting/errors#no-such-element-exception\nStacktrace:\nBacktrace:\n\tGetHandleVerifier [0x0030A813+48355]\n\t(No symbol) [0x0029C4B1]\n\t(No symbol) [0x001A5358]\n\t(No symbol) [0x001D09A5]\n\t(No symbol) [0x001D0B3B]\n\t(No symbol) [0x001FE232]\n\t(No symbol) [0x001EA784]\n\t(No symbol) [0x001FC922]\n\t(No symbol) [0x001EA536]\n\t(No symbol) [0x001C82DC]\n\t(No symbol) [0x001C93DD]\n\tGetHandleVerifier [0x0056AABD+2539405]\n\tGetHandleVerifier [0x005AA78F+2800735]\n\tGetHandleVerifier [0x005A456C+2775612]\n\tGetHandleVerifier [0x003951E0+616112]\n\t(No symbol) [0x002A5F8C]\n\t(No symbol) [0x002A2328]\n\t(No symbol) [0x002A240B]\n\t(No symbol) [0x00294FF7]\n\tBaseThreadInitThunk [0x773300C9+25]\n\tRtlGetAppContainerNamedObjectPath [0x77537B1E+286]\n\tRtlGetAppContainerNamedObjectPath [0x77537AEE+238]\n\t(No symbol) [0x00000000]\n",
     "output_type": "error",
     "traceback": [
      "\u001b[1;31m---------------------------------------------------------------------------\u001b[0m",
      "\u001b[1;31mNoSuchElementException\u001b[0m                    Traceback (most recent call last)",
      "\u001b[1;32m~\\AppData\\Local\\Temp\\ipykernel_11536\\3677061418.py\u001b[0m in \u001b[0;36m<module>\u001b[1;34m\u001b[0m\n\u001b[1;32m----> 1\u001b[1;33m \u001b[0mProc\u001b[0m\u001b[1;33m=\u001b[0m\u001b[0mdriver\u001b[0m\u001b[1;33m.\u001b[0m\u001b[0mfind_element\u001b[0m\u001b[1;33m(\u001b[0m\u001b[0mBy\u001b[0m\u001b[1;33m.\u001b[0m\u001b[0mXPATH\u001b[0m\u001b[1;33m,\u001b[0m\u001b[1;34m\"/html/body/div[1]/div/div[1]/div[1]/div[2]/div[2]/form/div/div/input\"\u001b[0m\u001b[1;33m)\u001b[0m\u001b[1;33m\u001b[0m\u001b[1;33m\u001b[0m\u001b[0m\n\u001b[0m\u001b[0;32m      2\u001b[0m \u001b[0mProc\u001b[0m\u001b[1;33m.\u001b[0m\u001b[0msend_keys\u001b[0m\u001b[1;33m(\u001b[0m\u001b[1;34m'apple-iphone-11-black-64-gb'\u001b[0m\u001b[1;33m)\u001b[0m\u001b[1;33m\u001b[0m\u001b[1;33m\u001b[0m\u001b[0m\n",
      "\u001b[1;32m~\\AppData\\Roaming\\Python\\Python39\\site-packages\\selenium\\webdriver\\remote\\webdriver.py\u001b[0m in \u001b[0;36mfind_element\u001b[1;34m(self, by, value)\u001b[0m\n\u001b[0;32m    738\u001b[0m             \u001b[0mvalue\u001b[0m \u001b[1;33m=\u001b[0m \u001b[1;34mf'[name=\"{value}\"]'\u001b[0m\u001b[1;33m\u001b[0m\u001b[1;33m\u001b[0m\u001b[0m\n\u001b[0;32m    739\u001b[0m \u001b[1;33m\u001b[0m\u001b[0m\n\u001b[1;32m--> 740\u001b[1;33m         \u001b[1;32mreturn\u001b[0m \u001b[0mself\u001b[0m\u001b[1;33m.\u001b[0m\u001b[0mexecute\u001b[0m\u001b[1;33m(\u001b[0m\u001b[0mCommand\u001b[0m\u001b[1;33m.\u001b[0m\u001b[0mFIND_ELEMENT\u001b[0m\u001b[1;33m,\u001b[0m \u001b[1;33m{\u001b[0m\u001b[1;34m\"using\"\u001b[0m\u001b[1;33m:\u001b[0m \u001b[0mby\u001b[0m\u001b[1;33m,\u001b[0m \u001b[1;34m\"value\"\u001b[0m\u001b[1;33m:\u001b[0m \u001b[0mvalue\u001b[0m\u001b[1;33m}\u001b[0m\u001b[1;33m)\u001b[0m\u001b[1;33m[\u001b[0m\u001b[1;34m\"value\"\u001b[0m\u001b[1;33m]\u001b[0m\u001b[1;33m\u001b[0m\u001b[1;33m\u001b[0m\u001b[0m\n\u001b[0m\u001b[0;32m    741\u001b[0m \u001b[1;33m\u001b[0m\u001b[0m\n\u001b[0;32m    742\u001b[0m     \u001b[1;32mdef\u001b[0m \u001b[0mfind_elements\u001b[0m\u001b[1;33m(\u001b[0m\u001b[0mself\u001b[0m\u001b[1;33m,\u001b[0m \u001b[0mby\u001b[0m\u001b[1;33m=\u001b[0m\u001b[0mBy\u001b[0m\u001b[1;33m.\u001b[0m\u001b[0mID\u001b[0m\u001b[1;33m,\u001b[0m \u001b[0mvalue\u001b[0m\u001b[1;33m:\u001b[0m \u001b[0mOptional\u001b[0m\u001b[1;33m[\u001b[0m\u001b[0mstr\u001b[0m\u001b[1;33m]\u001b[0m \u001b[1;33m=\u001b[0m \u001b[1;32mNone\u001b[0m\u001b[1;33m)\u001b[0m \u001b[1;33m->\u001b[0m \u001b[0mList\u001b[0m\u001b[1;33m[\u001b[0m\u001b[0mWebElement\u001b[0m\u001b[1;33m]\u001b[0m\u001b[1;33m:\u001b[0m\u001b[1;33m\u001b[0m\u001b[1;33m\u001b[0m\u001b[0m\n",
      "\u001b[1;32m~\\AppData\\Roaming\\Python\\Python39\\site-packages\\selenium\\webdriver\\remote\\webdriver.py\u001b[0m in \u001b[0;36mexecute\u001b[1;34m(self, driver_command, params)\u001b[0m\n\u001b[0;32m    344\u001b[0m         \u001b[0mresponse\u001b[0m \u001b[1;33m=\u001b[0m \u001b[0mself\u001b[0m\u001b[1;33m.\u001b[0m\u001b[0mcommand_executor\u001b[0m\u001b[1;33m.\u001b[0m\u001b[0mexecute\u001b[0m\u001b[1;33m(\u001b[0m\u001b[0mdriver_command\u001b[0m\u001b[1;33m,\u001b[0m \u001b[0mparams\u001b[0m\u001b[1;33m)\u001b[0m\u001b[1;33m\u001b[0m\u001b[1;33m\u001b[0m\u001b[0m\n\u001b[0;32m    345\u001b[0m         \u001b[1;32mif\u001b[0m \u001b[0mresponse\u001b[0m\u001b[1;33m:\u001b[0m\u001b[1;33m\u001b[0m\u001b[1;33m\u001b[0m\u001b[0m\n\u001b[1;32m--> 346\u001b[1;33m             \u001b[0mself\u001b[0m\u001b[1;33m.\u001b[0m\u001b[0merror_handler\u001b[0m\u001b[1;33m.\u001b[0m\u001b[0mcheck_response\u001b[0m\u001b[1;33m(\u001b[0m\u001b[0mresponse\u001b[0m\u001b[1;33m)\u001b[0m\u001b[1;33m\u001b[0m\u001b[1;33m\u001b[0m\u001b[0m\n\u001b[0m\u001b[0;32m    347\u001b[0m             \u001b[0mresponse\u001b[0m\u001b[1;33m[\u001b[0m\u001b[1;34m\"value\"\u001b[0m\u001b[1;33m]\u001b[0m \u001b[1;33m=\u001b[0m \u001b[0mself\u001b[0m\u001b[1;33m.\u001b[0m\u001b[0m_unwrap_value\u001b[0m\u001b[1;33m(\u001b[0m\u001b[0mresponse\u001b[0m\u001b[1;33m.\u001b[0m\u001b[0mget\u001b[0m\u001b[1;33m(\u001b[0m\u001b[1;34m\"value\"\u001b[0m\u001b[1;33m,\u001b[0m \u001b[1;32mNone\u001b[0m\u001b[1;33m)\u001b[0m\u001b[1;33m)\u001b[0m\u001b[1;33m\u001b[0m\u001b[1;33m\u001b[0m\u001b[0m\n\u001b[0;32m    348\u001b[0m             \u001b[1;32mreturn\u001b[0m \u001b[0mresponse\u001b[0m\u001b[1;33m\u001b[0m\u001b[1;33m\u001b[0m\u001b[0m\n",
      "\u001b[1;32m~\\AppData\\Roaming\\Python\\Python39\\site-packages\\selenium\\webdriver\\remote\\errorhandler.py\u001b[0m in \u001b[0;36mcheck_response\u001b[1;34m(self, response)\u001b[0m\n\u001b[0;32m    243\u001b[0m                 \u001b[0malert_text\u001b[0m \u001b[1;33m=\u001b[0m \u001b[0mvalue\u001b[0m\u001b[1;33m[\u001b[0m\u001b[1;34m\"alert\"\u001b[0m\u001b[1;33m]\u001b[0m\u001b[1;33m.\u001b[0m\u001b[0mget\u001b[0m\u001b[1;33m(\u001b[0m\u001b[1;34m\"text\"\u001b[0m\u001b[1;33m)\u001b[0m\u001b[1;33m\u001b[0m\u001b[1;33m\u001b[0m\u001b[0m\n\u001b[0;32m    244\u001b[0m             \u001b[1;32mraise\u001b[0m \u001b[0mexception_class\u001b[0m\u001b[1;33m(\u001b[0m\u001b[0mmessage\u001b[0m\u001b[1;33m,\u001b[0m \u001b[0mscreen\u001b[0m\u001b[1;33m,\u001b[0m \u001b[0mstacktrace\u001b[0m\u001b[1;33m,\u001b[0m \u001b[0malert_text\u001b[0m\u001b[1;33m)\u001b[0m  \u001b[1;31m# type: ignore[call-arg]  # mypy is not smart enough here\u001b[0m\u001b[1;33m\u001b[0m\u001b[1;33m\u001b[0m\u001b[0m\n\u001b[1;32m--> 245\u001b[1;33m         \u001b[1;32mraise\u001b[0m \u001b[0mexception_class\u001b[0m\u001b[1;33m(\u001b[0m\u001b[0mmessage\u001b[0m\u001b[1;33m,\u001b[0m \u001b[0mscreen\u001b[0m\u001b[1;33m,\u001b[0m \u001b[0mstacktrace\u001b[0m\u001b[1;33m)\u001b[0m\u001b[1;33m\u001b[0m\u001b[1;33m\u001b[0m\u001b[0m\n\u001b[0m",
      "\u001b[1;31mNoSuchElementException\u001b[0m: Message: no such element: Unable to locate element: {\"method\":\"xpath\",\"selector\":\"/html/body/div[1]/div/div[1]/div[1]/div[2]/div[2]/form/div/div/input\"}\n  (Session info: chrome=115.0.5790.102); For documentation on this error, please visit: https://www.selenium.dev/documentation/webdriver/troubleshooting/errors#no-such-element-exception\nStacktrace:\nBacktrace:\n\tGetHandleVerifier [0x0030A813+48355]\n\t(No symbol) [0x0029C4B1]\n\t(No symbol) [0x001A5358]\n\t(No symbol) [0x001D09A5]\n\t(No symbol) [0x001D0B3B]\n\t(No symbol) [0x001FE232]\n\t(No symbol) [0x001EA784]\n\t(No symbol) [0x001FC922]\n\t(No symbol) [0x001EA536]\n\t(No symbol) [0x001C82DC]\n\t(No symbol) [0x001C93DD]\n\tGetHandleVerifier [0x0056AABD+2539405]\n\tGetHandleVerifier [0x005AA78F+2800735]\n\tGetHandleVerifier [0x005A456C+2775612]\n\tGetHandleVerifier [0x003951E0+616112]\n\t(No symbol) [0x002A5F8C]\n\t(No symbol) [0x002A2328]\n\t(No symbol) [0x002A240B]\n\t(No symbol) [0x00294FF7]\n\tBaseThreadInitThunk [0x773300C9+25]\n\tRtlGetAppContainerNamedObjectPath [0x77537B1E+286]\n\tRtlGetAppContainerNamedObjectPath [0x77537AEE+238]\n\t(No symbol) [0x00000000]\n"
     ]
    }
   ],
   "source": [
    "Proc=driver.find_element(By.XPATH,\"/html/body/div[1]/div/div[1]/div[1]/div[2]/div[2]/form/div/div/input\")\n",
    "Proc.send_keys('apple-iphone-11-black-64-gb')                "
   ]
  },
  {
   "cell_type": "markdown",
   "id": "92f3f0c4",
   "metadata": {},
   "source": [
    "# Q6"
   ]
  },
  {
   "cell_type": "code",
   "execution_count": 73,
   "id": "9e45422b",
   "metadata": {},
   "outputs": [],
   "source": [
    "driver=webdriver.Chrome()"
   ]
  },
  {
   "cell_type": "code",
   "execution_count": 74,
   "id": "7f34ff76",
   "metadata": {},
   "outputs": [],
   "source": [
    "B=driver.get(\"https://www.flipkart.com/\")"
   ]
  },
  {
   "cell_type": "code",
   "execution_count": 75,
   "id": "854fe034",
   "metadata": {},
   "outputs": [],
   "source": [
    "Sneakers=driver.find_element(By.CLASS_NAME,\"_3704LK\")\n",
    "Sneakers.send_keys(\"Sneakers\")\n",
    "                             "
   ]
  },
  {
   "cell_type": "code",
   "execution_count": 77,
   "id": "18b5c20e",
   "metadata": {},
   "outputs": [
    {
     "data": {
      "text/plain": [
       "'Kraasa'"
      ]
     },
     "execution_count": 77,
     "metadata": {},
     "output_type": "execute_result"
    }
   ],
   "source": [
    "Brand=[]\n",
    "Brands=driver.find_elements(By.XPATH,'//div[@class=\"_2WkVRV\"]')\n",
    "for i in Brands[0:100]:\n",
    "    BR=i.text\n",
    "    Brand.append(BR)\n",
    "    \n",
    "BR"
   ]
  },
  {
   "cell_type": "code",
   "execution_count": 78,
   "id": "0ed57b8d",
   "metadata": {},
   "outputs": [
    {
     "data": {
      "text/plain": [
       "'₹499'"
      ]
     },
     "execution_count": 78,
     "metadata": {},
     "output_type": "execute_result"
    }
   ],
   "source": [
    "price=[]\n",
    "prices=driver.find_elements(By.XPATH,'//div[@class=\"_30jeq3\"]')\n",
    "for i in prices[0:100]:\n",
    "    PR=i.text\n",
    "    price.append(PR)\n",
    "    \n",
    "PR"
   ]
  },
  {
   "cell_type": "code",
   "execution_count": 79,
   "id": "6dc2062c",
   "metadata": {},
   "outputs": [
    {
     "data": {
      "text/plain": [
       "'Casuals, Canvas, Partywear Sneakers For Men'"
      ]
     },
     "execution_count": 79,
     "metadata": {},
     "output_type": "execute_result"
    }
   ],
   "source": [
    "product_description=[]\n",
    "proc_desc=driver.find_elements(By.XPATH,'//a[@class=\"IRpwTa\"]')\n",
    "for i in proc_desc[0:100]:\n",
    "    PD=i.text\n",
    "    product_description.append(PD)\n",
    "    \n",
    "PD"
   ]
  },
  {
   "cell_type": "code",
   "execution_count": 80,
   "id": "64008ccc",
   "metadata": {},
   "outputs": [
    {
     "name": "stdout",
     "output_type": "stream",
     "text": [
      "40 40 39\n"
     ]
    }
   ],
   "source": [
    "print(len(Brand),len(price),len(product_description))"
   ]
  },
  {
   "cell_type": "code",
   "execution_count": 132,
   "id": "020c2b42",
   "metadata": {},
   "outputs": [],
   "source": [
    "import pandas as pd "
   ]
  },
  {
   "cell_type": "code",
   "execution_count": 137,
   "id": "54db8031",
   "metadata": {},
   "outputs": [
    {
     "ename": "TypeError",
     "evalue": "'dict' object is not callable",
     "output_type": "error",
     "traceback": [
      "\u001b[1;31m---------------------------------------------------------------------------\u001b[0m",
      "\u001b[1;31mTypeError\u001b[0m                                 Traceback (most recent call last)",
      "\u001b[1;32m~\\AppData\\Local\\Temp\\ipykernel_11836\\4139263724.py\u001b[0m in \u001b[0;36m<module>\u001b[1;34m\u001b[0m\n\u001b[0;32m      1\u001b[0m \u001b[1;32mimport\u001b[0m \u001b[0mpandas\u001b[0m \u001b[1;32mas\u001b[0m \u001b[0mpd\u001b[0m\u001b[1;33m\u001b[0m\u001b[1;33m\u001b[0m\u001b[0m\n\u001b[1;32m----> 2\u001b[1;33m \u001b[0msneaks\u001b[0m\u001b[1;33m=\u001b[0m\u001b[0mpd\u001b[0m\u001b[1;33m.\u001b[0m\u001b[0mDataFrame\u001b[0m\u001b[1;33m(\u001b[0m\u001b[1;33m{\u001b[0m\u001b[1;34m'Brands'\u001b[0m\u001b[1;33m:\u001b[0m\u001b[0mBrand\u001b[0m\u001b[1;33m,\u001b[0m\u001b[1;34m'Price'\u001b[0m\u001b[1;33m:\u001b[0m\u001b[0mprice\u001b[0m\u001b[1;33m,\u001b[0m\u001b[1;34m'Product_Description'\u001b[0m\u001b[1;33m:\u001b[0m\u001b[0mproduct_description\u001b[0m\u001b[1;33m}\u001b[0m\u001b[1;33m)\u001b[0m\u001b[1;33m\u001b[0m\u001b[1;33m\u001b[0m\u001b[0m\n\u001b[0m\u001b[0;32m      3\u001b[0m \u001b[0msneaks\u001b[0m\u001b[1;33m\u001b[0m\u001b[1;33m\u001b[0m\u001b[0m\n",
      "\u001b[1;31mTypeError\u001b[0m: 'dict' object is not callable"
     ]
    }
   ],
   "source": [
    "import pandas as pd\n",
    "sneaks=pd.DataFrame({'Brands':Brand,'Price':price,'Product_Description':product_description})\n",
    "sneaks"
   ]
  },
  {
   "cell_type": "markdown",
   "id": "9f9b8aba",
   "metadata": {},
   "source": [
    "# Q7"
   ]
  },
  {
   "cell_type": "code",
   "execution_count": 5,
   "id": "047c56e7",
   "metadata": {},
   "outputs": [],
   "source": [
    "driver=webdriver.Chrome()"
   ]
  },
  {
   "cell_type": "code",
   "execution_count": 6,
   "id": "5a2c4a84",
   "metadata": {},
   "outputs": [],
   "source": [
    "Laptops=driver.get(\"https://www.amazon.in/\")"
   ]
  },
  {
   "cell_type": "code",
   "execution_count": 7,
   "id": "ef6ac5e3",
   "metadata": {},
   "outputs": [],
   "source": [
    "lappy=driver.find_element(By.ID,\"twotabsearchtextbox\")\n",
    "lappy.send_keys(\"Laptops\")\n",
    "search_button=driver.find_element(By.XPATH,'//input[@type=\"submit\"]')\n",
    "search_button.click()\n"
   ]
  },
  {
   "cell_type": "code",
   "execution_count": 12,
   "id": "fde22399",
   "metadata": {},
   "outputs": [],
   "source": [
    "set_filter=driver.find_element(By.XPATH,'//i[@class=\"a-icon a-icon-checkbox\"]')\n",
    "set_filter.click()"
   ]
  },
  {
   "cell_type": "code",
   "execution_count": 24,
   "id": "b3cd5094",
   "metadata": {},
   "outputs": [
    {
     "data": {
      "text/plain": [
       "['HP 255 G8 Notebook PC,AMD Ryzen 3 3250U, 15.6 inch(39.6cm) Anti-Glare HD',\n",
       " '/8GB RAM/512GB SSD/Numeric Keypad/AMD Radeon Graphics/Win 11/1.74 Kgs 689T4PA',\n",
       " 'Dell Inspiron 7420 2in1 Touch',\n",
       " ',12th Gen Intel Core i3-1215U, 8GB/256GB SSD/14.0\" (35.56Cms) FHD+ WVA 250 nits/Backlit KB + FPR/Windows 11 + MSO\\'21/15 Month McAfee/Platinum Silver/1.57KG',\n",
       " 'MSI Modern 15, AMD Ryzen 5-7530U, 40CM FHD 60Hz',\n",
       " '(16GB/512GB NVMe SSD/Windows 11 Home/AMD Radeon Graphics/Classic Black/1.7Kg), B7M-071IN',\n",
       " 'Lenovo IdeaPad Slim 3 Intel Core i3 11th Gen 14\" (35.56cm) FHD Thin & Light',\n",
       " '(8GB/512GB SSD/Windows 11/Office 2021/2Yr Warranty/3months Game Pass/Arctic Grey/1.41Kg), 82H701DNIN',\n",
       " 'HP Pavilion 14 12th Gen Intel Core i5 16GB RAM/512GB SSD 14 inch(35.6cm) IPS Micro-Edge FHD',\n",
       " '/Intel Iris Xe Graphics/B&O/Win 11/Alexa Built-in/Backlit KB/FPR/MSO 2021/Natural Silver, 14-dv2014TU']"
      ]
     },
     "execution_count": 24,
     "metadata": {},
     "output_type": "execute_result"
    }
   ],
   "source": [
    "Lap=[]\n",
    "lap=driver.find_elements(By.XPATH,'//span[@class=\"a-size-medium a-color-base a-text-normal\"]')\n",
    "for i in lap[0:10]:\n",
    "    lp=i.text\n",
    "    Lap.append(lp)\n",
    "    \n",
    "Lap"
   ]
  },
  {
   "cell_type": "code",
   "execution_count": 20,
   "id": "87757e8c",
   "metadata": {},
   "outputs": [
    {
     "data": {
      "text/plain": [
       "['29,990',\n",
       " '53,490',\n",
       " '45,990',\n",
       " '36,990',\n",
       " '65,990',\n",
       " '36,990',\n",
       " '42,990',\n",
       " '28,990',\n",
       " '45,990',\n",
       " '38,990',\n",
       " '41,990',\n",
       " '62,990',\n",
       " '54,990',\n",
       " '39,990',\n",
       " '35,990',\n",
       " '48,890']"
      ]
     },
     "execution_count": 20,
     "metadata": {},
     "output_type": "execute_result"
    }
   ],
   "source": [
    "price=[]\n",
    "Price=driver.find_elements(By.XPATH,'//span[@class=\"a-price-whole\"]')\n",
    "for i in Price[0:100]:\n",
    "    PR=i.text\n",
    "    price.append(PR)\n",
    "    \n",
    "price"
   ]
  },
  {
   "cell_type": "code",
   "execution_count": 21,
   "id": "bebf43b5",
   "metadata": {},
   "outputs": [
    {
     "data": {
      "text/plain": [
       "'964'"
      ]
     },
     "execution_count": 21,
     "metadata": {},
     "output_type": "execute_result"
    }
   ],
   "source": [
    "Rating=[]\n",
    "rate=driver.find_elements(By.XPATH,'//span[@class=\"a-size-base s-underline-text\"]')\n",
    "for i in rate[0:100]:\n",
    "    RA=i.text\n",
    "    Rating.append(RA)\n",
    "    \n",
    "RA"
   ]
  },
  {
   "cell_type": "code",
   "execution_count": 22,
   "id": "a6247090",
   "metadata": {},
   "outputs": [
    {
     "name": "stdout",
     "output_type": "stream",
     "text": [
      "16 16 10\n"
     ]
    }
   ],
   "source": [
    "print(len(Rating),len(price),len(Lap))"
   ]
  },
  {
   "cell_type": "markdown",
   "id": "25ec7428",
   "metadata": {},
   "source": [
    "# Q8"
   ]
  },
  {
   "cell_type": "code",
   "execution_count": 34,
   "id": "95abb795",
   "metadata": {},
   "outputs": [],
   "source": [
    "driver=webdriver.Chrome()"
   ]
  },
  {
   "cell_type": "code",
   "execution_count": 35,
   "id": "99e1d494",
   "metadata": {},
   "outputs": [],
   "source": [
    "A=driver.get('https://www.azquotes.com/')"
   ]
  },
  {
   "cell_type": "code",
   "execution_count": 36,
   "id": "fb94f220",
   "metadata": {},
   "outputs": [],
   "source": []
  },
  {
   "cell_type": "markdown",
   "id": "d9d91a74",
   "metadata": {},
   "source": [
    "# Q9\n",
    "    "
   ]
  },
  {
   "cell_type": "code",
   "execution_count": 38,
   "id": "7cda3a75",
   "metadata": {},
   "outputs": [],
   "source": [
    "driver=webdriver.Chrome()"
   ]
  },
  {
   "cell_type": "code",
   "execution_count": 39,
   "id": "72289841",
   "metadata": {},
   "outputs": [],
   "source": [
    "Josh=driver.get(\"http://www.jagranjosh.com/\")"
   ]
  },
  {
   "cell_type": "code",
   "execution_count": 41,
   "id": "8793c984",
   "metadata": {},
   "outputs": [
    {
     "ename": "NameError",
     "evalue": "name 'j' is not defined",
     "output_type": "error",
     "traceback": [
      "\u001b[1;31m---------------------------------------------------------------------------\u001b[0m",
      "\u001b[1;31mNameError\u001b[0m                                 Traceback (most recent call last)",
      "\u001b[1;32m~\\AppData\\Local\\Temp\\ipykernel_11536\\2460866315.py\u001b[0m in \u001b[0;36m<module>\u001b[1;34m\u001b[0m\n\u001b[0;32m      1\u001b[0m \u001b[0mjs\u001b[0m\u001b[1;33m=\u001b[0m\u001b[0mdriver\u001b[0m\u001b[1;33m.\u001b[0m\u001b[0mfind_elements\u001b[0m\u001b[1;33m(\u001b[0m\u001b[0mBy\u001b[0m\u001b[1;33m.\u001b[0m\u001b[0mXPATH\u001b[0m\u001b[1;33m,\u001b[0m\u001b[1;34m'//div[@class=\"hashtag\"]'\u001b[0m\u001b[1;33m)\u001b[0m\u001b[1;33m\u001b[0m\u001b[1;33m\u001b[0m\u001b[0m\n\u001b[1;32m----> 2\u001b[1;33m \u001b[0mj\u001b[0m\u001b[1;33m.\u001b[0m\u001b[0mclick\u001b[0m\u001b[1;33m(\u001b[0m\u001b[1;34m\"/general-knowledge?ref=nav_dd\"\u001b[0m\u001b[1;33m)\u001b[0m\u001b[1;33m\u001b[0m\u001b[1;33m\u001b[0m\u001b[0m\n\u001b[0m",
      "\u001b[1;31mNameError\u001b[0m: name 'j' is not defined"
     ]
    }
   ],
   "source": [
    "js=driver.find_elements(By.XPATH,'//div[@class=\"hashtag\"]')\n",
    "js.click(\"/general-knowledge?ref=nav_dd\")"
   ]
  },
  {
   "cell_type": "markdown",
   "id": "5cc7846e",
   "metadata": {},
   "source": [
    "# Q10"
   ]
  },
  {
   "cell_type": "code",
   "execution_count": 84,
   "id": "8ecb2124",
   "metadata": {},
   "outputs": [],
   "source": [
    "driver=webdriver.Chrome()"
   ]
  },
  {
   "cell_type": "code",
   "execution_count": 85,
   "id": "4cf8d5eb",
   "metadata": {},
   "outputs": [],
   "source": [
    "driver.get(\"https://www.motor1.com/\")"
   ]
  },
  {
   "cell_type": "code",
   "execution_count": 86,
   "id": "707b5872",
   "metadata": {},
   "outputs": [
    {
     "ename": "NoSuchElementException",
     "evalue": "Message: no such element: Unable to locate element: {\"method\":\"css selector\",\"selector\":\".m1-search-panel-input m1-search-form-text\"}\n  (Session info: chrome=115.0.5790.102); For documentation on this error, please visit: https://www.selenium.dev/documentation/webdriver/troubleshooting/errors#no-such-element-exception\nStacktrace:\nBacktrace:\n\tGetHandleVerifier [0x0030A813+48355]\n\t(No symbol) [0x0029C4B1]\n\t(No symbol) [0x001A5358]\n\t(No symbol) [0x001D09A5]\n\t(No symbol) [0x001D0B3B]\n\t(No symbol) [0x001FE232]\n\t(No symbol) [0x001EA784]\n\t(No symbol) [0x001FC922]\n\t(No symbol) [0x001EA536]\n\t(No symbol) [0x001C82DC]\n\t(No symbol) [0x001C93DD]\n\tGetHandleVerifier [0x0056AABD+2539405]\n\tGetHandleVerifier [0x005AA78F+2800735]\n\tGetHandleVerifier [0x005A456C+2775612]\n\tGetHandleVerifier [0x003951E0+616112]\n\t(No symbol) [0x002A5F8C]\n\t(No symbol) [0x002A2328]\n\t(No symbol) [0x002A240B]\n\t(No symbol) [0x00294FF7]\n\tBaseThreadInitThunk [0x773300C9+25]\n\tRtlGetAppContainerNamedObjectPath [0x77537B1E+286]\n\tRtlGetAppContainerNamedObjectPath [0x77537AEE+238]\n\t(No symbol) [0x00000000]\n",
     "output_type": "error",
     "traceback": [
      "\u001b[1;31m---------------------------------------------------------------------------\u001b[0m",
      "\u001b[1;31mNoSuchElementException\u001b[0m                    Traceback (most recent call last)",
      "\u001b[1;32m~\\AppData\\Local\\Temp\\ipykernel_11536\\1988817276.py\u001b[0m in \u001b[0;36m<module>\u001b[1;34m\u001b[0m\n\u001b[1;32m----> 1\u001b[1;33m \u001b[0mMoto\u001b[0m\u001b[1;33m=\u001b[0m\u001b[0mdriver\u001b[0m\u001b[1;33m.\u001b[0m\u001b[0mfind_element\u001b[0m\u001b[1;33m(\u001b[0m\u001b[0mBy\u001b[0m\u001b[1;33m.\u001b[0m\u001b[0mCLASS_NAME\u001b[0m\u001b[1;33m,\u001b[0m\u001b[1;34m\"m1-search-panel-input m1-search-form-text\"\u001b[0m\u001b[1;33m)\u001b[0m\u001b[1;33m\u001b[0m\u001b[1;33m\u001b[0m\u001b[0m\n\u001b[0m\u001b[0;32m      2\u001b[0m \u001b[0mMoto\u001b[0m\u001b[1;33m.\u001b[0m\u001b[0msend_keys\u001b[0m\u001b[1;33m(\u001b[0m\u001b[1;34m\"most expensive cars\"\u001b[0m\u001b[1;33m)\u001b[0m\u001b[1;33m\u001b[0m\u001b[1;33m\u001b[0m\u001b[0m\n",
      "\u001b[1;32m~\\AppData\\Roaming\\Python\\Python39\\site-packages\\selenium\\webdriver\\remote\\webdriver.py\u001b[0m in \u001b[0;36mfind_element\u001b[1;34m(self, by, value)\u001b[0m\n\u001b[0;32m    738\u001b[0m             \u001b[0mvalue\u001b[0m \u001b[1;33m=\u001b[0m \u001b[1;34mf'[name=\"{value}\"]'\u001b[0m\u001b[1;33m\u001b[0m\u001b[1;33m\u001b[0m\u001b[0m\n\u001b[0;32m    739\u001b[0m \u001b[1;33m\u001b[0m\u001b[0m\n\u001b[1;32m--> 740\u001b[1;33m         \u001b[1;32mreturn\u001b[0m \u001b[0mself\u001b[0m\u001b[1;33m.\u001b[0m\u001b[0mexecute\u001b[0m\u001b[1;33m(\u001b[0m\u001b[0mCommand\u001b[0m\u001b[1;33m.\u001b[0m\u001b[0mFIND_ELEMENT\u001b[0m\u001b[1;33m,\u001b[0m \u001b[1;33m{\u001b[0m\u001b[1;34m\"using\"\u001b[0m\u001b[1;33m:\u001b[0m \u001b[0mby\u001b[0m\u001b[1;33m,\u001b[0m \u001b[1;34m\"value\"\u001b[0m\u001b[1;33m:\u001b[0m \u001b[0mvalue\u001b[0m\u001b[1;33m}\u001b[0m\u001b[1;33m)\u001b[0m\u001b[1;33m[\u001b[0m\u001b[1;34m\"value\"\u001b[0m\u001b[1;33m]\u001b[0m\u001b[1;33m\u001b[0m\u001b[1;33m\u001b[0m\u001b[0m\n\u001b[0m\u001b[0;32m    741\u001b[0m \u001b[1;33m\u001b[0m\u001b[0m\n\u001b[0;32m    742\u001b[0m     \u001b[1;32mdef\u001b[0m \u001b[0mfind_elements\u001b[0m\u001b[1;33m(\u001b[0m\u001b[0mself\u001b[0m\u001b[1;33m,\u001b[0m \u001b[0mby\u001b[0m\u001b[1;33m=\u001b[0m\u001b[0mBy\u001b[0m\u001b[1;33m.\u001b[0m\u001b[0mID\u001b[0m\u001b[1;33m,\u001b[0m \u001b[0mvalue\u001b[0m\u001b[1;33m:\u001b[0m \u001b[0mOptional\u001b[0m\u001b[1;33m[\u001b[0m\u001b[0mstr\u001b[0m\u001b[1;33m]\u001b[0m \u001b[1;33m=\u001b[0m \u001b[1;32mNone\u001b[0m\u001b[1;33m)\u001b[0m \u001b[1;33m->\u001b[0m \u001b[0mList\u001b[0m\u001b[1;33m[\u001b[0m\u001b[0mWebElement\u001b[0m\u001b[1;33m]\u001b[0m\u001b[1;33m:\u001b[0m\u001b[1;33m\u001b[0m\u001b[1;33m\u001b[0m\u001b[0m\n",
      "\u001b[1;32m~\\AppData\\Roaming\\Python\\Python39\\site-packages\\selenium\\webdriver\\remote\\webdriver.py\u001b[0m in \u001b[0;36mexecute\u001b[1;34m(self, driver_command, params)\u001b[0m\n\u001b[0;32m    344\u001b[0m         \u001b[0mresponse\u001b[0m \u001b[1;33m=\u001b[0m \u001b[0mself\u001b[0m\u001b[1;33m.\u001b[0m\u001b[0mcommand_executor\u001b[0m\u001b[1;33m.\u001b[0m\u001b[0mexecute\u001b[0m\u001b[1;33m(\u001b[0m\u001b[0mdriver_command\u001b[0m\u001b[1;33m,\u001b[0m \u001b[0mparams\u001b[0m\u001b[1;33m)\u001b[0m\u001b[1;33m\u001b[0m\u001b[1;33m\u001b[0m\u001b[0m\n\u001b[0;32m    345\u001b[0m         \u001b[1;32mif\u001b[0m \u001b[0mresponse\u001b[0m\u001b[1;33m:\u001b[0m\u001b[1;33m\u001b[0m\u001b[1;33m\u001b[0m\u001b[0m\n\u001b[1;32m--> 346\u001b[1;33m             \u001b[0mself\u001b[0m\u001b[1;33m.\u001b[0m\u001b[0merror_handler\u001b[0m\u001b[1;33m.\u001b[0m\u001b[0mcheck_response\u001b[0m\u001b[1;33m(\u001b[0m\u001b[0mresponse\u001b[0m\u001b[1;33m)\u001b[0m\u001b[1;33m\u001b[0m\u001b[1;33m\u001b[0m\u001b[0m\n\u001b[0m\u001b[0;32m    347\u001b[0m             \u001b[0mresponse\u001b[0m\u001b[1;33m[\u001b[0m\u001b[1;34m\"value\"\u001b[0m\u001b[1;33m]\u001b[0m \u001b[1;33m=\u001b[0m \u001b[0mself\u001b[0m\u001b[1;33m.\u001b[0m\u001b[0m_unwrap_value\u001b[0m\u001b[1;33m(\u001b[0m\u001b[0mresponse\u001b[0m\u001b[1;33m.\u001b[0m\u001b[0mget\u001b[0m\u001b[1;33m(\u001b[0m\u001b[1;34m\"value\"\u001b[0m\u001b[1;33m,\u001b[0m \u001b[1;32mNone\u001b[0m\u001b[1;33m)\u001b[0m\u001b[1;33m)\u001b[0m\u001b[1;33m\u001b[0m\u001b[1;33m\u001b[0m\u001b[0m\n\u001b[0;32m    348\u001b[0m             \u001b[1;32mreturn\u001b[0m \u001b[0mresponse\u001b[0m\u001b[1;33m\u001b[0m\u001b[1;33m\u001b[0m\u001b[0m\n",
      "\u001b[1;32m~\\AppData\\Roaming\\Python\\Python39\\site-packages\\selenium\\webdriver\\remote\\errorhandler.py\u001b[0m in \u001b[0;36mcheck_response\u001b[1;34m(self, response)\u001b[0m\n\u001b[0;32m    243\u001b[0m                 \u001b[0malert_text\u001b[0m \u001b[1;33m=\u001b[0m \u001b[0mvalue\u001b[0m\u001b[1;33m[\u001b[0m\u001b[1;34m\"alert\"\u001b[0m\u001b[1;33m]\u001b[0m\u001b[1;33m.\u001b[0m\u001b[0mget\u001b[0m\u001b[1;33m(\u001b[0m\u001b[1;34m\"text\"\u001b[0m\u001b[1;33m)\u001b[0m\u001b[1;33m\u001b[0m\u001b[1;33m\u001b[0m\u001b[0m\n\u001b[0;32m    244\u001b[0m             \u001b[1;32mraise\u001b[0m \u001b[0mexception_class\u001b[0m\u001b[1;33m(\u001b[0m\u001b[0mmessage\u001b[0m\u001b[1;33m,\u001b[0m \u001b[0mscreen\u001b[0m\u001b[1;33m,\u001b[0m \u001b[0mstacktrace\u001b[0m\u001b[1;33m,\u001b[0m \u001b[0malert_text\u001b[0m\u001b[1;33m)\u001b[0m  \u001b[1;31m# type: ignore[call-arg]  # mypy is not smart enough here\u001b[0m\u001b[1;33m\u001b[0m\u001b[1;33m\u001b[0m\u001b[0m\n\u001b[1;32m--> 245\u001b[1;33m         \u001b[1;32mraise\u001b[0m \u001b[0mexception_class\u001b[0m\u001b[1;33m(\u001b[0m\u001b[0mmessage\u001b[0m\u001b[1;33m,\u001b[0m \u001b[0mscreen\u001b[0m\u001b[1;33m,\u001b[0m \u001b[0mstacktrace\u001b[0m\u001b[1;33m)\u001b[0m\u001b[1;33m\u001b[0m\u001b[1;33m\u001b[0m\u001b[0m\n\u001b[0m",
      "\u001b[1;31mNoSuchElementException\u001b[0m: Message: no such element: Unable to locate element: {\"method\":\"css selector\",\"selector\":\".m1-search-panel-input m1-search-form-text\"}\n  (Session info: chrome=115.0.5790.102); For documentation on this error, please visit: https://www.selenium.dev/documentation/webdriver/troubleshooting/errors#no-such-element-exception\nStacktrace:\nBacktrace:\n\tGetHandleVerifier [0x0030A813+48355]\n\t(No symbol) [0x0029C4B1]\n\t(No symbol) [0x001A5358]\n\t(No symbol) [0x001D09A5]\n\t(No symbol) [0x001D0B3B]\n\t(No symbol) [0x001FE232]\n\t(No symbol) [0x001EA784]\n\t(No symbol) [0x001FC922]\n\t(No symbol) [0x001EA536]\n\t(No symbol) [0x001C82DC]\n\t(No symbol) [0x001C93DD]\n\tGetHandleVerifier [0x0056AABD+2539405]\n\tGetHandleVerifier [0x005AA78F+2800735]\n\tGetHandleVerifier [0x005A456C+2775612]\n\tGetHandleVerifier [0x003951E0+616112]\n\t(No symbol) [0x002A5F8C]\n\t(No symbol) [0x002A2328]\n\t(No symbol) [0x002A240B]\n\t(No symbol) [0x00294FF7]\n\tBaseThreadInitThunk [0x773300C9+25]\n\tRtlGetAppContainerNamedObjectPath [0x77537B1E+286]\n\tRtlGetAppContainerNamedObjectPath [0x77537AEE+238]\n\t(No symbol) [0x00000000]\n"
     ]
    }
   ],
   "source": [
    "Moto=driver.find_element(By.CLASS_NAME,\"m1-search-panel-input m1-search-form-text\")\n",
    "Moto.send_keys(\"most expensive cars\")"
   ]
  },
  {
   "cell_type": "code",
   "execution_count": null,
   "id": "1e8d526c",
   "metadata": {},
   "outputs": [],
   "source": []
  },
  {
   "cell_type": "code",
   "execution_count": null,
   "id": "083f9aca",
   "metadata": {},
   "outputs": [],
   "source": []
  },
  {
   "cell_type": "code",
   "execution_count": null,
   "id": "66f3ff2d",
   "metadata": {},
   "outputs": [],
   "source": []
  },
  {
   "cell_type": "code",
   "execution_count": null,
   "id": "85f0b4d1",
   "metadata": {},
   "outputs": [],
   "source": []
  },
  {
   "cell_type": "code",
   "execution_count": null,
   "id": "e5362abd",
   "metadata": {},
   "outputs": [],
   "source": []
  },
  {
   "cell_type": "code",
   "execution_count": null,
   "id": "7b13448b",
   "metadata": {},
   "outputs": [],
   "source": []
  },
  {
   "cell_type": "code",
   "execution_count": null,
   "id": "30f7654c",
   "metadata": {},
   "outputs": [],
   "source": []
  },
  {
   "cell_type": "code",
   "execution_count": null,
   "id": "14175b5f",
   "metadata": {},
   "outputs": [],
   "source": []
  },
  {
   "cell_type": "code",
   "execution_count": null,
   "id": "325b0aa8",
   "metadata": {},
   "outputs": [],
   "source": []
  },
  {
   "cell_type": "code",
   "execution_count": null,
   "id": "2191e6a6",
   "metadata": {},
   "outputs": [],
   "source": []
  },
  {
   "cell_type": "code",
   "execution_count": null,
   "id": "fe0c9e80",
   "metadata": {},
   "outputs": [],
   "source": []
  },
  {
   "cell_type": "code",
   "execution_count": null,
   "id": "02e8175d",
   "metadata": {},
   "outputs": [],
   "source": []
  },
  {
   "cell_type": "code",
   "execution_count": null,
   "id": "0b3422ec",
   "metadata": {},
   "outputs": [],
   "source": []
  },
  {
   "cell_type": "code",
   "execution_count": null,
   "id": "6061f5ca",
   "metadata": {},
   "outputs": [],
   "source": []
  },
  {
   "cell_type": "code",
   "execution_count": null,
   "id": "dc646daf",
   "metadata": {},
   "outputs": [],
   "source": []
  },
  {
   "cell_type": "code",
   "execution_count": 5,
   "id": "2b13e76b",
   "metadata": {},
   "outputs": [],
   "source": [
    "driver=webdriver.Chrome()"
   ]
  },
  {
   "cell_type": "code",
   "execution_count": null,
   "id": "0d4a998a",
   "metadata": {},
   "outputs": [],
   "source": [
    "Quotes=driver.get(\"https://www.azquotes.com/\")"
   ]
  },
  {
   "cell_type": "code",
   "execution_count": null,
   "id": "976f2738",
   "metadata": {},
   "outputs": [],
   "source": []
  },
  {
   "cell_type": "code",
   "execution_count": null,
   "id": "294f44e4",
   "metadata": {},
   "outputs": [],
   "source": []
  },
  {
   "cell_type": "code",
   "execution_count": null,
   "id": "1b9815f8",
   "metadata": {},
   "outputs": [],
   "source": []
  },
  {
   "cell_type": "code",
   "execution_count": null,
   "id": "9387b6ad",
   "metadata": {},
   "outputs": [],
   "source": []
  }
 ],
 "metadata": {
  "kernelspec": {
   "display_name": "Python 3 (ipykernel)",
   "language": "python",
   "name": "python3"
  },
  "language_info": {
   "codemirror_mode": {
    "name": "ipython",
    "version": 3
   },
   "file_extension": ".py",
   "mimetype": "text/x-python",
   "name": "python",
   "nbconvert_exporter": "python",
   "pygments_lexer": "ipython3",
   "version": "3.9.13"
  }
 },
 "nbformat": 4,
 "nbformat_minor": 5
}

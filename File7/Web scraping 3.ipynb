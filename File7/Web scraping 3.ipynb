{
 "cells": [
  {
   "cell_type": "markdown",
   "id": "49650720",
   "metadata": {},
   "source": [
    "# Q1"
   ]
  },
  {
   "cell_type": "code",
   "execution_count": null,
   "id": "9d23c1e3",
   "metadata": {
    "scrolled": true
   },
   "outputs": [],
   "source": [
    "!pip install selenium"
   ]
  },
  {
   "cell_type": "code",
   "execution_count": 1,
   "id": "4ee4cc04",
   "metadata": {},
   "outputs": [],
   "source": [
    "import pandas as pd\n",
    "import selenium\n",
    "from selenium import webdriver\n",
    "import warnings\n",
    "warnings.filterwarnings('ignore')\n",
    "from selenium.webdriver.common.by import By\n",
    "import requests\n",
    "import time\n",
    "from selenium.common.exceptions import NoSuchElementException "
   ]
  },
  {
   "cell_type": "code",
   "execution_count": 2,
   "id": "e9941b4e",
   "metadata": {},
   "outputs": [],
   "source": [
    "driver=webdriver.Chrome()"
   ]
  },
  {
   "cell_type": "code",
   "execution_count": 3,
   "id": "253d004d",
   "metadata": {},
   "outputs": [],
   "source": [
    "driver.get(\"https://www.amazon.in/\")\n"
   ]
  },
  {
   "cell_type": "code",
   "execution_count": null,
   "id": "97957c74",
   "metadata": {},
   "outputs": [],
   "source": [
    "D=input(\"Item name :\")"
   ]
  },
  {
   "cell_type": "code",
   "execution_count": 4,
   "id": "8b133501",
   "metadata": {},
   "outputs": [
    {
     "name": "stdout",
     "output_type": "stream",
     "text": [
      "Item name :guitars\n"
     ]
    }
   ],
   "source": [
    "D=input(\"Item name :\")\n",
    "A=driver.find_element(By.XPATH,'//input[@class=\"nav-input nav-progressive-attribute\"]')\n",
    "\n",
    "A.send_keys(D)\n",
    "\n",
    "B=driver.find_element(By.XPATH,'//span[@class=\"nav-search-submit-text nav-sprite nav-progressive-attribute\"]')\n",
    "B.click()"
   ]
  },
  {
   "cell_type": "markdown",
   "id": "dd0c9fec",
   "metadata": {},
   "source": [
    "# Q2"
   ]
  },
  {
   "cell_type": "code",
   "execution_count": 8,
   "id": "cbbeb2d3",
   "metadata": {},
   "outputs": [],
   "source": [
    "proc_url=[]\n",
    "start=0\n",
    "end=3\n",
    "for page in range(start,end):\n",
    "    url=driver.find_elements(By.XPATH,'//a[@class=\"a-link-normal s-underline-text s-underline-link-text s-link-style a-text-normal\"]')\n",
    "    for i in url:\n",
    "        proc_url.append(i.get_attribute('href'))\n",
    "    nxt_button=driver.find_element(By.XPATH,'//a[@class=\"s-pagination-item s-pagination-next s-pagination-button s-pagination-separator\"]')\n",
    "    nxt_button.click()\n",
    "    time.sleep(3)"
   ]
  },
  {
   "cell_type": "code",
   "execution_count": 9,
   "id": "8ffa553f",
   "metadata": {},
   "outputs": [],
   "source": [
    "Brand_Name=[]\n",
    "Name_of_the_Product=[]\n",
    "Price=[]\n",
    "Return_or_Exchange=[]\n",
    "Expected_Delivery=[]\n",
    "Availability=[]\n",
    "Product_URL=[]"
   ]
  },
  {
   "cell_type": "code",
   "execution_count": null,
   "id": "444e2c87",
   "metadata": {},
   "outputs": [],
   "source": [
    "for url in proc_url:\n",
    "    driver.get(url)\n",
    "    time.sleep(2)\n",
    "    \n",
    "    try:\n",
    "        brand=driver.find_element(By.XPATH,'//*[@id=\"productOverview_feature_div\"]/div/table/tbody/tr/tr[2]/span')\n",
    "        Brand_Name.append(brand.text)\n",
    "    except NoSuchElementException:\n",
    "        Brand_Name.append('-')\n",
    "        \n",
    "Brand_Name"
   ]
  },
  {
   "cell_type": "code",
   "execution_count": null,
   "id": "a680cc82",
   "metadata": {},
   "outputs": [],
   "source": [
    "for url in proc_url:\n",
    "    driver.get(url)\n",
    "    time.sleep(2)\n",
    "    \n",
    "    try:\n",
    "        name=driver.find_element(By.XPATH,'//h2[@class=\"a-size-mini a-spacing-none a-color-base s-line-clamp-4\"]')\n",
    "        Name_of_the_Product.append(name.text)\n",
    "    except NoSuchElementException:\n",
    "        Name_of_the_Product.append('-')\n",
    "        \n",
    "Name_of_the_Product"
   ]
  },
  {
   "cell_type": "code",
   "execution_count": null,
   "id": "5b4c5103",
   "metadata": {},
   "outputs": [],
   "source": [
    "\n",
    "for url in proc_url:\n",
    "    driver.get(url)\n",
    "    time.sleep(2)\n",
    "    \n",
    "    try:\n",
    "        price=driver.find_element(By.XPATH,'//span[@class=\"a-price-whole\"]')\n",
    "        Price.append(price.text)\n",
    "    except NoSuchElementException:\n",
    "        Price.append('-')\n",
    "        \n",
    "Price"
   ]
  },
  {
   "cell_type": "code",
   "execution_count": null,
   "id": "9151973a",
   "metadata": {},
   "outputs": [],
   "source": [
    "for url in proc_url:\n",
    "    driver.get(url)\n",
    "    time.sleep(2)\n",
    "    \n",
    "    try:\n",
    "        retur=driver.find_element(By.XPATH,'//*[@id=\"icon-farm-container\"]/div[4]/ol/li/div/li/div/li/div/span')\n",
    "        Return_or_Exchange.append(retur.text)\n",
    "    except NoSuchElementException:\n",
    "        Return_or_Exchange.append('-')\n",
    "        \n",
    "Return_or_Exchange"
   ]
  },
  {
   "cell_type": "code",
   "execution_count": null,
   "id": "7a4f0ab4",
   "metadata": {},
   "outputs": [],
   "source": [
    "for url in proc_url:\n",
    "    driver.get(url)\n",
    "    time.sleep(2)\n",
    "    \n",
    "    try:\n",
    "        ED=driver.find_element(By.XPATH,'//*[@id=\"icon-farm-container\"]/div[3]/oll/i[2]/div/div[3]/span'')\n",
    "        Expected_Delivery.append(ED.text)\n",
    "    except NoSuchElementException:\n",
    "        Expected_Delivery.append('-')\n",
    "        \n",
    "Expected_Delivery"
   ]
  },
  {
   "cell_type": "code",
   "execution_count": null,
   "id": "f264fc14",
   "metadata": {},
   "outputs": [],
   "source": [
    "for url in proc_url:\n",
    "    driver.get(url)\n",
    "    time.sleep(2)\n",
    "    \n",
    "    try:\n",
    "        AV=driver.find_element(By.XPATH,)\n",
    "        Availability.append(AV.text)\n",
    "    except NoSuchElementException:\n",
    "        Availability.append('-')\n",
    "        \n",
    "Availability"
   ]
  },
  {
   "cell_type": "markdown",
   "id": "3bcbbd9f",
   "metadata": {},
   "source": [
    "# Q3"
   ]
  },
  {
   "cell_type": "code",
   "execution_count": null,
   "id": "da2e086d",
   "metadata": {},
   "outputs": [],
   "source": [
    "!pip install bs4\n",
    "!pip install requests"
   ]
  },
  {
   "cell_type": "code",
   "execution_count": null,
   "id": "00e14228",
   "metadata": {},
   "outputs": [],
   "source": [
    "import requests\n",
    "from bs4 import BeautifulSoup"
   ]
  },
  {
   "cell_type": "markdown",
   "id": "4d61ff36",
   "metadata": {},
   "source": [
    "# Fruits"
   ]
  },
  {
   "cell_type": "code",
   "execution_count": null,
   "id": "2c0d963b",
   "metadata": {},
   "outputs": [],
   "source": [
    "re=requests.get(\"https://www.google.co.in/search?q=Fruits&hl=en&tbm=isch&source=hp&biw=479&bih=569&ei=daLLZNmnCMDf1e8PxbmEmAU&iflsig=AD69kcEAAAAAZMuwhZ7AJ_4lLu3Z_ohenTCm9mkFBZbz&ved=0ahUKEwiZtp-9w8CAAxXAb_UHHcUcAVMQ4dUDCAc&oq=Fruits&gs_lp=EgNpbWciBkZydWl0czIIEAAYgAQYsQMyCBAAGIAEGLEDMgsQABiABBixAxiDATIIEAAYgAQYsQMyCBAAGIAEGLEDMggQABiABBixAzIIEAAYgAQYsQMyCBAAGIAEGLEDMggQABiABBixAzILEAAYgAQYsQMYgwFI4IoEUABYIXAAeACQAQKYAYIGoAGeF6oBAzYtNLgBDMgBAPgBAYoCC2d3cy13aXotaW1n&sclient=img\")\n",
    "re"
   ]
  },
  {
   "cell_type": "code",
   "execution_count": null,
   "id": "44760f14",
   "metadata": {},
   "outputs": [],
   "source": [
    "soup=BeautifulSoup(re.content)\n",
    "soup"
   ]
  },
  {
   "cell_type": "code",
   "execution_count": null,
   "id": "ad43d3c7",
   "metadata": {},
   "outputs": [],
   "source": []
  },
  {
   "cell_type": "code",
   "execution_count": 11,
   "id": "278ea7cb",
   "metadata": {},
   "outputs": [],
   "source": [
    "\n",
    "driver=webdriver.Chrome()"
   ]
  },
  {
   "cell_type": "code",
   "execution_count": 12,
   "id": "b6b8babe",
   "metadata": {},
   "outputs": [],
   "source": [
    "A=driver.get(\"https://www.google.co.in/imghp?hl=en&ogbl\")"
   ]
  },
  {
   "cell_type": "code",
   "execution_count": 13,
   "id": "e14810ad",
   "metadata": {},
   "outputs": [],
   "source": [
    "image=driver.find_element(By.CLASS_NAME,\"gLFyf\")\n",
    "image.send_keys(\"Fruits\")"
   ]
  },
  {
   "cell_type": "code",
   "execution_count": 15,
   "id": "c3ed55f1",
   "metadata": {},
   "outputs": [],
   "source": [
    "search=driver.find_element(By.XPATH,'//div[@class=\"zgAlFc\"]')\n",
    "search.click()"
   ]
  },
  {
   "cell_type": "code",
   "execution_count": null,
   "id": "22bfa208",
   "metadata": {},
   "outputs": [],
   "source": [
    "Image=[]"
   ]
  },
  {
   "cell_type": "code",
   "execution_count": null,
   "id": "7cd65570",
   "metadata": {},
   "outputs": [],
   "source": [
    "image=driver.find_elements(By.XPATH,'//img[@class=\"rg_i Q4LuWd\"]')\n",
    "for i in image[0:10]:\n",
    "    IM=i.text\n",
    "    Image.append(IM)\n",
    "    \n",
    "IM\n"
   ]
  },
  {
   "cell_type": "code",
   "execution_count": null,
   "id": "c5b1b099",
   "metadata": {},
   "outputs": [],
   "source": [
    "len(image)"
   ]
  },
  {
   "cell_type": "markdown",
   "id": "18f15a0f",
   "metadata": {},
   "source": [
    "# cars"
   ]
  },
  {
   "cell_type": "code",
   "execution_count": null,
   "id": "ab9622e6",
   "metadata": {},
   "outputs": [],
   "source": [
    "driver=webdriver.Chrome()"
   ]
  },
  {
   "cell_type": "code",
   "execution_count": null,
   "id": "4db1a661",
   "metadata": {},
   "outputs": [],
   "source": [
    "A=driver.get(\"https://www.google.co.in/imghp?hl=en&ogbl\")"
   ]
  },
  {
   "cell_type": "code",
   "execution_count": null,
   "id": "7fdfcfad",
   "metadata": {},
   "outputs": [],
   "source": [
    "image=driver.find_element(By.CLASS_NAME,\"gLFyf\")\n",
    "image.send_keys(\"Cars\")"
   ]
  },
  {
   "cell_type": "code",
   "execution_count": null,
   "id": "a93d9901",
   "metadata": {},
   "outputs": [],
   "source": [
    "search=driver.find_element(By.XPATH,'//span[@class=\"z1asCe MZy1Rb\"]')\n",
    "search.click()"
   ]
  },
  {
   "cell_type": "code",
   "execution_count": null,
   "id": "a9d81b2d",
   "metadata": {},
   "outputs": [],
   "source": [
    "Cars=[]"
   ]
  },
  {
   "cell_type": "code",
   "execution_count": null,
   "id": "be2307f3",
   "metadata": {},
   "outputs": [],
   "source": [
    "car=driver.find_elements(By.XPATH,'//img[@class=\"rg_i Q4LuWd\"]')\n",
    "for i in car[0:10]:\n",
    "    CR=i.text\n",
    "    Cars.append(CR)\n",
    "    \n",
    "CR"
   ]
  },
  {
   "cell_type": "code",
   "execution_count": null,
   "id": "450c1a0d",
   "metadata": {},
   "outputs": [],
   "source": [
    "len(Cars)"
   ]
  },
  {
   "cell_type": "markdown",
   "id": "a595b83c",
   "metadata": {},
   "source": [
    "# Machine_learning"
   ]
  },
  {
   "cell_type": "code",
   "execution_count": null,
   "id": "120d5a77",
   "metadata": {},
   "outputs": [],
   "source": [
    "driver=webdriver.Chrome()"
   ]
  },
  {
   "cell_type": "code",
   "execution_count": null,
   "id": "0152c10d",
   "metadata": {},
   "outputs": [],
   "source": [
    "A=driver.get(\"https://www.google.co.in/imghp?hl=en&ogbl\")"
   ]
  },
  {
   "cell_type": "code",
   "execution_count": null,
   "id": "4d8f9430",
   "metadata": {},
   "outputs": [],
   "source": [
    "ML=driver.find_element(By.CLASS_NAME,\"gLFyf\")\n",
    "ML.send_keys(\"Meachine learning\")"
   ]
  },
  {
   "cell_type": "code",
   "execution_count": null,
   "id": "e98a20a4",
   "metadata": {},
   "outputs": [],
   "source": [
    "search=driver.find_element(By.XPATH,'//span[@class=\"z1asCe MZy1Rb\"]')\n",
    "search.click()"
   ]
  },
  {
   "cell_type": "code",
   "execution_count": null,
   "id": "6be5dcbc",
   "metadata": {},
   "outputs": [],
   "source": [
    "meachine_learning=[]"
   ]
  },
  {
   "cell_type": "code",
   "execution_count": null,
   "id": "636a8e28",
   "metadata": {},
   "outputs": [],
   "source": [
    "ml=driver.find_elements(By.XPATH,'//img[@class=\"rg_i Q4LuWd\"]')\n",
    "for i in ml[0:10]:\n",
    "    machine_learn=i.text\n",
    "    meachine_learning.append(machine_learn)\n",
    "    \n",
    "machine_learn"
   ]
  },
  {
   "cell_type": "code",
   "execution_count": null,
   "id": "e5002672",
   "metadata": {},
   "outputs": [],
   "source": [
    "len(meachine_learning)"
   ]
  },
  {
   "cell_type": "markdown",
   "id": "ce61e677",
   "metadata": {},
   "source": [
    "# Guitar"
   ]
  },
  {
   "cell_type": "code",
   "execution_count": null,
   "id": "fd01dbce",
   "metadata": {},
   "outputs": [],
   "source": [
    "driver=webdriver.Chrome()"
   ]
  },
  {
   "cell_type": "code",
   "execution_count": null,
   "id": "a3aae547",
   "metadata": {},
   "outputs": [],
   "source": [
    "A=driver.get(\"https://www.google.co.in/imghp?hl=en&ogbl\")"
   ]
  },
  {
   "cell_type": "code",
   "execution_count": null,
   "id": "c3fef39b",
   "metadata": {},
   "outputs": [],
   "source": [
    "GU=driver.find_element(By.CLASS_NAME,\"gLFyf\")\n",
    "GU.send_keys(\"Guitar\")"
   ]
  },
  {
   "cell_type": "code",
   "execution_count": null,
   "id": "ed0c97f1",
   "metadata": {},
   "outputs": [],
   "source": [
    "search=driver.find_element(By.XPATH,'//span[@class=\"z1asCe MZy1Rb\"]')\n",
    "search.click()"
   ]
  },
  {
   "cell_type": "code",
   "execution_count": null,
   "id": "e48db977",
   "metadata": {},
   "outputs": [],
   "source": [
    "A=driver.find_element(By.XPATH,'//span[@class=\"NZmxZe rQEFy \"]')\n",
    "A.click()"
   ]
  },
  {
   "cell_type": "code",
   "execution_count": null,
   "id": "37a85039",
   "metadata": {},
   "outputs": [],
   "source": [
    "Guitar=[]"
   ]
  },
  {
   "cell_type": "code",
   "execution_count": null,
   "id": "0ae41eaf",
   "metadata": {},
   "outputs": [],
   "source": [
    "gu=driver.find_elements(By.XPATH,'//img[@class=\"rg_i Q4LuWd\"]')\n",
    "for i in gu[0:10]:\n",
    "    guitar=i.text\n",
    "    Guitar.append(guitar)\n",
    "    \n",
    "Guitar"
   ]
  },
  {
   "cell_type": "code",
   "execution_count": null,
   "id": "e6cfdc9e",
   "metadata": {},
   "outputs": [],
   "source": [
    "len(Guitar)"
   ]
  },
  {
   "cell_type": "markdown",
   "id": "85e8814b",
   "metadata": {},
   "source": [
    "# Cake"
   ]
  },
  {
   "cell_type": "code",
   "execution_count": null,
   "id": "4e602185",
   "metadata": {},
   "outputs": [],
   "source": [
    "driver=webdriver.Chrome()"
   ]
  },
  {
   "cell_type": "code",
   "execution_count": null,
   "id": "2d63afa7",
   "metadata": {},
   "outputs": [],
   "source": [
    "A=driver.get(\"https://www.google.co.in/imghp?hl=en&ogbl\")"
   ]
  },
  {
   "cell_type": "code",
   "execution_count": null,
   "id": "d5160a9e",
   "metadata": {},
   "outputs": [],
   "source": [
    "Cake=driver.find_element(By.CLASS_NAME,\"gLFyf\")\n",
    "Cake.send_keys(\"Cake\")"
   ]
  },
  {
   "cell_type": "code",
   "execution_count": null,
   "id": "259bdba6",
   "metadata": {},
   "outputs": [],
   "source": [
    "search=driver.find_element(By.CLASS_NAME,\"zgAlFc\")\n",
    "search.click()"
   ]
  },
  {
   "cell_type": "code",
   "execution_count": null,
   "id": "568bdcec",
   "metadata": {},
   "outputs": [],
   "source": [
    "Cake=[]"
   ]
  },
  {
   "cell_type": "code",
   "execution_count": null,
   "id": "627f161c",
   "metadata": {},
   "outputs": [],
   "source": [
    "cake=driver.find_elements(By.XPATH,'//a[@class=\"x0Sesd pla-link\"]')\n",
    "for i in cake[0:10]:\n",
    "    ck=i.text\n",
    "    Cake.append(ck)\n",
    "    \n",
    "    \n",
    "Cake\n"
   ]
  },
  {
   "cell_type": "code",
   "execution_count": null,
   "id": "e56ead1d",
   "metadata": {},
   "outputs": [],
   "source": [
    "len(Cake)"
   ]
  },
  {
   "cell_type": "markdown",
   "id": "655e1bbc",
   "metadata": {},
   "source": [
    "# Q4"
   ]
  },
  {
   "cell_type": "code",
   "execution_count": null,
   "id": "8d429350",
   "metadata": {},
   "outputs": [],
   "source": [
    "import pandas as pd"
   ]
  },
  {
   "cell_type": "code",
   "execution_count": null,
   "id": "8df40777",
   "metadata": {},
   "outputs": [],
   "source": [
    "\n",
    "smartphone=pd.read_csv(\"Smartphones.csv\")\n",
    "smartphone"
   ]
  },
  {
   "cell_type": "markdown",
   "id": "a7765ace",
   "metadata": {},
   "source": [
    "# Q6"
   ]
  },
  {
   "cell_type": "code",
   "execution_count": null,
   "id": "a8a62f29",
   "metadata": {},
   "outputs": [],
   "source": [
    "driver=webdriver.Chrome()"
   ]
  },
  {
   "cell_type": "code",
   "execution_count": null,
   "id": "c1e1f449",
   "metadata": {},
   "outputs": [],
   "source": [
    "driver.get(\"https://www.digit.in/\")"
   ]
  },
  {
   "cell_type": "code",
   "execution_count": null,
   "id": "41a8c2c7",
   "metadata": {},
   "outputs": [],
   "source": [
    "Laptop=[]"
   ]
  },
  {
   "cell_type": "code",
   "execution_count": null,
   "id": "c3efba93",
   "metadata": {},
   "outputs": [],
   "source": [
    "laptop=driver.find_elements(By.XPATH,'//div[@class=\"searchPage\"]')\n",
    "for i in laptop:\n",
    "    lp=i.text\n",
    "    \n",
    "    Laptop.append(lp)\n",
    "    \n",
    "    \n",
    "Laptop"
   ]
  },
  {
   "cell_type": "code",
   "execution_count": null,
   "id": "bc7d9c42",
   "metadata": {},
   "outputs": [],
   "source": [
    "import pandas as pd"
   ]
  },
  {
   "cell_type": "code",
   "execution_count": null,
   "id": "b72acef6",
   "metadata": {},
   "outputs": [],
   "source": [
    "A=pd.DataFrame(Laptop)\n",
    "A"
   ]
  },
  {
   "cell_type": "markdown",
   "id": "bf46da4f",
   "metadata": {},
   "source": [
    "# Q7"
   ]
  },
  {
   "cell_type": "code",
   "execution_count": null,
   "id": "50e9a46a",
   "metadata": {},
   "outputs": [],
   "source": [
    "re=requests.get(\"https://www.forbes.com/\")\n",
    "re"
   ]
  },
  {
   "cell_type": "code",
   "execution_count": null,
   "id": "58f25986",
   "metadata": {},
   "outputs": [],
   "source": [
    "soup=BeautifulSoup(re.content)\n",
    "soup"
   ]
  },
  {
   "cell_type": "code",
   "execution_count": null,
   "id": "5726c7fa",
   "metadata": {},
   "outputs": [],
   "source": [
    "driver=webdriver.Chrome()\n",
    "\n",
    "A=driver.get(\"https://www.forbes.com/billionaires/\")\n",
    "\n",
    "\n",
    "\n",
    "\n",
    "\n",
    "   "
   ]
  },
  {
   "cell_type": "code",
   "execution_count": null,
   "id": "3d8eb291",
   "metadata": {},
   "outputs": [],
   "source": []
  },
  {
   "cell_type": "code",
   "execution_count": null,
   "id": "3e055e61",
   "metadata": {},
   "outputs": [],
   "source": []
  },
  {
   "cell_type": "markdown",
   "id": "d61df51e",
   "metadata": {},
   "source": [
    "# Rank"
   ]
  },
  {
   "cell_type": "code",
   "execution_count": null,
   "id": "77239b31",
   "metadata": {},
   "outputs": [],
   "source": [
    "Rank=[]"
   ]
  },
  {
   "cell_type": "code",
   "execution_count": null,
   "id": "dde4cbb0",
   "metadata": {},
   "outputs": [],
   "source": [
    "\n",
    "rank=driver.find_elements(By.XPATH,'//div[@class=\"Table_dataCell__2QCve\"]')\n",
    "for i in rank:\n",
    "    r=i.text\n",
    "    Rank.append(r)\n",
    "    \n",
    "    \n",
    "Rank"
   ]
  },
  {
   "cell_type": "markdown",
   "id": "97bebe0d",
   "metadata": {},
   "source": [
    "# Name"
   ]
  },
  {
   "cell_type": "code",
   "execution_count": null,
   "id": "dc19dd83",
   "metadata": {},
   "outputs": [],
   "source": [
    "Name=[]"
   ]
  },
  {
   "cell_type": "code",
   "execution_count": null,
   "id": "58fe0a02",
   "metadata": {},
   "outputs": [],
   "source": [
    "name=driver.find_elements(By.XPATH,'//div[@class=\"Table_dataCell__2QCve\"]')\n",
    "for i in name:\n",
    "    n=i.text\n",
    "    Name.append(n)\n",
    "    \n",
    "    \n",
    "Name"
   ]
  },
  {
   "cell_type": "markdown",
   "id": "ecf3b801",
   "metadata": {},
   "source": [
    "# Net worth"
   ]
  },
  {
   "cell_type": "code",
   "execution_count": null,
   "id": "93dab794",
   "metadata": {},
   "outputs": [],
   "source": [
    "Net_worth=[]"
   ]
  },
  {
   "cell_type": "code",
   "execution_count": null,
   "id": "fc14cc72",
   "metadata": {},
   "outputs": [],
   "source": [
    "net=driver.find_elements(By.XPATH,'//div[@class=\"Table_dataCell__2QCve\"]')\n",
    "for i in net:\n",
    "    ne=i.text\n",
    "    Net_worth.append(ne)\n",
    "    \n",
    "    \n",
    "Net_worth"
   ]
  },
  {
   "cell_type": "markdown",
   "id": "2c25be4f",
   "metadata": {},
   "source": [
    "# Age"
   ]
  },
  {
   "cell_type": "code",
   "execution_count": null,
   "id": "fc52cb8c",
   "metadata": {},
   "outputs": [],
   "source": [
    "Age=[]"
   ]
  },
  {
   "cell_type": "code",
   "execution_count": null,
   "id": "c50c7e1d",
   "metadata": {},
   "outputs": [],
   "source": [
    "age=driver.find_elements(By.XPATH,'//div[@class=\"Table_dataCell__2QCve\"]')\n",
    "for i in age:\n",
    "    ag=i.text\n",
    "    Age.append(ag)\n",
    "    \n",
    "    \n",
    "Age"
   ]
  },
  {
   "cell_type": "markdown",
   "id": "bc34e484",
   "metadata": {},
   "source": [
    "# Citizenship"
   ]
  },
  {
   "cell_type": "code",
   "execution_count": null,
   "id": "5a98316e",
   "metadata": {},
   "outputs": [],
   "source": [
    "Citizenship=[]"
   ]
  },
  {
   "cell_type": "code",
   "execution_count": null,
   "id": "5015aa8f",
   "metadata": {},
   "outputs": [],
   "source": [
    "citizen=driver.find_elements(By.XPATH,'//div[@class=\"Table_dataCell__2QCve\"]')\n",
    "for i in citizen:\n",
    "    cz=i.text\n",
    "    Citizenship.append(cz)\n",
    "    \n",
    "    \n",
    "Citizenship\n",
    "    "
   ]
  },
  {
   "cell_type": "markdown",
   "id": "07d5282f",
   "metadata": {},
   "source": [
    "# Source"
   ]
  },
  {
   "cell_type": "code",
   "execution_count": null,
   "id": "94a59f33",
   "metadata": {},
   "outputs": [],
   "source": [
    "Source=[]"
   ]
  },
  {
   "cell_type": "code",
   "execution_count": null,
   "id": "3e0acd12",
   "metadata": {},
   "outputs": [],
   "source": [
    "source=driver.find_elements(By.XPATH,'//div[@class=\"Table_dataCell__2QCve\"]')\n",
    "for i in source:\n",
    "    sr=i.text\n",
    "    Source.append(sr)\n",
    "    \n",
    "    \n",
    "sr"
   ]
  },
  {
   "cell_type": "markdown",
   "id": "c0e2f461",
   "metadata": {},
   "source": [
    "# Industry"
   ]
  },
  {
   "cell_type": "code",
   "execution_count": null,
   "id": "a8a974fb",
   "metadata": {},
   "outputs": [],
   "source": [
    "Industry=[]"
   ]
  },
  {
   "cell_type": "code",
   "execution_count": null,
   "id": "60735dd9",
   "metadata": {},
   "outputs": [],
   "source": [
    "industry=driver.find_elements(By.XPATH,'//div[@class=\"Table_dataCell__2QCve\"]')\n",
    "for i in industry:\n",
    "    nd=i.text\n",
    "    \n",
    "    Industry.append(nd)\n",
    "    \n",
    "    \n",
    "Industry"
   ]
  },
  {
   "cell_type": "markdown",
   "id": "b78f3358",
   "metadata": {},
   "source": [
    "# Q9"
   ]
  },
  {
   "cell_type": "code",
   "execution_count": null,
   "id": "cbac584c",
   "metadata": {},
   "outputs": [],
   "source": [
    "driver=webdriver.Chrome()"
   ]
  },
  {
   "cell_type": "code",
   "execution_count": null,
   "id": "d46452eb",
   "metadata": {},
   "outputs": [],
   "source": [
    "driver.get(\"https://www.hostelworld.com/pwa/wds/s?q=London,%20England&country=London&city=London&type=city&id=3&from=2023-08-04&to=2023-08-07&guests=2&page=1\")"
   ]
  },
  {
   "cell_type": "markdown",
   "id": "8eeace31",
   "metadata": {},
   "source": [
    "# Hostel_name"
   ]
  },
  {
   "cell_type": "code",
   "execution_count": null,
   "id": "6539ffa1",
   "metadata": {},
   "outputs": [],
   "source": [
    "Hostel_name=[]"
   ]
  },
  {
   "cell_type": "code",
   "execution_count": null,
   "id": "4fe8bdd5",
   "metadata": {},
   "outputs": [],
   "source": [
    "hostel=driver.find_elements(By.XPATH,'//div[@class=\"property-name\"]')\n",
    "for i in hostel:\n",
    "    hs=i.text\n",
    "    Hostel_name.append(hs)\n",
    "    \n",
    "    \n",
    "Hostel_name"
   ]
  },
  {
   "cell_type": "markdown",
   "id": "0a94b182",
   "metadata": {},
   "source": [
    "# distance from city centre"
   ]
  },
  {
   "cell_type": "code",
   "execution_count": null,
   "id": "75bda7c4",
   "metadata": {},
   "outputs": [],
   "source": [
    "Distance=[]"
   ]
  },
  {
   "cell_type": "code",
   "execution_count": null,
   "id": "e7deb965",
   "metadata": {},
   "outputs": [],
   "source": [
    "distance=driver.find_elements(By.XPATH,'//span[@class=\"distance-description\"]')\n",
    "for i in distance:\n",
    "    ds=i.text\n",
    "    Distance.append(ds)\n",
    "    \n",
    "    \n",
    "Distance    "
   ]
  },
  {
   "cell_type": "markdown",
   "id": "637417e4",
   "metadata": {},
   "source": [
    "# Ratings"
   ]
  },
  {
   "cell_type": "code",
   "execution_count": null,
   "id": "ce8d6b39",
   "metadata": {},
   "outputs": [],
   "source": [
    "Ratings=[]"
   ]
  },
  {
   "cell_type": "code",
   "execution_count": null,
   "id": "75fda14d",
   "metadata": {},
   "outputs": [],
   "source": [
    "rating=driver.find_elements(By.XPATH,'//span[@class=\"number\"]')\n",
    "for i in rating:\n",
    "    rt=i.text\n",
    "    Ratings.append(rt)\n",
    "    \n",
    "    \n",
    "Ratings    "
   ]
  },
  {
   "cell_type": "markdown",
   "id": "c490193b",
   "metadata": {},
   "source": [
    "# Privates_from_price"
   ]
  },
  {
   "cell_type": "code",
   "execution_count": null,
   "id": "36c41515",
   "metadata": {},
   "outputs": [],
   "source": [
    "Privates_from_price=[]"
   ]
  },
  {
   "cell_type": "code",
   "execution_count": null,
   "id": "45b8b2fa",
   "metadata": {},
   "outputs": [],
   "source": [
    "privates_price=driver.find_elements(By.XPATH,'//div[@class=\"accommodation-label\"]')\n",
    "for i in privates_price:\n",
    "    pp=i.text\n",
    "    Privates_from_price.append(pp)\n",
    "    \n",
    "    \n",
    "Privates_from_price"
   ]
  },
  {
   "cell_type": "markdown",
   "id": "a5a9044a",
   "metadata": {},
   "source": [
    "# dorms_from_price"
   ]
  },
  {
   "cell_type": "code",
   "execution_count": null,
   "id": "9c4fee2f",
   "metadata": {},
   "outputs": [],
   "source": [
    "dorms_from_price=[]"
   ]
  },
  {
   "cell_type": "code",
   "execution_count": null,
   "id": "1862cc4e",
   "metadata": {},
   "outputs": [],
   "source": [
    "drom_price=driver.find_elements(By.XPATH,'//div[@class=\"accommodation-label\"]')\n",
    "for i in drom_price:\n",
    "    dp=i.text\n",
    "    dorms_from_price.append(dp)\n",
    "    \n",
    "dorms_from_price"
   ]
  },
  {
   "cell_type": "markdown",
   "id": "6779e351",
   "metadata": {},
   "source": [
    "# Facilities"
   ]
  },
  {
   "cell_type": "code",
   "execution_count": null,
   "id": "18f41d31",
   "metadata": {},
   "outputs": [],
   "source": [
    "Facilities=[]"
   ]
  },
  {
   "cell_type": "code",
   "execution_count": null,
   "id": "0cb692f0",
   "metadata": {},
   "outputs": [],
   "source": [
    "facilities=driver.find_elements(By.XPATH,'//ul[@class=\"facilities\"]')\n",
    "for i in facilities:\n",
    "    fc=i.text\n",
    "    Facilities.append(fc)\n",
    "    \n",
    "Facilities"
   ]
  },
  {
   "cell_type": "markdown",
   "id": "ee6b0dae",
   "metadata": {},
   "source": [
    "# Property_description"
   ]
  },
  {
   "cell_type": "code",
   "execution_count": null,
   "id": "6c0343dc",
   "metadata": {},
   "outputs": [],
   "source": [
    "Property_description=[]"
   ]
  },
  {
   "cell_type": "code",
   "execution_count": null,
   "id": "feba8df9",
   "metadata": {},
   "outputs": [],
   "source": [
    "property_des=driver.find_elements(By.XPATH,'//div[@class=\"content collapse-content\"]')\n",
    "for i in property_des:\n",
    "    pd=i.text\n",
    "    Property_description.append(pd)\n",
    "   \n",
    "    \n",
    "Property_description"
   ]
  },
  {
   "cell_type": "markdown",
   "id": "76f89e3e",
   "metadata": {},
   "source": [
    "# Total_reviews"
   ]
  },
  {
   "cell_type": "code",
   "execution_count": null,
   "id": "d163fc24",
   "metadata": {},
   "outputs": [],
   "source": [
    "Total_reviews=[]"
   ]
  },
  {
   "cell_type": "code",
   "execution_count": null,
   "id": "8d367ced",
   "metadata": {},
   "outputs": [],
   "source": [
    "total_review=driver.find_elements(By.XPATH,'//div[@class=\"rating-label body-3\"]')\n",
    "for i in total_review:\n",
    "    tr=i.text\n",
    "    Total_reviews.append(tr)\n",
    "    \n",
    "\n",
    "Total_reviews "
   ]
  },
  {
   "cell_type": "markdown",
   "id": "0900c76d",
   "metadata": {},
   "source": [
    "# Q8"
   ]
  },
  {
   "cell_type": "code",
   "execution_count": null,
   "id": "3e65f638",
   "metadata": {},
   "outputs": [],
   "source": [
    "!pip install bs4\n",
    "!pip install requests"
   ]
  },
  {
   "cell_type": "code",
   "execution_count": null,
   "id": "84bbc8ae",
   "metadata": {},
   "outputs": [],
   "source": [
    "import requests"
   ]
  },
  {
   "cell_type": "code",
   "execution_count": null,
   "id": "b83e9306",
   "metadata": {},
   "outputs": [],
   "source": [
    "from bs4 import BeautifulSoup"
   ]
  },
  {
   "cell_type": "code",
   "execution_count": null,
   "id": "ac03f8e2",
   "metadata": {},
   "outputs": [],
   "source": [
    "re=requests.get(\"https://www.youtube.com/watch?v=kw4tT7SCmaY\")\n",
    "re"
   ]
  },
  {
   "cell_type": "code",
   "execution_count": null,
   "id": "901c2fd8",
   "metadata": {},
   "outputs": [],
   "source": [
    "soup=BeautifulSoup(re.content)\n",
    "soup"
   ]
  },
  {
   "cell_type": "code",
   "execution_count": null,
   "id": "62cbca9c",
   "metadata": {},
   "outputs": [],
   "source": [
    "cmnt=[]\n",
    "for i in soup.find_all('yt-formatted-string',class_=\"style-scope ytd-comment-renderer\"):\n",
    "    cmnt.append(i.text)\n",
    "    \n",
    "cmnt    \n",
    " "
   ]
  },
  {
   "cell_type": "code",
   "execution_count": null,
   "id": "560999a1",
   "metadata": {},
   "outputs": [],
   "source": [
    "import numpy as np\n",
    "import pandas as pd"
   ]
  },
  {
   "cell_type": "code",
   "execution_count": null,
   "id": "a8a69bc5",
   "metadata": {},
   "outputs": [],
   "source": [
    "driver=webdriver.Chrome()"
   ]
  },
  {
   "cell_type": "code",
   "execution_count": null,
   "id": "682bc33d",
   "metadata": {},
   "outputs": [],
   "source": [
    "driver.get('https://www.youtube.com/watch?v=5Eqb_-j3FDA')"
   ]
  },
  {
   "cell_type": "code",
   "execution_count": null,
   "id": "cdf785f1",
   "metadata": {},
   "outputs": [],
   "source": [
    "CMNT=[]"
   ]
  },
  {
   "cell_type": "code",
   "execution_count": null,
   "id": "eed9711c",
   "metadata": {},
   "outputs": [],
   "source": [
    "cmnt=driver.find_elements(By.XPATH,'//span[@class=\"style-scope yt-formatted-string\"]')\n",
    "for i in cmnt:\n",
    "    cm=i.text\n",
    "    CMNT.append(cm)\n",
    "    \n",
    "    \n",
    "CMNT\n"
   ]
  },
  {
   "cell_type": "code",
   "execution_count": null,
   "id": "9c7649ff",
   "metadata": {},
   "outputs": [],
   "source": [
    "A=pd.DataFrame([CMNT])\n",
    "A"
   ]
  },
  {
   "cell_type": "code",
   "execution_count": null,
   "id": "88a8096a",
   "metadata": {},
   "outputs": [],
   "source": []
  }
 ],
 "metadata": {
  "kernelspec": {
   "display_name": "Python 3 (ipykernel)",
   "language": "python",
   "name": "python3"
  },
  "language_info": {
   "codemirror_mode": {
    "name": "ipython",
    "version": 3
   },
   "file_extension": ".py",
   "mimetype": "text/x-python",
   "name": "python",
   "nbconvert_exporter": "python",
   "pygments_lexer": "ipython3",
   "version": "3.9.13"
  }
 },
 "nbformat": 4,
 "nbformat_minor": 5
}
